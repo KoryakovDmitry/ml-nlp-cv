{
 "cells": [
  {
   "cell_type": "markdown",
   "metadata": {
    "id": "t6vtSsfypQ1A"
   },
   "source": [
    "***DeadLine - 29.09.2024 23:59***\n"
   ]
  },
  {
   "cell_type": "markdown",
   "source": [
    "Примечание:\n",
    "\n",
    "Я убрал инструкцию, потому что мешает. \n",
    "\n",
    "С ноутбуком я работаю локально поэтому установка зависимостей ниже."
   ],
   "metadata": {
    "collapsed": false
   }
  },
  {
   "cell_type": "code",
   "outputs": [],
   "source": [
    "packages = [\n",
    "    \"jupyter==1.0.0\",\n",
    "    \"folium==0.17.0\",\n",
    "    \"nltk==3.9.1\",\n",
    "    \"gensim==4.3.3\",\n",
    "    \"bokeh==3.6.0\",\n",
    "    \"matplotlib==3.9.2\",\n",
    "    \"seaborn==0.13.2\",\n",
    "    \"scikit-learn==1.5.2\",\n",
    "]\n",
    "\n",
    "with open(\"requirements.txt\", \"w\") as file:\n",
    "    file.write(\"\\n\".join(packages))"
   ],
   "metadata": {
    "collapsed": false,
    "ExecuteTime": {
     "end_time": "2024-10-05T15:37:01.611127Z",
     "start_time": "2024-10-05T15:37:01.609055Z"
    }
   },
   "execution_count": 1
  },
  {
   "cell_type": "code",
   "outputs": [],
   "source": [
    "!pip3 install -r requirements.txt > /dev/null"
   ],
   "metadata": {
    "collapsed": false,
    "ExecuteTime": {
     "end_time": "2024-10-05T15:37:02.555802Z",
     "start_time": "2024-10-05T15:37:01.611680Z"
    }
   },
   "execution_count": 2
  },
  {
   "cell_type": "markdown",
   "metadata": {
    "id": "3HiOOuq2XHta"
   },
   "source": [
    "## Семинар 1: Веселье с векторными представлениями слов (2 балла)\n",
    "\n",
    "Сегодня мы будем играть с векторными представлениями слов: обучим собственные небольшие эмбеддинги, загрузим готовую модель из gensim model zoo и используем её для визуализации текстового корпуса.\n",
    "\n",
    "Вся работа будет происходить на наборе данных с векторными представлениями.\n",
    "\n",
    "__Требования:__  `pip install --upgrade nltk gensim bokeh`, но только если вы запускаете код локально."
   ]
  },
  {
   "cell_type": "code",
   "execution_count": 3,
   "metadata": {
    "collapsed": true,
    "id": "x_XuuradXHtc",
    "colab": {
     "base_uri": "https://localhost:8080/"
    },
    "outputId": "0dddf85d-f4db-4f1d-a2e7-3be55c2eb240",
    "ExecuteTime": {
     "end_time": "2024-10-05T15:37:20.247426Z",
     "start_time": "2024-10-05T15:37:02.556924Z"
    }
   },
   "outputs": [
    {
     "name": "stdout",
     "output_type": "stream",
     "text": [
      "--2024-10-05 17:37:02--  https://www.dropbox.com/s/obaitrix9jyu84r/quora.txt?dl=1\r\n",
      "Resolving www.dropbox.com (www.dropbox.com)... 162.125.66.18\r\n",
      "Connecting to www.dropbox.com (www.dropbox.com)|162.125.66.18|:443... connected.\r\n",
      "HTTP request sent, awaiting response... 302 Found\r\n",
      "Location: https://www.dropbox.com/scl/fi/p0t2dw6oqs6oxpd6zz534/quora.txt?rlkey=bjupppwua4zmd4elz8octecy9&dl=1 [following]\r\n",
      "--2024-10-05 17:37:03--  https://www.dropbox.com/scl/fi/p0t2dw6oqs6oxpd6zz534/quora.txt?rlkey=bjupppwua4zmd4elz8octecy9&dl=1\r\n",
      "Reusing existing connection to www.dropbox.com:443.\r\n",
      "HTTP request sent, awaiting response... 302 Found\r\n",
      "Location: https://ucd51ac30fb65e9c3f4816108eda.dl.dropboxusercontent.com/cd/0/inline/Cb7Yq55vYlF_MrGKZTitiiaPRhzoRnsLf0afS3I3DxzbdnreXsflVPV0xtNUWrXT8oIETmNMzct6gOKjNO_rE-HeBaHx0S5ehE08z8EFHWQhwpDfFU3EgagP9K_Z7qA418w/file?dl=1# [following]\r\n",
      "--2024-10-05 17:37:04--  https://ucd51ac30fb65e9c3f4816108eda.dl.dropboxusercontent.com/cd/0/inline/Cb7Yq55vYlF_MrGKZTitiiaPRhzoRnsLf0afS3I3DxzbdnreXsflVPV0xtNUWrXT8oIETmNMzct6gOKjNO_rE-HeBaHx0S5ehE08z8EFHWQhwpDfFU3EgagP9K_Z7qA418w/file?dl=1\r\n",
      "Resolving ucd51ac30fb65e9c3f4816108eda.dl.dropboxusercontent.com (ucd51ac30fb65e9c3f4816108eda.dl.dropboxusercontent.com)... 162.125.66.15\r\n",
      "Connecting to ucd51ac30fb65e9c3f4816108eda.dl.dropboxusercontent.com (ucd51ac30fb65e9c3f4816108eda.dl.dropboxusercontent.com)|162.125.66.15|:443... connected.\r\n",
      "HTTP request sent, awaiting response... 200 OK\r\n",
      "Length: 33813903 (32M) [application/binary]\r\n",
      "Saving to: ‘./quora.txt’\r\n",
      "\r\n",
      "./quora.txt         100%[===================>]  32.25M  2.52MB/s    in 15s     \r\n",
      "\r\n",
      "2024-10-05 17:37:20 (2.17 MB/s) - ‘./quora.txt’ saved [33813903/33813903]\r\n",
      "\r\n"
     ]
    }
   ],
   "source": [
    "!wget \"https://www.dropbox.com/s/obaitrix9jyu84r/quora.txt?dl=1\" -O ./quora.txt"
   ]
  },
  {
   "cell_type": "code",
   "outputs": [],
   "source": [
    "import pandas as pd\n",
    "import numpy as np\n",
    "import matplotlib.pyplot as plt\n",
    "import seaborn as sns\n",
    "\n",
    "%matplotlib inline\n",
    "\n",
    "sns.set(style=\"darkgrid\")\n",
    "\n",
    "np.random.seed(0)"
   ],
   "metadata": {
    "collapsed": false,
    "ExecuteTime": {
     "end_time": "2024-10-05T15:37:20.263770Z",
     "start_time": "2024-10-05T15:37:20.248377Z"
    }
   },
   "execution_count": 4
  },
  {
   "cell_type": "code",
   "execution_count": 5,
   "metadata": {
    "scrolled": false,
    "id": "UbzjAwEcXHtd",
    "colab": {
     "base_uri": "https://localhost:8080/",
     "height": 35
    },
    "outputId": "462017ff-30f2-4b49-8469-8809cffcdc3d",
    "ExecuteTime": {
     "end_time": "2024-10-05T15:37:20.328324Z",
     "start_time": "2024-10-05T15:37:20.264739Z"
    }
   },
   "outputs": [
    {
     "data": {
      "text/plain": "\"What TV shows or books help you read people's body language?\\n\""
     },
     "execution_count": 5,
     "metadata": {},
     "output_type": "execute_result"
    }
   ],
   "source": [
    "with open(\"./quora.txt\", encoding=\"utf-8\") as file:\n",
    "    data = list(file)\n",
    "\n",
    "data[50]"
   ]
  },
  {
   "cell_type": "markdown",
   "metadata": {
    "id": "0dA1HAj5XHtd"
   },
   "source": [
    "__Токенизация:__ типичный первый шаг для задачи обработки естественного языка — это разделение исходных данных на слова. Текст, с которым мы работаем, находится в сыром формате: пунктация, смайлики и прочее\n",
    "\n",
    "Давайте воспользуемся __`nltk`__ — библиотекой, которая выполняет многие задачи NLP, такие как токенизация, стемминг или определение частей речи.\n"
   ]
  },
  {
   "cell_type": "code",
   "execution_count": 6,
   "metadata": {
    "id": "tf0mbWTiXHtd",
    "colab": {
     "base_uri": "https://localhost:8080/"
    },
    "outputId": "445358bd-93ce-49c2-cd29-2970fe7da2f2",
    "ExecuteTime": {
     "end_time": "2024-10-05T15:37:20.737901Z",
     "start_time": "2024-10-05T15:37:20.329317Z"
    }
   },
   "outputs": [
    {
     "name": "stdout",
     "output_type": "stream",
     "text": [
      "['What', 'TV', 'shows', 'or', 'books', 'help', 'you', 'read', 'people', \"'\", 's', 'body', 'language', '?']\n"
     ]
    }
   ],
   "source": [
    "from nltk.tokenize import WordPunctTokenizer\n",
    "\n",
    "tokenizer = WordPunctTokenizer()\n",
    "\n",
    "print(tokenizer.tokenize(data[50]))"
   ]
  },
  {
   "cell_type": "code",
   "execution_count": 7,
   "metadata": {
    "collapsed": true,
    "id": "JlJrfOKQXHtd",
    "ExecuteTime": {
     "end_time": "2024-10-05T15:37:22.296561Z",
     "start_time": "2024-10-05T15:37:20.738504Z"
    }
   },
   "outputs": [
    {
     "data": {
      "text/plain": "[['can',\n  'i',\n  'get',\n  'back',\n  'with',\n  'my',\n  'ex',\n  'even',\n  'though',\n  'she',\n  'is',\n  'pregnant',\n  'with',\n  'another',\n  'guy',\n  \"'\",\n  's',\n  'baby',\n  '?'],\n ['what',\n  'are',\n  'some',\n  'ways',\n  'to',\n  'overcome',\n  'a',\n  'fast',\n  'food',\n  'addiction',\n  '?']]"
     },
     "execution_count": 7,
     "metadata": {},
     "output_type": "execute_result"
    }
   ],
   "source": [
    "# TASK: lowercase everything and extract tokens with tokenizer.\n",
    "# data_tok should be a list of lists of tokens for each line in data.\n",
    "\n",
    "data_tok = list(map(lambda x: tokenizer.tokenize(x.lower()), data)) # map works better \n",
    "data_tok[:2]"
   ]
  },
  {
   "cell_type": "code",
   "execution_count": 8,
   "metadata": {
    "collapsed": true,
    "id": "o6sBcb8xXHtd",
    "ExecuteTime": {
     "end_time": "2024-10-05T15:37:22.846348Z",
     "start_time": "2024-10-05T15:37:22.297154Z"
    }
   },
   "outputs": [],
   "source": [
    "assert all(isinstance(row, (list, tuple)) for row in data_tok), \"please convert each line into a list of tokens (strings)\"\n",
    "\n",
    "assert all(all(isinstance(tok, str) for tok in row) for row in data_tok), \"please convert each line into a list of tokens (strings)\"\n",
    "\n",
    "is_latin = lambda tok: all('a' <= x.lower() <= 'z' for x in tok)\n",
    "\n",
    "assert all(map(lambda l: not is_latin(l) or l.islower(), map(' '.join, data_tok))), \"please make sure to lowercase the data\""
   ]
  },
  {
   "cell_type": "code",
   "execution_count": 9,
   "metadata": {
    "id": "yh-kZZz4XHte",
    "colab": {
     "base_uri": "https://localhost:8080/"
    },
    "outputId": "73d89369-fea6-4771-d992-66a1878731c6",
    "ExecuteTime": {
     "end_time": "2024-10-05T15:37:22.848659Z",
     "start_time": "2024-10-05T15:37:22.847164Z"
    }
   },
   "outputs": [
    {
     "name": "stdout",
     "output_type": "stream",
     "text": [
      "[\"can i get back with my ex even though she is pregnant with another guy ' s baby ?\", 'what are some ways to overcome a fast food addiction ?']\n"
     ]
    }
   ],
   "source": [
    "print([' '.join(row) for row in data_tok[:2]])"
   ]
  },
  {
   "cell_type": "markdown",
   "metadata": {
    "id": "pemtd_ReXHte"
   },
   "source": [
    "__Векторы слов:__ как известно, существует множество способов для обучения векторных представлений слов. Есть Word2Vec и GloVe с разными целевыми функциями. Затем есть fastText, который использует n-gram модели для обучения векторных представлений слов.\n",
    "\n",
    "Выбор огромен, так что давайте начнем с чего-то простого: __gensim__ – еще одна библиотека для обработки естественного языка, включающая множество моделей на основе векторов, включая word2vec."
   ]
  },
  {
   "cell_type": "code",
   "execution_count": 10,
   "metadata": {
    "collapsed": true,
    "id": "j4WHXzasXHte",
    "ExecuteTime": {
     "end_time": "2024-10-05T15:37:28.715287Z",
     "start_time": "2024-10-05T15:37:22.850832Z"
    }
   },
   "outputs": [],
   "source": [
    "from gensim.models import Word2Vec\n",
    "\n",
    "model = Word2Vec(data_tok,\n",
    "                 vector_size=32, # embedding vector size\n",
    "                 min_count=5,  # consider words that occured at least 5 times\n",
    "                 window=5).wv  # define context as a 5-word window around the target word"
   ]
  },
  {
   "cell_type": "code",
   "execution_count": 11,
   "metadata": {
    "id": "b0uT2GlgXHte",
    "colab": {
     "base_uri": "https://localhost:8080/"
    },
    "outputId": "ef67dd75-3115-4b99-ce5f-d0a04a796de7",
    "ExecuteTime": {
     "end_time": "2024-10-05T15:37:28.718123Z",
     "start_time": "2024-10-05T15:37:28.716077Z"
    }
   },
   "outputs": [
    {
     "data": {
      "text/plain": "array([-2.9718468 ,  0.7667287 ,  1.146965  ,  3.5931923 ,  1.5332683 ,\n        0.94223094,  0.9820101 , -4.890552  ,  0.20565215,  2.2298172 ,\n        0.49317983,  1.304699  ,  3.7768197 , -0.31017315,  1.4775383 ,\n       -1.1749489 ,  0.0674892 , -1.4096224 ,  0.834447  , -2.343525  ,\n       -2.2209842 , -0.9681214 , -2.9530983 , -3.2903259 ,  2.8657289 ,\n       -2.2350638 , -0.6263929 ,  1.5306731 ,  0.82061917,  1.1886826 ,\n        0.32220855,  1.0939745 ], dtype=float32)"
     },
     "execution_count": 11,
     "metadata": {},
     "output_type": "execute_result"
    }
   ],
   "source": [
    "# now you can get word vectors !\n",
    "model.get_vector('anything')"
   ]
  },
  {
   "cell_type": "code",
   "execution_count": 12,
   "metadata": {
    "id": "RCSBY4JyXHte",
    "colab": {
     "base_uri": "https://localhost:8080/"
    },
    "outputId": "648fa851-cfb5-4f1c-d48c-489b3ba38d75",
    "ExecuteTime": {
     "end_time": "2024-10-05T15:37:28.740878Z",
     "start_time": "2024-10-05T15:37:28.718623Z"
    }
   },
   "outputs": [
    {
     "data": {
      "text/plain": "[('rice', 0.9576563239097595),\n ('cheese', 0.9403374791145325),\n ('sauce', 0.936443030834198),\n ('butter', 0.9354627728462219),\n ('beans', 0.9251757264137268),\n ('wine', 0.9186714291572571),\n ('chocolate', 0.9160171747207642),\n ('corn', 0.9104917645454407),\n ('cream', 0.9048624634742737),\n ('banana', 0.9048367142677307)]"
     },
     "execution_count": 12,
     "metadata": {},
     "output_type": "execute_result"
    }
   ],
   "source": [
    "# or query similar words directly. Go play with it!\n",
    "model.most_similar('bread')"
   ]
  },
  {
   "cell_type": "markdown",
   "metadata": {
    "id": "bG7GLqQxXHte"
   },
   "source": [
    "### Использование предобученной модели\n",
    "\n",
    "Заняло некоторое время, да? Теперь представьте себе обучение полноразмерных (100~300 измерений) векторных представлений слов на гигабайтах текста: статьи из Википедии или посты в Твиттере.\n",
    "\n",
    "К счастью, сегодня вы можете получить предобученную модель векторных представлений слов всего за 2 строки кода (без смс и регистрации, обещаю)."
   ]
  },
  {
   "cell_type": "code",
   "execution_count": 13,
   "metadata": {
    "collapsed": true,
    "id": "n1WkmZd1XHte",
    "colab": {
     "base_uri": "https://localhost:8080/"
    },
    "outputId": "921a8107-0dac-4728-91fa-29abd1fd164a",
    "ExecuteTime": {
     "end_time": "2024-10-05T15:37:57.192597Z",
     "start_time": "2024-10-05T15:37:28.742772Z"
    }
   },
   "outputs": [],
   "source": [
    "import gensim.downloader as gensim_api\n",
    "model = gensim_api.load('glove-twitter-100')"
   ]
  },
  {
   "cell_type": "code",
   "execution_count": 14,
   "metadata": {
    "id": "rekMBeewXHtf",
    "colab": {
     "base_uri": "https://localhost:8080/"
    },
    "outputId": "b74cc492-0058-44bf-f2df-6d61c63d0294",
    "ExecuteTime": {
     "end_time": "2024-10-05T15:37:57.296255Z",
     "start_time": "2024-10-05T15:37:57.193228Z"
    }
   },
   "outputs": [
    {
     "data": {
      "text/plain": "[('broker', 0.5820155739784241),\n ('bonuses', 0.5424473881721497),\n ('banker', 0.5385112762451172),\n ('designer', 0.5197198390960693),\n ('merchandising', 0.4964233338832855),\n ('treet', 0.49220189452171326),\n ('shopper', 0.4920561909675598),\n ('part-time', 0.4912828207015991),\n ('freelance', 0.4843311905860901),\n ('aupair', 0.4796452522277832)]"
     },
     "execution_count": 14,
     "metadata": {},
     "output_type": "execute_result"
    }
   ],
   "source": [
    "model.most_similar(positive=[\"coder\", \"money\"], negative=[\"brain\"])"
   ]
  },
  {
   "cell_type": "markdown",
   "metadata": {
    "id": "2NlyJ0rqXHtf"
   },
   "source": [
    "### Визуализация векторов слов\n",
    "\n",
    "Один из способов понять, насколько хороши наши векторы, — это их визуализировать. Проблема в том, что эти векторы находятся в пространстве с размерностью 30+ измерений, а мы, люди, привыкли к 2-3 измерениям.\n",
    "\n",
    "К счастью, мы, специалисты по машинному обучению, знаем о методах __снижения размерности__.\n",
    "\n",
    "Давайте используем их, чтобы построить график для 1000 самых частотных слов."
   ]
  },
  {
   "cell_type": "code",
   "execution_count": 15,
   "metadata": {
    "id": "b4ptZSWTXHtf",
    "colab": {
     "base_uri": "https://localhost:8080/"
    },
    "outputId": "7a34bd0c-3f10-4463-8236-9b388b9a59d2",
    "ExecuteTime": {
     "end_time": "2024-10-05T15:37:57.326869Z",
     "start_time": "2024-10-05T15:37:57.315162Z"
    }
   },
   "outputs": [
    {
     "name": "stdout",
     "output_type": "stream",
     "text": [
      "['<user>', '_', 'please', 'apa', 'justin', 'text', 'hari', 'playing', 'once', 'sei']\n"
     ]
    }
   ],
   "source": [
    "words = model.index_to_key[:1000]\n",
    "\n",
    "print(words[::100])"
   ]
  },
  {
   "cell_type": "code",
   "execution_count": 16,
   "metadata": {
    "id": "N-9VO87KXHtf",
    "ExecuteTime": {
     "end_time": "2024-10-05T15:37:57.344346Z",
     "start_time": "2024-10-05T15:37:57.329263Z"
    }
   },
   "outputs": [],
   "source": [
    "# for each word, compute it's vector with model\n",
    "word_vectors = np.array(list(map(model.get_vector, words)))"
   ]
  },
  {
   "cell_type": "code",
   "outputs": [
    {
     "data": {
      "text/plain": "array([[ 0.63006 ,  0.65177 ,  0.25545 , ...,  0.55096 ,  0.64706 ,\n        -0.6093  ],\n       [ 0.18205 , -0.048483,  0.23966 , ..., -0.3358  ,  0.18884 ,\n        -0.40786 ],\n       [ 1.0674  ,  0.45716 ,  0.51463 , ...,  0.13974 ,  0.76487 ,\n        -0.17314 ],\n       ...,\n       [ 0.11065 , -0.040876,  0.2586  , ..., -0.74773 ,  0.306   ,\n         0.37911 ],\n       [ 0.30491 , -0.89558 , -0.46538 , ...,  0.73649 ,  1.3842  ,\n         0.99976 ],\n       [-0.43051 ,  0.56302 ,  0.38305 , ..., -0.3222  ,  0.32782 ,\n         0.51519 ]], dtype=float32)"
     },
     "execution_count": 17,
     "metadata": {},
     "output_type": "execute_result"
    }
   ],
   "source": [
    "word_vectors"
   ],
   "metadata": {
    "collapsed": false,
    "ExecuteTime": {
     "end_time": "2024-10-05T15:37:57.384975Z",
     "start_time": "2024-10-05T15:37:57.352020Z"
    }
   },
   "execution_count": 17
  },
  {
   "cell_type": "code",
   "execution_count": 18,
   "metadata": {
    "collapsed": true,
    "id": "ZaVLXXwBXHtf",
    "ExecuteTime": {
     "end_time": "2024-10-05T15:37:57.407765Z",
     "start_time": "2024-10-05T15:37:57.397973Z"
    }
   },
   "outputs": [],
   "source": [
    "assert isinstance(word_vectors, np.ndarray)\n",
    "assert word_vectors.shape == (len(words), 100)\n",
    "assert np.isfinite(word_vectors).all()"
   ]
  },
  {
   "cell_type": "markdown",
   "metadata": {
    "id": "u-cWdXtsXHtf"
   },
   "source": [
    "#### Линейная проекция: PCA\n",
    "\n",
    "Самый простой метод линейного снижения размерности — это Principial Component Analysis.\n",
    "\n",
    "В геометрических терминах PCA пытается найти оси, вдоль которых происходит наибольшая дисперсия. Это можно назвать \"естественными\" осями.\n",
    "\n",
    "<img src=\"https://github.com/yandexdataschool/Practical_RL/raw/master/yet_another_week/_resource/pca_fish.png\" style=\"width:30%\">\n",
    "\n",
    "Под капотом алгоритм пытается разложить матрицу объект-признак $X$ на две меньшие матрицы: $W$ и $\\hat W$, минимизируя _среднеквадратичную ошибку_:\n",
    "\n",
    "$$\\|(X W) \\hat{W} - X\\|^2_2 \\to_{W, \\hat{W}} \\min$$\n",
    "- $X \\in \\mathbb{R}^{n \\times m}$ — матрица объектов (**централизованная**);\n",
    "- $W \\in \\mathbb{R}^{m \\times d}$ — матрица прямого преобразования;\n",
    "- $\\hat{W} \\in \\mathbb{Р}^{d \\times m}$ — матрица обратного преобразования;\n",
    "- $n$ — количество объектов, $m$ — исходная размерность, $d$ — целевая размерность.\n",
    "\n",
    "PCA работает, находя такие линейные проекции данных, которые сохраняют максимальное количество информации, измеряемое через дисперсию. Основная идея заключается в том, чтобы найти несколько новых осей (компонент), которые захватывают основную часть структуры данных."
   ]
  },
  {
   "cell_type": "code",
   "execution_count": 19,
   "metadata": {
    "collapsed": true,
    "id": "P8d--LXOXHtf",
    "ExecuteTime": {
     "end_time": "2024-10-05T15:37:57.517320Z",
     "start_time": "2024-10-05T15:37:57.409125Z"
    }
   },
   "outputs": [],
   "source": [
    "from sklearn.decomposition import PCA\n",
    "import numpy as np\n",
    "\n",
    "# map word vectors onto 2d plane with PCA. Use good old sklearn api (fit, transform)\n",
    "# after that, normalize vectors to make sure they have zero mean and unit variance\n",
    "word_vectors_pca = PCA(n_components=2).fit_transform(word_vectors)\n",
    "\n",
    "word_vectors_pca = (word_vectors_pca - word_vectors_pca.mean(axis=0)) / word_vectors_pca.std(axis=0) \n",
    "\n",
    "# and maybe MORE OF YOUR CODE here :)"
   ]
  },
  {
   "cell_type": "code",
   "execution_count": 20,
   "metadata": {
    "collapsed": true,
    "id": "_K5VDDXmXHtf",
    "ExecuteTime": {
     "end_time": "2024-10-05T15:37:57.522123Z",
     "start_time": "2024-10-05T15:37:57.518552Z"
    }
   },
   "outputs": [],
   "source": [
    "assert word_vectors_pca.shape == (len(word_vectors), 2), \"there must be a 2d vector for each word\"\n",
    "assert max(abs(word_vectors_pca.mean(0))) < 1e-5, \"points must be zero-centered\"\n",
    "assert max(abs(1.0 - word_vectors_pca.std(0))) < 1e-2, \"points must have unit variance\""
   ]
  },
  {
   "cell_type": "markdown",
   "metadata": {
    "id": "LK7Ay8x8XHtf"
   },
   "source": [
    "#### Let's draw it!"
   ]
  },
  {
   "cell_type": "code",
   "execution_count": 21,
   "metadata": {
    "id": "rmpt4UeKXHtf",
    "ExecuteTime": {
     "end_time": "2024-10-05T15:37:57.571857Z",
     "start_time": "2024-10-05T15:37:57.523395Z"
    }
   },
   "outputs": [
    {
     "data": {
      "text/html": "    <style>\n        .bk-notebook-logo {\n            display: block;\n            width: 20px;\n            height: 20px;\n            background-image: url(data:image/png;base64,iVBORw0KGgoAAAANSUhEUgAAABQAAAAUCAYAAACNiR0NAAAABHNCSVQICAgIfAhkiAAAAAlwSFlzAAALEgAACxIB0t1+/AAAABx0RVh0U29mdHdhcmUAQWRvYmUgRmlyZXdvcmtzIENTNui8sowAAAOkSURBVDiNjZRtaJVlGMd/1/08zzln5zjP1LWcU9N0NkN8m2CYjpgQYQXqSs0I84OLIC0hkEKoPtiH3gmKoiJDU7QpLgoLjLIQCpEsNJ1vqUOdO7ppbuec5+V+rj4ctwzd8IIbbi6u+8f1539dt3A78eXC7QizUF7gyV1fD1Yqg4JWz84yffhm0qkFqBogB9rM8tZdtwVsPUhWhGcFJngGeWrPzHm5oaMmkfEg1usvLFyc8jLRqDOMru7AyC8saQr7GG7f5fvDeH7Ej8CM66nIF+8yngt6HWaKh7k49Soy9nXurCi1o3qUbS3zWfrYeQDTB/Qj6kX6Ybhw4B+bOYoLKCC9H3Nu/leUTZ1JdRWkkn2ldcCamzrcf47KKXdAJllSlxAOkRgyHsGC/zRday5Qld9DyoM4/q/rUoy/CXh3jzOu3bHUVZeU+DEn8FInkPBFlu3+nW3Nw0mk6vCDiWg8CeJaxEwuHS3+z5RgY+YBR6V1Z1nxSOfoaPa4LASWxxdNp+VWTk7+4vzaou8v8PN+xo+KY2xsw6une2frhw05CTYOmQvsEhjhWjn0bmXPjpE1+kplmmkP3suftwTubK9Vq22qKmrBhpY4jvd5afdRA3wGjFAgcnTK2s4hY0/GPNIb0nErGMCRxWOOX64Z8RAC4oCXdklmEvcL8o0BfkNK4lUg9HTl+oPlQxdNo3Mg4Nv175e/1LDGzZen30MEjRUtmXSfiTVu1kK8W4txyV6BMKlbgk3lMwYCiusNy9fVfvvwMxv8Ynl6vxoByANLTWplvuj/nF9m2+PDtt1eiHPBr1oIfhCChQMBw6Aw0UulqTKZdfVvfG7VcfIqLG9bcldL/+pdWTLxLUy8Qq38heUIjh4XlzZxzQm19lLFlr8vdQ97rjZVOLf8nclzckbcD4wxXMidpX30sFd37Fv/GtwwhzhxGVAprjbg0gCAEeIgwCZyTV2Z1REEW8O4py0wsjeloKoMr6iCY6dP92H6Vw/oTyICIthibxjm/DfN9lVz8IqtqKYLUXfoKVMVQVVJOElGjrnnUt9T9wbgp8AyYKaGlqingHZU/uG2NTZSVqwHQTWkx9hxjkpWDaCg6Ckj5qebgBVbT3V3NNXMSiWSDdGV3hrtzla7J+duwPOToIg42ChPQOQjspnSlp1V+Gjdged7+8UN5CRAV7a5EdFNwCjEaBR27b3W890TE7g24NAP/mMDXRWrGoFPQI9ls/MWO2dWFAar/xcOIImbbpA3zgAAAABJRU5ErkJggg==);\n        }\n    </style>\n    <div>\n        <a href=\"https://bokeh.org\" target=\"_blank\" class=\"bk-notebook-logo\"></a>\n        <span id=\"bb92408e-7381-4259-a8e2-bac1cc15d661\">Loading BokehJS ...</span>\n    </div>\n"
     },
     "metadata": {},
     "output_type": "display_data"
    },
    {
     "data": {
      "application/javascript": "'use strict';\n(function(root) {\n  function now() {\n    return new Date();\n  }\n\n  const force = true;\n\n  if (typeof root._bokeh_onload_callbacks === \"undefined\" || force === true) {\n    root._bokeh_onload_callbacks = [];\n    root._bokeh_is_loading = undefined;\n  }\n\nconst JS_MIME_TYPE = 'application/javascript';\n  const HTML_MIME_TYPE = 'text/html';\n  const EXEC_MIME_TYPE = 'application/vnd.bokehjs_exec.v0+json';\n  const CLASS_NAME = 'output_bokeh rendered_html';\n\n  /**\n   * Render data to the DOM node\n   */\n  function render(props, node) {\n    const script = document.createElement(\"script\");\n    node.appendChild(script);\n  }\n\n  /**\n   * Handle when an output is cleared or removed\n   */\n  function handleClearOutput(event, handle) {\n    function drop(id) {\n      const view = Bokeh.index.get_by_id(id)\n      if (view != null) {\n        view.model.document.clear()\n        Bokeh.index.delete(view)\n      }\n    }\n\n    const cell = handle.cell;\n\n    const id = cell.output_area._bokeh_element_id;\n    const server_id = cell.output_area._bokeh_server_id;\n\n    // Clean up Bokeh references\n    if (id != null) {\n      drop(id)\n    }\n\n    if (server_id !== undefined) {\n      // Clean up Bokeh references\n      const cmd_clean = \"from bokeh.io.state import curstate; print(curstate().uuid_to_server['\" + server_id + \"'].get_sessions()[0].document.roots[0]._id)\";\n      cell.notebook.kernel.execute(cmd_clean, {\n        iopub: {\n          output: function(msg) {\n            const id = msg.content.text.trim()\n            drop(id)\n          }\n        }\n      });\n      // Destroy server and session\n      const cmd_destroy = \"import bokeh.io.notebook as ion; ion.destroy_server('\" + server_id + \"')\";\n      cell.notebook.kernel.execute(cmd_destroy);\n    }\n  }\n\n  /**\n   * Handle when a new output is added\n   */\n  function handleAddOutput(event, handle) {\n    const output_area = handle.output_area;\n    const output = handle.output;\n\n    // limit handleAddOutput to display_data with EXEC_MIME_TYPE content only\n    if ((output.output_type != \"display_data\") || (!Object.prototype.hasOwnProperty.call(output.data, EXEC_MIME_TYPE))) {\n      return\n    }\n\n    const toinsert = output_area.element.find(\".\" + CLASS_NAME.split(' ')[0]);\n\n    if (output.metadata[EXEC_MIME_TYPE][\"id\"] !== undefined) {\n      toinsert[toinsert.length - 1].firstChild.textContent = output.data[JS_MIME_TYPE];\n      // store reference to embed id on output_area\n      output_area._bokeh_element_id = output.metadata[EXEC_MIME_TYPE][\"id\"];\n    }\n    if (output.metadata[EXEC_MIME_TYPE][\"server_id\"] !== undefined) {\n      const bk_div = document.createElement(\"div\");\n      bk_div.innerHTML = output.data[HTML_MIME_TYPE];\n      const script_attrs = bk_div.children[0].attributes;\n      for (let i = 0; i < script_attrs.length; i++) {\n        toinsert[toinsert.length - 1].firstChild.setAttribute(script_attrs[i].name, script_attrs[i].value);\n        toinsert[toinsert.length - 1].firstChild.textContent = bk_div.children[0].textContent\n      }\n      // store reference to server id on output_area\n      output_area._bokeh_server_id = output.metadata[EXEC_MIME_TYPE][\"server_id\"];\n    }\n  }\n\n  function register_renderer(events, OutputArea) {\n\n    function append_mime(data, metadata, element) {\n      // create a DOM node to render to\n      const toinsert = this.create_output_subarea(\n        metadata,\n        CLASS_NAME,\n        EXEC_MIME_TYPE\n      );\n      this.keyboard_manager.register_events(toinsert);\n      // Render to node\n      const props = {data: data, metadata: metadata[EXEC_MIME_TYPE]};\n      render(props, toinsert[toinsert.length - 1]);\n      element.append(toinsert);\n      return toinsert\n    }\n\n    /* Handle when an output is cleared or removed */\n    events.on('clear_output.CodeCell', handleClearOutput);\n    events.on('delete.Cell', handleClearOutput);\n\n    /* Handle when a new output is added */\n    events.on('output_added.OutputArea', handleAddOutput);\n\n    /**\n     * Register the mime type and append_mime function with output_area\n     */\n    OutputArea.prototype.register_mime_type(EXEC_MIME_TYPE, append_mime, {\n      /* Is output safe? */\n      safe: true,\n      /* Index of renderer in `output_area.display_order` */\n      index: 0\n    });\n  }\n\n  // register the mime type if in Jupyter Notebook environment and previously unregistered\n  if (root.Jupyter !== undefined) {\n    const events = require('base/js/events');\n    const OutputArea = require('notebook/js/outputarea').OutputArea;\n\n    if (OutputArea.prototype.mime_types().indexOf(EXEC_MIME_TYPE) == -1) {\n      register_renderer(events, OutputArea);\n    }\n  }\n  if (typeof (root._bokeh_timeout) === \"undefined\" || force === true) {\n    root._bokeh_timeout = Date.now() + 5000;\n    root._bokeh_failed_load = false;\n  }\n\n  const NB_LOAD_WARNING = {'data': {'text/html':\n     \"<div style='background-color: #fdd'>\\n\"+\n     \"<p>\\n\"+\n     \"BokehJS does not appear to have successfully loaded. If loading BokehJS from CDN, this \\n\"+\n     \"may be due to a slow or bad network connection. Possible fixes:\\n\"+\n     \"</p>\\n\"+\n     \"<ul>\\n\"+\n     \"<li>re-rerun `output_notebook()` to attempt to load from CDN again, or</li>\\n\"+\n     \"<li>use INLINE resources instead, as so:</li>\\n\"+\n     \"</ul>\\n\"+\n     \"<code>\\n\"+\n     \"from bokeh.resources import INLINE\\n\"+\n     \"output_notebook(resources=INLINE)\\n\"+\n     \"</code>\\n\"+\n     \"</div>\"}};\n\n  function display_loaded(error = null) {\n    const el = document.getElementById(\"bb92408e-7381-4259-a8e2-bac1cc15d661\");\n    if (el != null) {\n      const html = (() => {\n        if (typeof root.Bokeh === \"undefined\") {\n          if (error == null) {\n            return \"BokehJS is loading ...\";\n          } else {\n            return \"BokehJS failed to load.\";\n          }\n        } else {\n          const prefix = `BokehJS ${root.Bokeh.version}`;\n          if (error == null) {\n            return `${prefix} successfully loaded.`;\n          } else {\n            return `${prefix} <b>encountered errors</b> while loading and may not function as expected.`;\n          }\n        }\n      })();\n      el.innerHTML = html;\n\n      if (error != null) {\n        const wrapper = document.createElement(\"div\");\n        wrapper.style.overflow = \"auto\";\n        wrapper.style.height = \"5em\";\n        wrapper.style.resize = \"vertical\";\n        const content = document.createElement(\"div\");\n        content.style.fontFamily = \"monospace\";\n        content.style.whiteSpace = \"pre-wrap\";\n        content.style.backgroundColor = \"rgb(255, 221, 221)\";\n        content.textContent = error.stack ?? error.toString();\n        wrapper.append(content);\n        el.append(wrapper);\n      }\n    } else if (Date.now() < root._bokeh_timeout) {\n      setTimeout(() => display_loaded(error), 100);\n    }\n  }\n\n  function run_callbacks() {\n    try {\n      root._bokeh_onload_callbacks.forEach(function(callback) {\n        if (callback != null)\n          callback();\n      });\n    } finally {\n      delete root._bokeh_onload_callbacks\n    }\n    console.debug(\"Bokeh: all callbacks have finished\");\n  }\n\n  function load_libs(css_urls, js_urls, callback) {\n    if (css_urls == null) css_urls = [];\n    if (js_urls == null) js_urls = [];\n\n    root._bokeh_onload_callbacks.push(callback);\n    if (root._bokeh_is_loading > 0) {\n      console.debug(\"Bokeh: BokehJS is being loaded, scheduling callback at\", now());\n      return null;\n    }\n    if (js_urls == null || js_urls.length === 0) {\n      run_callbacks();\n      return null;\n    }\n    console.debug(\"Bokeh: BokehJS not loaded, scheduling load and callback at\", now());\n    root._bokeh_is_loading = css_urls.length + js_urls.length;\n\n    function on_load() {\n      root._bokeh_is_loading--;\n      if (root._bokeh_is_loading === 0) {\n        console.debug(\"Bokeh: all BokehJS libraries/stylesheets loaded\");\n        run_callbacks()\n      }\n    }\n\n    function on_error(url) {\n      console.error(\"failed to load \" + url);\n    }\n\n    for (let i = 0; i < css_urls.length; i++) {\n      const url = css_urls[i];\n      const element = document.createElement(\"link\");\n      element.onload = on_load;\n      element.onerror = on_error.bind(null, url);\n      element.rel = \"stylesheet\";\n      element.type = \"text/css\";\n      element.href = url;\n      console.debug(\"Bokeh: injecting link tag for BokehJS stylesheet: \", url);\n      document.body.appendChild(element);\n    }\n\n    for (let i = 0; i < js_urls.length; i++) {\n      const url = js_urls[i];\n      const element = document.createElement('script');\n      element.onload = on_load;\n      element.onerror = on_error.bind(null, url);\n      element.async = false;\n      element.src = url;\n      console.debug(\"Bokeh: injecting script tag for BokehJS library: \", url);\n      document.head.appendChild(element);\n    }\n  };\n\n  function inject_raw_css(css) {\n    const element = document.createElement(\"style\");\n    element.appendChild(document.createTextNode(css));\n    document.body.appendChild(element);\n  }\n\n  const js_urls = [\"https://cdn.bokeh.org/bokeh/release/bokeh-3.6.0.min.js\", \"https://cdn.bokeh.org/bokeh/release/bokeh-gl-3.6.0.min.js\", \"https://cdn.bokeh.org/bokeh/release/bokeh-widgets-3.6.0.min.js\", \"https://cdn.bokeh.org/bokeh/release/bokeh-tables-3.6.0.min.js\", \"https://cdn.bokeh.org/bokeh/release/bokeh-mathjax-3.6.0.min.js\"];\n  const css_urls = [];\n\n  const inline_js = [    function(Bokeh) {\n      Bokeh.set_log_level(\"info\");\n    },\nfunction(Bokeh) {\n    }\n  ];\n\n  function run_inline_js() {\n    if (root.Bokeh !== undefined || force === true) {\n      try {\n            for (let i = 0; i < inline_js.length; i++) {\n      inline_js[i].call(root, root.Bokeh);\n    }\n\n      } catch (error) {display_loaded(error);throw error;\n      }if (force === true) {\n        display_loaded();\n      }} else if (Date.now() < root._bokeh_timeout) {\n      setTimeout(run_inline_js, 100);\n    } else if (!root._bokeh_failed_load) {\n      console.log(\"Bokeh: BokehJS failed to load within specified timeout.\");\n      root._bokeh_failed_load = true;\n    } else if (force !== true) {\n      const cell = $(document.getElementById(\"bb92408e-7381-4259-a8e2-bac1cc15d661\")).parents('.cell').data().cell;\n      cell.output_area.append_execute_result(NB_LOAD_WARNING)\n    }\n  }\n\n  if (root._bokeh_is_loading === 0) {\n    console.debug(\"Bokeh: BokehJS loaded, going straight to plotting\");\n    run_inline_js();\n  } else {\n    load_libs(css_urls, js_urls, function() {\n      console.debug(\"Bokeh: BokehJS plotting callback run at\", now());\n      run_inline_js();\n    });\n  }\n}(window));",
      "application/vnd.bokehjs_load.v0+json": "'use strict';\n(function(root) {\n  function now() {\n    return new Date();\n  }\n\n  const force = true;\n\n  if (typeof root._bokeh_onload_callbacks === \"undefined\" || force === true) {\n    root._bokeh_onload_callbacks = [];\n    root._bokeh_is_loading = undefined;\n  }\n\n\n  if (typeof (root._bokeh_timeout) === \"undefined\" || force === true) {\n    root._bokeh_timeout = Date.now() + 5000;\n    root._bokeh_failed_load = false;\n  }\n\n  const NB_LOAD_WARNING = {'data': {'text/html':\n     \"<div style='background-color: #fdd'>\\n\"+\n     \"<p>\\n\"+\n     \"BokehJS does not appear to have successfully loaded. If loading BokehJS from CDN, this \\n\"+\n     \"may be due to a slow or bad network connection. Possible fixes:\\n\"+\n     \"</p>\\n\"+\n     \"<ul>\\n\"+\n     \"<li>re-rerun `output_notebook()` to attempt to load from CDN again, or</li>\\n\"+\n     \"<li>use INLINE resources instead, as so:</li>\\n\"+\n     \"</ul>\\n\"+\n     \"<code>\\n\"+\n     \"from bokeh.resources import INLINE\\n\"+\n     \"output_notebook(resources=INLINE)\\n\"+\n     \"</code>\\n\"+\n     \"</div>\"}};\n\n  function display_loaded(error = null) {\n    const el = document.getElementById(\"bb92408e-7381-4259-a8e2-bac1cc15d661\");\n    if (el != null) {\n      const html = (() => {\n        if (typeof root.Bokeh === \"undefined\") {\n          if (error == null) {\n            return \"BokehJS is loading ...\";\n          } else {\n            return \"BokehJS failed to load.\";\n          }\n        } else {\n          const prefix = `BokehJS ${root.Bokeh.version}`;\n          if (error == null) {\n            return `${prefix} successfully loaded.`;\n          } else {\n            return `${prefix} <b>encountered errors</b> while loading and may not function as expected.`;\n          }\n        }\n      })();\n      el.innerHTML = html;\n\n      if (error != null) {\n        const wrapper = document.createElement(\"div\");\n        wrapper.style.overflow = \"auto\";\n        wrapper.style.height = \"5em\";\n        wrapper.style.resize = \"vertical\";\n        const content = document.createElement(\"div\");\n        content.style.fontFamily = \"monospace\";\n        content.style.whiteSpace = \"pre-wrap\";\n        content.style.backgroundColor = \"rgb(255, 221, 221)\";\n        content.textContent = error.stack ?? error.toString();\n        wrapper.append(content);\n        el.append(wrapper);\n      }\n    } else if (Date.now() < root._bokeh_timeout) {\n      setTimeout(() => display_loaded(error), 100);\n    }\n  }\n\n  function run_callbacks() {\n    try {\n      root._bokeh_onload_callbacks.forEach(function(callback) {\n        if (callback != null)\n          callback();\n      });\n    } finally {\n      delete root._bokeh_onload_callbacks\n    }\n    console.debug(\"Bokeh: all callbacks have finished\");\n  }\n\n  function load_libs(css_urls, js_urls, callback) {\n    if (css_urls == null) css_urls = [];\n    if (js_urls == null) js_urls = [];\n\n    root._bokeh_onload_callbacks.push(callback);\n    if (root._bokeh_is_loading > 0) {\n      console.debug(\"Bokeh: BokehJS is being loaded, scheduling callback at\", now());\n      return null;\n    }\n    if (js_urls == null || js_urls.length === 0) {\n      run_callbacks();\n      return null;\n    }\n    console.debug(\"Bokeh: BokehJS not loaded, scheduling load and callback at\", now());\n    root._bokeh_is_loading = css_urls.length + js_urls.length;\n\n    function on_load() {\n      root._bokeh_is_loading--;\n      if (root._bokeh_is_loading === 0) {\n        console.debug(\"Bokeh: all BokehJS libraries/stylesheets loaded\");\n        run_callbacks()\n      }\n    }\n\n    function on_error(url) {\n      console.error(\"failed to load \" + url);\n    }\n\n    for (let i = 0; i < css_urls.length; i++) {\n      const url = css_urls[i];\n      const element = document.createElement(\"link\");\n      element.onload = on_load;\n      element.onerror = on_error.bind(null, url);\n      element.rel = \"stylesheet\";\n      element.type = \"text/css\";\n      element.href = url;\n      console.debug(\"Bokeh: injecting link tag for BokehJS stylesheet: \", url);\n      document.body.appendChild(element);\n    }\n\n    for (let i = 0; i < js_urls.length; i++) {\n      const url = js_urls[i];\n      const element = document.createElement('script');\n      element.onload = on_load;\n      element.onerror = on_error.bind(null, url);\n      element.async = false;\n      element.src = url;\n      console.debug(\"Bokeh: injecting script tag for BokehJS library: \", url);\n      document.head.appendChild(element);\n    }\n  };\n\n  function inject_raw_css(css) {\n    const element = document.createElement(\"style\");\n    element.appendChild(document.createTextNode(css));\n    document.body.appendChild(element);\n  }\n\n  const js_urls = [\"https://cdn.bokeh.org/bokeh/release/bokeh-3.6.0.min.js\", \"https://cdn.bokeh.org/bokeh/release/bokeh-gl-3.6.0.min.js\", \"https://cdn.bokeh.org/bokeh/release/bokeh-widgets-3.6.0.min.js\", \"https://cdn.bokeh.org/bokeh/release/bokeh-tables-3.6.0.min.js\", \"https://cdn.bokeh.org/bokeh/release/bokeh-mathjax-3.6.0.min.js\"];\n  const css_urls = [];\n\n  const inline_js = [    function(Bokeh) {\n      Bokeh.set_log_level(\"info\");\n    },\nfunction(Bokeh) {\n    }\n  ];\n\n  function run_inline_js() {\n    if (root.Bokeh !== undefined || force === true) {\n      try {\n            for (let i = 0; i < inline_js.length; i++) {\n      inline_js[i].call(root, root.Bokeh);\n    }\n\n      } catch (error) {display_loaded(error);throw error;\n      }if (force === true) {\n        display_loaded();\n      }} else if (Date.now() < root._bokeh_timeout) {\n      setTimeout(run_inline_js, 100);\n    } else if (!root._bokeh_failed_load) {\n      console.log(\"Bokeh: BokehJS failed to load within specified timeout.\");\n      root._bokeh_failed_load = true;\n    } else if (force !== true) {\n      const cell = $(document.getElementById(\"bb92408e-7381-4259-a8e2-bac1cc15d661\")).parents('.cell').data().cell;\n      cell.output_area.append_execute_result(NB_LOAD_WARNING)\n    }\n  }\n\n  if (root._bokeh_is_loading === 0) {\n    console.debug(\"Bokeh: BokehJS loaded, going straight to plotting\");\n    run_inline_js();\n  } else {\n    load_libs(css_urls, js_urls, function() {\n      console.debug(\"Bokeh: BokehJS plotting callback run at\", now());\n      run_inline_js();\n    });\n  }\n}(window));"
     },
     "metadata": {},
     "output_type": "display_data"
    }
   ],
   "source": [
    "import bokeh.models as bm, bokeh.plotting as pl\n",
    "from bokeh.io import output_notebook\n",
    "output_notebook()\n",
    "\n",
    "def draw_vectors(x, y, radius=10, alpha=0.25, color='blue',\n",
    "                 width=600, height=400, show=True, **kwargs):\n",
    "    \"\"\" draws an interactive plot for data points with auxilirary info on hover \"\"\"\n",
    "    if isinstance(color, str): color = [color] * len(x)\n",
    "    data_source = bm.ColumnDataSource({ 'x' : x, 'y' : y, 'color': color, **kwargs })\n",
    "\n",
    "    fig = pl.figure(active_scroll='wheel_zoom', width=width, height=height)\n",
    "    fig.scatter('x', 'y', size=radius, color='color', alpha=alpha, source=data_source)\n",
    "\n",
    "    fig.add_tools(bm.HoverTool(tooltips=[(key, \"@\" + key) for key in kwargs.keys()]))\n",
    "    if show: pl.show(fig)\n",
    "    return fig"
   ]
  },
  {
   "cell_type": "code",
   "execution_count": 22,
   "metadata": {
    "id": "2WaNKb59XHtg",
    "ExecuteTime": {
     "end_time": "2024-10-05T15:37:57.674247Z",
     "start_time": "2024-10-05T15:37:57.573809Z"
    }
   },
   "outputs": [
    {
     "data": {
      "text/html": "\n  <div id=\"d899b9ea-eede-4f04-97c2-a511805663f2\" data-root-id=\"p1004\" style=\"display: contents;\"></div>\n"
     },
     "metadata": {},
     "output_type": "display_data"
    },
    {
     "data": {
      "application/javascript": "(function(root) {\n  function embed_document(root) {\n  const docs_json = {\"bda5ae98-8c60-42a2-9a65-9323cc3990db\":{\"version\":\"3.6.0\",\"title\":\"Bokeh Application\",\"roots\":[{\"type\":\"object\",\"name\":\"Figure\",\"id\":\"p1004\",\"attributes\":{\"height\":400,\"x_range\":{\"type\":\"object\",\"name\":\"DataRange1d\",\"id\":\"p1005\"},\"y_range\":{\"type\":\"object\",\"name\":\"DataRange1d\",\"id\":\"p1006\"},\"x_scale\":{\"type\":\"object\",\"name\":\"LinearScale\",\"id\":\"p1013\"},\"y_scale\":{\"type\":\"object\",\"name\":\"LinearScale\",\"id\":\"p1014\"},\"title\":{\"type\":\"object\",\"name\":\"Title\",\"id\":\"p1011\",\"attributes\":{\"text_color\":\"#E0E0E0\",\"text_font\":\"Helvetica\",\"text_font_size\":\"1.15em\"}},\"outline_line_color\":\"#E0E0E0\",\"outline_line_alpha\":0.25,\"renderers\":[{\"type\":\"object\",\"name\":\"GlyphRenderer\",\"id\":\"p1044\",\"attributes\":{\"data_source\":{\"type\":\"object\",\"name\":\"ColumnDataSource\",\"id\":\"p1001\",\"attributes\":{\"selected\":{\"type\":\"object\",\"name\":\"Selection\",\"id\":\"p1002\",\"attributes\":{\"indices\":[],\"line_indices\":[]}},\"selection_policy\":{\"type\":\"object\",\"name\":\"UnionRenderers\",\"id\":\"p1003\"},\"data\":{\"type\":\"map\",\"entries\":[[\"x\",{\"type\":\"ndarray\",\"array\":{\"type\":\"bytes\",\"data\":\"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\"},\"shape\":[1000],\"dtype\":\"float32\",\"order\":\"little\"}],[\"y\",{\"type\":\"ndarray\",\"array\":{\"type\":\"bytes\",\"data\":\"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\"},\"shape\":[1000],\"dtype\":\"float32\",\"order\":\"little\"}],[\"color\",[\"blue\",\"blue\",\"blue\",\"blue\",\"blue\",\"blue\",\"blue\",\"blue\",\"blue\",\"blue\",\"blue\",\"blue\",\"blue\",\"blue\",\"blue\",\"blue\",\"blue\",\"blue\",\"blue\",\"blue\",\"blue\",\"blue\",\"blue\",\"blue\",\"blue\",\"blue\",\"blue\",\"blue\",\"blue\",\"blue\",\"blue\",\"blue\",\"blue\",\"blue\",\"blue\",\"blue\",\"blue\",\"blue\",\"blue\",\"blue\",\"blue\",\"blue\",\"blue\",\"blue\",\"blue\",\"blue\",\"blue\",\"blue\",\"blue\",\"blue\",\"blue\",\"blue\",\"blue\",\"blue\",\"blue\",\"blue\",\"blue\",\"blue\",\"blue\",\"blue\",\"blue\",\"blue\",\"blue\",\"blue\",\"blue\",\"blue\",\"blue\",\"blue\",\"blue\",\"blue\",\"blue\",\"blue\",\"blue\",\"blue\",\"blue\",\"blue\",\"blue\",\"blue\",\"blue\",\"blue\",\"blue\",\"blue\",\"blue\",\"blue\",\"blue\",\"blue\",\"blue\",\"blue\",\"blue\",\"blue\",\"blue\",\"blue\",\"blue\",\"blue\",\"blue\",\"blue\",\"blue\",\"blue\",\"blue\",\"blue\",\"blue\",\"blue\",\"blue\",\"blue\",\"blue\",\"blue\",\"blue\",\"blue\",\"blue\",\"blue\",\"blue\",\"blue\",\"blue\",\"blue\",\"blue\",\"blue\",\"blue\",\"blue\",\"blue\",\"blue\",\"blue\",\"blue\",\"blue\",\"blue\",\"blue\",\"blue\",\"blue\",\"blue\",\"blue\",\"blue\",\"blue\",\"blue\",\"blue\",\"blue\",\"blue\",\"blue\",\"blue\",\"blue\",\"blue\",\"blue\",\"blue\",\"blue\",\"blue\",\"blue\",\"blue\",\"blue\",\"blue\",\"blue\",\"blue\",\"blue\",\"blue\",\"blue\",\"blue\",\"blue\",\"blue\",\"blue\",\"blue\",\"blue\",\"blue\",\"blue\",\"blue\",\"blue\",\"blue\",\"blue\",\"blue\",\"blue\",\"blue\",\"blue\",\"blue\",\"blue\",\"blue\",\"blue\",\"blue\",\"blue\",\"blue\",\"blue\",\"blue\",\"blue\",\"blue\",\"blue\",\"blue\",\"blue\",\"blue\",\"blue\",\"blue\",\"blue\",\"blue\",\"blue\",\"blue\",\"blue\",\"blue\",\"blue\",\"blue\",\"blue\",\"blue\",\"blue\",\"blue\",\"blue\",\"blue\",\"blue\",\"blue\",\"blue\",\"blue\",\"blue\",\"blue\",\"blue\",\"blue\",\"blue\",\"blue\",\"blue\",\"blue\",\"blue\",\"blue\",\"blue\",\"blue\",\"blue\",\"blue\",\"blue\",\"blue\",\"blue\",\"blue\",\"blue\",\"blue\",\"blue\",\"blue\",\"blue\",\"blue\",\"blue\",\"blue\",\"blue\",\"blue\",\"blue\",\"blue\",\"blue\",\"blue\",\"blue\",\"blue\",\"blue\",\"blue\",\"blue\",\"blue\",\"blue\",\"blue\",\"blue\",\"blue\",\"blue\",\"blue\",\"blue\",\"blue\",\"blue\",\"blue\",\"blue\",\"blue\",\"blue\",\"blue\",\"blue\",\"blue\",\"blue\",\"blue\",\"blue\",\"blue\",\"blue\",\"blue\",\"blue\",\"blue\",\"blue\",\"blue\",\"blue\",\"blue\",\"blue\",\"blue\",\"blue\",\"blue\",\"blue\",\"blue\",\"blue\",\"blue\",\"blue\",\"blue\",\"blue\",\"blue\",\"blue\",\"blue\",\"blue\",\"blue\",\"blue\",\"blue\",\"blue\",\"blue\",\"blue\",\"blue\",\"blue\",\"blue\",\"blue\",\"blue\",\"blue\",\"blue\",\"blue\",\"blue\",\"blue\",\"blue\",\"blue\",\"blue\",\"blue\",\"blue\",\"blue\",\"blue\",\"blue\",\"blue\",\"blue\",\"blue\",\"blue\",\"blue\",\"blue\",\"blue\",\"blue\",\"blue\",\"blue\",\"blue\",\"blue\",\"blue\",\"blue\",\"blue\",\"blue\",\"blue\",\"blue\",\"blue\",\"blue\",\"blue\",\"blue\",\"blue\",\"blue\",\"blue\",\"blue\",\"blue\",\"blue\",\"blue\",\"blue\",\"blue\",\"blue\",\"blue\",\"blue\",\"blue\",\"blue\",\"blue\",\"blue\",\"blue\",\"blue\",\"blue\",\"blue\",\"blue\",\"blue\",\"blue\",\"blue\",\"blue\",\"blue\",\"blue\",\"blue\",\"blue\",\"blue\",\"blue\",\"blue\",\"blue\",\"blue\",\"blue\",\"blue\",\"blue\",\"blue\",\"blue\",\"blue\",\"blue\",\"blue\",\"blue\",\"blue\",\"blue\",\"blue\",\"blue\",\"blue\",\"blue\",\"blue\",\"blue\",\"blue\",\"blue\",\"blue\",\"blue\",\"blue\",\"blue\",\"blue\",\"blue\",\"blue\",\"blue\",\"blue\",\"blue\",\"blue\",\"blue\",\"blue\",\"blue\",\"blue\",\"blue\",\"blue\",\"blue\",\"blue\",\"blue\",\"blue\",\"blue\",\"blue\",\"blue\",\"blue\",\"blue\",\"blue\",\"blue\",\"blue\",\"blue\",\"blue\",\"blue\",\"blue\",\"blue\",\"blue\",\"blue\",\"blue\",\"blue\",\"blue\",\"blue\",\"blue\",\"blue\",\"blue\",\"blue\",\"blue\",\"blue\",\"blue\",\"blue\",\"blue\",\"blue\",\"blue\",\"blue\",\"blue\",\"blue\",\"blue\",\"blue\",\"blue\",\"blue\",\"blue\",\"blue\",\"blue\",\"blue\",\"blue\",\"blue\",\"blue\",\"blue\",\"blue\",\"blue\",\"blue\",\"blue\",\"blue\",\"blue\",\"blue\",\"blue\",\"blue\",\"blue\",\"blue\",\"blue\",\"blue\",\"blue\",\"blue\",\"blue\",\"blue\",\"blue\",\"blue\",\"blue\",\"blue\",\"blue\",\"blue\",\"blue\",\"blue\",\"blue\",\"blue\",\"blue\",\"blue\",\"blue\",\"blue\",\"blue\",\"blue\",\"blue\",\"blue\",\"blue\",\"blue\",\"blue\",\"blue\",\"blue\",\"blue\",\"blue\",\"blue\",\"blue\",\"blue\",\"blue\",\"blue\",\"blue\",\"blue\",\"blue\",\"blue\",\"blue\",\"blue\",\"blue\",\"blue\",\"blue\",\"blue\",\"blue\",\"blue\",\"blue\",\"blue\",\"blue\",\"blue\",\"blue\",\"blue\",\"blue\",\"blue\",\"blue\",\"blue\",\"blue\",\"blue\",\"blue\",\"blue\",\"blue\",\"blue\",\"blue\",\"blue\",\"blue\",\"blue\",\"blue\",\"blue\",\"blue\",\"blue\",\"blue\",\"blue\",\"blue\",\"blue\",\"blue\",\"blue\",\"blue\",\"blue\",\"blue\",\"blue\",\"blue\",\"blue\",\"blue\",\"blue\",\"blue\",\"blue\",\"blue\",\"blue\",\"blue\",\"blue\",\"blue\",\"blue\",\"blue\",\"blue\",\"blue\",\"blue\",\"blue\",\"blue\",\"blue\",\"blue\",\"blue\",\"blue\",\"blue\",\"blue\",\"blue\",\"blue\",\"blue\",\"blue\",\"blue\",\"blue\",\"blue\",\"blue\",\"blue\",\"blue\",\"blue\",\"blue\",\"blue\",\"blue\",\"blue\",\"blue\",\"blue\",\"blue\",\"blue\",\"blue\",\"blue\",\"blue\",\"blue\",\"blue\",\"blue\",\"blue\",\"blue\",\"blue\",\"blue\",\"blue\",\"blue\",\"blue\",\"blue\",\"blue\",\"blue\",\"blue\",\"blue\",\"blue\",\"blue\",\"blue\",\"blue\",\"blue\",\"blue\",\"blue\",\"blue\",\"blue\",\"blue\",\"blue\",\"blue\",\"blue\",\"blue\",\"blue\",\"blue\",\"blue\",\"blue\",\"blue\",\"blue\",\"blue\",\"blue\",\"blue\",\"blue\",\"blue\",\"blue\",\"blue\",\"blue\",\"blue\",\"blue\",\"blue\",\"blue\",\"blue\",\"blue\",\"blue\",\"blue\",\"blue\",\"blue\",\"blue\",\"blue\",\"blue\",\"blue\",\"blue\",\"blue\",\"blue\",\"blue\",\"blue\",\"blue\",\"blue\",\"blue\",\"blue\",\"blue\",\"blue\",\"blue\",\"blue\",\"blue\",\"blue\",\"blue\",\"blue\",\"blue\",\"blue\",\"blue\",\"blue\",\"blue\",\"blue\",\"blue\",\"blue\",\"blue\",\"blue\",\"blue\",\"blue\",\"blue\",\"blue\",\"blue\",\"blue\",\"blue\",\"blue\",\"blue\",\"blue\",\"blue\",\"blue\",\"blue\",\"blue\",\"blue\",\"blue\",\"blue\",\"blue\",\"blue\",\"blue\",\"blue\",\"blue\",\"blue\",\"blue\",\"blue\",\"blue\",\"blue\",\"blue\",\"blue\",\"blue\",\"blue\",\"blue\",\"blue\",\"blue\",\"blue\",\"blue\",\"blue\",\"blue\",\"blue\",\"blue\",\"blue\",\"blue\",\"blue\",\"blue\",\"blue\",\"blue\",\"blue\",\"blue\",\"blue\",\"blue\",\"blue\",\"blue\",\"blue\",\"blue\",\"blue\",\"blue\",\"blue\",\"blue\",\"blue\",\"blue\",\"blue\",\"blue\",\"blue\",\"blue\",\"blue\",\"blue\",\"blue\",\"blue\",\"blue\",\"blue\",\"blue\",\"blue\",\"blue\",\"blue\",\"blue\",\"blue\",\"blue\",\"blue\",\"blue\",\"blue\",\"blue\",\"blue\",\"blue\",\"blue\",\"blue\",\"blue\",\"blue\",\"blue\",\"blue\",\"blue\",\"blue\",\"blue\",\"blue\",\"blue\",\"blue\",\"blue\",\"blue\",\"blue\",\"blue\",\"blue\",\"blue\",\"blue\",\"blue\",\"blue\",\"blue\",\"blue\",\"blue\",\"blue\",\"blue\",\"blue\",\"blue\",\"blue\",\"blue\",\"blue\",\"blue\",\"blue\",\"blue\",\"blue\",\"blue\",\"blue\",\"blue\",\"blue\",\"blue\",\"blue\",\"blue\",\"blue\",\"blue\",\"blue\",\"blue\",\"blue\",\"blue\",\"blue\",\"blue\",\"blue\",\"blue\",\"blue\",\"blue\",\"blue\",\"blue\",\"blue\",\"blue\",\"blue\",\"blue\",\"blue\",\"blue\",\"blue\",\"blue\",\"blue\",\"blue\",\"blue\",\"blue\",\"blue\",\"blue\",\"blue\",\"blue\",\"blue\",\"blue\",\"blue\",\"blue\",\"blue\",\"blue\",\"blue\",\"blue\",\"blue\",\"blue\",\"blue\",\"blue\",\"blue\",\"blue\",\"blue\",\"blue\",\"blue\",\"blue\",\"blue\",\"blue\",\"blue\",\"blue\",\"blue\",\"blue\",\"blue\",\"blue\",\"blue\",\"blue\",\"blue\",\"blue\",\"blue\",\"blue\",\"blue\",\"blue\",\"blue\",\"blue\",\"blue\",\"blue\",\"blue\",\"blue\",\"blue\",\"blue\",\"blue\",\"blue\",\"blue\",\"blue\",\"blue\",\"blue\",\"blue\",\"blue\",\"blue\",\"blue\",\"blue\",\"blue\",\"blue\",\"blue\",\"blue\",\"blue\",\"blue\",\"blue\",\"blue\",\"blue\",\"blue\",\"blue\",\"blue\",\"blue\",\"blue\",\"blue\",\"blue\",\"blue\",\"blue\",\"blue\",\"blue\",\"blue\",\"blue\",\"blue\",\"blue\",\"blue\",\"blue\",\"blue\",\"blue\",\"blue\",\"blue\",\"blue\",\"blue\",\"blue\",\"blue\",\"blue\",\"blue\",\"blue\",\"blue\",\"blue\",\"blue\",\"blue\",\"blue\",\"blue\",\"blue\",\"blue\",\"blue\",\"blue\",\"blue\",\"blue\",\"blue\",\"blue\",\"blue\",\"blue\",\"blue\",\"blue\",\"blue\",\"blue\",\"blue\",\"blue\",\"blue\",\"blue\",\"blue\",\"blue\",\"blue\",\"blue\",\"blue\",\"blue\",\"blue\",\"blue\",\"blue\",\"blue\",\"blue\",\"blue\",\"blue\",\"blue\",\"blue\",\"blue\",\"blue\",\"blue\",\"blue\",\"blue\",\"blue\",\"blue\",\"blue\",\"blue\",\"blue\",\"blue\",\"blue\",\"blue\",\"blue\",\"blue\",\"blue\",\"blue\",\"blue\",\"blue\",\"blue\",\"blue\",\"blue\",\"blue\",\"blue\",\"blue\",\"blue\",\"blue\",\"blue\",\"blue\",\"blue\",\"blue\",\"blue\",\"blue\",\"blue\",\"blue\",\"blue\",\"blue\",\"blue\",\"blue\",\"blue\",\"blue\",\"blue\",\"blue\",\"blue\"]],[\"token\",[\"<user>\",\".\",\":\",\"rt\",\",\",\"<repeat>\",\"<hashtag>\",\"<number>\",\"<url>\",\"!\",\"i\",\"a\",\"\\\"\",\"the\",\"?\",\"you\",\"to\",\"(\",\"<allcaps>\",\"<elong>\",\")\",\"me\",\"de\",\"<smile>\",\"\\uff01\",\"que\",\"and\",\"\\u3002\",\"-\",\"my\",\"no\",\"\\u3001\",\"is\",\"it\",\"\\u2026\",\"in\",\"n\",\"for\",\"/\",\"of\",\"la\",\"'s\",\"*\",\"do\",\"n't\",\"that\",\"on\",\"y\",\"'\",\"e\",\"o\",\"u\",\"en\",\"this\",\"el\",\"so\",\"be\",\"'m\",\"with\",\"just\",\">\",\"your\",\"^\",\"like\",\"have\",\"te\",\"at\",\"\\uff1f\",\"love\",\"se\",\"are\",\"<\",\"m\",\"r\",\"if\",\"all\",\"b\",\"\\u30fb\",\"not\",\"but\",\"we\",\"es\",\"ya\",\"&\",\"follow\",\"up\",\"what\",\"get\",\"lol\",\"un\",\"\\u2665\",\"lo\",\"when\",\"was\",\"\\u201c\",\"\\u201d\",\"one\",\"por\",\"si\",\"out\",\"_\",\"mi\",\"can\",\"<sadface>\",\"\\u0645\\u0646\",\"\\u2661\",\"\\u00b4\",\"he\",\"con\",\"they\",\"now\",\"go\",\"\\u060c\",\"para\",\"los\",\"know\",\"haha\",\"good\",\"tu\",\"back\",\"~\",\"about\",\"new\",\";\",\"as\",\"day\",\"how\",\"who\",\"will\",\"want\",\"people\",\"yo\",\"eu\",\"from\",\"di\",\"time\",\"<heart>\",\"s\",\"aku\",\"da\",\"'re\",\"<lolface>\",\"una\",\"got\",\"las\",\"more\",\"x\",\"she\",\"today\",\"\\uff08\",\">>\",\"k\",\"by\",\"or\",\"\\u0641\\u064a\",\"\\uff65\",\"too\",\"le\",\"\\u00e9\",\"|\",\"[\",\"\\uff09\",\"]\",\"see\",\"why\",\"yg\",\"ca\",\"como\",\"her\",\"\\u2014\",\"q\",\"need\",\"an\",\"na\",\"\\u7b11\",\"there\",\"\\u03c9\",\"happy\",\"im\",\"mas\",\"je\",\"life\",\"really\",\"make\",\"yang\",\"shit\",\"think\",\"t\",\"\\u2764\",\"n\\u00e3o\",\"never\",\"some\",\"\\uff5e\",\"oh\",\"\\u2605\",\"did\",\"would\",\"del\",\"`\",\"d\",\"please\",\"via\",\"much\",\"fuck\",\"al\",\"dia\",\"$\",\"\\u0648\",\"right\",\"best\",\"c\",\"going\",\"\\u0627\\u0644\\u0644\\u0647\",\"pero\",\"only\",\"has\",\"\\u266a\",\"'ll\",\"twitter\",\"=\",\"hahaha\",\"its\",\"nn\",\"\\uff40\",\"\\u00bf\",\"am\",\"say\",\"<neutralface>\",\"them\",\"here\",\"\\u0644\\u0627\",\"off\",\"still\",\"dan\",\"+\",\"night\",\"w\",\"ada\",\"someone\",\"even\",\"then\",\"\\u2606\",\"ni\",\"come\",\"com\",\"always\",\"man\",\"'ve\",\"been\",\"his\",\"itu\",\"\\u0639\\u0644\\u0649\",\"-_-\",\"\\u263a\",\"over\",\"um\",\"\\u0645\\u0627\",\"hate\",\"girl\",\"ai\",\"had\",\"pra\",\"todo\",\"mais\",\"feel\",\"let\",\"ini\",\"because\",\"\\uff9f\",\"thanks\",\"ah\",\"way\",\"ever\",\"look\",\"tweet\",\"followers\",\"should\",\"our\",\"xd\",\"aja\",\"esta\",\"school\",\"him\",\"ser\",\"take\",\"than\",\"video\",\"em\",\"last\",\"wanna\",\"does\",\"us\",\"miss\",\"l\",\"ga\",\"better\",\"well\",\"could\",\"\\u25bd\",\"%\",\"apa\",\"cuando\",\"team\",\"\\u2714\",\"@\",\"ok\",\"\\u061f\",\"\\u2022\",\"vida\",\"quiero\",\"les\",\"being\",\"real\",\"down\",\"kamu\",\"everyone\",\"gonna\",\"live\",\"tonight\",\"yes\",\"work\",\"ass\",\"retweet\",\"nada\",\"sama\",\"first\",\"<<\",\"photo\",\"tomorrow\",\"where\",\"god\",\"son\",\"ke\",\"ta\",\"f\",\"home\",\"lagi\",\"thank\",\"birthday\",\"\\u2588\",\"ha\",\"great\",\"lmao\",\"omg\",\"morning\",\"m\\u00e1s\",\"mau\",\"baby\",\"dont\",\"\\uff61\",\"their\",\"p\",\"things\",\"game\",\"pas\",\"bad\",\"year\",\"yeah\",\"su\",\"bitch\",\"\\u0432\",\"stop\",\"hoy\",\"something\",\"meu\",\"tak\",\"gak\",\"world\",\"amor\",\"h\",\"\\\\\",\"ver\",\"\\uff1b\",\"porque\",\"give\",\"these\",\"\\u0627\\u0644\\u0644\\u0647\\u0645\",\"were\",\"hay\",\"sleep\",\"gue\",\"every\",\"friends\",\"uma\",\"tell\",\"amo\",\"vou\",\"bien\",\"\\u00a1\",\"again\",\"\\uff3e\",\"\\uff0f\",\"done\",\"after\",\"todos\",\"girls\",\"guys\",\"getting\",\"big\",\"wait\",\"justin\",\"eh\",\"\\u2192\",\"kan\",\"kita\",\"jajaja\",\"wish\",\"said\",\"fucking\",\"show\",\"thing\",\"next\",\"voc\\u00ea\",\"nos\",\"little\",\"tengo\",\"keep\",\"person\",\"''\",\"\\u2200\",\"hope\",\"\\u0643\\u0644\",\"hey\",\"bisa\",\"free\",\"made\",\"foto\",\"va\",\"everything\",\"iya\",\"nigga\",\"eso\",\"et\",\"watch\",\"music\",\"week\",\"talk\",\"ne\",\"solo\",\"gente\",\"udah\",\"\\uff1a\",\"--\",\"\\uff3c\",\"mejor\",\"facebook\",\"ma\",\"v\",\"phone\",\"most\",\"same\",\"okay\",\"ik\",\"before\",\"minha\",\"days\",\"g\",\"ti\",\"damn\",\"nice\",\"voy\",\"vai\",\"call\",\"long\",\"tapi\",\"http\",\"sin\",\"nunca\",\"doing\",\"other\",\"find\",\"il\",\"sa\",\"sorry\",\"nya\",\"orang\",\"\\u00b0\",\"hard\",\"mean\",\"die\",\"\\u0627\\u0644\\u0644\\u064a\",\"tem\",\"soy\",\"este\",\"kalo\",\"s\\u00f3\",\"th\",\"win\",\"nothing\",\"into\",\"face\",\"cute\",\"'d\",\"gracias\",\"lah\",\"\\u0438\",\"any\",\"play\",\"\\u2190\",\"ko\",\"text\",\"\\u2323\",\"estoy\",\"tau\",\"ur\",\"buat\",\"#\",\"cause\",\"\\u044f\",\"put\",\"kau\",\"siempre\",\"juga\",\"casa\",\"\\u0623\\u0646\",\"help\",\"start\",\"feliz\",\"old\",\"ir\",\"very\",\"care\",\"bir\",\"makes\",\"song\",\"check\",\"watching\",\"ahora\",\"jadi\",\"os\",\"may\",\"friend\",\"beautiful\",\"heart\",\"ka\",\"vc\",\"mundo\",\"\\u043d\\u0430\",\"sure\",\"tan\",\"pretty\",\"aqui\",\"\\u043d\\u0435\",\"house\",\"\\u0631\\u062a\\u0648\\u064a\\u062a\",\"\\u064a\\u0627\",\"ja\",\"true\",\"muy\",\"away\",\"already\",\"actually\",\"believe\",\"try\",\"many\",\"ma\\u00f1ana\",\"mis\",\"lu\",\"those\",\"hot\",\"qu\\u00e9\",\"mal\",\"\\u0639\\u0646\",\"though\",\"ask\",\"amazing\",\"bed\",\"}\",\"two\",\"mom\",\"d\\u00eda\",\"ve\",\"dari\",\"gameinsight\",\"stay\",\"fun\",\"around\",\"van\",\"cont\",\"ready\",\"money\",\"bu\",\"funny\",\"cool\",\"hair\",\"\\u00e0\",\"tho\",\"{\",\"wo\",\"hi\",\"name\",\"tiene\",\"hahahaha\",\"pa\",\"algo\",\"gotta\",\"\\u0648\\u0644\\u0627\",\"boy\",\"another\",\"c'est\",\"hari\",\"jajajaja\",\"having\",\"cara\",\"jaja\",\"dm\",\"looking\",\"top\",\"android\",\"dah\",\"wow\",\"\\u2591\",\"eres\",\"ben\",\"must\",\"news\",\"met\",\"est\\u00e1\",\"nih\",\"family\",\"black\",\"thought\",\"nak\",\"super\",\"end\",\"hace\",\"remember\",\"ama\",\"party\",\"cant\",\"vamos\",\"anything\",\"anyone\",\"\\u0641\\u0648\\u0644\\u0648\",\"perfect\",\"guy\",\"vez\",\"christmas\",\"dos\",\"bueno\",\"nao\",\"years\",\"vote\",\"dormir\",\"bro\",\"else\",\"quien\",\"untuk\",\"jangan\",\"myself\",\"head\",\"mind\",\"gua\",\"talking\",\"while\",\"dat\",\"food\",\"\\u0434\",\"coming\",\"wkwk\",\"trying\",\"saya\",\"mucho\",\"without\",\"wrong\",\"\\u2019s\",\"baru\",\"__\",\"hehe\",\"hacer\",\"lot\",\"followed\",\"crazy\",\"hell\",\"feeling\",\"des\",\"kok\",\"j\",\"stats\",\"j'\",\"\\u0627\\u0646\",\"tweets\",\"non\",\"cosas\",\"era\",\"high\",\"niggas\",\"change\",\"movie\",\"xx\",\"mad\",\"sih\",\"sometimes\",\"deh\",\"allah\",\"through\",\"pour\",\"ela\",\"soon\",\"gone\",\"playing\",\"smile\",\"bukan\",\"tv\",\"fans\",\"hasta\",\"akan\",\"y'\",\"looks\",\"isso\",\"\\u270c\",\"tired\",\"boys\",\"might\",\"dong\",\"lg\",\"use\",\"maybe\",\"until\",\"menos\",\"own\",\"dengan\",\"eat\",\"ou\",\"weekend\",\"\\u02d8\",\"class\",\"ele\",\"harry\",\"iphone\",\"friday\",\"single\",\"ff\",\"awesome\",\"bout\",\"muito\",\"hoje\",\"\\u00ac\",\"dios\",\"such\",\"estar\",\"j\\u00e1\",\"quando\",\"esa\",\"making\",\"\\u2501\",\"times\",\"lmfao\",\"gw\",\"moment\",\"yet\",\"aw\",\"smh\",\"banget\",\"masih\",\"qui\",\"quem\",\"\\u2013\",\"leave\",\"du\",\"une\",\"guess\",\"hit\",\"\\u0441\",\"pm\",\"since\",\"pues\",\"est\",\"job\",\"\\uff89\",\"mana\",\"bom\",\"siapa\",\"suka\",\"bieber\",\"mention\",\"lebih\",\"favorite\",\"bitches\",\"forever\",\"\\u0644\\u064a\",\"final\",\"read\",\"alguien\",\"open\",\"yourself\",\"ese\",\"che\",\"sex\",\"yaa\",\"car\",\"direction\",\"tidak\",\"seu\",\"gets\",\"left\",\"re\",\"jam\",\"enough\",\"\\u0625\\u0644\\u0627\",\"once\",\"\\u2019\",\"part\",\"cada\",\"\\u5b9a\\u671f\",\"\\u0644\\u0643\",\"een\",\"seen\",\"kak\",\"as\\u00ed\",\"nem\",\"\\u0639\\u0645\\u0644\",\"white\",\"told\",\"says\",\"esto\",\"sad\",\"mo\",\"fue\",\"yah\",\"summer\",\"\\u0647\",\"\\u2b55\",\"\\u00bb\",\"thats\",\"\\u0645\\u0639\",\"posted\",\"wants\",\"agora\",\"together\",\"fan\",\"men\",\"hear\",\"full\",\"\\u2600\",\"sigo\",\"pq\",\"dulu\",\"plus\",\"foi\",\"tudo\",\"\\u0647\\u0648\",\"ill\",\"\\u3042\",\"thinking\",\"wtf\",\"pagi\",\"mama\",\"kalau\",\"hati\",\"sexy\",\"sayang\",\"baik\",\"semua\",\"hola\",\"went\",\"vos\",\"tanto\",\"finally\",\"fb\",\"sea\",\"stupid\",\"tus\",\"seriously\",\"hora\",\"min\",\"pic\",\"estas\",\"turn\",\"hours\",\"excited\",\"nah\",\"buy\",\"saying\",\"mah\",\"break\",\"needs\",\"ce\",\"room\",\"choice\",\"far\",\"dead\",\"quero\",\"saw\",\"kids\",\"lil\",\"whole\",\"puede\",\"fall\",\"sus\",\"lost\",\"asi\",\"word\",\"\\u2639\",\"also\",\"\\u0631\\u064a\\u062a\\u0648\\u064a\\u062a\",\"probably\",\"everybody\",\"tarde\",\"run\",\"sei\",\"follback\",\"forget\",\"sweet\",\"welcome\",\"selamat\",\"\\uff3f\",\"sur\",\"place\",\"gusta\",\"sabe\",\"androidgames\",\"tp\",\"tiempo\",\"\\u0628\\u0633\",\"sou\",\"tuh\",\"vs\",\"eyes\",\"\\u0627\\u0646\\u0627\",\"picture\",\"das\",\"meet\",\"anak\",\"persona\",\"essa\",\"bored\",\"following\",\"nadie\",\"nobody\",\"dice\",\"alone\",\"sick\",\"red\",\"city\",\"cinta\",\"\\u6708\",\"linda\",\"dream\",\"story\",\"km\",\"het\",\"waiting\",\"^_^\",\"mine\",\"\\u0447\\u0442\\u043e\",\"reason\",\"kk\",\"\\u0644\\u0648\",\"online\",\"fast\",\"udh\",\"wanted\",\"op\",\"others\",\"gay\",\"n\\u2019t\",\"used\",\"sem\",\"understand\",\"moi\",\"sm\",\"aint\",\"donde\",\"bem\",\"which\",\"ng\",\"followback\",\"punya\",\"late\",\"anda\",\"tidur\",\"puedo\",\"early\",\"nd\",\"personas\",\"banyak\",\"\\u2705\",\"\\u278a\",\"trust\",\"noche\",\"tl\",\"\\uff1e\",\"\\u00ab\",\"af\",\"move\",\"pro\",\"bring\",\"ku\",\"called\",\"relationship\",\"idk\",\"hurt\",\"st\",\"pernah\",\"pessoas\",\"hello\",\"uno\",\"unfollowers\",\"cry\"]]]}}},\"view\":{\"type\":\"object\",\"name\":\"CDSView\",\"id\":\"p1045\",\"attributes\":{\"filter\":{\"type\":\"object\",\"name\":\"AllIndices\",\"id\":\"p1046\"}}},\"glyph\":{\"type\":\"object\",\"name\":\"Scatter\",\"id\":\"p1041\",\"attributes\":{\"x\":{\"type\":\"field\",\"field\":\"x\"},\"y\":{\"type\":\"field\",\"field\":\"y\"},\"size\":{\"type\":\"value\",\"value\":10},\"line_color\":{\"type\":\"field\",\"field\":\"color\"},\"line_alpha\":{\"type\":\"value\",\"value\":0.25},\"fill_color\":{\"type\":\"field\",\"field\":\"color\"},\"fill_alpha\":{\"type\":\"value\",\"value\":0.25},\"hatch_color\":{\"type\":\"field\",\"field\":\"color\"},\"hatch_alpha\":{\"type\":\"value\",\"value\":0.25}}},\"nonselection_glyph\":{\"type\":\"object\",\"name\":\"Scatter\",\"id\":\"p1042\",\"attributes\":{\"x\":{\"type\":\"field\",\"field\":\"x\"},\"y\":{\"type\":\"field\",\"field\":\"y\"},\"size\":{\"type\":\"value\",\"value\":10},\"line_color\":{\"type\":\"field\",\"field\":\"color\"},\"line_alpha\":{\"type\":\"value\",\"value\":0.1},\"fill_color\":{\"type\":\"field\",\"field\":\"color\"},\"fill_alpha\":{\"type\":\"value\",\"value\":0.1},\"hatch_color\":{\"type\":\"field\",\"field\":\"color\"},\"hatch_alpha\":{\"type\":\"value\",\"value\":0.1}}},\"muted_glyph\":{\"type\":\"object\",\"name\":\"Scatter\",\"id\":\"p1043\",\"attributes\":{\"x\":{\"type\":\"field\",\"field\":\"x\"},\"y\":{\"type\":\"field\",\"field\":\"y\"},\"size\":{\"type\":\"value\",\"value\":10},\"line_color\":{\"type\":\"field\",\"field\":\"color\"},\"line_alpha\":{\"type\":\"value\",\"value\":0.2},\"fill_color\":{\"type\":\"field\",\"field\":\"color\"},\"fill_alpha\":{\"type\":\"value\",\"value\":0.2},\"hatch_color\":{\"type\":\"field\",\"field\":\"color\"},\"hatch_alpha\":{\"type\":\"value\",\"value\":0.2}}}}}],\"toolbar\":{\"type\":\"object\",\"name\":\"Toolbar\",\"id\":\"p1012\",\"attributes\":{\"tools\":[{\"type\":\"object\",\"name\":\"PanTool\",\"id\":\"p1025\"},{\"type\":\"object\",\"name\":\"WheelZoomTool\",\"id\":\"p1026\",\"attributes\":{\"renderers\":\"auto\"}},{\"type\":\"object\",\"name\":\"BoxZoomTool\",\"id\":\"p1027\",\"attributes\":{\"overlay\":{\"type\":\"object\",\"name\":\"BoxAnnotation\",\"id\":\"p1028\",\"attributes\":{\"syncable\":false,\"line_color\":\"black\",\"line_alpha\":1.0,\"line_width\":2,\"line_dash\":[4,4],\"fill_color\":\"lightgrey\",\"fill_alpha\":0.5,\"level\":\"overlay\",\"visible\":false,\"left\":{\"type\":\"number\",\"value\":\"nan\"},\"right\":{\"type\":\"number\",\"value\":\"nan\"},\"top\":{\"type\":\"number\",\"value\":\"nan\"},\"bottom\":{\"type\":\"number\",\"value\":\"nan\"},\"left_units\":\"canvas\",\"right_units\":\"canvas\",\"top_units\":\"canvas\",\"bottom_units\":\"canvas\",\"handles\":{\"type\":\"object\",\"name\":\"BoxInteractionHandles\",\"id\":\"p1034\",\"attributes\":{\"all\":{\"type\":\"object\",\"name\":\"AreaVisuals\",\"id\":\"p1033\",\"attributes\":{\"fill_color\":\"white\",\"hover_fill_color\":\"lightgray\"}}}}}}}},{\"type\":\"object\",\"name\":\"SaveTool\",\"id\":\"p1035\"},{\"type\":\"object\",\"name\":\"ResetTool\",\"id\":\"p1036\"},{\"type\":\"object\",\"name\":\"HelpTool\",\"id\":\"p1037\"},{\"type\":\"object\",\"name\":\"HoverTool\",\"id\":\"p1047\",\"attributes\":{\"renderers\":\"auto\",\"tooltips\":[[\"token\",\"@token\"]]}}],\"active_scroll\":{\"id\":\"p1026\"}}},\"left\":[{\"type\":\"object\",\"name\":\"LinearAxis\",\"id\":\"p1020\",\"attributes\":{\"ticker\":{\"type\":\"object\",\"name\":\"BasicTicker\",\"id\":\"p1021\",\"attributes\":{\"mantissas\":[1,2,5]}},\"formatter\":{\"type\":\"object\",\"name\":\"BasicTickFormatter\",\"id\":\"p1022\"},\"axis_label_standoff\":10,\"axis_label_text_color\":\"#E0E0E0\",\"axis_label_text_font\":\"Helvetica\",\"axis_label_text_font_size\":\"1.25em\",\"axis_label_text_font_style\":\"normal\",\"major_label_policy\":{\"type\":\"object\",\"name\":\"AllLabels\",\"id\":\"p1023\"},\"major_label_text_color\":\"#E0E0E0\",\"major_label_text_font\":\"Helvetica\",\"major_label_text_font_size\":\"1.025em\",\"axis_line_color\":\"#E0E0E0\",\"axis_line_alpha\":0,\"major_tick_line_color\":\"#E0E0E0\",\"major_tick_line_alpha\":0,\"minor_tick_line_color\":\"#E0E0E0\",\"minor_tick_line_alpha\":0}}],\"below\":[{\"type\":\"object\",\"name\":\"LinearAxis\",\"id\":\"p1015\",\"attributes\":{\"ticker\":{\"type\":\"object\",\"name\":\"BasicTicker\",\"id\":\"p1016\",\"attributes\":{\"mantissas\":[1,2,5]}},\"formatter\":{\"type\":\"object\",\"name\":\"BasicTickFormatter\",\"id\":\"p1017\"},\"axis_label_standoff\":10,\"axis_label_text_color\":\"#E0E0E0\",\"axis_label_text_font\":\"Helvetica\",\"axis_label_text_font_size\":\"1.25em\",\"axis_label_text_font_style\":\"normal\",\"major_label_policy\":{\"type\":\"object\",\"name\":\"AllLabels\",\"id\":\"p1018\"},\"major_label_text_color\":\"#E0E0E0\",\"major_label_text_font\":\"Helvetica\",\"major_label_text_font_size\":\"1.025em\",\"axis_line_color\":\"#E0E0E0\",\"axis_line_alpha\":0,\"major_tick_line_color\":\"#E0E0E0\",\"major_tick_line_alpha\":0,\"minor_tick_line_color\":\"#E0E0E0\",\"minor_tick_line_alpha\":0}}],\"center\":[{\"type\":\"object\",\"name\":\"Grid\",\"id\":\"p1019\",\"attributes\":{\"axis\":{\"id\":\"p1015\"},\"grid_line_color\":\"#E0E0E0\",\"grid_line_alpha\":0.25}},{\"type\":\"object\",\"name\":\"Grid\",\"id\":\"p1024\",\"attributes\":{\"dimension\":1,\"axis\":{\"id\":\"p1020\"},\"grid_line_color\":\"#E0E0E0\",\"grid_line_alpha\":0.25}}],\"background_fill_color\":\"#20262B\",\"border_fill_color\":\"#15191C\"}}]}};\n  const render_items = [{\"docid\":\"bda5ae98-8c60-42a2-9a65-9323cc3990db\",\"roots\":{\"p1004\":\"d899b9ea-eede-4f04-97c2-a511805663f2\"},\"root_ids\":[\"p1004\"]}];\n  void root.Bokeh.embed.embed_items_notebook(docs_json, render_items);\n  }\n  if (root.Bokeh !== undefined) {\n    embed_document(root);\n  } else {\n    let attempts = 0;\n    const timer = setInterval(function(root) {\n      if (root.Bokeh !== undefined) {\n        clearInterval(timer);\n        embed_document(root);\n      } else {\n        attempts++;\n        if (attempts > 100) {\n          clearInterval(timer);\n          console.log(\"Bokeh: ERROR: Unable to run BokehJS code because BokehJS library is missing\");\n        }\n      }\n    }, 10, root)\n  }\n})(window);",
      "application/vnd.bokehjs_exec.v0+json": ""
     },
     "metadata": {
      "application/vnd.bokehjs_exec.v0+json": {
       "id": "p1004"
      }
     },
     "output_type": "display_data"
    },
    {
     "data": {
      "text/plain": "figure(id='p1004', ...)",
      "text/html": "<div style=\"display: table;\"><div style=\"display: table-row;\"><div style=\"display: table-cell;\"><b title=\"bokeh.plotting._figure.figure\">figure</b>(</div><div style=\"display: table-cell;\">id&nbsp;=&nbsp;'p1004', <span id=\"p1051\" style=\"cursor: pointer;\">&hellip;)</span></div></div><div class=\"p1050\" style=\"display: none;\"><div style=\"display: table-cell;\"></div><div style=\"display: table-cell;\">above&nbsp;=&nbsp;[],</div></div><div class=\"p1050\" style=\"display: none;\"><div style=\"display: table-cell;\"></div><div style=\"display: table-cell;\">align&nbsp;=&nbsp;'auto',</div></div><div class=\"p1050\" style=\"display: none;\"><div style=\"display: table-cell;\"></div><div style=\"display: table-cell;\">aspect_ratio&nbsp;=&nbsp;None,</div></div><div class=\"p1050\" style=\"display: none;\"><div style=\"display: table-cell;\"></div><div style=\"display: table-cell;\">aspect_scale&nbsp;=&nbsp;1,</div></div><div class=\"p1050\" style=\"display: none;\"><div style=\"display: table-cell;\"></div><div style=\"display: table-cell;\">attribution&nbsp;=&nbsp;[],</div></div><div class=\"p1050\" style=\"display: none;\"><div style=\"display: table-cell;\"></div><div style=\"display: table-cell;\">background_fill_alpha&nbsp;=&nbsp;1.0,</div></div><div class=\"p1050\" style=\"display: none;\"><div style=\"display: table-cell;\"></div><div style=\"display: table-cell;\">background_fill_color&nbsp;=&nbsp;'#ffffff',</div></div><div class=\"p1050\" style=\"display: none;\"><div style=\"display: table-cell;\"></div><div style=\"display: table-cell;\">below&nbsp;=&nbsp;[LinearAxis(id='p1015', ...)],</div></div><div class=\"p1050\" style=\"display: none;\"><div style=\"display: table-cell;\"></div><div style=\"display: table-cell;\">border_fill_alpha&nbsp;=&nbsp;1.0,</div></div><div class=\"p1050\" style=\"display: none;\"><div style=\"display: table-cell;\"></div><div style=\"display: table-cell;\">border_fill_color&nbsp;=&nbsp;'#ffffff',</div></div><div class=\"p1050\" style=\"display: none;\"><div style=\"display: table-cell;\"></div><div style=\"display: table-cell;\">center&nbsp;=&nbsp;[Grid(id='p1019', ...), Grid(id='p1024', ...)],</div></div><div class=\"p1050\" style=\"display: none;\"><div style=\"display: table-cell;\"></div><div style=\"display: table-cell;\">context_menu&nbsp;=&nbsp;None,</div></div><div class=\"p1050\" style=\"display: none;\"><div style=\"display: table-cell;\"></div><div style=\"display: table-cell;\">css_classes&nbsp;=&nbsp;[],</div></div><div class=\"p1050\" style=\"display: none;\"><div style=\"display: table-cell;\"></div><div style=\"display: table-cell;\">css_variables&nbsp;=&nbsp;{},</div></div><div class=\"p1050\" style=\"display: none;\"><div style=\"display: table-cell;\"></div><div style=\"display: table-cell;\">disabled&nbsp;=&nbsp;False,</div></div><div class=\"p1050\" style=\"display: none;\"><div style=\"display: table-cell;\"></div><div style=\"display: table-cell;\">elements&nbsp;=&nbsp;[],</div></div><div class=\"p1050\" style=\"display: none;\"><div style=\"display: table-cell;\"></div><div style=\"display: table-cell;\">extra_x_ranges&nbsp;=&nbsp;{},</div></div><div class=\"p1050\" style=\"display: none;\"><div style=\"display: table-cell;\"></div><div style=\"display: table-cell;\">extra_x_scales&nbsp;=&nbsp;{},</div></div><div class=\"p1050\" style=\"display: none;\"><div style=\"display: table-cell;\"></div><div style=\"display: table-cell;\">extra_y_ranges&nbsp;=&nbsp;{},</div></div><div class=\"p1050\" style=\"display: none;\"><div style=\"display: table-cell;\"></div><div style=\"display: table-cell;\">extra_y_scales&nbsp;=&nbsp;{},</div></div><div class=\"p1050\" style=\"display: none;\"><div style=\"display: table-cell;\"></div><div style=\"display: table-cell;\">flow_mode&nbsp;=&nbsp;'block',</div></div><div class=\"p1050\" style=\"display: none;\"><div style=\"display: table-cell;\"></div><div style=\"display: table-cell;\">frame_align&nbsp;=&nbsp;True,</div></div><div class=\"p1050\" style=\"display: none;\"><div style=\"display: table-cell;\"></div><div style=\"display: table-cell;\">frame_height&nbsp;=&nbsp;None,</div></div><div class=\"p1050\" style=\"display: none;\"><div style=\"display: table-cell;\"></div><div style=\"display: table-cell;\">frame_width&nbsp;=&nbsp;None,</div></div><div class=\"p1050\" style=\"display: none;\"><div style=\"display: table-cell;\"></div><div style=\"display: table-cell;\">height&nbsp;=&nbsp;400,</div></div><div class=\"p1050\" style=\"display: none;\"><div style=\"display: table-cell;\"></div><div style=\"display: table-cell;\">height_policy&nbsp;=&nbsp;'auto',</div></div><div class=\"p1050\" style=\"display: none;\"><div style=\"display: table-cell;\"></div><div style=\"display: table-cell;\">hidpi&nbsp;=&nbsp;True,</div></div><div class=\"p1050\" style=\"display: none;\"><div style=\"display: table-cell;\"></div><div style=\"display: table-cell;\">hold_render&nbsp;=&nbsp;False,</div></div><div class=\"p1050\" style=\"display: none;\"><div style=\"display: table-cell;\"></div><div style=\"display: table-cell;\">js_event_callbacks&nbsp;=&nbsp;{},</div></div><div class=\"p1050\" style=\"display: none;\"><div style=\"display: table-cell;\"></div><div style=\"display: table-cell;\">js_property_callbacks&nbsp;=&nbsp;{},</div></div><div class=\"p1050\" style=\"display: none;\"><div style=\"display: table-cell;\"></div><div style=\"display: table-cell;\">left&nbsp;=&nbsp;[LinearAxis(id='p1020', ...)],</div></div><div class=\"p1050\" style=\"display: none;\"><div style=\"display: table-cell;\"></div><div style=\"display: table-cell;\">lod_factor&nbsp;=&nbsp;10,</div></div><div class=\"p1050\" style=\"display: none;\"><div style=\"display: table-cell;\"></div><div style=\"display: table-cell;\">lod_interval&nbsp;=&nbsp;300,</div></div><div class=\"p1050\" style=\"display: none;\"><div style=\"display: table-cell;\"></div><div style=\"display: table-cell;\">lod_threshold&nbsp;=&nbsp;2000,</div></div><div class=\"p1050\" style=\"display: none;\"><div style=\"display: table-cell;\"></div><div style=\"display: table-cell;\">lod_timeout&nbsp;=&nbsp;500,</div></div><div class=\"p1050\" style=\"display: none;\"><div style=\"display: table-cell;\"></div><div style=\"display: table-cell;\">margin&nbsp;=&nbsp;None,</div></div><div class=\"p1050\" style=\"display: none;\"><div style=\"display: table-cell;\"></div><div style=\"display: table-cell;\">match_aspect&nbsp;=&nbsp;False,</div></div><div class=\"p1050\" style=\"display: none;\"><div style=\"display: table-cell;\"></div><div style=\"display: table-cell;\">max_height&nbsp;=&nbsp;None,</div></div><div class=\"p1050\" style=\"display: none;\"><div style=\"display: table-cell;\"></div><div style=\"display: table-cell;\">max_width&nbsp;=&nbsp;None,</div></div><div class=\"p1050\" style=\"display: none;\"><div style=\"display: table-cell;\"></div><div style=\"display: table-cell;\">min_border&nbsp;=&nbsp;5,</div></div><div class=\"p1050\" style=\"display: none;\"><div style=\"display: table-cell;\"></div><div style=\"display: table-cell;\">min_border_bottom&nbsp;=&nbsp;None,</div></div><div class=\"p1050\" style=\"display: none;\"><div style=\"display: table-cell;\"></div><div style=\"display: table-cell;\">min_border_left&nbsp;=&nbsp;None,</div></div><div class=\"p1050\" style=\"display: none;\"><div style=\"display: table-cell;\"></div><div style=\"display: table-cell;\">min_border_right&nbsp;=&nbsp;None,</div></div><div class=\"p1050\" style=\"display: none;\"><div style=\"display: table-cell;\"></div><div style=\"display: table-cell;\">min_border_top&nbsp;=&nbsp;None,</div></div><div class=\"p1050\" style=\"display: none;\"><div style=\"display: table-cell;\"></div><div style=\"display: table-cell;\">min_height&nbsp;=&nbsp;None,</div></div><div class=\"p1050\" style=\"display: none;\"><div style=\"display: table-cell;\"></div><div style=\"display: table-cell;\">min_width&nbsp;=&nbsp;None,</div></div><div class=\"p1050\" style=\"display: none;\"><div style=\"display: table-cell;\"></div><div style=\"display: table-cell;\">name&nbsp;=&nbsp;None,</div></div><div class=\"p1050\" style=\"display: none;\"><div style=\"display: table-cell;\"></div><div style=\"display: table-cell;\">outline_line_alpha&nbsp;=&nbsp;1.0,</div></div><div class=\"p1050\" style=\"display: none;\"><div style=\"display: table-cell;\"></div><div style=\"display: table-cell;\">outline_line_cap&nbsp;=&nbsp;'butt',</div></div><div class=\"p1050\" style=\"display: none;\"><div style=\"display: table-cell;\"></div><div style=\"display: table-cell;\">outline_line_color&nbsp;=&nbsp;'#e5e5e5',</div></div><div class=\"p1050\" style=\"display: none;\"><div style=\"display: table-cell;\"></div><div style=\"display: table-cell;\">outline_line_dash&nbsp;=&nbsp;[],</div></div><div class=\"p1050\" style=\"display: none;\"><div style=\"display: table-cell;\"></div><div style=\"display: table-cell;\">outline_line_dash_offset&nbsp;=&nbsp;0,</div></div><div class=\"p1050\" style=\"display: none;\"><div style=\"display: table-cell;\"></div><div style=\"display: table-cell;\">outline_line_join&nbsp;=&nbsp;'bevel',</div></div><div class=\"p1050\" style=\"display: none;\"><div style=\"display: table-cell;\"></div><div style=\"display: table-cell;\">outline_line_width&nbsp;=&nbsp;1,</div></div><div class=\"p1050\" style=\"display: none;\"><div style=\"display: table-cell;\"></div><div style=\"display: table-cell;\">output_backend&nbsp;=&nbsp;'canvas',</div></div><div class=\"p1050\" style=\"display: none;\"><div style=\"display: table-cell;\"></div><div style=\"display: table-cell;\">renderers&nbsp;=&nbsp;[GlyphRenderer(id='p1044', ...)],</div></div><div class=\"p1050\" style=\"display: none;\"><div style=\"display: table-cell;\"></div><div style=\"display: table-cell;\">reset_policy&nbsp;=&nbsp;'standard',</div></div><div class=\"p1050\" style=\"display: none;\"><div style=\"display: table-cell;\"></div><div style=\"display: table-cell;\">resizable&nbsp;=&nbsp;False,</div></div><div class=\"p1050\" style=\"display: none;\"><div style=\"display: table-cell;\"></div><div style=\"display: table-cell;\">right&nbsp;=&nbsp;[],</div></div><div class=\"p1050\" style=\"display: none;\"><div style=\"display: table-cell;\"></div><div style=\"display: table-cell;\">sizing_mode&nbsp;=&nbsp;None,</div></div><div class=\"p1050\" style=\"display: none;\"><div style=\"display: table-cell;\"></div><div style=\"display: table-cell;\">styles&nbsp;=&nbsp;{},</div></div><div class=\"p1050\" style=\"display: none;\"><div style=\"display: table-cell;\"></div><div style=\"display: table-cell;\">stylesheets&nbsp;=&nbsp;[],</div></div><div class=\"p1050\" style=\"display: none;\"><div style=\"display: table-cell;\"></div><div style=\"display: table-cell;\">subscribed_events&nbsp;=&nbsp;PropertyValueSet(),</div></div><div class=\"p1050\" style=\"display: none;\"><div style=\"display: table-cell;\"></div><div style=\"display: table-cell;\">syncable&nbsp;=&nbsp;True,</div></div><div class=\"p1050\" style=\"display: none;\"><div style=\"display: table-cell;\"></div><div style=\"display: table-cell;\">tags&nbsp;=&nbsp;[],</div></div><div class=\"p1050\" style=\"display: none;\"><div style=\"display: table-cell;\"></div><div style=\"display: table-cell;\">title&nbsp;=&nbsp;Title(id='p1011', ...),</div></div><div class=\"p1050\" style=\"display: none;\"><div style=\"display: table-cell;\"></div><div style=\"display: table-cell;\">title_location&nbsp;=&nbsp;'above',</div></div><div class=\"p1050\" style=\"display: none;\"><div style=\"display: table-cell;\"></div><div style=\"display: table-cell;\">toolbar&nbsp;=&nbsp;Toolbar(id='p1012', ...),</div></div><div class=\"p1050\" style=\"display: none;\"><div style=\"display: table-cell;\"></div><div style=\"display: table-cell;\">toolbar_inner&nbsp;=&nbsp;False,</div></div><div class=\"p1050\" style=\"display: none;\"><div style=\"display: table-cell;\"></div><div style=\"display: table-cell;\">toolbar_location&nbsp;=&nbsp;'right',</div></div><div class=\"p1050\" style=\"display: none;\"><div style=\"display: table-cell;\"></div><div style=\"display: table-cell;\">toolbar_sticky&nbsp;=&nbsp;True,</div></div><div class=\"p1050\" style=\"display: none;\"><div style=\"display: table-cell;\"></div><div style=\"display: table-cell;\">visible&nbsp;=&nbsp;True,</div></div><div class=\"p1050\" style=\"display: none;\"><div style=\"display: table-cell;\"></div><div style=\"display: table-cell;\">width&nbsp;=&nbsp;600,</div></div><div class=\"p1050\" style=\"display: none;\"><div style=\"display: table-cell;\"></div><div style=\"display: table-cell;\">width_policy&nbsp;=&nbsp;'auto',</div></div><div class=\"p1050\" style=\"display: none;\"><div style=\"display: table-cell;\"></div><div style=\"display: table-cell;\">x_range&nbsp;=&nbsp;DataRange1d(id='p1005', ...),</div></div><div class=\"p1050\" style=\"display: none;\"><div style=\"display: table-cell;\"></div><div style=\"display: table-cell;\">x_scale&nbsp;=&nbsp;LinearScale(id='p1013', ...),</div></div><div class=\"p1050\" style=\"display: none;\"><div style=\"display: table-cell;\"></div><div style=\"display: table-cell;\">y_range&nbsp;=&nbsp;DataRange1d(id='p1006', ...),</div></div><div class=\"p1050\" style=\"display: none;\"><div style=\"display: table-cell;\"></div><div style=\"display: table-cell;\">y_scale&nbsp;=&nbsp;LinearScale(id='p1014', ...))</div></div></div>\n<script>\n(function() {\n  let expanded = false;\n  const ellipsis = document.getElementById(\"p1051\");\n  ellipsis.addEventListener(\"click\", function() {\n    const rows = document.getElementsByClassName(\"p1050\");\n    for (let i = 0; i < rows.length; i++) {\n      const el = rows[i];\n      el.style.display = expanded ? \"none\" : \"table-row\";\n    }\n    ellipsis.innerHTML = expanded ? \"&hellip;)\" : \"&lsaquo;&lsaquo;&lsaquo;\";\n    expanded = !expanded;\n  });\n})();\n</script>\n"
     },
     "execution_count": 22,
     "metadata": {},
     "output_type": "execute_result"
    }
   ],
   "source": [
    "draw_vectors(word_vectors_pca[:, 0], word_vectors_pca[:, 1], token=words)\n",
    "\n",
    "# hover a mouse over there and see if you can identify the clusters"
   ]
  },
  {
   "cell_type": "markdown",
   "metadata": {
    "id": "_6ihKZm6XHtg"
   },
   "source": [
    "### Визуализация соседей с помощью t-SNE\n",
    "PCA хорош для анализа данных, но это строго линейный метод, и он способен улавливать только грубую высокоуровневую структуру данных.\n",
    "\n",
    "Если же мы хотим сосредоточиться на том, чтобы соседние точки данных оставались рядом, можно использовать t-SNE, который сам по себе является методом векторизации (embedding). Здесь можно __[узнать больше о t-SNE](https://distill.pub/2016/misread-tsne/)__.\n",
    "\n",
    "t-SNE (t-distributed Stochastic Neighbor Embedding) — это метод нелинейного снижения размерности, который лучше всего подходит для визуализации высокоразмерных данных. Он работает, моделируя вероятность того, что объекты будут соседями в исходном пространстве, и затем пытается сохранить эти вероятности в проекции меньшей размерности. Основная идея t-SNE — это сохранение локальных структур данных, что делает его полезным для кластеризации и анализа сложных структур."
   ]
  },
  {
   "cell_type": "code",
   "execution_count": 23,
   "metadata": {
    "id": "HbBcxzN5XHtg",
    "ExecuteTime": {
     "end_time": "2024-10-05T15:37:59.598144Z",
     "start_time": "2024-10-05T15:37:57.675629Z"
    }
   },
   "outputs": [],
   "source": [
    "from sklearn.manifold import TSNE\n",
    "\n",
    "# map word vectors onto 2d plane with TSNE. hint: don't panic it may take a minute or two to fit.\n",
    "# normalize them as just lke with pca\n",
    "\n",
    "\n",
    "word_tsne = TSNE(n_components=2).fit_transform(word_vectors)\n",
    "word_tsne = (word_tsne - word_tsne.mean(axis=0)) / word_tsne.std(axis=0)"
   ]
  },
  {
   "cell_type": "code",
   "execution_count": 24,
   "metadata": {
    "collapsed": true,
    "scrolled": false,
    "id": "huFK9fecXHtg",
    "ExecuteTime": {
     "end_time": "2024-10-05T15:37:59.626049Z",
     "start_time": "2024-10-05T15:37:59.599058Z"
    }
   },
   "outputs": [
    {
     "data": {
      "text/html": "\n  <div id=\"f0b7b132-5175-4813-a4ed-746188ae23cc\" data-root-id=\"p1055\" style=\"display: contents;\"></div>\n"
     },
     "metadata": {},
     "output_type": "display_data"
    },
    {
     "data": {
      "application/javascript": "(function(root) {\n  function embed_document(root) {\n  const docs_json = {\"f83193ac-dee7-4bc1-b91b-1589c77022a4\":{\"version\":\"3.6.0\",\"title\":\"Bokeh Application\",\"roots\":[{\"type\":\"object\",\"name\":\"Figure\",\"id\":\"p1055\",\"attributes\":{\"height\":400,\"x_range\":{\"type\":\"object\",\"name\":\"DataRange1d\",\"id\":\"p1056\"},\"y_range\":{\"type\":\"object\",\"name\":\"DataRange1d\",\"id\":\"p1057\"},\"x_scale\":{\"type\":\"object\",\"name\":\"LinearScale\",\"id\":\"p1064\"},\"y_scale\":{\"type\":\"object\",\"name\":\"LinearScale\",\"id\":\"p1065\"},\"title\":{\"type\":\"object\",\"name\":\"Title\",\"id\":\"p1062\",\"attributes\":{\"text_color\":\"#E0E0E0\",\"text_font\":\"Helvetica\",\"text_font_size\":\"1.15em\"}},\"outline_line_color\":\"#E0E0E0\",\"outline_line_alpha\":0.25,\"renderers\":[{\"type\":\"object\",\"name\":\"GlyphRenderer\",\"id\":\"p1095\",\"attributes\":{\"data_source\":{\"type\":\"object\",\"name\":\"ColumnDataSource\",\"id\":\"p1052\",\"attributes\":{\"selected\":{\"type\":\"object\",\"name\":\"Selection\",\"id\":\"p1053\",\"attributes\":{\"indices\":[],\"line_indices\":[]}},\"selection_policy\":{\"type\":\"object\",\"name\":\"UnionRenderers\",\"id\":\"p1054\"},\"data\":{\"type\":\"map\",\"entries\":[[\"x\",{\"type\":\"ndarray\",\"array\":{\"type\":\"bytes\",\"data\":\"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\"},\"shape\":[1000],\"dtype\":\"float32\",\"order\":\"little\"}],[\"y\",{\"type\":\"ndarray\",\"array\":{\"type\":\"bytes\",\"data\":\"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\"},\"shape\":[1000],\"dtype\":\"float32\",\"order\":\"little\"}],[\"color\",[\"green\",\"green\",\"green\",\"green\",\"green\",\"green\",\"green\",\"green\",\"green\",\"green\",\"green\",\"green\",\"green\",\"green\",\"green\",\"green\",\"green\",\"green\",\"green\",\"green\",\"green\",\"green\",\"green\",\"green\",\"green\",\"green\",\"green\",\"green\",\"green\",\"green\",\"green\",\"green\",\"green\",\"green\",\"green\",\"green\",\"green\",\"green\",\"green\",\"green\",\"green\",\"green\",\"green\",\"green\",\"green\",\"green\",\"green\",\"green\",\"green\",\"green\",\"green\",\"green\",\"green\",\"green\",\"green\",\"green\",\"green\",\"green\",\"green\",\"green\",\"green\",\"green\",\"green\",\"green\",\"green\",\"green\",\"green\",\"green\",\"green\",\"green\",\"green\",\"green\",\"green\",\"green\",\"green\",\"green\",\"green\",\"green\",\"green\",\"green\",\"green\",\"green\",\"green\",\"green\",\"green\",\"green\",\"green\",\"green\",\"green\",\"green\",\"green\",\"green\",\"green\",\"green\",\"green\",\"green\",\"green\",\"green\",\"green\",\"green\",\"green\",\"green\",\"green\",\"green\",\"green\",\"green\",\"green\",\"green\",\"green\",\"green\",\"green\",\"green\",\"green\",\"green\",\"green\",\"green\",\"green\",\"green\",\"green\",\"green\",\"green\",\"green\",\"green\",\"green\",\"green\",\"green\",\"green\",\"green\",\"green\",\"green\",\"green\",\"green\",\"green\",\"green\",\"green\",\"green\",\"green\",\"green\",\"green\",\"green\",\"green\",\"green\",\"green\",\"green\",\"green\",\"green\",\"green\",\"green\",\"green\",\"green\",\"green\",\"green\",\"green\",\"green\",\"green\",\"green\",\"green\",\"green\",\"green\",\"green\",\"green\",\"green\",\"green\",\"green\",\"green\",\"green\",\"green\",\"green\",\"green\",\"green\",\"green\",\"green\",\"green\",\"green\",\"green\",\"green\",\"green\",\"green\",\"green\",\"green\",\"green\",\"green\",\"green\",\"green\",\"green\",\"green\",\"green\",\"green\",\"green\",\"green\",\"green\",\"green\",\"green\",\"green\",\"green\",\"green\",\"green\",\"green\",\"green\",\"green\",\"green\",\"green\",\"green\",\"green\",\"green\",\"green\",\"green\",\"green\",\"green\",\"green\",\"green\",\"green\",\"green\",\"green\",\"green\",\"green\",\"green\",\"green\",\"green\",\"green\",\"green\",\"green\",\"green\",\"green\",\"green\",\"green\",\"green\",\"green\",\"green\",\"green\",\"green\",\"green\",\"green\",\"green\",\"green\",\"green\",\"green\",\"green\",\"green\",\"green\",\"green\",\"green\",\"green\",\"green\",\"green\",\"green\",\"green\",\"green\",\"green\",\"green\",\"green\",\"green\",\"green\",\"green\",\"green\",\"green\",\"green\",\"green\",\"green\",\"green\",\"green\",\"green\",\"green\",\"green\",\"green\",\"green\",\"green\",\"green\",\"green\",\"green\",\"green\",\"green\",\"green\",\"green\",\"green\",\"green\",\"green\",\"green\",\"green\",\"green\",\"green\",\"green\",\"green\",\"green\",\"green\",\"green\",\"green\",\"green\",\"green\",\"green\",\"green\",\"green\",\"green\",\"green\",\"green\",\"green\",\"green\",\"green\",\"green\",\"green\",\"green\",\"green\",\"green\",\"green\",\"green\",\"green\",\"green\",\"green\",\"green\",\"green\",\"green\",\"green\",\"green\",\"green\",\"green\",\"green\",\"green\",\"green\",\"green\",\"green\",\"green\",\"green\",\"green\",\"green\",\"green\",\"green\",\"green\",\"green\",\"green\",\"green\",\"green\",\"green\",\"green\",\"green\",\"green\",\"green\",\"green\",\"green\",\"green\",\"green\",\"green\",\"green\",\"green\",\"green\",\"green\",\"green\",\"green\",\"green\",\"green\",\"green\",\"green\",\"green\",\"green\",\"green\",\"green\",\"green\",\"green\",\"green\",\"green\",\"green\",\"green\",\"green\",\"green\",\"green\",\"green\",\"green\",\"green\",\"green\",\"green\",\"green\",\"green\",\"green\",\"green\",\"green\",\"green\",\"green\",\"green\",\"green\",\"green\",\"green\",\"green\",\"green\",\"green\",\"green\",\"green\",\"green\",\"green\",\"green\",\"green\",\"green\",\"green\",\"green\",\"green\",\"green\",\"green\",\"green\",\"green\",\"green\",\"green\",\"green\",\"green\",\"green\",\"green\",\"green\",\"green\",\"green\",\"green\",\"green\",\"green\",\"green\",\"green\",\"green\",\"green\",\"green\",\"green\",\"green\",\"green\",\"green\",\"green\",\"green\",\"green\",\"green\",\"green\",\"green\",\"green\",\"green\",\"green\",\"green\",\"green\",\"green\",\"green\",\"green\",\"green\",\"green\",\"green\",\"green\",\"green\",\"green\",\"green\",\"green\",\"green\",\"green\",\"green\",\"green\",\"green\",\"green\",\"green\",\"green\",\"green\",\"green\",\"green\",\"green\",\"green\",\"green\",\"green\",\"green\",\"green\",\"green\",\"green\",\"green\",\"green\",\"green\",\"green\",\"green\",\"green\",\"green\",\"green\",\"green\",\"green\",\"green\",\"green\",\"green\",\"green\",\"green\",\"green\",\"green\",\"green\",\"green\",\"green\",\"green\",\"green\",\"green\",\"green\",\"green\",\"green\",\"green\",\"green\",\"green\",\"green\",\"green\",\"green\",\"green\",\"green\",\"green\",\"green\",\"green\",\"green\",\"green\",\"green\",\"green\",\"green\",\"green\",\"green\",\"green\",\"green\",\"green\",\"green\",\"green\",\"green\",\"green\",\"green\",\"green\",\"green\",\"green\",\"green\",\"green\",\"green\",\"green\",\"green\",\"green\",\"green\",\"green\",\"green\",\"green\",\"green\",\"green\",\"green\",\"green\",\"green\",\"green\",\"green\",\"green\",\"green\",\"green\",\"green\",\"green\",\"green\",\"green\",\"green\",\"green\",\"green\",\"green\",\"green\",\"green\",\"green\",\"green\",\"green\",\"green\",\"green\",\"green\",\"green\",\"green\",\"green\",\"green\",\"green\",\"green\",\"green\",\"green\",\"green\",\"green\",\"green\",\"green\",\"green\",\"green\",\"green\",\"green\",\"green\",\"green\",\"green\",\"green\",\"green\",\"green\",\"green\",\"green\",\"green\",\"green\",\"green\",\"green\",\"green\",\"green\",\"green\",\"green\",\"green\",\"green\",\"green\",\"green\",\"green\",\"green\",\"green\",\"green\",\"green\",\"green\",\"green\",\"green\",\"green\",\"green\",\"green\",\"green\",\"green\",\"green\",\"green\",\"green\",\"green\",\"green\",\"green\",\"green\",\"green\",\"green\",\"green\",\"green\",\"green\",\"green\",\"green\",\"green\",\"green\",\"green\",\"green\",\"green\",\"green\",\"green\",\"green\",\"green\",\"green\",\"green\",\"green\",\"green\",\"green\",\"green\",\"green\",\"green\",\"green\",\"green\",\"green\",\"green\",\"green\",\"green\",\"green\",\"green\",\"green\",\"green\",\"green\",\"green\",\"green\",\"green\",\"green\",\"green\",\"green\",\"green\",\"green\",\"green\",\"green\",\"green\",\"green\",\"green\",\"green\",\"green\",\"green\",\"green\",\"green\",\"green\",\"green\",\"green\",\"green\",\"green\",\"green\",\"green\",\"green\",\"green\",\"green\",\"green\",\"green\",\"green\",\"green\",\"green\",\"green\",\"green\",\"green\",\"green\",\"green\",\"green\",\"green\",\"green\",\"green\",\"green\",\"green\",\"green\",\"green\",\"green\",\"green\",\"green\",\"green\",\"green\",\"green\",\"green\",\"green\",\"green\",\"green\",\"green\",\"green\",\"green\",\"green\",\"green\",\"green\",\"green\",\"green\",\"green\",\"green\",\"green\",\"green\",\"green\",\"green\",\"green\",\"green\",\"green\",\"green\",\"green\",\"green\",\"green\",\"green\",\"green\",\"green\",\"green\",\"green\",\"green\",\"green\",\"green\",\"green\",\"green\",\"green\",\"green\",\"green\",\"green\",\"green\",\"green\",\"green\",\"green\",\"green\",\"green\",\"green\",\"green\",\"green\",\"green\",\"green\",\"green\",\"green\",\"green\",\"green\",\"green\",\"green\",\"green\",\"green\",\"green\",\"green\",\"green\",\"green\",\"green\",\"green\",\"green\",\"green\",\"green\",\"green\",\"green\",\"green\",\"green\",\"green\",\"green\",\"green\",\"green\",\"green\",\"green\",\"green\",\"green\",\"green\",\"green\",\"green\",\"green\",\"green\",\"green\",\"green\",\"green\",\"green\",\"green\",\"green\",\"green\",\"green\",\"green\",\"green\",\"green\",\"green\",\"green\",\"green\",\"green\",\"green\",\"green\",\"green\",\"green\",\"green\",\"green\",\"green\",\"green\",\"green\",\"green\",\"green\",\"green\",\"green\",\"green\",\"green\",\"green\",\"green\",\"green\",\"green\",\"green\",\"green\",\"green\",\"green\",\"green\",\"green\",\"green\",\"green\",\"green\",\"green\",\"green\",\"green\",\"green\",\"green\",\"green\",\"green\",\"green\",\"green\",\"green\",\"green\",\"green\",\"green\",\"green\",\"green\",\"green\",\"green\",\"green\",\"green\",\"green\",\"green\",\"green\",\"green\",\"green\",\"green\",\"green\",\"green\",\"green\",\"green\",\"green\",\"green\",\"green\",\"green\",\"green\",\"green\",\"green\",\"green\",\"green\",\"green\",\"green\",\"green\",\"green\",\"green\",\"green\",\"green\",\"green\",\"green\",\"green\",\"green\",\"green\",\"green\",\"green\",\"green\",\"green\",\"green\",\"green\",\"green\",\"green\",\"green\",\"green\",\"green\",\"green\",\"green\",\"green\",\"green\",\"green\",\"green\",\"green\",\"green\",\"green\",\"green\",\"green\",\"green\",\"green\",\"green\",\"green\",\"green\",\"green\",\"green\",\"green\",\"green\",\"green\",\"green\",\"green\",\"green\",\"green\",\"green\",\"green\",\"green\",\"green\",\"green\",\"green\",\"green\",\"green\",\"green\",\"green\",\"green\",\"green\",\"green\",\"green\",\"green\",\"green\",\"green\",\"green\",\"green\",\"green\",\"green\",\"green\",\"green\",\"green\",\"green\",\"green\",\"green\",\"green\",\"green\",\"green\",\"green\",\"green\",\"green\",\"green\",\"green\",\"green\",\"green\",\"green\",\"green\",\"green\",\"green\",\"green\",\"green\",\"green\",\"green\",\"green\",\"green\",\"green\",\"green\",\"green\",\"green\",\"green\",\"green\",\"green\",\"green\",\"green\",\"green\",\"green\",\"green\",\"green\",\"green\",\"green\",\"green\",\"green\",\"green\",\"green\",\"green\",\"green\",\"green\",\"green\",\"green\",\"green\",\"green\",\"green\",\"green\",\"green\",\"green\",\"green\",\"green\",\"green\",\"green\",\"green\",\"green\",\"green\",\"green\",\"green\",\"green\",\"green\",\"green\",\"green\",\"green\",\"green\",\"green\",\"green\"]],[\"token\",[\"<user>\",\".\",\":\",\"rt\",\",\",\"<repeat>\",\"<hashtag>\",\"<number>\",\"<url>\",\"!\",\"i\",\"a\",\"\\\"\",\"the\",\"?\",\"you\",\"to\",\"(\",\"<allcaps>\",\"<elong>\",\")\",\"me\",\"de\",\"<smile>\",\"\\uff01\",\"que\",\"and\",\"\\u3002\",\"-\",\"my\",\"no\",\"\\u3001\",\"is\",\"it\",\"\\u2026\",\"in\",\"n\",\"for\",\"/\",\"of\",\"la\",\"'s\",\"*\",\"do\",\"n't\",\"that\",\"on\",\"y\",\"'\",\"e\",\"o\",\"u\",\"en\",\"this\",\"el\",\"so\",\"be\",\"'m\",\"with\",\"just\",\">\",\"your\",\"^\",\"like\",\"have\",\"te\",\"at\",\"\\uff1f\",\"love\",\"se\",\"are\",\"<\",\"m\",\"r\",\"if\",\"all\",\"b\",\"\\u30fb\",\"not\",\"but\",\"we\",\"es\",\"ya\",\"&\",\"follow\",\"up\",\"what\",\"get\",\"lol\",\"un\",\"\\u2665\",\"lo\",\"when\",\"was\",\"\\u201c\",\"\\u201d\",\"one\",\"por\",\"si\",\"out\",\"_\",\"mi\",\"can\",\"<sadface>\",\"\\u0645\\u0646\",\"\\u2661\",\"\\u00b4\",\"he\",\"con\",\"they\",\"now\",\"go\",\"\\u060c\",\"para\",\"los\",\"know\",\"haha\",\"good\",\"tu\",\"back\",\"~\",\"about\",\"new\",\";\",\"as\",\"day\",\"how\",\"who\",\"will\",\"want\",\"people\",\"yo\",\"eu\",\"from\",\"di\",\"time\",\"<heart>\",\"s\",\"aku\",\"da\",\"'re\",\"<lolface>\",\"una\",\"got\",\"las\",\"more\",\"x\",\"she\",\"today\",\"\\uff08\",\">>\",\"k\",\"by\",\"or\",\"\\u0641\\u064a\",\"\\uff65\",\"too\",\"le\",\"\\u00e9\",\"|\",\"[\",\"\\uff09\",\"]\",\"see\",\"why\",\"yg\",\"ca\",\"como\",\"her\",\"\\u2014\",\"q\",\"need\",\"an\",\"na\",\"\\u7b11\",\"there\",\"\\u03c9\",\"happy\",\"im\",\"mas\",\"je\",\"life\",\"really\",\"make\",\"yang\",\"shit\",\"think\",\"t\",\"\\u2764\",\"n\\u00e3o\",\"never\",\"some\",\"\\uff5e\",\"oh\",\"\\u2605\",\"did\",\"would\",\"del\",\"`\",\"d\",\"please\",\"via\",\"much\",\"fuck\",\"al\",\"dia\",\"$\",\"\\u0648\",\"right\",\"best\",\"c\",\"going\",\"\\u0627\\u0644\\u0644\\u0647\",\"pero\",\"only\",\"has\",\"\\u266a\",\"'ll\",\"twitter\",\"=\",\"hahaha\",\"its\",\"nn\",\"\\uff40\",\"\\u00bf\",\"am\",\"say\",\"<neutralface>\",\"them\",\"here\",\"\\u0644\\u0627\",\"off\",\"still\",\"dan\",\"+\",\"night\",\"w\",\"ada\",\"someone\",\"even\",\"then\",\"\\u2606\",\"ni\",\"come\",\"com\",\"always\",\"man\",\"'ve\",\"been\",\"his\",\"itu\",\"\\u0639\\u0644\\u0649\",\"-_-\",\"\\u263a\",\"over\",\"um\",\"\\u0645\\u0627\",\"hate\",\"girl\",\"ai\",\"had\",\"pra\",\"todo\",\"mais\",\"feel\",\"let\",\"ini\",\"because\",\"\\uff9f\",\"thanks\",\"ah\",\"way\",\"ever\",\"look\",\"tweet\",\"followers\",\"should\",\"our\",\"xd\",\"aja\",\"esta\",\"school\",\"him\",\"ser\",\"take\",\"than\",\"video\",\"em\",\"last\",\"wanna\",\"does\",\"us\",\"miss\",\"l\",\"ga\",\"better\",\"well\",\"could\",\"\\u25bd\",\"%\",\"apa\",\"cuando\",\"team\",\"\\u2714\",\"@\",\"ok\",\"\\u061f\",\"\\u2022\",\"vida\",\"quiero\",\"les\",\"being\",\"real\",\"down\",\"kamu\",\"everyone\",\"gonna\",\"live\",\"tonight\",\"yes\",\"work\",\"ass\",\"retweet\",\"nada\",\"sama\",\"first\",\"<<\",\"photo\",\"tomorrow\",\"where\",\"god\",\"son\",\"ke\",\"ta\",\"f\",\"home\",\"lagi\",\"thank\",\"birthday\",\"\\u2588\",\"ha\",\"great\",\"lmao\",\"omg\",\"morning\",\"m\\u00e1s\",\"mau\",\"baby\",\"dont\",\"\\uff61\",\"their\",\"p\",\"things\",\"game\",\"pas\",\"bad\",\"year\",\"yeah\",\"su\",\"bitch\",\"\\u0432\",\"stop\",\"hoy\",\"something\",\"meu\",\"tak\",\"gak\",\"world\",\"amor\",\"h\",\"\\\\\",\"ver\",\"\\uff1b\",\"porque\",\"give\",\"these\",\"\\u0627\\u0644\\u0644\\u0647\\u0645\",\"were\",\"hay\",\"sleep\",\"gue\",\"every\",\"friends\",\"uma\",\"tell\",\"amo\",\"vou\",\"bien\",\"\\u00a1\",\"again\",\"\\uff3e\",\"\\uff0f\",\"done\",\"after\",\"todos\",\"girls\",\"guys\",\"getting\",\"big\",\"wait\",\"justin\",\"eh\",\"\\u2192\",\"kan\",\"kita\",\"jajaja\",\"wish\",\"said\",\"fucking\",\"show\",\"thing\",\"next\",\"voc\\u00ea\",\"nos\",\"little\",\"tengo\",\"keep\",\"person\",\"''\",\"\\u2200\",\"hope\",\"\\u0643\\u0644\",\"hey\",\"bisa\",\"free\",\"made\",\"foto\",\"va\",\"everything\",\"iya\",\"nigga\",\"eso\",\"et\",\"watch\",\"music\",\"week\",\"talk\",\"ne\",\"solo\",\"gente\",\"udah\",\"\\uff1a\",\"--\",\"\\uff3c\",\"mejor\",\"facebook\",\"ma\",\"v\",\"phone\",\"most\",\"same\",\"okay\",\"ik\",\"before\",\"minha\",\"days\",\"g\",\"ti\",\"damn\",\"nice\",\"voy\",\"vai\",\"call\",\"long\",\"tapi\",\"http\",\"sin\",\"nunca\",\"doing\",\"other\",\"find\",\"il\",\"sa\",\"sorry\",\"nya\",\"orang\",\"\\u00b0\",\"hard\",\"mean\",\"die\",\"\\u0627\\u0644\\u0644\\u064a\",\"tem\",\"soy\",\"este\",\"kalo\",\"s\\u00f3\",\"th\",\"win\",\"nothing\",\"into\",\"face\",\"cute\",\"'d\",\"gracias\",\"lah\",\"\\u0438\",\"any\",\"play\",\"\\u2190\",\"ko\",\"text\",\"\\u2323\",\"estoy\",\"tau\",\"ur\",\"buat\",\"#\",\"cause\",\"\\u044f\",\"put\",\"kau\",\"siempre\",\"juga\",\"casa\",\"\\u0623\\u0646\",\"help\",\"start\",\"feliz\",\"old\",\"ir\",\"very\",\"care\",\"bir\",\"makes\",\"song\",\"check\",\"watching\",\"ahora\",\"jadi\",\"os\",\"may\",\"friend\",\"beautiful\",\"heart\",\"ka\",\"vc\",\"mundo\",\"\\u043d\\u0430\",\"sure\",\"tan\",\"pretty\",\"aqui\",\"\\u043d\\u0435\",\"house\",\"\\u0631\\u062a\\u0648\\u064a\\u062a\",\"\\u064a\\u0627\",\"ja\",\"true\",\"muy\",\"away\",\"already\",\"actually\",\"believe\",\"try\",\"many\",\"ma\\u00f1ana\",\"mis\",\"lu\",\"those\",\"hot\",\"qu\\u00e9\",\"mal\",\"\\u0639\\u0646\",\"though\",\"ask\",\"amazing\",\"bed\",\"}\",\"two\",\"mom\",\"d\\u00eda\",\"ve\",\"dari\",\"gameinsight\",\"stay\",\"fun\",\"around\",\"van\",\"cont\",\"ready\",\"money\",\"bu\",\"funny\",\"cool\",\"hair\",\"\\u00e0\",\"tho\",\"{\",\"wo\",\"hi\",\"name\",\"tiene\",\"hahahaha\",\"pa\",\"algo\",\"gotta\",\"\\u0648\\u0644\\u0627\",\"boy\",\"another\",\"c'est\",\"hari\",\"jajajaja\",\"having\",\"cara\",\"jaja\",\"dm\",\"looking\",\"top\",\"android\",\"dah\",\"wow\",\"\\u2591\",\"eres\",\"ben\",\"must\",\"news\",\"met\",\"est\\u00e1\",\"nih\",\"family\",\"black\",\"thought\",\"nak\",\"super\",\"end\",\"hace\",\"remember\",\"ama\",\"party\",\"cant\",\"vamos\",\"anything\",\"anyone\",\"\\u0641\\u0648\\u0644\\u0648\",\"perfect\",\"guy\",\"vez\",\"christmas\",\"dos\",\"bueno\",\"nao\",\"years\",\"vote\",\"dormir\",\"bro\",\"else\",\"quien\",\"untuk\",\"jangan\",\"myself\",\"head\",\"mind\",\"gua\",\"talking\",\"while\",\"dat\",\"food\",\"\\u0434\",\"coming\",\"wkwk\",\"trying\",\"saya\",\"mucho\",\"without\",\"wrong\",\"\\u2019s\",\"baru\",\"__\",\"hehe\",\"hacer\",\"lot\",\"followed\",\"crazy\",\"hell\",\"feeling\",\"des\",\"kok\",\"j\",\"stats\",\"j'\",\"\\u0627\\u0646\",\"tweets\",\"non\",\"cosas\",\"era\",\"high\",\"niggas\",\"change\",\"movie\",\"xx\",\"mad\",\"sih\",\"sometimes\",\"deh\",\"allah\",\"through\",\"pour\",\"ela\",\"soon\",\"gone\",\"playing\",\"smile\",\"bukan\",\"tv\",\"fans\",\"hasta\",\"akan\",\"y'\",\"looks\",\"isso\",\"\\u270c\",\"tired\",\"boys\",\"might\",\"dong\",\"lg\",\"use\",\"maybe\",\"until\",\"menos\",\"own\",\"dengan\",\"eat\",\"ou\",\"weekend\",\"\\u02d8\",\"class\",\"ele\",\"harry\",\"iphone\",\"friday\",\"single\",\"ff\",\"awesome\",\"bout\",\"muito\",\"hoje\",\"\\u00ac\",\"dios\",\"such\",\"estar\",\"j\\u00e1\",\"quando\",\"esa\",\"making\",\"\\u2501\",\"times\",\"lmfao\",\"gw\",\"moment\",\"yet\",\"aw\",\"smh\",\"banget\",\"masih\",\"qui\",\"quem\",\"\\u2013\",\"leave\",\"du\",\"une\",\"guess\",\"hit\",\"\\u0441\",\"pm\",\"since\",\"pues\",\"est\",\"job\",\"\\uff89\",\"mana\",\"bom\",\"siapa\",\"suka\",\"bieber\",\"mention\",\"lebih\",\"favorite\",\"bitches\",\"forever\",\"\\u0644\\u064a\",\"final\",\"read\",\"alguien\",\"open\",\"yourself\",\"ese\",\"che\",\"sex\",\"yaa\",\"car\",\"direction\",\"tidak\",\"seu\",\"gets\",\"left\",\"re\",\"jam\",\"enough\",\"\\u0625\\u0644\\u0627\",\"once\",\"\\u2019\",\"part\",\"cada\",\"\\u5b9a\\u671f\",\"\\u0644\\u0643\",\"een\",\"seen\",\"kak\",\"as\\u00ed\",\"nem\",\"\\u0639\\u0645\\u0644\",\"white\",\"told\",\"says\",\"esto\",\"sad\",\"mo\",\"fue\",\"yah\",\"summer\",\"\\u0647\",\"\\u2b55\",\"\\u00bb\",\"thats\",\"\\u0645\\u0639\",\"posted\",\"wants\",\"agora\",\"together\",\"fan\",\"men\",\"hear\",\"full\",\"\\u2600\",\"sigo\",\"pq\",\"dulu\",\"plus\",\"foi\",\"tudo\",\"\\u0647\\u0648\",\"ill\",\"\\u3042\",\"thinking\",\"wtf\",\"pagi\",\"mama\",\"kalau\",\"hati\",\"sexy\",\"sayang\",\"baik\",\"semua\",\"hola\",\"went\",\"vos\",\"tanto\",\"finally\",\"fb\",\"sea\",\"stupid\",\"tus\",\"seriously\",\"hora\",\"min\",\"pic\",\"estas\",\"turn\",\"hours\",\"excited\",\"nah\",\"buy\",\"saying\",\"mah\",\"break\",\"needs\",\"ce\",\"room\",\"choice\",\"far\",\"dead\",\"quero\",\"saw\",\"kids\",\"lil\",\"whole\",\"puede\",\"fall\",\"sus\",\"lost\",\"asi\",\"word\",\"\\u2639\",\"also\",\"\\u0631\\u064a\\u062a\\u0648\\u064a\\u062a\",\"probably\",\"everybody\",\"tarde\",\"run\",\"sei\",\"follback\",\"forget\",\"sweet\",\"welcome\",\"selamat\",\"\\uff3f\",\"sur\",\"place\",\"gusta\",\"sabe\",\"androidgames\",\"tp\",\"tiempo\",\"\\u0628\\u0633\",\"sou\",\"tuh\",\"vs\",\"eyes\",\"\\u0627\\u0646\\u0627\",\"picture\",\"das\",\"meet\",\"anak\",\"persona\",\"essa\",\"bored\",\"following\",\"nadie\",\"nobody\",\"dice\",\"alone\",\"sick\",\"red\",\"city\",\"cinta\",\"\\u6708\",\"linda\",\"dream\",\"story\",\"km\",\"het\",\"waiting\",\"^_^\",\"mine\",\"\\u0447\\u0442\\u043e\",\"reason\",\"kk\",\"\\u0644\\u0648\",\"online\",\"fast\",\"udh\",\"wanted\",\"op\",\"others\",\"gay\",\"n\\u2019t\",\"used\",\"sem\",\"understand\",\"moi\",\"sm\",\"aint\",\"donde\",\"bem\",\"which\",\"ng\",\"followback\",\"punya\",\"late\",\"anda\",\"tidur\",\"puedo\",\"early\",\"nd\",\"personas\",\"banyak\",\"\\u2705\",\"\\u278a\",\"trust\",\"noche\",\"tl\",\"\\uff1e\",\"\\u00ab\",\"af\",\"move\",\"pro\",\"bring\",\"ku\",\"called\",\"relationship\",\"idk\",\"hurt\",\"st\",\"pernah\",\"pessoas\",\"hello\",\"uno\",\"unfollowers\",\"cry\"]]]}}},\"view\":{\"type\":\"object\",\"name\":\"CDSView\",\"id\":\"p1096\",\"attributes\":{\"filter\":{\"type\":\"object\",\"name\":\"AllIndices\",\"id\":\"p1097\"}}},\"glyph\":{\"type\":\"object\",\"name\":\"Scatter\",\"id\":\"p1092\",\"attributes\":{\"x\":{\"type\":\"field\",\"field\":\"x\"},\"y\":{\"type\":\"field\",\"field\":\"y\"},\"size\":{\"type\":\"value\",\"value\":10},\"line_color\":{\"type\":\"field\",\"field\":\"color\"},\"line_alpha\":{\"type\":\"value\",\"value\":0.25},\"fill_color\":{\"type\":\"field\",\"field\":\"color\"},\"fill_alpha\":{\"type\":\"value\",\"value\":0.25},\"hatch_color\":{\"type\":\"field\",\"field\":\"color\"},\"hatch_alpha\":{\"type\":\"value\",\"value\":0.25}}},\"nonselection_glyph\":{\"type\":\"object\",\"name\":\"Scatter\",\"id\":\"p1093\",\"attributes\":{\"x\":{\"type\":\"field\",\"field\":\"x\"},\"y\":{\"type\":\"field\",\"field\":\"y\"},\"size\":{\"type\":\"value\",\"value\":10},\"line_color\":{\"type\":\"field\",\"field\":\"color\"},\"line_alpha\":{\"type\":\"value\",\"value\":0.1},\"fill_color\":{\"type\":\"field\",\"field\":\"color\"},\"fill_alpha\":{\"type\":\"value\",\"value\":0.1},\"hatch_color\":{\"type\":\"field\",\"field\":\"color\"},\"hatch_alpha\":{\"type\":\"value\",\"value\":0.1}}},\"muted_glyph\":{\"type\":\"object\",\"name\":\"Scatter\",\"id\":\"p1094\",\"attributes\":{\"x\":{\"type\":\"field\",\"field\":\"x\"},\"y\":{\"type\":\"field\",\"field\":\"y\"},\"size\":{\"type\":\"value\",\"value\":10},\"line_color\":{\"type\":\"field\",\"field\":\"color\"},\"line_alpha\":{\"type\":\"value\",\"value\":0.2},\"fill_color\":{\"type\":\"field\",\"field\":\"color\"},\"fill_alpha\":{\"type\":\"value\",\"value\":0.2},\"hatch_color\":{\"type\":\"field\",\"field\":\"color\"},\"hatch_alpha\":{\"type\":\"value\",\"value\":0.2}}}}}],\"toolbar\":{\"type\":\"object\",\"name\":\"Toolbar\",\"id\":\"p1063\",\"attributes\":{\"tools\":[{\"type\":\"object\",\"name\":\"PanTool\",\"id\":\"p1076\"},{\"type\":\"object\",\"name\":\"WheelZoomTool\",\"id\":\"p1077\",\"attributes\":{\"renderers\":\"auto\"}},{\"type\":\"object\",\"name\":\"BoxZoomTool\",\"id\":\"p1078\",\"attributes\":{\"overlay\":{\"type\":\"object\",\"name\":\"BoxAnnotation\",\"id\":\"p1079\",\"attributes\":{\"syncable\":false,\"line_color\":\"black\",\"line_alpha\":1.0,\"line_width\":2,\"line_dash\":[4,4],\"fill_color\":\"lightgrey\",\"fill_alpha\":0.5,\"level\":\"overlay\",\"visible\":false,\"left\":{\"type\":\"number\",\"value\":\"nan\"},\"right\":{\"type\":\"number\",\"value\":\"nan\"},\"top\":{\"type\":\"number\",\"value\":\"nan\"},\"bottom\":{\"type\":\"number\",\"value\":\"nan\"},\"left_units\":\"canvas\",\"right_units\":\"canvas\",\"top_units\":\"canvas\",\"bottom_units\":\"canvas\",\"handles\":{\"type\":\"object\",\"name\":\"BoxInteractionHandles\",\"id\":\"p1085\",\"attributes\":{\"all\":{\"type\":\"object\",\"name\":\"AreaVisuals\",\"id\":\"p1084\",\"attributes\":{\"fill_color\":\"white\",\"hover_fill_color\":\"lightgray\"}}}}}}}},{\"type\":\"object\",\"name\":\"SaveTool\",\"id\":\"p1086\"},{\"type\":\"object\",\"name\":\"ResetTool\",\"id\":\"p1087\"},{\"type\":\"object\",\"name\":\"HelpTool\",\"id\":\"p1088\"},{\"type\":\"object\",\"name\":\"HoverTool\",\"id\":\"p1098\",\"attributes\":{\"renderers\":\"auto\",\"tooltips\":[[\"token\",\"@token\"]]}}],\"active_scroll\":{\"id\":\"p1077\"}}},\"left\":[{\"type\":\"object\",\"name\":\"LinearAxis\",\"id\":\"p1071\",\"attributes\":{\"ticker\":{\"type\":\"object\",\"name\":\"BasicTicker\",\"id\":\"p1072\",\"attributes\":{\"mantissas\":[1,2,5]}},\"formatter\":{\"type\":\"object\",\"name\":\"BasicTickFormatter\",\"id\":\"p1073\"},\"axis_label_standoff\":10,\"axis_label_text_color\":\"#E0E0E0\",\"axis_label_text_font\":\"Helvetica\",\"axis_label_text_font_size\":\"1.25em\",\"axis_label_text_font_style\":\"normal\",\"major_label_policy\":{\"type\":\"object\",\"name\":\"AllLabels\",\"id\":\"p1074\"},\"major_label_text_color\":\"#E0E0E0\",\"major_label_text_font\":\"Helvetica\",\"major_label_text_font_size\":\"1.025em\",\"axis_line_color\":\"#E0E0E0\",\"axis_line_alpha\":0,\"major_tick_line_color\":\"#E0E0E0\",\"major_tick_line_alpha\":0,\"minor_tick_line_color\":\"#E0E0E0\",\"minor_tick_line_alpha\":0}}],\"below\":[{\"type\":\"object\",\"name\":\"LinearAxis\",\"id\":\"p1066\",\"attributes\":{\"ticker\":{\"type\":\"object\",\"name\":\"BasicTicker\",\"id\":\"p1067\",\"attributes\":{\"mantissas\":[1,2,5]}},\"formatter\":{\"type\":\"object\",\"name\":\"BasicTickFormatter\",\"id\":\"p1068\"},\"axis_label_standoff\":10,\"axis_label_text_color\":\"#E0E0E0\",\"axis_label_text_font\":\"Helvetica\",\"axis_label_text_font_size\":\"1.25em\",\"axis_label_text_font_style\":\"normal\",\"major_label_policy\":{\"type\":\"object\",\"name\":\"AllLabels\",\"id\":\"p1069\"},\"major_label_text_color\":\"#E0E0E0\",\"major_label_text_font\":\"Helvetica\",\"major_label_text_font_size\":\"1.025em\",\"axis_line_color\":\"#E0E0E0\",\"axis_line_alpha\":0,\"major_tick_line_color\":\"#E0E0E0\",\"major_tick_line_alpha\":0,\"minor_tick_line_color\":\"#E0E0E0\",\"minor_tick_line_alpha\":0}}],\"center\":[{\"type\":\"object\",\"name\":\"Grid\",\"id\":\"p1070\",\"attributes\":{\"axis\":{\"id\":\"p1066\"},\"grid_line_color\":\"#E0E0E0\",\"grid_line_alpha\":0.25}},{\"type\":\"object\",\"name\":\"Grid\",\"id\":\"p1075\",\"attributes\":{\"dimension\":1,\"axis\":{\"id\":\"p1071\"},\"grid_line_color\":\"#E0E0E0\",\"grid_line_alpha\":0.25}}],\"background_fill_color\":\"#20262B\",\"border_fill_color\":\"#15191C\"}}]}};\n  const render_items = [{\"docid\":\"f83193ac-dee7-4bc1-b91b-1589c77022a4\",\"roots\":{\"p1055\":\"f0b7b132-5175-4813-a4ed-746188ae23cc\"},\"root_ids\":[\"p1055\"]}];\n  void root.Bokeh.embed.embed_items_notebook(docs_json, render_items);\n  }\n  if (root.Bokeh !== undefined) {\n    embed_document(root);\n  } else {\n    let attempts = 0;\n    const timer = setInterval(function(root) {\n      if (root.Bokeh !== undefined) {\n        clearInterval(timer);\n        embed_document(root);\n      } else {\n        attempts++;\n        if (attempts > 100) {\n          clearInterval(timer);\n          console.log(\"Bokeh: ERROR: Unable to run BokehJS code because BokehJS library is missing\");\n        }\n      }\n    }, 10, root)\n  }\n})(window);",
      "application/vnd.bokehjs_exec.v0+json": ""
     },
     "metadata": {
      "application/vnd.bokehjs_exec.v0+json": {
       "id": "p1055"
      }
     },
     "output_type": "display_data"
    },
    {
     "data": {
      "text/plain": "figure(id='p1055', ...)",
      "text/html": "<div style=\"display: table;\"><div style=\"display: table-row;\"><div style=\"display: table-cell;\"><b title=\"bokeh.plotting._figure.figure\">figure</b>(</div><div style=\"display: table-cell;\">id&nbsp;=&nbsp;'p1055', <span id=\"p1102\" style=\"cursor: pointer;\">&hellip;)</span></div></div><div class=\"p1101\" style=\"display: none;\"><div style=\"display: table-cell;\"></div><div style=\"display: table-cell;\">above&nbsp;=&nbsp;[],</div></div><div class=\"p1101\" style=\"display: none;\"><div style=\"display: table-cell;\"></div><div style=\"display: table-cell;\">align&nbsp;=&nbsp;'auto',</div></div><div class=\"p1101\" style=\"display: none;\"><div style=\"display: table-cell;\"></div><div style=\"display: table-cell;\">aspect_ratio&nbsp;=&nbsp;None,</div></div><div class=\"p1101\" style=\"display: none;\"><div style=\"display: table-cell;\"></div><div style=\"display: table-cell;\">aspect_scale&nbsp;=&nbsp;1,</div></div><div class=\"p1101\" style=\"display: none;\"><div style=\"display: table-cell;\"></div><div style=\"display: table-cell;\">attribution&nbsp;=&nbsp;[],</div></div><div class=\"p1101\" style=\"display: none;\"><div style=\"display: table-cell;\"></div><div style=\"display: table-cell;\">background_fill_alpha&nbsp;=&nbsp;1.0,</div></div><div class=\"p1101\" style=\"display: none;\"><div style=\"display: table-cell;\"></div><div style=\"display: table-cell;\">background_fill_color&nbsp;=&nbsp;'#ffffff',</div></div><div class=\"p1101\" style=\"display: none;\"><div style=\"display: table-cell;\"></div><div style=\"display: table-cell;\">below&nbsp;=&nbsp;[LinearAxis(id='p1066', ...)],</div></div><div class=\"p1101\" style=\"display: none;\"><div style=\"display: table-cell;\"></div><div style=\"display: table-cell;\">border_fill_alpha&nbsp;=&nbsp;1.0,</div></div><div class=\"p1101\" style=\"display: none;\"><div style=\"display: table-cell;\"></div><div style=\"display: table-cell;\">border_fill_color&nbsp;=&nbsp;'#ffffff',</div></div><div class=\"p1101\" style=\"display: none;\"><div style=\"display: table-cell;\"></div><div style=\"display: table-cell;\">center&nbsp;=&nbsp;[Grid(id='p1070', ...), Grid(id='p1075', ...)],</div></div><div class=\"p1101\" style=\"display: none;\"><div style=\"display: table-cell;\"></div><div style=\"display: table-cell;\">context_menu&nbsp;=&nbsp;None,</div></div><div class=\"p1101\" style=\"display: none;\"><div style=\"display: table-cell;\"></div><div style=\"display: table-cell;\">css_classes&nbsp;=&nbsp;[],</div></div><div class=\"p1101\" style=\"display: none;\"><div style=\"display: table-cell;\"></div><div style=\"display: table-cell;\">css_variables&nbsp;=&nbsp;{},</div></div><div class=\"p1101\" style=\"display: none;\"><div style=\"display: table-cell;\"></div><div style=\"display: table-cell;\">disabled&nbsp;=&nbsp;False,</div></div><div class=\"p1101\" style=\"display: none;\"><div style=\"display: table-cell;\"></div><div style=\"display: table-cell;\">elements&nbsp;=&nbsp;[],</div></div><div class=\"p1101\" style=\"display: none;\"><div style=\"display: table-cell;\"></div><div style=\"display: table-cell;\">extra_x_ranges&nbsp;=&nbsp;{},</div></div><div class=\"p1101\" style=\"display: none;\"><div style=\"display: table-cell;\"></div><div style=\"display: table-cell;\">extra_x_scales&nbsp;=&nbsp;{},</div></div><div class=\"p1101\" style=\"display: none;\"><div style=\"display: table-cell;\"></div><div style=\"display: table-cell;\">extra_y_ranges&nbsp;=&nbsp;{},</div></div><div class=\"p1101\" style=\"display: none;\"><div style=\"display: table-cell;\"></div><div style=\"display: table-cell;\">extra_y_scales&nbsp;=&nbsp;{},</div></div><div class=\"p1101\" style=\"display: none;\"><div style=\"display: table-cell;\"></div><div style=\"display: table-cell;\">flow_mode&nbsp;=&nbsp;'block',</div></div><div class=\"p1101\" style=\"display: none;\"><div style=\"display: table-cell;\"></div><div style=\"display: table-cell;\">frame_align&nbsp;=&nbsp;True,</div></div><div class=\"p1101\" style=\"display: none;\"><div style=\"display: table-cell;\"></div><div style=\"display: table-cell;\">frame_height&nbsp;=&nbsp;None,</div></div><div class=\"p1101\" style=\"display: none;\"><div style=\"display: table-cell;\"></div><div style=\"display: table-cell;\">frame_width&nbsp;=&nbsp;None,</div></div><div class=\"p1101\" style=\"display: none;\"><div style=\"display: table-cell;\"></div><div style=\"display: table-cell;\">height&nbsp;=&nbsp;400,</div></div><div class=\"p1101\" style=\"display: none;\"><div style=\"display: table-cell;\"></div><div style=\"display: table-cell;\">height_policy&nbsp;=&nbsp;'auto',</div></div><div class=\"p1101\" style=\"display: none;\"><div style=\"display: table-cell;\"></div><div style=\"display: table-cell;\">hidpi&nbsp;=&nbsp;True,</div></div><div class=\"p1101\" style=\"display: none;\"><div style=\"display: table-cell;\"></div><div style=\"display: table-cell;\">hold_render&nbsp;=&nbsp;False,</div></div><div class=\"p1101\" style=\"display: none;\"><div style=\"display: table-cell;\"></div><div style=\"display: table-cell;\">js_event_callbacks&nbsp;=&nbsp;{},</div></div><div class=\"p1101\" style=\"display: none;\"><div style=\"display: table-cell;\"></div><div style=\"display: table-cell;\">js_property_callbacks&nbsp;=&nbsp;{},</div></div><div class=\"p1101\" style=\"display: none;\"><div style=\"display: table-cell;\"></div><div style=\"display: table-cell;\">left&nbsp;=&nbsp;[LinearAxis(id='p1071', ...)],</div></div><div class=\"p1101\" style=\"display: none;\"><div style=\"display: table-cell;\"></div><div style=\"display: table-cell;\">lod_factor&nbsp;=&nbsp;10,</div></div><div class=\"p1101\" style=\"display: none;\"><div style=\"display: table-cell;\"></div><div style=\"display: table-cell;\">lod_interval&nbsp;=&nbsp;300,</div></div><div class=\"p1101\" style=\"display: none;\"><div style=\"display: table-cell;\"></div><div style=\"display: table-cell;\">lod_threshold&nbsp;=&nbsp;2000,</div></div><div class=\"p1101\" style=\"display: none;\"><div style=\"display: table-cell;\"></div><div style=\"display: table-cell;\">lod_timeout&nbsp;=&nbsp;500,</div></div><div class=\"p1101\" style=\"display: none;\"><div style=\"display: table-cell;\"></div><div style=\"display: table-cell;\">margin&nbsp;=&nbsp;None,</div></div><div class=\"p1101\" style=\"display: none;\"><div style=\"display: table-cell;\"></div><div style=\"display: table-cell;\">match_aspect&nbsp;=&nbsp;False,</div></div><div class=\"p1101\" style=\"display: none;\"><div style=\"display: table-cell;\"></div><div style=\"display: table-cell;\">max_height&nbsp;=&nbsp;None,</div></div><div class=\"p1101\" style=\"display: none;\"><div style=\"display: table-cell;\"></div><div style=\"display: table-cell;\">max_width&nbsp;=&nbsp;None,</div></div><div class=\"p1101\" style=\"display: none;\"><div style=\"display: table-cell;\"></div><div style=\"display: table-cell;\">min_border&nbsp;=&nbsp;5,</div></div><div class=\"p1101\" style=\"display: none;\"><div style=\"display: table-cell;\"></div><div style=\"display: table-cell;\">min_border_bottom&nbsp;=&nbsp;None,</div></div><div class=\"p1101\" style=\"display: none;\"><div style=\"display: table-cell;\"></div><div style=\"display: table-cell;\">min_border_left&nbsp;=&nbsp;None,</div></div><div class=\"p1101\" style=\"display: none;\"><div style=\"display: table-cell;\"></div><div style=\"display: table-cell;\">min_border_right&nbsp;=&nbsp;None,</div></div><div class=\"p1101\" style=\"display: none;\"><div style=\"display: table-cell;\"></div><div style=\"display: table-cell;\">min_border_top&nbsp;=&nbsp;None,</div></div><div class=\"p1101\" style=\"display: none;\"><div style=\"display: table-cell;\"></div><div style=\"display: table-cell;\">min_height&nbsp;=&nbsp;None,</div></div><div class=\"p1101\" style=\"display: none;\"><div style=\"display: table-cell;\"></div><div style=\"display: table-cell;\">min_width&nbsp;=&nbsp;None,</div></div><div class=\"p1101\" style=\"display: none;\"><div style=\"display: table-cell;\"></div><div style=\"display: table-cell;\">name&nbsp;=&nbsp;None,</div></div><div class=\"p1101\" style=\"display: none;\"><div style=\"display: table-cell;\"></div><div style=\"display: table-cell;\">outline_line_alpha&nbsp;=&nbsp;1.0,</div></div><div class=\"p1101\" style=\"display: none;\"><div style=\"display: table-cell;\"></div><div style=\"display: table-cell;\">outline_line_cap&nbsp;=&nbsp;'butt',</div></div><div class=\"p1101\" style=\"display: none;\"><div style=\"display: table-cell;\"></div><div style=\"display: table-cell;\">outline_line_color&nbsp;=&nbsp;'#e5e5e5',</div></div><div class=\"p1101\" style=\"display: none;\"><div style=\"display: table-cell;\"></div><div style=\"display: table-cell;\">outline_line_dash&nbsp;=&nbsp;[],</div></div><div class=\"p1101\" style=\"display: none;\"><div style=\"display: table-cell;\"></div><div style=\"display: table-cell;\">outline_line_dash_offset&nbsp;=&nbsp;0,</div></div><div class=\"p1101\" style=\"display: none;\"><div style=\"display: table-cell;\"></div><div style=\"display: table-cell;\">outline_line_join&nbsp;=&nbsp;'bevel',</div></div><div class=\"p1101\" style=\"display: none;\"><div style=\"display: table-cell;\"></div><div style=\"display: table-cell;\">outline_line_width&nbsp;=&nbsp;1,</div></div><div class=\"p1101\" style=\"display: none;\"><div style=\"display: table-cell;\"></div><div style=\"display: table-cell;\">output_backend&nbsp;=&nbsp;'canvas',</div></div><div class=\"p1101\" style=\"display: none;\"><div style=\"display: table-cell;\"></div><div style=\"display: table-cell;\">renderers&nbsp;=&nbsp;[GlyphRenderer(id='p1095', ...)],</div></div><div class=\"p1101\" style=\"display: none;\"><div style=\"display: table-cell;\"></div><div style=\"display: table-cell;\">reset_policy&nbsp;=&nbsp;'standard',</div></div><div class=\"p1101\" style=\"display: none;\"><div style=\"display: table-cell;\"></div><div style=\"display: table-cell;\">resizable&nbsp;=&nbsp;False,</div></div><div class=\"p1101\" style=\"display: none;\"><div style=\"display: table-cell;\"></div><div style=\"display: table-cell;\">right&nbsp;=&nbsp;[],</div></div><div class=\"p1101\" style=\"display: none;\"><div style=\"display: table-cell;\"></div><div style=\"display: table-cell;\">sizing_mode&nbsp;=&nbsp;None,</div></div><div class=\"p1101\" style=\"display: none;\"><div style=\"display: table-cell;\"></div><div style=\"display: table-cell;\">styles&nbsp;=&nbsp;{},</div></div><div class=\"p1101\" style=\"display: none;\"><div style=\"display: table-cell;\"></div><div style=\"display: table-cell;\">stylesheets&nbsp;=&nbsp;[],</div></div><div class=\"p1101\" style=\"display: none;\"><div style=\"display: table-cell;\"></div><div style=\"display: table-cell;\">subscribed_events&nbsp;=&nbsp;PropertyValueSet(),</div></div><div class=\"p1101\" style=\"display: none;\"><div style=\"display: table-cell;\"></div><div style=\"display: table-cell;\">syncable&nbsp;=&nbsp;True,</div></div><div class=\"p1101\" style=\"display: none;\"><div style=\"display: table-cell;\"></div><div style=\"display: table-cell;\">tags&nbsp;=&nbsp;[],</div></div><div class=\"p1101\" style=\"display: none;\"><div style=\"display: table-cell;\"></div><div style=\"display: table-cell;\">title&nbsp;=&nbsp;Title(id='p1062', ...),</div></div><div class=\"p1101\" style=\"display: none;\"><div style=\"display: table-cell;\"></div><div style=\"display: table-cell;\">title_location&nbsp;=&nbsp;'above',</div></div><div class=\"p1101\" style=\"display: none;\"><div style=\"display: table-cell;\"></div><div style=\"display: table-cell;\">toolbar&nbsp;=&nbsp;Toolbar(id='p1063', ...),</div></div><div class=\"p1101\" style=\"display: none;\"><div style=\"display: table-cell;\"></div><div style=\"display: table-cell;\">toolbar_inner&nbsp;=&nbsp;False,</div></div><div class=\"p1101\" style=\"display: none;\"><div style=\"display: table-cell;\"></div><div style=\"display: table-cell;\">toolbar_location&nbsp;=&nbsp;'right',</div></div><div class=\"p1101\" style=\"display: none;\"><div style=\"display: table-cell;\"></div><div style=\"display: table-cell;\">toolbar_sticky&nbsp;=&nbsp;True,</div></div><div class=\"p1101\" style=\"display: none;\"><div style=\"display: table-cell;\"></div><div style=\"display: table-cell;\">visible&nbsp;=&nbsp;True,</div></div><div class=\"p1101\" style=\"display: none;\"><div style=\"display: table-cell;\"></div><div style=\"display: table-cell;\">width&nbsp;=&nbsp;600,</div></div><div class=\"p1101\" style=\"display: none;\"><div style=\"display: table-cell;\"></div><div style=\"display: table-cell;\">width_policy&nbsp;=&nbsp;'auto',</div></div><div class=\"p1101\" style=\"display: none;\"><div style=\"display: table-cell;\"></div><div style=\"display: table-cell;\">x_range&nbsp;=&nbsp;DataRange1d(id='p1056', ...),</div></div><div class=\"p1101\" style=\"display: none;\"><div style=\"display: table-cell;\"></div><div style=\"display: table-cell;\">x_scale&nbsp;=&nbsp;LinearScale(id='p1064', ...),</div></div><div class=\"p1101\" style=\"display: none;\"><div style=\"display: table-cell;\"></div><div style=\"display: table-cell;\">y_range&nbsp;=&nbsp;DataRange1d(id='p1057', ...),</div></div><div class=\"p1101\" style=\"display: none;\"><div style=\"display: table-cell;\"></div><div style=\"display: table-cell;\">y_scale&nbsp;=&nbsp;LinearScale(id='p1065', ...))</div></div></div>\n<script>\n(function() {\n  let expanded = false;\n  const ellipsis = document.getElementById(\"p1102\");\n  ellipsis.addEventListener(\"click\", function() {\n    const rows = document.getElementsByClassName(\"p1101\");\n    for (let i = 0; i < rows.length; i++) {\n      const el = rows[i];\n      el.style.display = expanded ? \"none\" : \"table-row\";\n    }\n    ellipsis.innerHTML = expanded ? \"&hellip;)\" : \"&lsaquo;&lsaquo;&lsaquo;\";\n    expanded = !expanded;\n  });\n})();\n</script>\n"
     },
     "execution_count": 24,
     "metadata": {},
     "output_type": "execute_result"
    }
   ],
   "source": [
    "draw_vectors(word_tsne[:, 0], word_tsne[:, 1], color='green', token=words)"
   ]
  },
  {
   "cell_type": "markdown",
   "metadata": {
    "id": "cZ8YT9JDXHtg"
   },
   "source": [
    "### Визуализация фраз\n",
    "\n",
    "Векторные представления слов также можно использовать для представления коротких фраз. Самый простой способ — взять __среднее значение__ векторов всех токенов в фразе с определёнными весами.\n",
    "\n",
    "Этот приём полезен для понимания, с какими данными вы работаете: можно определить наличие выбросов, кластеров или других артефактов."
   ]
  },
  {
   "cell_type": "code",
   "outputs": [
    {
     "data": {
      "text/plain": "(True, False)"
     },
     "execution_count": 25,
     "metadata": {},
     "output_type": "execute_result"
    }
   ],
   "source": [
    "model.has_index_for(\"hi\"), model.has_index_for(\"hidddwa\")"
   ],
   "metadata": {
    "collapsed": false,
    "ExecuteTime": {
     "end_time": "2024-10-05T15:37:59.628957Z",
     "start_time": "2024-10-05T15:37:59.626998Z"
    }
   },
   "execution_count": 25
  },
  {
   "cell_type": "code",
   "execution_count": 26,
   "metadata": {
    "collapsed": true,
    "id": "FnhoKn9qXHtg",
    "ExecuteTime": {
     "end_time": "2024-10-05T15:37:59.632177Z",
     "start_time": "2024-10-05T15:37:59.629871Z"
    }
   },
   "outputs": [],
   "source": [
    "def get_phrase_embedding(phrase: str, show_debug: bool = True) -> np.ndarray:\n",
    "    \"\"\"\n",
    "    Convert phrase to a vector by aggregating it's word embeddings. See description above.\n",
    "    \"\"\"\n",
    "    # 1. lowercase phrase\n",
    "    # 2. tokenize phrase\n",
    "    # 3. average word vectors for all words in tokenized phrase\n",
    "    # skip words that are not in model's vocabulary\n",
    "    # if all words are missing from vocabulary, return zeros\n",
    "    \n",
    "    tokens = tokenizer.tokenize(phrase.lower())\n",
    "    if show_debug:\n",
    "        print(f\"[get_phrase_embedding] Tokens before filter: {len(tokens)}\")\n",
    "    tokens_filtered = [token for token in tokens if model.has_index_for(token)]\n",
    "    if show_debug:\n",
    "        print(f\"[get_phrase_embedding] Tokens after filter: {len(tokens_filtered)}\")\n",
    "    if len(tokens_filtered) == 0:\n",
    "        return np.zeros(shape=model.vector_size)\n",
    "    \n",
    "    tokens_filtered = np.array(list(map(model.get_vector, tokens_filtered)))\n",
    "    \n",
    "    return tokens_filtered.mean(axis=0)\n",
    "\n"
   ]
  },
  {
   "cell_type": "code",
   "execution_count": 27,
   "metadata": {
    "collapsed": true,
    "id": "tpAqgAwhXHtg",
    "ExecuteTime": {
     "end_time": "2024-10-05T15:37:59.634711Z",
     "start_time": "2024-10-05T15:37:59.632895Z"
    }
   },
   "outputs": [
    {
     "name": "stdout",
     "output_type": "stream",
     "text": [
      "[get_phrase_embedding] Tokens before filter: 13\n",
      "[get_phrase_embedding] Tokens after filter: 12\n"
     ]
    }
   ],
   "source": [
    "vector = get_phrase_embedding(\"I'm very sure. This never happened to me before...\")\n",
    "\n",
    "assert np.allclose(vector[::10],\n",
    "                   np.array([ 0.31807372, -0.02558171,  0.0933293 , -0.1002182 , -1.0278689 ,\n",
    "                             -0.16621883,  0.05083408,  0.17989802,  1.3701859 ,  0.08655966],\n",
    "                              dtype=np.float32))"
   ]
  },
  {
   "cell_type": "code",
   "outputs": [
    {
     "data": {
      "text/plain": "537272"
     },
     "execution_count": 28,
     "metadata": {},
     "output_type": "execute_result"
    }
   ],
   "source": [
    "len(data)"
   ],
   "metadata": {
    "collapsed": false,
    "ExecuteTime": {
     "end_time": "2024-10-05T15:37:59.637571Z",
     "start_time": "2024-10-05T15:37:59.635452Z"
    }
   },
   "execution_count": 28
  },
  {
   "cell_type": "code",
   "execution_count": 29,
   "metadata": {
    "collapsed": true,
    "id": "Amy_dF75XHtg",
    "ExecuteTime": {
     "end_time": "2024-10-05T15:37:59.663421Z",
     "start_time": "2024-10-05T15:37:59.638298Z"
    }
   },
   "outputs": [
    {
     "name": "stdout",
     "output_type": "stream",
     "text": [
      "[get_phrase_embedding] Tokens before filter: 19\n",
      "[get_phrase_embedding] Tokens after filter: 19\n",
      "[get_phrase_embedding] Tokens before filter: 16\n",
      "[get_phrase_embedding] Tokens after filter: 16\n",
      "[get_phrase_embedding] Tokens before filter: 34\n",
      "[get_phrase_embedding] Tokens after filter: 33\n",
      "[get_phrase_embedding] Tokens before filter: 12\n",
      "[get_phrase_embedding] Tokens after filter: 12\n",
      "[get_phrase_embedding] Tokens before filter: 9\n",
      "[get_phrase_embedding] Tokens after filter: 9\n",
      "[get_phrase_embedding] Tokens before filter: 12\n",
      "[get_phrase_embedding] Tokens after filter: 12\n",
      "[get_phrase_embedding] Tokens before filter: 18\n",
      "[get_phrase_embedding] Tokens after filter: 18\n",
      "[get_phrase_embedding] Tokens before filter: 8\n",
      "[get_phrase_embedding] Tokens after filter: 7\n",
      "[get_phrase_embedding] Tokens before filter: 10\n",
      "[get_phrase_embedding] Tokens after filter: 10\n",
      "[get_phrase_embedding] Tokens before filter: 9\n",
      "[get_phrase_embedding] Tokens after filter: 9\n",
      "[get_phrase_embedding] Tokens before filter: 6\n",
      "[get_phrase_embedding] Tokens after filter: 6\n",
      "[get_phrase_embedding] Tokens before filter: 16\n",
      "[get_phrase_embedding] Tokens after filter: 16\n",
      "[get_phrase_embedding] Tokens before filter: 8\n",
      "[get_phrase_embedding] Tokens after filter: 8\n",
      "[get_phrase_embedding] Tokens before filter: 6\n",
      "[get_phrase_embedding] Tokens after filter: 5\n",
      "[get_phrase_embedding] Tokens before filter: 17\n",
      "[get_phrase_embedding] Tokens after filter: 17\n",
      "[get_phrase_embedding] Tokens before filter: 8\n",
      "[get_phrase_embedding] Tokens after filter: 8\n",
      "[get_phrase_embedding] Tokens before filter: 12\n",
      "[get_phrase_embedding] Tokens after filter: 12\n",
      "[get_phrase_embedding] Tokens before filter: 8\n",
      "[get_phrase_embedding] Tokens after filter: 6\n",
      "[get_phrase_embedding] Tokens before filter: 34\n",
      "[get_phrase_embedding] Tokens after filter: 33\n",
      "[get_phrase_embedding] Tokens before filter: 5\n",
      "[get_phrase_embedding] Tokens after filter: 5\n",
      "[get_phrase_embedding] Tokens before filter: 12\n",
      "[get_phrase_embedding] Tokens after filter: 12\n",
      "[get_phrase_embedding] Tokens before filter: 11\n",
      "[get_phrase_embedding] Tokens after filter: 11\n",
      "[get_phrase_embedding] Tokens before filter: 9\n",
      "[get_phrase_embedding] Tokens after filter: 9\n",
      "[get_phrase_embedding] Tokens before filter: 8\n",
      "[get_phrase_embedding] Tokens after filter: 6\n",
      "[get_phrase_embedding] Tokens before filter: 7\n",
      "[get_phrase_embedding] Tokens after filter: 7\n",
      "[get_phrase_embedding] Tokens before filter: 28\n",
      "[get_phrase_embedding] Tokens after filter: 27\n",
      "[get_phrase_embedding] Tokens before filter: 25\n",
      "[get_phrase_embedding] Tokens after filter: 24\n",
      "[get_phrase_embedding] Tokens before filter: 18\n",
      "[get_phrase_embedding] Tokens after filter: 16\n",
      "[get_phrase_embedding] Tokens before filter: 29\n",
      "[get_phrase_embedding] Tokens after filter: 29\n",
      "[get_phrase_embedding] Tokens before filter: 17\n",
      "[get_phrase_embedding] Tokens after filter: 17\n",
      "[get_phrase_embedding] Tokens before filter: 17\n",
      "[get_phrase_embedding] Tokens after filter: 15\n",
      "[get_phrase_embedding] Tokens before filter: 6\n",
      "[get_phrase_embedding] Tokens after filter: 6\n",
      "[get_phrase_embedding] Tokens before filter: 8\n",
      "[get_phrase_embedding] Tokens after filter: 8\n",
      "[get_phrase_embedding] Tokens before filter: 35\n",
      "[get_phrase_embedding] Tokens after filter: 34\n",
      "[get_phrase_embedding] Tokens before filter: 21\n",
      "[get_phrase_embedding] Tokens after filter: 18\n",
      "[get_phrase_embedding] Tokens before filter: 25\n",
      "[get_phrase_embedding] Tokens after filter: 24\n",
      "[get_phrase_embedding] Tokens before filter: 12\n",
      "[get_phrase_embedding] Tokens after filter: 12\n",
      "[get_phrase_embedding] Tokens before filter: 7\n",
      "[get_phrase_embedding] Tokens after filter: 7\n",
      "[get_phrase_embedding] Tokens before filter: 9\n",
      "[get_phrase_embedding] Tokens after filter: 9\n",
      "[get_phrase_embedding] Tokens before filter: 5\n",
      "[get_phrase_embedding] Tokens after filter: 5\n",
      "[get_phrase_embedding] Tokens before filter: 6\n",
      "[get_phrase_embedding] Tokens after filter: 6\n",
      "[get_phrase_embedding] Tokens before filter: 16\n",
      "[get_phrase_embedding] Tokens after filter: 16\n",
      "[get_phrase_embedding] Tokens before filter: 9\n",
      "[get_phrase_embedding] Tokens after filter: 8\n",
      "[get_phrase_embedding] Tokens before filter: 20\n",
      "[get_phrase_embedding] Tokens after filter: 20\n",
      "[get_phrase_embedding] Tokens before filter: 11\n",
      "[get_phrase_embedding] Tokens after filter: 11\n",
      "[get_phrase_embedding] Tokens before filter: 16\n",
      "[get_phrase_embedding] Tokens after filter: 15\n",
      "[get_phrase_embedding] Tokens before filter: 11\n",
      "[get_phrase_embedding] Tokens after filter: 11\n",
      "[get_phrase_embedding] Tokens before filter: 33\n",
      "[get_phrase_embedding] Tokens after filter: 29\n",
      "[get_phrase_embedding] Tokens before filter: 7\n",
      "[get_phrase_embedding] Tokens after filter: 6\n",
      "[get_phrase_embedding] Tokens before filter: 15\n",
      "[get_phrase_embedding] Tokens after filter: 15\n",
      "[get_phrase_embedding] Tokens before filter: 8\n",
      "[get_phrase_embedding] Tokens after filter: 8\n",
      "[get_phrase_embedding] Tokens before filter: 15\n",
      "[get_phrase_embedding] Tokens after filter: 15\n",
      "[get_phrase_embedding] Tokens before filter: 16\n",
      "[get_phrase_embedding] Tokens after filter: 16\n",
      "[get_phrase_embedding] Tokens before filter: 18\n",
      "[get_phrase_embedding] Tokens after filter: 18\n",
      "[get_phrase_embedding] Tokens before filter: 7\n",
      "[get_phrase_embedding] Tokens after filter: 7\n",
      "[get_phrase_embedding] Tokens before filter: 15\n",
      "[get_phrase_embedding] Tokens after filter: 14\n",
      "[get_phrase_embedding] Tokens before filter: 8\n",
      "[get_phrase_embedding] Tokens after filter: 8\n",
      "[get_phrase_embedding] Tokens before filter: 13\n",
      "[get_phrase_embedding] Tokens after filter: 13\n",
      "[get_phrase_embedding] Tokens before filter: 17\n",
      "[get_phrase_embedding] Tokens after filter: 17\n",
      "[get_phrase_embedding] Tokens before filter: 8\n",
      "[get_phrase_embedding] Tokens after filter: 8\n",
      "[get_phrase_embedding] Tokens before filter: 14\n",
      "[get_phrase_embedding] Tokens after filter: 14\n",
      "[get_phrase_embedding] Tokens before filter: 11\n",
      "[get_phrase_embedding] Tokens after filter: 11\n",
      "[get_phrase_embedding] Tokens before filter: 11\n",
      "[get_phrase_embedding] Tokens after filter: 10\n",
      "[get_phrase_embedding] Tokens before filter: 10\n",
      "[get_phrase_embedding] Tokens after filter: 10\n",
      "[get_phrase_embedding] Tokens before filter: 8\n",
      "[get_phrase_embedding] Tokens after filter: 7\n",
      "[get_phrase_embedding] Tokens before filter: 7\n",
      "[get_phrase_embedding] Tokens after filter: 7\n",
      "[get_phrase_embedding] Tokens before filter: 5\n",
      "[get_phrase_embedding] Tokens after filter: 5\n",
      "[get_phrase_embedding] Tokens before filter: 40\n",
      "[get_phrase_embedding] Tokens after filter: 40\n",
      "[get_phrase_embedding] Tokens before filter: 24\n",
      "[get_phrase_embedding] Tokens after filter: 18\n",
      "[get_phrase_embedding] Tokens before filter: 11\n",
      "[get_phrase_embedding] Tokens after filter: 11\n",
      "[get_phrase_embedding] Tokens before filter: 7\n",
      "[get_phrase_embedding] Tokens after filter: 7\n",
      "[get_phrase_embedding] Tokens before filter: 13\n",
      "[get_phrase_embedding] Tokens after filter: 12\n",
      "[get_phrase_embedding] Tokens before filter: 11\n",
      "[get_phrase_embedding] Tokens after filter: 11\n",
      "[get_phrase_embedding] Tokens before filter: 9\n",
      "[get_phrase_embedding] Tokens after filter: 9\n",
      "[get_phrase_embedding] Tokens before filter: 7\n",
      "[get_phrase_embedding] Tokens after filter: 6\n",
      "[get_phrase_embedding] Tokens before filter: 9\n",
      "[get_phrase_embedding] Tokens after filter: 9\n",
      "[get_phrase_embedding] Tokens before filter: 17\n",
      "[get_phrase_embedding] Tokens after filter: 16\n",
      "[get_phrase_embedding] Tokens before filter: 11\n",
      "[get_phrase_embedding] Tokens after filter: 11\n",
      "[get_phrase_embedding] Tokens before filter: 11\n",
      "[get_phrase_embedding] Tokens after filter: 11\n",
      "[get_phrase_embedding] Tokens before filter: 9\n",
      "[get_phrase_embedding] Tokens after filter: 9\n",
      "[get_phrase_embedding] Tokens before filter: 9\n",
      "[get_phrase_embedding] Tokens after filter: 9\n",
      "[get_phrase_embedding] Tokens before filter: 16\n",
      "[get_phrase_embedding] Tokens after filter: 16\n",
      "[get_phrase_embedding] Tokens before filter: 16\n",
      "[get_phrase_embedding] Tokens after filter: 16\n",
      "[get_phrase_embedding] Tokens before filter: 16\n",
      "[get_phrase_embedding] Tokens after filter: 16\n",
      "[get_phrase_embedding] Tokens before filter: 5\n",
      "[get_phrase_embedding] Tokens after filter: 5\n",
      "[get_phrase_embedding] Tokens before filter: 11\n",
      "[get_phrase_embedding] Tokens after filter: 11\n",
      "[get_phrase_embedding] Tokens before filter: 7\n",
      "[get_phrase_embedding] Tokens after filter: 7\n",
      "[get_phrase_embedding] Tokens before filter: 14\n",
      "[get_phrase_embedding] Tokens after filter: 14\n",
      "[get_phrase_embedding] Tokens before filter: 11\n",
      "[get_phrase_embedding] Tokens after filter: 9\n",
      "[get_phrase_embedding] Tokens before filter: 8\n",
      "[get_phrase_embedding] Tokens after filter: 8\n",
      "[get_phrase_embedding] Tokens before filter: 13\n",
      "[get_phrase_embedding] Tokens after filter: 13\n",
      "[get_phrase_embedding] Tokens before filter: 12\n",
      "[get_phrase_embedding] Tokens after filter: 12\n",
      "[get_phrase_embedding] Tokens before filter: 15\n",
      "[get_phrase_embedding] Tokens after filter: 15\n",
      "[get_phrase_embedding] Tokens before filter: 23\n",
      "[get_phrase_embedding] Tokens after filter: 23\n",
      "[get_phrase_embedding] Tokens before filter: 10\n",
      "[get_phrase_embedding] Tokens after filter: 10\n",
      "[get_phrase_embedding] Tokens before filter: 5\n",
      "[get_phrase_embedding] Tokens after filter: 5\n",
      "[get_phrase_embedding] Tokens before filter: 7\n",
      "[get_phrase_embedding] Tokens after filter: 7\n",
      "[get_phrase_embedding] Tokens before filter: 13\n",
      "[get_phrase_embedding] Tokens after filter: 13\n",
      "[get_phrase_embedding] Tokens before filter: 21\n",
      "[get_phrase_embedding] Tokens after filter: 21\n",
      "[get_phrase_embedding] Tokens before filter: 7\n",
      "[get_phrase_embedding] Tokens after filter: 7\n",
      "[get_phrase_embedding] Tokens before filter: 5\n",
      "[get_phrase_embedding] Tokens after filter: 5\n",
      "[get_phrase_embedding] Tokens before filter: 10\n",
      "[get_phrase_embedding] Tokens after filter: 10\n",
      "[get_phrase_embedding] Tokens before filter: 9\n",
      "[get_phrase_embedding] Tokens after filter: 8\n",
      "[get_phrase_embedding] Tokens before filter: 9\n",
      "[get_phrase_embedding] Tokens after filter: 9\n",
      "[get_phrase_embedding] Tokens before filter: 13\n",
      "[get_phrase_embedding] Tokens after filter: 12\n",
      "[get_phrase_embedding] Tokens before filter: 11\n",
      "[get_phrase_embedding] Tokens after filter: 11\n",
      "[get_phrase_embedding] Tokens before filter: 15\n",
      "[get_phrase_embedding] Tokens after filter: 12\n",
      "[get_phrase_embedding] Tokens before filter: 32\n",
      "[get_phrase_embedding] Tokens after filter: 27\n",
      "[get_phrase_embedding] Tokens before filter: 10\n",
      "[get_phrase_embedding] Tokens after filter: 10\n",
      "[get_phrase_embedding] Tokens before filter: 12\n",
      "[get_phrase_embedding] Tokens after filter: 11\n",
      "[get_phrase_embedding] Tokens before filter: 22\n",
      "[get_phrase_embedding] Tokens after filter: 22\n",
      "[get_phrase_embedding] Tokens before filter: 14\n",
      "[get_phrase_embedding] Tokens after filter: 14\n",
      "[get_phrase_embedding] Tokens before filter: 10\n",
      "[get_phrase_embedding] Tokens after filter: 10\n",
      "[get_phrase_embedding] Tokens before filter: 10\n",
      "[get_phrase_embedding] Tokens after filter: 9\n",
      "[get_phrase_embedding] Tokens before filter: 5\n",
      "[get_phrase_embedding] Tokens after filter: 5\n",
      "[get_phrase_embedding] Tokens before filter: 19\n",
      "[get_phrase_embedding] Tokens after filter: 18\n",
      "[get_phrase_embedding] Tokens before filter: 13\n",
      "[get_phrase_embedding] Tokens after filter: 13\n",
      "[get_phrase_embedding] Tokens before filter: 25\n",
      "[get_phrase_embedding] Tokens after filter: 25\n",
      "[get_phrase_embedding] Tokens before filter: 10\n",
      "[get_phrase_embedding] Tokens after filter: 9\n",
      "[get_phrase_embedding] Tokens before filter: 11\n",
      "[get_phrase_embedding] Tokens after filter: 11\n",
      "[get_phrase_embedding] Tokens before filter: 18\n",
      "[get_phrase_embedding] Tokens after filter: 18\n",
      "[get_phrase_embedding] Tokens before filter: 22\n",
      "[get_phrase_embedding] Tokens after filter: 22\n",
      "[get_phrase_embedding] Tokens before filter: 25\n",
      "[get_phrase_embedding] Tokens after filter: 25\n",
      "[get_phrase_embedding] Tokens before filter: 10\n",
      "[get_phrase_embedding] Tokens after filter: 10\n",
      "[get_phrase_embedding] Tokens before filter: 13\n",
      "[get_phrase_embedding] Tokens after filter: 13\n",
      "[get_phrase_embedding] Tokens before filter: 8\n",
      "[get_phrase_embedding] Tokens after filter: 8\n",
      "[get_phrase_embedding] Tokens before filter: 14\n",
      "[get_phrase_embedding] Tokens after filter: 14\n",
      "[get_phrase_embedding] Tokens before filter: 13\n",
      "[get_phrase_embedding] Tokens after filter: 13\n",
      "[get_phrase_embedding] Tokens before filter: 28\n",
      "[get_phrase_embedding] Tokens after filter: 28\n",
      "[get_phrase_embedding] Tokens before filter: 9\n",
      "[get_phrase_embedding] Tokens after filter: 9\n",
      "[get_phrase_embedding] Tokens before filter: 7\n",
      "[get_phrase_embedding] Tokens after filter: 7\n",
      "[get_phrase_embedding] Tokens before filter: 10\n",
      "[get_phrase_embedding] Tokens after filter: 10\n",
      "[get_phrase_embedding] Tokens before filter: 9\n",
      "[get_phrase_embedding] Tokens after filter: 9\n",
      "[get_phrase_embedding] Tokens before filter: 15\n",
      "[get_phrase_embedding] Tokens after filter: 15\n",
      "[get_phrase_embedding] Tokens before filter: 15\n",
      "[get_phrase_embedding] Tokens after filter: 15\n",
      "[get_phrase_embedding] Tokens before filter: 7\n",
      "[get_phrase_embedding] Tokens after filter: 7\n",
      "[get_phrase_embedding] Tokens before filter: 16\n",
      "[get_phrase_embedding] Tokens after filter: 14\n",
      "[get_phrase_embedding] Tokens before filter: 9\n",
      "[get_phrase_embedding] Tokens after filter: 9\n",
      "[get_phrase_embedding] Tokens before filter: 8\n",
      "[get_phrase_embedding] Tokens after filter: 8\n",
      "[get_phrase_embedding] Tokens before filter: 16\n",
      "[get_phrase_embedding] Tokens after filter: 16\n",
      "[get_phrase_embedding] Tokens before filter: 25\n",
      "[get_phrase_embedding] Tokens after filter: 25\n",
      "[get_phrase_embedding] Tokens before filter: 18\n",
      "[get_phrase_embedding] Tokens after filter: 18\n",
      "[get_phrase_embedding] Tokens before filter: 10\n",
      "[get_phrase_embedding] Tokens after filter: 9\n",
      "[get_phrase_embedding] Tokens before filter: 12\n",
      "[get_phrase_embedding] Tokens after filter: 12\n",
      "[get_phrase_embedding] Tokens before filter: 11\n",
      "[get_phrase_embedding] Tokens after filter: 11\n",
      "[get_phrase_embedding] Tokens before filter: 15\n",
      "[get_phrase_embedding] Tokens after filter: 15\n",
      "[get_phrase_embedding] Tokens before filter: 23\n",
      "[get_phrase_embedding] Tokens after filter: 22\n",
      "[get_phrase_embedding] Tokens before filter: 19\n",
      "[get_phrase_embedding] Tokens after filter: 17\n",
      "[get_phrase_embedding] Tokens before filter: 14\n",
      "[get_phrase_embedding] Tokens after filter: 14\n",
      "[get_phrase_embedding] Tokens before filter: 36\n",
      "[get_phrase_embedding] Tokens after filter: 35\n",
      "[get_phrase_embedding] Tokens before filter: 17\n",
      "[get_phrase_embedding] Tokens after filter: 17\n",
      "[get_phrase_embedding] Tokens before filter: 13\n",
      "[get_phrase_embedding] Tokens after filter: 13\n",
      "[get_phrase_embedding] Tokens before filter: 9\n",
      "[get_phrase_embedding] Tokens after filter: 9\n",
      "[get_phrase_embedding] Tokens before filter: 14\n",
      "[get_phrase_embedding] Tokens after filter: 14\n",
      "[get_phrase_embedding] Tokens before filter: 10\n",
      "[get_phrase_embedding] Tokens after filter: 9\n",
      "[get_phrase_embedding] Tokens before filter: 9\n",
      "[get_phrase_embedding] Tokens after filter: 9\n",
      "[get_phrase_embedding] Tokens before filter: 14\n",
      "[get_phrase_embedding] Tokens after filter: 13\n",
      "[get_phrase_embedding] Tokens before filter: 9\n",
      "[get_phrase_embedding] Tokens after filter: 9\n",
      "[get_phrase_embedding] Tokens before filter: 8\n",
      "[get_phrase_embedding] Tokens after filter: 8\n",
      "[get_phrase_embedding] Tokens before filter: 17\n",
      "[get_phrase_embedding] Tokens after filter: 17\n",
      "[get_phrase_embedding] Tokens before filter: 8\n",
      "[get_phrase_embedding] Tokens after filter: 7\n",
      "[get_phrase_embedding] Tokens before filter: 10\n",
      "[get_phrase_embedding] Tokens after filter: 9\n",
      "[get_phrase_embedding] Tokens before filter: 12\n",
      "[get_phrase_embedding] Tokens after filter: 12\n",
      "[get_phrase_embedding] Tokens before filter: 17\n",
      "[get_phrase_embedding] Tokens after filter: 17\n",
      "[get_phrase_embedding] Tokens before filter: 10\n",
      "[get_phrase_embedding] Tokens after filter: 10\n",
      "[get_phrase_embedding] Tokens before filter: 23\n",
      "[get_phrase_embedding] Tokens after filter: 21\n",
      "[get_phrase_embedding] Tokens before filter: 10\n",
      "[get_phrase_embedding] Tokens after filter: 9\n",
      "[get_phrase_embedding] Tokens before filter: 10\n",
      "[get_phrase_embedding] Tokens after filter: 10\n",
      "[get_phrase_embedding] Tokens before filter: 10\n",
      "[get_phrase_embedding] Tokens after filter: 10\n",
      "[get_phrase_embedding] Tokens before filter: 8\n",
      "[get_phrase_embedding] Tokens after filter: 8\n",
      "[get_phrase_embedding] Tokens before filter: 9\n",
      "[get_phrase_embedding] Tokens after filter: 9\n",
      "[get_phrase_embedding] Tokens before filter: 11\n",
      "[get_phrase_embedding] Tokens after filter: 11\n",
      "[get_phrase_embedding] Tokens before filter: 12\n",
      "[get_phrase_embedding] Tokens after filter: 12\n",
      "[get_phrase_embedding] Tokens before filter: 19\n",
      "[get_phrase_embedding] Tokens after filter: 19\n",
      "[get_phrase_embedding] Tokens before filter: 9\n",
      "[get_phrase_embedding] Tokens after filter: 9\n",
      "[get_phrase_embedding] Tokens before filter: 10\n",
      "[get_phrase_embedding] Tokens after filter: 10\n",
      "[get_phrase_embedding] Tokens before filter: 12\n",
      "[get_phrase_embedding] Tokens after filter: 12\n",
      "[get_phrase_embedding] Tokens before filter: 25\n",
      "[get_phrase_embedding] Tokens after filter: 25\n",
      "[get_phrase_embedding] Tokens before filter: 11\n",
      "[get_phrase_embedding] Tokens after filter: 11\n",
      "[get_phrase_embedding] Tokens before filter: 12\n",
      "[get_phrase_embedding] Tokens after filter: 12\n",
      "[get_phrase_embedding] Tokens before filter: 10\n",
      "[get_phrase_embedding] Tokens after filter: 10\n",
      "[get_phrase_embedding] Tokens before filter: 12\n",
      "[get_phrase_embedding] Tokens after filter: 12\n",
      "[get_phrase_embedding] Tokens before filter: 5\n",
      "[get_phrase_embedding] Tokens after filter: 5\n",
      "[get_phrase_embedding] Tokens before filter: 13\n",
      "[get_phrase_embedding] Tokens after filter: 13\n",
      "[get_phrase_embedding] Tokens before filter: 12\n",
      "[get_phrase_embedding] Tokens after filter: 12\n",
      "[get_phrase_embedding] Tokens before filter: 18\n",
      "[get_phrase_embedding] Tokens after filter: 18\n",
      "[get_phrase_embedding] Tokens before filter: 27\n",
      "[get_phrase_embedding] Tokens after filter: 23\n",
      "[get_phrase_embedding] Tokens before filter: 11\n",
      "[get_phrase_embedding] Tokens after filter: 10\n",
      "[get_phrase_embedding] Tokens before filter: 29\n",
      "[get_phrase_embedding] Tokens after filter: 29\n",
      "[get_phrase_embedding] Tokens before filter: 20\n",
      "[get_phrase_embedding] Tokens after filter: 14\n",
      "[get_phrase_embedding] Tokens before filter: 41\n",
      "[get_phrase_embedding] Tokens after filter: 41\n",
      "[get_phrase_embedding] Tokens before filter: 9\n",
      "[get_phrase_embedding] Tokens after filter: 8\n",
      "[get_phrase_embedding] Tokens before filter: 17\n",
      "[get_phrase_embedding] Tokens after filter: 16\n",
      "[get_phrase_embedding] Tokens before filter: 9\n",
      "[get_phrase_embedding] Tokens after filter: 9\n",
      "[get_phrase_embedding] Tokens before filter: 9\n",
      "[get_phrase_embedding] Tokens after filter: 9\n",
      "[get_phrase_embedding] Tokens before filter: 14\n",
      "[get_phrase_embedding] Tokens after filter: 11\n",
      "[get_phrase_embedding] Tokens before filter: 7\n",
      "[get_phrase_embedding] Tokens after filter: 7\n",
      "[get_phrase_embedding] Tokens before filter: 10\n",
      "[get_phrase_embedding] Tokens after filter: 10\n",
      "[get_phrase_embedding] Tokens before filter: 14\n",
      "[get_phrase_embedding] Tokens after filter: 13\n",
      "[get_phrase_embedding] Tokens before filter: 15\n",
      "[get_phrase_embedding] Tokens after filter: 14\n",
      "[get_phrase_embedding] Tokens before filter: 4\n",
      "[get_phrase_embedding] Tokens after filter: 4\n",
      "[get_phrase_embedding] Tokens before filter: 10\n",
      "[get_phrase_embedding] Tokens after filter: 10\n",
      "[get_phrase_embedding] Tokens before filter: 6\n",
      "[get_phrase_embedding] Tokens after filter: 6\n",
      "[get_phrase_embedding] Tokens before filter: 26\n",
      "[get_phrase_embedding] Tokens after filter: 26\n",
      "[get_phrase_embedding] Tokens before filter: 16\n",
      "[get_phrase_embedding] Tokens after filter: 16\n",
      "[get_phrase_embedding] Tokens before filter: 8\n",
      "[get_phrase_embedding] Tokens after filter: 8\n",
      "[get_phrase_embedding] Tokens before filter: 9\n",
      "[get_phrase_embedding] Tokens after filter: 9\n",
      "[get_phrase_embedding] Tokens before filter: 16\n",
      "[get_phrase_embedding] Tokens after filter: 16\n",
      "[get_phrase_embedding] Tokens before filter: 22\n",
      "[get_phrase_embedding] Tokens after filter: 21\n",
      "[get_phrase_embedding] Tokens before filter: 9\n",
      "[get_phrase_embedding] Tokens after filter: 8\n",
      "[get_phrase_embedding] Tokens before filter: 13\n",
      "[get_phrase_embedding] Tokens after filter: 13\n",
      "[get_phrase_embedding] Tokens before filter: 9\n",
      "[get_phrase_embedding] Tokens after filter: 9\n",
      "[get_phrase_embedding] Tokens before filter: 28\n",
      "[get_phrase_embedding] Tokens after filter: 27\n",
      "[get_phrase_embedding] Tokens before filter: 9\n",
      "[get_phrase_embedding] Tokens after filter: 8\n",
      "[get_phrase_embedding] Tokens before filter: 15\n",
      "[get_phrase_embedding] Tokens after filter: 15\n",
      "[get_phrase_embedding] Tokens before filter: 21\n",
      "[get_phrase_embedding] Tokens after filter: 21\n",
      "[get_phrase_embedding] Tokens before filter: 7\n",
      "[get_phrase_embedding] Tokens after filter: 6\n",
      "[get_phrase_embedding] Tokens before filter: 10\n",
      "[get_phrase_embedding] Tokens after filter: 9\n",
      "[get_phrase_embedding] Tokens before filter: 12\n",
      "[get_phrase_embedding] Tokens after filter: 12\n",
      "[get_phrase_embedding] Tokens before filter: 13\n",
      "[get_phrase_embedding] Tokens after filter: 13\n",
      "[get_phrase_embedding] Tokens before filter: 7\n",
      "[get_phrase_embedding] Tokens after filter: 7\n",
      "[get_phrase_embedding] Tokens before filter: 20\n",
      "[get_phrase_embedding] Tokens after filter: 20\n",
      "[get_phrase_embedding] Tokens before filter: 9\n",
      "[get_phrase_embedding] Tokens after filter: 9\n",
      "[get_phrase_embedding] Tokens before filter: 10\n",
      "[get_phrase_embedding] Tokens after filter: 6\n",
      "[get_phrase_embedding] Tokens before filter: 13\n",
      "[get_phrase_embedding] Tokens after filter: 13\n",
      "[get_phrase_embedding] Tokens before filter: 10\n",
      "[get_phrase_embedding] Tokens after filter: 10\n",
      "[get_phrase_embedding] Tokens before filter: 6\n",
      "[get_phrase_embedding] Tokens after filter: 6\n",
      "[get_phrase_embedding] Tokens before filter: 15\n",
      "[get_phrase_embedding] Tokens after filter: 15\n",
      "[get_phrase_embedding] Tokens before filter: 6\n",
      "[get_phrase_embedding] Tokens after filter: 6\n",
      "[get_phrase_embedding] Tokens before filter: 9\n",
      "[get_phrase_embedding] Tokens after filter: 9\n",
      "[get_phrase_embedding] Tokens before filter: 29\n",
      "[get_phrase_embedding] Tokens after filter: 29\n",
      "[get_phrase_embedding] Tokens before filter: 11\n",
      "[get_phrase_embedding] Tokens after filter: 11\n",
      "[get_phrase_embedding] Tokens before filter: 9\n",
      "[get_phrase_embedding] Tokens after filter: 9\n",
      "[get_phrase_embedding] Tokens before filter: 13\n",
      "[get_phrase_embedding] Tokens after filter: 13\n",
      "[get_phrase_embedding] Tokens before filter: 29\n",
      "[get_phrase_embedding] Tokens after filter: 22\n",
      "[get_phrase_embedding] Tokens before filter: 11\n",
      "[get_phrase_embedding] Tokens after filter: 10\n",
      "[get_phrase_embedding] Tokens before filter: 6\n",
      "[get_phrase_embedding] Tokens after filter: 6\n",
      "[get_phrase_embedding] Tokens before filter: 32\n",
      "[get_phrase_embedding] Tokens after filter: 32\n",
      "[get_phrase_embedding] Tokens before filter: 14\n",
      "[get_phrase_embedding] Tokens after filter: 14\n",
      "[get_phrase_embedding] Tokens before filter: 15\n",
      "[get_phrase_embedding] Tokens after filter: 15\n",
      "[get_phrase_embedding] Tokens before filter: 11\n",
      "[get_phrase_embedding] Tokens after filter: 11\n",
      "[get_phrase_embedding] Tokens before filter: 8\n",
      "[get_phrase_embedding] Tokens after filter: 8\n",
      "[get_phrase_embedding] Tokens before filter: 16\n",
      "[get_phrase_embedding] Tokens after filter: 15\n",
      "[get_phrase_embedding] Tokens before filter: 11\n",
      "[get_phrase_embedding] Tokens after filter: 11\n",
      "[get_phrase_embedding] Tokens before filter: 10\n",
      "[get_phrase_embedding] Tokens after filter: 10\n",
      "[get_phrase_embedding] Tokens before filter: 6\n",
      "[get_phrase_embedding] Tokens after filter: 6\n",
      "[get_phrase_embedding] Tokens before filter: 11\n",
      "[get_phrase_embedding] Tokens after filter: 11\n",
      "[get_phrase_embedding] Tokens before filter: 13\n",
      "[get_phrase_embedding] Tokens after filter: 13\n",
      "[get_phrase_embedding] Tokens before filter: 27\n",
      "[get_phrase_embedding] Tokens after filter: 27\n",
      "[get_phrase_embedding] Tokens before filter: 8\n",
      "[get_phrase_embedding] Tokens after filter: 8\n",
      "[get_phrase_embedding] Tokens before filter: 12\n",
      "[get_phrase_embedding] Tokens after filter: 12\n",
      "[get_phrase_embedding] Tokens before filter: 13\n",
      "[get_phrase_embedding] Tokens after filter: 13\n",
      "[get_phrase_embedding] Tokens before filter: 7\n",
      "[get_phrase_embedding] Tokens after filter: 7\n",
      "[get_phrase_embedding] Tokens before filter: 9\n",
      "[get_phrase_embedding] Tokens after filter: 9\n",
      "[get_phrase_embedding] Tokens before filter: 11\n",
      "[get_phrase_embedding] Tokens after filter: 11\n",
      "[get_phrase_embedding] Tokens before filter: 33\n",
      "[get_phrase_embedding] Tokens after filter: 33\n",
      "[get_phrase_embedding] Tokens before filter: 14\n",
      "[get_phrase_embedding] Tokens after filter: 14\n",
      "[get_phrase_embedding] Tokens before filter: 10\n",
      "[get_phrase_embedding] Tokens after filter: 10\n",
      "[get_phrase_embedding] Tokens before filter: 17\n",
      "[get_phrase_embedding] Tokens after filter: 17\n",
      "[get_phrase_embedding] Tokens before filter: 22\n",
      "[get_phrase_embedding] Tokens after filter: 22\n",
      "[get_phrase_embedding] Tokens before filter: 12\n",
      "[get_phrase_embedding] Tokens after filter: 12\n",
      "[get_phrase_embedding] Tokens before filter: 13\n",
      "[get_phrase_embedding] Tokens after filter: 13\n",
      "[get_phrase_embedding] Tokens before filter: 7\n",
      "[get_phrase_embedding] Tokens after filter: 7\n",
      "[get_phrase_embedding] Tokens before filter: 13\n",
      "[get_phrase_embedding] Tokens after filter: 12\n",
      "[get_phrase_embedding] Tokens before filter: 18\n",
      "[get_phrase_embedding] Tokens after filter: 18\n",
      "[get_phrase_embedding] Tokens before filter: 17\n",
      "[get_phrase_embedding] Tokens after filter: 17\n",
      "[get_phrase_embedding] Tokens before filter: 10\n",
      "[get_phrase_embedding] Tokens after filter: 10\n",
      "[get_phrase_embedding] Tokens before filter: 9\n",
      "[get_phrase_embedding] Tokens after filter: 9\n",
      "[get_phrase_embedding] Tokens before filter: 9\n",
      "[get_phrase_embedding] Tokens after filter: 8\n",
      "[get_phrase_embedding] Tokens before filter: 11\n",
      "[get_phrase_embedding] Tokens after filter: 11\n",
      "[get_phrase_embedding] Tokens before filter: 10\n",
      "[get_phrase_embedding] Tokens after filter: 10\n",
      "[get_phrase_embedding] Tokens before filter: 22\n",
      "[get_phrase_embedding] Tokens after filter: 20\n",
      "[get_phrase_embedding] Tokens before filter: 7\n",
      "[get_phrase_embedding] Tokens after filter: 7\n",
      "[get_phrase_embedding] Tokens before filter: 8\n",
      "[get_phrase_embedding] Tokens after filter: 8\n",
      "[get_phrase_embedding] Tokens before filter: 7\n",
      "[get_phrase_embedding] Tokens after filter: 7\n",
      "[get_phrase_embedding] Tokens before filter: 21\n",
      "[get_phrase_embedding] Tokens after filter: 21\n",
      "[get_phrase_embedding] Tokens before filter: 13\n",
      "[get_phrase_embedding] Tokens after filter: 13\n",
      "[get_phrase_embedding] Tokens before filter: 15\n",
      "[get_phrase_embedding] Tokens after filter: 15\n",
      "[get_phrase_embedding] Tokens before filter: 21\n",
      "[get_phrase_embedding] Tokens after filter: 21\n",
      "[get_phrase_embedding] Tokens before filter: 21\n",
      "[get_phrase_embedding] Tokens after filter: 21\n",
      "[get_phrase_embedding] Tokens before filter: 9\n",
      "[get_phrase_embedding] Tokens after filter: 8\n",
      "[get_phrase_embedding] Tokens before filter: 14\n",
      "[get_phrase_embedding] Tokens after filter: 14\n",
      "[get_phrase_embedding] Tokens before filter: 16\n",
      "[get_phrase_embedding] Tokens after filter: 16\n",
      "[get_phrase_embedding] Tokens before filter: 35\n",
      "[get_phrase_embedding] Tokens after filter: 34\n",
      "[get_phrase_embedding] Tokens before filter: 15\n",
      "[get_phrase_embedding] Tokens after filter: 12\n",
      "[get_phrase_embedding] Tokens before filter: 12\n",
      "[get_phrase_embedding] Tokens after filter: 12\n",
      "[get_phrase_embedding] Tokens before filter: 26\n",
      "[get_phrase_embedding] Tokens after filter: 22\n",
      "[get_phrase_embedding] Tokens before filter: 7\n",
      "[get_phrase_embedding] Tokens after filter: 6\n",
      "[get_phrase_embedding] Tokens before filter: 8\n",
      "[get_phrase_embedding] Tokens after filter: 8\n",
      "[get_phrase_embedding] Tokens before filter: 27\n",
      "[get_phrase_embedding] Tokens after filter: 24\n",
      "[get_phrase_embedding] Tokens before filter: 7\n",
      "[get_phrase_embedding] Tokens after filter: 7\n",
      "[get_phrase_embedding] Tokens before filter: 11\n",
      "[get_phrase_embedding] Tokens after filter: 11\n",
      "[get_phrase_embedding] Tokens before filter: 8\n",
      "[get_phrase_embedding] Tokens after filter: 8\n",
      "[get_phrase_embedding] Tokens before filter: 13\n",
      "[get_phrase_embedding] Tokens after filter: 13\n",
      "[get_phrase_embedding] Tokens before filter: 39\n",
      "[get_phrase_embedding] Tokens after filter: 38\n",
      "[get_phrase_embedding] Tokens before filter: 21\n",
      "[get_phrase_embedding] Tokens after filter: 21\n",
      "[get_phrase_embedding] Tokens before filter: 14\n",
      "[get_phrase_embedding] Tokens after filter: 14\n",
      "[get_phrase_embedding] Tokens before filter: 10\n",
      "[get_phrase_embedding] Tokens after filter: 10\n",
      "[get_phrase_embedding] Tokens before filter: 12\n",
      "[get_phrase_embedding] Tokens after filter: 12\n",
      "[get_phrase_embedding] Tokens before filter: 14\n",
      "[get_phrase_embedding] Tokens after filter: 14\n",
      "[get_phrase_embedding] Tokens before filter: 8\n",
      "[get_phrase_embedding] Tokens after filter: 8\n",
      "[get_phrase_embedding] Tokens before filter: 30\n",
      "[get_phrase_embedding] Tokens after filter: 30\n",
      "[get_phrase_embedding] Tokens before filter: 9\n",
      "[get_phrase_embedding] Tokens after filter: 9\n",
      "[get_phrase_embedding] Tokens before filter: 23\n",
      "[get_phrase_embedding] Tokens after filter: 22\n",
      "[get_phrase_embedding] Tokens before filter: 13\n",
      "[get_phrase_embedding] Tokens after filter: 13\n",
      "[get_phrase_embedding] Tokens before filter: 13\n",
      "[get_phrase_embedding] Tokens after filter: 13\n",
      "[get_phrase_embedding] Tokens before filter: 11\n",
      "[get_phrase_embedding] Tokens after filter: 10\n",
      "[get_phrase_embedding] Tokens before filter: 11\n",
      "[get_phrase_embedding] Tokens after filter: 11\n",
      "[get_phrase_embedding] Tokens before filter: 14\n",
      "[get_phrase_embedding] Tokens after filter: 14\n",
      "[get_phrase_embedding] Tokens before filter: 17\n",
      "[get_phrase_embedding] Tokens after filter: 17\n",
      "[get_phrase_embedding] Tokens before filter: 19\n",
      "[get_phrase_embedding] Tokens after filter: 19\n",
      "[get_phrase_embedding] Tokens before filter: 9\n",
      "[get_phrase_embedding] Tokens after filter: 9\n",
      "[get_phrase_embedding] Tokens before filter: 8\n",
      "[get_phrase_embedding] Tokens after filter: 8\n",
      "[get_phrase_embedding] Tokens before filter: 14\n",
      "[get_phrase_embedding] Tokens after filter: 14\n",
      "[get_phrase_embedding] Tokens before filter: 7\n",
      "[get_phrase_embedding] Tokens after filter: 6\n",
      "[get_phrase_embedding] Tokens before filter: 24\n",
      "[get_phrase_embedding] Tokens after filter: 21\n",
      "[get_phrase_embedding] Tokens before filter: 24\n",
      "[get_phrase_embedding] Tokens after filter: 24\n",
      "[get_phrase_embedding] Tokens before filter: 14\n",
      "[get_phrase_embedding] Tokens after filter: 14\n",
      "[get_phrase_embedding] Tokens before filter: 7\n",
      "[get_phrase_embedding] Tokens after filter: 7\n",
      "[get_phrase_embedding] Tokens before filter: 6\n",
      "[get_phrase_embedding] Tokens after filter: 6\n",
      "[get_phrase_embedding] Tokens before filter: 9\n",
      "[get_phrase_embedding] Tokens after filter: 9\n",
      "[get_phrase_embedding] Tokens before filter: 14\n",
      "[get_phrase_embedding] Tokens after filter: 14\n",
      "[get_phrase_embedding] Tokens before filter: 11\n",
      "[get_phrase_embedding] Tokens after filter: 11\n",
      "[get_phrase_embedding] Tokens before filter: 12\n",
      "[get_phrase_embedding] Tokens after filter: 12\n",
      "[get_phrase_embedding] Tokens before filter: 8\n",
      "[get_phrase_embedding] Tokens after filter: 8\n",
      "[get_phrase_embedding] Tokens before filter: 41\n",
      "[get_phrase_embedding] Tokens after filter: 36\n",
      "[get_phrase_embedding] Tokens before filter: 58\n",
      "[get_phrase_embedding] Tokens after filter: 57\n",
      "[get_phrase_embedding] Tokens before filter: 9\n",
      "[get_phrase_embedding] Tokens after filter: 9\n",
      "[get_phrase_embedding] Tokens before filter: 9\n",
      "[get_phrase_embedding] Tokens after filter: 9\n",
      "[get_phrase_embedding] Tokens before filter: 7\n",
      "[get_phrase_embedding] Tokens after filter: 7\n",
      "[get_phrase_embedding] Tokens before filter: 19\n",
      "[get_phrase_embedding] Tokens after filter: 18\n",
      "[get_phrase_embedding] Tokens before filter: 4\n",
      "[get_phrase_embedding] Tokens after filter: 4\n",
      "[get_phrase_embedding] Tokens before filter: 12\n",
      "[get_phrase_embedding] Tokens after filter: 10\n",
      "[get_phrase_embedding] Tokens before filter: 19\n",
      "[get_phrase_embedding] Tokens after filter: 19\n",
      "[get_phrase_embedding] Tokens before filter: 9\n",
      "[get_phrase_embedding] Tokens after filter: 9\n",
      "[get_phrase_embedding] Tokens before filter: 7\n",
      "[get_phrase_embedding] Tokens after filter: 7\n",
      "[get_phrase_embedding] Tokens before filter: 22\n",
      "[get_phrase_embedding] Tokens after filter: 22\n",
      "[get_phrase_embedding] Tokens before filter: 40\n",
      "[get_phrase_embedding] Tokens after filter: 40\n",
      "[get_phrase_embedding] Tokens before filter: 10\n",
      "[get_phrase_embedding] Tokens after filter: 9\n",
      "[get_phrase_embedding] Tokens before filter: 7\n",
      "[get_phrase_embedding] Tokens after filter: 7\n",
      "[get_phrase_embedding] Tokens before filter: 6\n",
      "[get_phrase_embedding] Tokens after filter: 6\n",
      "[get_phrase_embedding] Tokens before filter: 13\n",
      "[get_phrase_embedding] Tokens after filter: 13\n",
      "[get_phrase_embedding] Tokens before filter: 25\n",
      "[get_phrase_embedding] Tokens after filter: 25\n",
      "[get_phrase_embedding] Tokens before filter: 10\n",
      "[get_phrase_embedding] Tokens after filter: 10\n",
      "[get_phrase_embedding] Tokens before filter: 16\n",
      "[get_phrase_embedding] Tokens after filter: 16\n",
      "[get_phrase_embedding] Tokens before filter: 10\n",
      "[get_phrase_embedding] Tokens after filter: 9\n",
      "[get_phrase_embedding] Tokens before filter: 30\n",
      "[get_phrase_embedding] Tokens after filter: 30\n",
      "[get_phrase_embedding] Tokens before filter: 8\n",
      "[get_phrase_embedding] Tokens after filter: 7\n",
      "[get_phrase_embedding] Tokens before filter: 15\n",
      "[get_phrase_embedding] Tokens after filter: 15\n",
      "[get_phrase_embedding] Tokens before filter: 11\n",
      "[get_phrase_embedding] Tokens after filter: 11\n",
      "[get_phrase_embedding] Tokens before filter: 11\n",
      "[get_phrase_embedding] Tokens after filter: 11\n",
      "[get_phrase_embedding] Tokens before filter: 8\n",
      "[get_phrase_embedding] Tokens after filter: 8\n",
      "[get_phrase_embedding] Tokens before filter: 6\n",
      "[get_phrase_embedding] Tokens after filter: 6\n",
      "[get_phrase_embedding] Tokens before filter: 6\n",
      "[get_phrase_embedding] Tokens after filter: 6\n",
      "[get_phrase_embedding] Tokens before filter: 10\n",
      "[get_phrase_embedding] Tokens after filter: 10\n",
      "[get_phrase_embedding] Tokens before filter: 23\n",
      "[get_phrase_embedding] Tokens after filter: 23\n",
      "[get_phrase_embedding] Tokens before filter: 11\n",
      "[get_phrase_embedding] Tokens after filter: 11\n",
      "[get_phrase_embedding] Tokens before filter: 10\n",
      "[get_phrase_embedding] Tokens after filter: 10\n",
      "[get_phrase_embedding] Tokens before filter: 5\n",
      "[get_phrase_embedding] Tokens after filter: 5\n",
      "[get_phrase_embedding] Tokens before filter: 4\n",
      "[get_phrase_embedding] Tokens after filter: 4\n",
      "[get_phrase_embedding] Tokens before filter: 27\n",
      "[get_phrase_embedding] Tokens after filter: 27\n",
      "[get_phrase_embedding] Tokens before filter: 18\n",
      "[get_phrase_embedding] Tokens after filter: 18\n",
      "[get_phrase_embedding] Tokens before filter: 12\n",
      "[get_phrase_embedding] Tokens after filter: 12\n",
      "[get_phrase_embedding] Tokens before filter: 15\n",
      "[get_phrase_embedding] Tokens after filter: 15\n",
      "[get_phrase_embedding] Tokens before filter: 8\n",
      "[get_phrase_embedding] Tokens after filter: 8\n",
      "[get_phrase_embedding] Tokens before filter: 19\n",
      "[get_phrase_embedding] Tokens after filter: 19\n",
      "[get_phrase_embedding] Tokens before filter: 12\n",
      "[get_phrase_embedding] Tokens after filter: 12\n",
      "[get_phrase_embedding] Tokens before filter: 14\n",
      "[get_phrase_embedding] Tokens after filter: 14\n",
      "[get_phrase_embedding] Tokens before filter: 10\n",
      "[get_phrase_embedding] Tokens after filter: 9\n",
      "[get_phrase_embedding] Tokens before filter: 32\n",
      "[get_phrase_embedding] Tokens after filter: 32\n",
      "[get_phrase_embedding] Tokens before filter: 10\n",
      "[get_phrase_embedding] Tokens after filter: 10\n",
      "[get_phrase_embedding] Tokens before filter: 8\n",
      "[get_phrase_embedding] Tokens after filter: 8\n",
      "[get_phrase_embedding] Tokens before filter: 27\n",
      "[get_phrase_embedding] Tokens after filter: 27\n",
      "[get_phrase_embedding] Tokens before filter: 10\n",
      "[get_phrase_embedding] Tokens after filter: 10\n",
      "[get_phrase_embedding] Tokens before filter: 12\n",
      "[get_phrase_embedding] Tokens after filter: 11\n",
      "[get_phrase_embedding] Tokens before filter: 19\n",
      "[get_phrase_embedding] Tokens after filter: 18\n",
      "[get_phrase_embedding] Tokens before filter: 19\n",
      "[get_phrase_embedding] Tokens after filter: 18\n",
      "[get_phrase_embedding] Tokens before filter: 23\n",
      "[get_phrase_embedding] Tokens after filter: 22\n",
      "[get_phrase_embedding] Tokens before filter: 13\n",
      "[get_phrase_embedding] Tokens after filter: 13\n",
      "[get_phrase_embedding] Tokens before filter: 12\n",
      "[get_phrase_embedding] Tokens after filter: 12\n",
      "[get_phrase_embedding] Tokens before filter: 15\n",
      "[get_phrase_embedding] Tokens after filter: 14\n",
      "[get_phrase_embedding] Tokens before filter: 22\n",
      "[get_phrase_embedding] Tokens after filter: 21\n",
      "[get_phrase_embedding] Tokens before filter: 10\n",
      "[get_phrase_embedding] Tokens after filter: 10\n",
      "[get_phrase_embedding] Tokens before filter: 7\n",
      "[get_phrase_embedding] Tokens after filter: 7\n",
      "[get_phrase_embedding] Tokens before filter: 9\n",
      "[get_phrase_embedding] Tokens after filter: 9\n",
      "[get_phrase_embedding] Tokens before filter: 6\n",
      "[get_phrase_embedding] Tokens after filter: 6\n",
      "[get_phrase_embedding] Tokens before filter: 8\n",
      "[get_phrase_embedding] Tokens after filter: 8\n",
      "[get_phrase_embedding] Tokens before filter: 12\n",
      "[get_phrase_embedding] Tokens after filter: 11\n",
      "[get_phrase_embedding] Tokens before filter: 14\n",
      "[get_phrase_embedding] Tokens after filter: 14\n",
      "[get_phrase_embedding] Tokens before filter: 8\n",
      "[get_phrase_embedding] Tokens after filter: 8\n",
      "[get_phrase_embedding] Tokens before filter: 6\n",
      "[get_phrase_embedding] Tokens after filter: 6\n",
      "[get_phrase_embedding] Tokens before filter: 14\n",
      "[get_phrase_embedding] Tokens after filter: 14\n",
      "[get_phrase_embedding] Tokens before filter: 18\n",
      "[get_phrase_embedding] Tokens after filter: 18\n",
      "[get_phrase_embedding] Tokens before filter: 16\n",
      "[get_phrase_embedding] Tokens after filter: 16\n",
      "[get_phrase_embedding] Tokens before filter: 12\n",
      "[get_phrase_embedding] Tokens after filter: 12\n",
      "[get_phrase_embedding] Tokens before filter: 9\n",
      "[get_phrase_embedding] Tokens after filter: 9\n",
      "[get_phrase_embedding] Tokens before filter: 10\n",
      "[get_phrase_embedding] Tokens after filter: 10\n",
      "[get_phrase_embedding] Tokens before filter: 10\n",
      "[get_phrase_embedding] Tokens after filter: 10\n",
      "[get_phrase_embedding] Tokens before filter: 10\n",
      "[get_phrase_embedding] Tokens after filter: 10\n",
      "[get_phrase_embedding] Tokens before filter: 9\n",
      "[get_phrase_embedding] Tokens after filter: 9\n",
      "[get_phrase_embedding] Tokens before filter: 6\n",
      "[get_phrase_embedding] Tokens after filter: 6\n",
      "[get_phrase_embedding] Tokens before filter: 10\n",
      "[get_phrase_embedding] Tokens after filter: 10\n",
      "[get_phrase_embedding] Tokens before filter: 8\n",
      "[get_phrase_embedding] Tokens after filter: 8\n",
      "[get_phrase_embedding] Tokens before filter: 7\n",
      "[get_phrase_embedding] Tokens after filter: 7\n",
      "[get_phrase_embedding] Tokens before filter: 9\n",
      "[get_phrase_embedding] Tokens after filter: 9\n",
      "[get_phrase_embedding] Tokens before filter: 30\n",
      "[get_phrase_embedding] Tokens after filter: 30\n",
      "[get_phrase_embedding] Tokens before filter: 16\n",
      "[get_phrase_embedding] Tokens after filter: 16\n",
      "[get_phrase_embedding] Tokens before filter: 13\n",
      "[get_phrase_embedding] Tokens after filter: 13\n",
      "[get_phrase_embedding] Tokens before filter: 9\n",
      "[get_phrase_embedding] Tokens after filter: 8\n",
      "[get_phrase_embedding] Tokens before filter: 11\n",
      "[get_phrase_embedding] Tokens after filter: 11\n",
      "[get_phrase_embedding] Tokens before filter: 6\n",
      "[get_phrase_embedding] Tokens after filter: 6\n",
      "[get_phrase_embedding] Tokens before filter: 10\n",
      "[get_phrase_embedding] Tokens after filter: 9\n",
      "[get_phrase_embedding] Tokens before filter: 11\n",
      "[get_phrase_embedding] Tokens after filter: 11\n",
      "[get_phrase_embedding] Tokens before filter: 12\n",
      "[get_phrase_embedding] Tokens after filter: 11\n",
      "[get_phrase_embedding] Tokens before filter: 15\n",
      "[get_phrase_embedding] Tokens after filter: 14\n",
      "[get_phrase_embedding] Tokens before filter: 15\n",
      "[get_phrase_embedding] Tokens after filter: 15\n",
      "[get_phrase_embedding] Tokens before filter: 14\n",
      "[get_phrase_embedding] Tokens after filter: 14\n",
      "[get_phrase_embedding] Tokens before filter: 26\n",
      "[get_phrase_embedding] Tokens after filter: 26\n",
      "[get_phrase_embedding] Tokens before filter: 10\n",
      "[get_phrase_embedding] Tokens after filter: 10\n",
      "[get_phrase_embedding] Tokens before filter: 10\n",
      "[get_phrase_embedding] Tokens after filter: 10\n",
      "[get_phrase_embedding] Tokens before filter: 9\n",
      "[get_phrase_embedding] Tokens after filter: 9\n",
      "[get_phrase_embedding] Tokens before filter: 16\n",
      "[get_phrase_embedding] Tokens after filter: 16\n",
      "[get_phrase_embedding] Tokens before filter: 34\n",
      "[get_phrase_embedding] Tokens after filter: 33\n",
      "[get_phrase_embedding] Tokens before filter: 15\n",
      "[get_phrase_embedding] Tokens after filter: 15\n",
      "[get_phrase_embedding] Tokens before filter: 13\n",
      "[get_phrase_embedding] Tokens after filter: 12\n",
      "[get_phrase_embedding] Tokens before filter: 14\n",
      "[get_phrase_embedding] Tokens after filter: 13\n",
      "[get_phrase_embedding] Tokens before filter: 8\n",
      "[get_phrase_embedding] Tokens after filter: 8\n",
      "[get_phrase_embedding] Tokens before filter: 13\n",
      "[get_phrase_embedding] Tokens after filter: 12\n",
      "[get_phrase_embedding] Tokens before filter: 9\n",
      "[get_phrase_embedding] Tokens after filter: 9\n",
      "[get_phrase_embedding] Tokens before filter: 21\n",
      "[get_phrase_embedding] Tokens after filter: 21\n",
      "[get_phrase_embedding] Tokens before filter: 13\n",
      "[get_phrase_embedding] Tokens after filter: 12\n",
      "[get_phrase_embedding] Tokens before filter: 24\n",
      "[get_phrase_embedding] Tokens after filter: 24\n",
      "[get_phrase_embedding] Tokens before filter: 7\n",
      "[get_phrase_embedding] Tokens after filter: 7\n",
      "[get_phrase_embedding] Tokens before filter: 7\n",
      "[get_phrase_embedding] Tokens after filter: 6\n",
      "[get_phrase_embedding] Tokens before filter: 11\n",
      "[get_phrase_embedding] Tokens after filter: 11\n",
      "[get_phrase_embedding] Tokens before filter: 9\n",
      "[get_phrase_embedding] Tokens after filter: 8\n",
      "[get_phrase_embedding] Tokens before filter: 26\n",
      "[get_phrase_embedding] Tokens after filter: 25\n",
      "[get_phrase_embedding] Tokens before filter: 10\n",
      "[get_phrase_embedding] Tokens after filter: 9\n",
      "[get_phrase_embedding] Tokens before filter: 20\n",
      "[get_phrase_embedding] Tokens after filter: 20\n",
      "[get_phrase_embedding] Tokens before filter: 11\n",
      "[get_phrase_embedding] Tokens after filter: 11\n",
      "[get_phrase_embedding] Tokens before filter: 9\n",
      "[get_phrase_embedding] Tokens after filter: 9\n",
      "[get_phrase_embedding] Tokens before filter: 8\n",
      "[get_phrase_embedding] Tokens after filter: 8\n",
      "[get_phrase_embedding] Tokens before filter: 9\n",
      "[get_phrase_embedding] Tokens after filter: 9\n",
      "[get_phrase_embedding] Tokens before filter: 15\n",
      "[get_phrase_embedding] Tokens after filter: 15\n",
      "[get_phrase_embedding] Tokens before filter: 9\n",
      "[get_phrase_embedding] Tokens after filter: 9\n",
      "[get_phrase_embedding] Tokens before filter: 8\n",
      "[get_phrase_embedding] Tokens after filter: 8\n",
      "[get_phrase_embedding] Tokens before filter: 16\n",
      "[get_phrase_embedding] Tokens after filter: 12\n",
      "[get_phrase_embedding] Tokens before filter: 10\n",
      "[get_phrase_embedding] Tokens after filter: 10\n",
      "[get_phrase_embedding] Tokens before filter: 11\n",
      "[get_phrase_embedding] Tokens after filter: 9\n",
      "[get_phrase_embedding] Tokens before filter: 15\n",
      "[get_phrase_embedding] Tokens after filter: 15\n",
      "[get_phrase_embedding] Tokens before filter: 7\n",
      "[get_phrase_embedding] Tokens after filter: 7\n",
      "[get_phrase_embedding] Tokens before filter: 11\n",
      "[get_phrase_embedding] Tokens after filter: 11\n",
      "[get_phrase_embedding] Tokens before filter: 7\n",
      "[get_phrase_embedding] Tokens after filter: 7\n",
      "[get_phrase_embedding] Tokens before filter: 15\n",
      "[get_phrase_embedding] Tokens after filter: 15\n",
      "[get_phrase_embedding] Tokens before filter: 8\n",
      "[get_phrase_embedding] Tokens after filter: 8\n",
      "[get_phrase_embedding] Tokens before filter: 11\n",
      "[get_phrase_embedding] Tokens after filter: 11\n",
      "[get_phrase_embedding] Tokens before filter: 13\n",
      "[get_phrase_embedding] Tokens after filter: 13\n",
      "[get_phrase_embedding] Tokens before filter: 7\n",
      "[get_phrase_embedding] Tokens after filter: 7\n",
      "[get_phrase_embedding] Tokens before filter: 28\n",
      "[get_phrase_embedding] Tokens after filter: 28\n",
      "[get_phrase_embedding] Tokens before filter: 21\n",
      "[get_phrase_embedding] Tokens after filter: 21\n",
      "[get_phrase_embedding] Tokens before filter: 10\n",
      "[get_phrase_embedding] Tokens after filter: 10\n",
      "[get_phrase_embedding] Tokens before filter: 17\n",
      "[get_phrase_embedding] Tokens after filter: 17\n",
      "[get_phrase_embedding] Tokens before filter: 39\n",
      "[get_phrase_embedding] Tokens after filter: 31\n",
      "[get_phrase_embedding] Tokens before filter: 8\n",
      "[get_phrase_embedding] Tokens after filter: 8\n",
      "[get_phrase_embedding] Tokens before filter: 15\n",
      "[get_phrase_embedding] Tokens after filter: 14\n",
      "[get_phrase_embedding] Tokens before filter: 19\n",
      "[get_phrase_embedding] Tokens after filter: 18\n",
      "[get_phrase_embedding] Tokens before filter: 12\n",
      "[get_phrase_embedding] Tokens after filter: 12\n",
      "[get_phrase_embedding] Tokens before filter: 9\n",
      "[get_phrase_embedding] Tokens after filter: 9\n",
      "[get_phrase_embedding] Tokens before filter: 13\n",
      "[get_phrase_embedding] Tokens after filter: 13\n",
      "[get_phrase_embedding] Tokens before filter: 5\n",
      "[get_phrase_embedding] Tokens after filter: 5\n",
      "[get_phrase_embedding] Tokens before filter: 40\n",
      "[get_phrase_embedding] Tokens after filter: 40\n",
      "[get_phrase_embedding] Tokens before filter: 10\n",
      "[get_phrase_embedding] Tokens after filter: 10\n",
      "[get_phrase_embedding] Tokens before filter: 11\n",
      "[get_phrase_embedding] Tokens after filter: 10\n",
      "[get_phrase_embedding] Tokens before filter: 10\n",
      "[get_phrase_embedding] Tokens after filter: 10\n",
      "[get_phrase_embedding] Tokens before filter: 14\n",
      "[get_phrase_embedding] Tokens after filter: 14\n",
      "[get_phrase_embedding] Tokens before filter: 11\n",
      "[get_phrase_embedding] Tokens after filter: 11\n",
      "[get_phrase_embedding] Tokens before filter: 9\n",
      "[get_phrase_embedding] Tokens after filter: 9\n",
      "[get_phrase_embedding] Tokens before filter: 11\n",
      "[get_phrase_embedding] Tokens after filter: 10\n",
      "[get_phrase_embedding] Tokens before filter: 15\n",
      "[get_phrase_embedding] Tokens after filter: 15\n",
      "[get_phrase_embedding] Tokens before filter: 11\n",
      "[get_phrase_embedding] Tokens after filter: 11\n",
      "[get_phrase_embedding] Tokens before filter: 17\n",
      "[get_phrase_embedding] Tokens after filter: 17\n",
      "[get_phrase_embedding] Tokens before filter: 8\n",
      "[get_phrase_embedding] Tokens after filter: 8\n",
      "[get_phrase_embedding] Tokens before filter: 6\n",
      "[get_phrase_embedding] Tokens after filter: 6\n",
      "[get_phrase_embedding] Tokens before filter: 23\n",
      "[get_phrase_embedding] Tokens after filter: 22\n",
      "[get_phrase_embedding] Tokens before filter: 8\n",
      "[get_phrase_embedding] Tokens after filter: 8\n",
      "[get_phrase_embedding] Tokens before filter: 26\n",
      "[get_phrase_embedding] Tokens after filter: 26\n",
      "[get_phrase_embedding] Tokens before filter: 9\n",
      "[get_phrase_embedding] Tokens after filter: 9\n",
      "[get_phrase_embedding] Tokens before filter: 9\n",
      "[get_phrase_embedding] Tokens after filter: 9\n",
      "[get_phrase_embedding] Tokens before filter: 8\n",
      "[get_phrase_embedding] Tokens after filter: 8\n",
      "[get_phrase_embedding] Tokens before filter: 6\n",
      "[get_phrase_embedding] Tokens after filter: 6\n",
      "[get_phrase_embedding] Tokens before filter: 9\n",
      "[get_phrase_embedding] Tokens after filter: 9\n",
      "[get_phrase_embedding] Tokens before filter: 13\n",
      "[get_phrase_embedding] Tokens after filter: 13\n",
      "[get_phrase_embedding] Tokens before filter: 10\n",
      "[get_phrase_embedding] Tokens after filter: 10\n",
      "[get_phrase_embedding] Tokens before filter: 8\n",
      "[get_phrase_embedding] Tokens after filter: 8\n",
      "[get_phrase_embedding] Tokens before filter: 15\n",
      "[get_phrase_embedding] Tokens after filter: 15\n",
      "[get_phrase_embedding] Tokens before filter: 8\n",
      "[get_phrase_embedding] Tokens after filter: 8\n",
      "[get_phrase_embedding] Tokens before filter: 11\n",
      "[get_phrase_embedding] Tokens after filter: 11\n",
      "[get_phrase_embedding] Tokens before filter: 17\n",
      "[get_phrase_embedding] Tokens after filter: 17\n",
      "[get_phrase_embedding] Tokens before filter: 10\n",
      "[get_phrase_embedding] Tokens after filter: 10\n",
      "[get_phrase_embedding] Tokens before filter: 5\n",
      "[get_phrase_embedding] Tokens after filter: 5\n",
      "[get_phrase_embedding] Tokens before filter: 8\n",
      "[get_phrase_embedding] Tokens after filter: 8\n",
      "[get_phrase_embedding] Tokens before filter: 13\n",
      "[get_phrase_embedding] Tokens after filter: 13\n",
      "[get_phrase_embedding] Tokens before filter: 11\n",
      "[get_phrase_embedding] Tokens after filter: 11\n",
      "[get_phrase_embedding] Tokens before filter: 15\n",
      "[get_phrase_embedding] Tokens after filter: 15\n",
      "[get_phrase_embedding] Tokens before filter: 12\n",
      "[get_phrase_embedding] Tokens after filter: 12\n",
      "[get_phrase_embedding] Tokens before filter: 9\n",
      "[get_phrase_embedding] Tokens after filter: 9\n",
      "[get_phrase_embedding] Tokens before filter: 18\n",
      "[get_phrase_embedding] Tokens after filter: 18\n",
      "[get_phrase_embedding] Tokens before filter: 10\n",
      "[get_phrase_embedding] Tokens after filter: 10\n",
      "[get_phrase_embedding] Tokens before filter: 14\n",
      "[get_phrase_embedding] Tokens after filter: 14\n",
      "[get_phrase_embedding] Tokens before filter: 10\n",
      "[get_phrase_embedding] Tokens after filter: 10\n",
      "[get_phrase_embedding] Tokens before filter: 15\n",
      "[get_phrase_embedding] Tokens after filter: 15\n",
      "[get_phrase_embedding] Tokens before filter: 9\n",
      "[get_phrase_embedding] Tokens after filter: 9\n",
      "[get_phrase_embedding] Tokens before filter: 7\n",
      "[get_phrase_embedding] Tokens after filter: 7\n",
      "[get_phrase_embedding] Tokens before filter: 7\n",
      "[get_phrase_embedding] Tokens after filter: 7\n",
      "[get_phrase_embedding] Tokens before filter: 9\n",
      "[get_phrase_embedding] Tokens after filter: 9\n",
      "[get_phrase_embedding] Tokens before filter: 11\n",
      "[get_phrase_embedding] Tokens after filter: 11\n",
      "[get_phrase_embedding] Tokens before filter: 15\n",
      "[get_phrase_embedding] Tokens after filter: 12\n",
      "[get_phrase_embedding] Tokens before filter: 8\n",
      "[get_phrase_embedding] Tokens after filter: 8\n",
      "[get_phrase_embedding] Tokens before filter: 11\n",
      "[get_phrase_embedding] Tokens after filter: 11\n",
      "[get_phrase_embedding] Tokens before filter: 9\n",
      "[get_phrase_embedding] Tokens after filter: 9\n",
      "[get_phrase_embedding] Tokens before filter: 10\n",
      "[get_phrase_embedding] Tokens after filter: 10\n",
      "[get_phrase_embedding] Tokens before filter: 5\n",
      "[get_phrase_embedding] Tokens after filter: 5\n",
      "[get_phrase_embedding] Tokens before filter: 12\n",
      "[get_phrase_embedding] Tokens after filter: 12\n",
      "[get_phrase_embedding] Tokens before filter: 7\n",
      "[get_phrase_embedding] Tokens after filter: 7\n",
      "[get_phrase_embedding] Tokens before filter: 10\n",
      "[get_phrase_embedding] Tokens after filter: 10\n",
      "[get_phrase_embedding] Tokens before filter: 17\n",
      "[get_phrase_embedding] Tokens after filter: 17\n",
      "[get_phrase_embedding] Tokens before filter: 12\n",
      "[get_phrase_embedding] Tokens after filter: 12\n",
      "[get_phrase_embedding] Tokens before filter: 9\n",
      "[get_phrase_embedding] Tokens after filter: 9\n",
      "[get_phrase_embedding] Tokens before filter: 32\n",
      "[get_phrase_embedding] Tokens after filter: 32\n",
      "[get_phrase_embedding] Tokens before filter: 18\n",
      "[get_phrase_embedding] Tokens after filter: 17\n",
      "[get_phrase_embedding] Tokens before filter: 11\n",
      "[get_phrase_embedding] Tokens after filter: 11\n",
      "[get_phrase_embedding] Tokens before filter: 11\n",
      "[get_phrase_embedding] Tokens after filter: 9\n",
      "[get_phrase_embedding] Tokens before filter: 12\n",
      "[get_phrase_embedding] Tokens after filter: 12\n",
      "[get_phrase_embedding] Tokens before filter: 13\n",
      "[get_phrase_embedding] Tokens after filter: 13\n",
      "[get_phrase_embedding] Tokens before filter: 21\n",
      "[get_phrase_embedding] Tokens after filter: 19\n",
      "[get_phrase_embedding] Tokens before filter: 13\n",
      "[get_phrase_embedding] Tokens after filter: 13\n",
      "[get_phrase_embedding] Tokens before filter: 7\n",
      "[get_phrase_embedding] Tokens after filter: 7\n",
      "[get_phrase_embedding] Tokens before filter: 9\n",
      "[get_phrase_embedding] Tokens after filter: 9\n",
      "[get_phrase_embedding] Tokens before filter: 6\n",
      "[get_phrase_embedding] Tokens after filter: 6\n",
      "[get_phrase_embedding] Tokens before filter: 6\n",
      "[get_phrase_embedding] Tokens after filter: 5\n",
      "[get_phrase_embedding] Tokens before filter: 11\n",
      "[get_phrase_embedding] Tokens after filter: 11\n",
      "[get_phrase_embedding] Tokens before filter: 10\n",
      "[get_phrase_embedding] Tokens after filter: 10\n",
      "[get_phrase_embedding] Tokens before filter: 9\n",
      "[get_phrase_embedding] Tokens after filter: 9\n",
      "[get_phrase_embedding] Tokens before filter: 12\n",
      "[get_phrase_embedding] Tokens after filter: 12\n",
      "[get_phrase_embedding] Tokens before filter: 21\n",
      "[get_phrase_embedding] Tokens after filter: 20\n",
      "[get_phrase_embedding] Tokens before filter: 10\n",
      "[get_phrase_embedding] Tokens after filter: 10\n",
      "[get_phrase_embedding] Tokens before filter: 7\n",
      "[get_phrase_embedding] Tokens after filter: 7\n",
      "[get_phrase_embedding] Tokens before filter: 8\n",
      "[get_phrase_embedding] Tokens after filter: 8\n",
      "[get_phrase_embedding] Tokens before filter: 9\n",
      "[get_phrase_embedding] Tokens after filter: 9\n",
      "[get_phrase_embedding] Tokens before filter: 15\n",
      "[get_phrase_embedding] Tokens after filter: 15\n",
      "[get_phrase_embedding] Tokens before filter: 9\n",
      "[get_phrase_embedding] Tokens after filter: 9\n",
      "[get_phrase_embedding] Tokens before filter: 18\n",
      "[get_phrase_embedding] Tokens after filter: 17\n",
      "[get_phrase_embedding] Tokens before filter: 6\n",
      "[get_phrase_embedding] Tokens after filter: 5\n",
      "[get_phrase_embedding] Tokens before filter: 12\n",
      "[get_phrase_embedding] Tokens after filter: 12\n",
      "[get_phrase_embedding] Tokens before filter: 10\n",
      "[get_phrase_embedding] Tokens after filter: 9\n",
      "[get_phrase_embedding] Tokens before filter: 5\n",
      "[get_phrase_embedding] Tokens after filter: 5\n",
      "[get_phrase_embedding] Tokens before filter: 9\n",
      "[get_phrase_embedding] Tokens after filter: 8\n",
      "[get_phrase_embedding] Tokens before filter: 10\n",
      "[get_phrase_embedding] Tokens after filter: 10\n",
      "[get_phrase_embedding] Tokens before filter: 10\n",
      "[get_phrase_embedding] Tokens after filter: 10\n",
      "[get_phrase_embedding] Tokens before filter: 8\n",
      "[get_phrase_embedding] Tokens after filter: 8\n",
      "[get_phrase_embedding] Tokens before filter: 19\n",
      "[get_phrase_embedding] Tokens after filter: 19\n",
      "[get_phrase_embedding] Tokens before filter: 10\n",
      "[get_phrase_embedding] Tokens after filter: 8\n",
      "[get_phrase_embedding] Tokens before filter: 6\n",
      "[get_phrase_embedding] Tokens after filter: 6\n",
      "[get_phrase_embedding] Tokens before filter: 8\n",
      "[get_phrase_embedding] Tokens after filter: 8\n",
      "[get_phrase_embedding] Tokens before filter: 15\n",
      "[get_phrase_embedding] Tokens after filter: 15\n",
      "[get_phrase_embedding] Tokens before filter: 8\n",
      "[get_phrase_embedding] Tokens after filter: 8\n",
      "[get_phrase_embedding] Tokens before filter: 8\n",
      "[get_phrase_embedding] Tokens after filter: 8\n",
      "[get_phrase_embedding] Tokens before filter: 6\n",
      "[get_phrase_embedding] Tokens after filter: 6\n",
      "[get_phrase_embedding] Tokens before filter: 10\n",
      "[get_phrase_embedding] Tokens after filter: 10\n",
      "[get_phrase_embedding] Tokens before filter: 6\n",
      "[get_phrase_embedding] Tokens after filter: 6\n",
      "[get_phrase_embedding] Tokens before filter: 6\n",
      "[get_phrase_embedding] Tokens after filter: 6\n",
      "[get_phrase_embedding] Tokens before filter: 16\n",
      "[get_phrase_embedding] Tokens after filter: 16\n",
      "[get_phrase_embedding] Tokens before filter: 14\n",
      "[get_phrase_embedding] Tokens after filter: 14\n",
      "[get_phrase_embedding] Tokens before filter: 9\n",
      "[get_phrase_embedding] Tokens after filter: 9\n",
      "[get_phrase_embedding] Tokens before filter: 18\n",
      "[get_phrase_embedding] Tokens after filter: 17\n",
      "[get_phrase_embedding] Tokens before filter: 12\n",
      "[get_phrase_embedding] Tokens after filter: 12\n",
      "[get_phrase_embedding] Tokens before filter: 25\n",
      "[get_phrase_embedding] Tokens after filter: 25\n",
      "[get_phrase_embedding] Tokens before filter: 10\n",
      "[get_phrase_embedding] Tokens after filter: 10\n",
      "[get_phrase_embedding] Tokens before filter: 13\n",
      "[get_phrase_embedding] Tokens after filter: 13\n",
      "[get_phrase_embedding] Tokens before filter: 18\n",
      "[get_phrase_embedding] Tokens after filter: 18\n",
      "[get_phrase_embedding] Tokens before filter: 12\n",
      "[get_phrase_embedding] Tokens after filter: 12\n",
      "[get_phrase_embedding] Tokens before filter: 11\n",
      "[get_phrase_embedding] Tokens after filter: 11\n",
      "[get_phrase_embedding] Tokens before filter: 18\n",
      "[get_phrase_embedding] Tokens after filter: 18\n",
      "[get_phrase_embedding] Tokens before filter: 7\n",
      "[get_phrase_embedding] Tokens after filter: 7\n",
      "[get_phrase_embedding] Tokens before filter: 9\n",
      "[get_phrase_embedding] Tokens after filter: 9\n",
      "[get_phrase_embedding] Tokens before filter: 9\n",
      "[get_phrase_embedding] Tokens after filter: 8\n",
      "[get_phrase_embedding] Tokens before filter: 18\n",
      "[get_phrase_embedding] Tokens after filter: 18\n",
      "[get_phrase_embedding] Tokens before filter: 10\n",
      "[get_phrase_embedding] Tokens after filter: 10\n",
      "[get_phrase_embedding] Tokens before filter: 10\n",
      "[get_phrase_embedding] Tokens after filter: 10\n",
      "[get_phrase_embedding] Tokens before filter: 13\n",
      "[get_phrase_embedding] Tokens after filter: 11\n",
      "[get_phrase_embedding] Tokens before filter: 38\n",
      "[get_phrase_embedding] Tokens after filter: 37\n",
      "[get_phrase_embedding] Tokens before filter: 10\n",
      "[get_phrase_embedding] Tokens after filter: 10\n",
      "[get_phrase_embedding] Tokens before filter: 9\n",
      "[get_phrase_embedding] Tokens after filter: 9\n",
      "[get_phrase_embedding] Tokens before filter: 18\n",
      "[get_phrase_embedding] Tokens after filter: 18\n",
      "[get_phrase_embedding] Tokens before filter: 10\n",
      "[get_phrase_embedding] Tokens after filter: 10\n",
      "[get_phrase_embedding] Tokens before filter: 15\n",
      "[get_phrase_embedding] Tokens after filter: 15\n",
      "[get_phrase_embedding] Tokens before filter: 11\n",
      "[get_phrase_embedding] Tokens after filter: 10\n",
      "[get_phrase_embedding] Tokens before filter: 10\n",
      "[get_phrase_embedding] Tokens after filter: 10\n",
      "[get_phrase_embedding] Tokens before filter: 23\n",
      "[get_phrase_embedding] Tokens after filter: 22\n",
      "[get_phrase_embedding] Tokens before filter: 10\n",
      "[get_phrase_embedding] Tokens after filter: 10\n",
      "[get_phrase_embedding] Tokens before filter: 8\n",
      "[get_phrase_embedding] Tokens after filter: 8\n",
      "[get_phrase_embedding] Tokens before filter: 9\n",
      "[get_phrase_embedding] Tokens after filter: 9\n",
      "[get_phrase_embedding] Tokens before filter: 12\n",
      "[get_phrase_embedding] Tokens after filter: 12\n",
      "[get_phrase_embedding] Tokens before filter: 9\n",
      "[get_phrase_embedding] Tokens after filter: 9\n",
      "[get_phrase_embedding] Tokens before filter: 8\n",
      "[get_phrase_embedding] Tokens after filter: 8\n",
      "[get_phrase_embedding] Tokens before filter: 25\n",
      "[get_phrase_embedding] Tokens after filter: 25\n",
      "[get_phrase_embedding] Tokens before filter: 10\n",
      "[get_phrase_embedding] Tokens after filter: 10\n",
      "[get_phrase_embedding] Tokens before filter: 15\n",
      "[get_phrase_embedding] Tokens after filter: 15\n",
      "[get_phrase_embedding] Tokens before filter: 11\n",
      "[get_phrase_embedding] Tokens after filter: 11\n",
      "[get_phrase_embedding] Tokens before filter: 25\n",
      "[get_phrase_embedding] Tokens after filter: 25\n",
      "[get_phrase_embedding] Tokens before filter: 21\n",
      "[get_phrase_embedding] Tokens after filter: 20\n",
      "[get_phrase_embedding] Tokens before filter: 10\n",
      "[get_phrase_embedding] Tokens after filter: 10\n",
      "[get_phrase_embedding] Tokens before filter: 9\n",
      "[get_phrase_embedding] Tokens after filter: 8\n",
      "[get_phrase_embedding] Tokens before filter: 7\n",
      "[get_phrase_embedding] Tokens after filter: 7\n",
      "[get_phrase_embedding] Tokens before filter: 7\n",
      "[get_phrase_embedding] Tokens after filter: 7\n",
      "[get_phrase_embedding] Tokens before filter: 10\n",
      "[get_phrase_embedding] Tokens after filter: 10\n",
      "[get_phrase_embedding] Tokens before filter: 21\n",
      "[get_phrase_embedding] Tokens after filter: 21\n",
      "[get_phrase_embedding] Tokens before filter: 15\n",
      "[get_phrase_embedding] Tokens after filter: 14\n",
      "[get_phrase_embedding] Tokens before filter: 10\n",
      "[get_phrase_embedding] Tokens after filter: 10\n",
      "[get_phrase_embedding] Tokens before filter: 23\n",
      "[get_phrase_embedding] Tokens after filter: 23\n",
      "[get_phrase_embedding] Tokens before filter: 19\n",
      "[get_phrase_embedding] Tokens after filter: 19\n",
      "[get_phrase_embedding] Tokens before filter: 7\n",
      "[get_phrase_embedding] Tokens after filter: 7\n",
      "[get_phrase_embedding] Tokens before filter: 13\n",
      "[get_phrase_embedding] Tokens after filter: 13\n",
      "[get_phrase_embedding] Tokens before filter: 12\n",
      "[get_phrase_embedding] Tokens after filter: 11\n",
      "[get_phrase_embedding] Tokens before filter: 18\n",
      "[get_phrase_embedding] Tokens after filter: 18\n",
      "[get_phrase_embedding] Tokens before filter: 6\n",
      "[get_phrase_embedding] Tokens after filter: 6\n",
      "[get_phrase_embedding] Tokens before filter: 13\n",
      "[get_phrase_embedding] Tokens after filter: 13\n",
      "[get_phrase_embedding] Tokens before filter: 10\n",
      "[get_phrase_embedding] Tokens after filter: 10\n",
      "[get_phrase_embedding] Tokens before filter: 12\n",
      "[get_phrase_embedding] Tokens after filter: 12\n",
      "[get_phrase_embedding] Tokens before filter: 15\n",
      "[get_phrase_embedding] Tokens after filter: 14\n",
      "[get_phrase_embedding] Tokens before filter: 9\n",
      "[get_phrase_embedding] Tokens after filter: 8\n",
      "[get_phrase_embedding] Tokens before filter: 8\n",
      "[get_phrase_embedding] Tokens after filter: 8\n",
      "[get_phrase_embedding] Tokens before filter: 8\n",
      "[get_phrase_embedding] Tokens after filter: 8\n",
      "[get_phrase_embedding] Tokens before filter: 13\n",
      "[get_phrase_embedding] Tokens after filter: 13\n",
      "[get_phrase_embedding] Tokens before filter: 14\n",
      "[get_phrase_embedding] Tokens after filter: 13\n",
      "[get_phrase_embedding] Tokens before filter: 10\n",
      "[get_phrase_embedding] Tokens after filter: 10\n",
      "[get_phrase_embedding] Tokens before filter: 11\n",
      "[get_phrase_embedding] Tokens after filter: 11\n",
      "[get_phrase_embedding] Tokens before filter: 10\n",
      "[get_phrase_embedding] Tokens after filter: 10\n",
      "[get_phrase_embedding] Tokens before filter: 8\n",
      "[get_phrase_embedding] Tokens after filter: 8\n",
      "[get_phrase_embedding] Tokens before filter: 8\n",
      "[get_phrase_embedding] Tokens after filter: 8\n",
      "[get_phrase_embedding] Tokens before filter: 22\n",
      "[get_phrase_embedding] Tokens after filter: 22\n",
      "[get_phrase_embedding] Tokens before filter: 12\n",
      "[get_phrase_embedding] Tokens after filter: 11\n",
      "[get_phrase_embedding] Tokens before filter: 14\n",
      "[get_phrase_embedding] Tokens after filter: 14\n",
      "[get_phrase_embedding] Tokens before filter: 12\n",
      "[get_phrase_embedding] Tokens after filter: 12\n",
      "[get_phrase_embedding] Tokens before filter: 15\n",
      "[get_phrase_embedding] Tokens after filter: 14\n",
      "[get_phrase_embedding] Tokens before filter: 10\n",
      "[get_phrase_embedding] Tokens after filter: 10\n",
      "[get_phrase_embedding] Tokens before filter: 10\n",
      "[get_phrase_embedding] Tokens after filter: 10\n",
      "[get_phrase_embedding] Tokens before filter: 10\n",
      "[get_phrase_embedding] Tokens after filter: 10\n",
      "[get_phrase_embedding] Tokens before filter: 13\n",
      "[get_phrase_embedding] Tokens after filter: 13\n",
      "[get_phrase_embedding] Tokens before filter: 9\n",
      "[get_phrase_embedding] Tokens after filter: 9\n",
      "[get_phrase_embedding] Tokens before filter: 19\n",
      "[get_phrase_embedding] Tokens after filter: 19\n",
      "[get_phrase_embedding] Tokens before filter: 27\n",
      "[get_phrase_embedding] Tokens after filter: 24\n",
      "[get_phrase_embedding] Tokens before filter: 23\n",
      "[get_phrase_embedding] Tokens after filter: 23\n",
      "[get_phrase_embedding] Tokens before filter: 8\n",
      "[get_phrase_embedding] Tokens after filter: 8\n",
      "[get_phrase_embedding] Tokens before filter: 22\n",
      "[get_phrase_embedding] Tokens after filter: 22\n",
      "[get_phrase_embedding] Tokens before filter: 16\n",
      "[get_phrase_embedding] Tokens after filter: 16\n",
      "[get_phrase_embedding] Tokens before filter: 26\n",
      "[get_phrase_embedding] Tokens after filter: 24\n",
      "[get_phrase_embedding] Tokens before filter: 17\n",
      "[get_phrase_embedding] Tokens after filter: 17\n",
      "[get_phrase_embedding] Tokens before filter: 12\n",
      "[get_phrase_embedding] Tokens after filter: 12\n",
      "[get_phrase_embedding] Tokens before filter: 13\n",
      "[get_phrase_embedding] Tokens after filter: 13\n",
      "[get_phrase_embedding] Tokens before filter: 11\n",
      "[get_phrase_embedding] Tokens after filter: 11\n",
      "[get_phrase_embedding] Tokens before filter: 13\n",
      "[get_phrase_embedding] Tokens after filter: 9\n",
      "[get_phrase_embedding] Tokens before filter: 5\n",
      "[get_phrase_embedding] Tokens after filter: 5\n",
      "[get_phrase_embedding] Tokens before filter: 13\n",
      "[get_phrase_embedding] Tokens after filter: 13\n",
      "[get_phrase_embedding] Tokens before filter: 13\n",
      "[get_phrase_embedding] Tokens after filter: 12\n",
      "[get_phrase_embedding] Tokens before filter: 8\n",
      "[get_phrase_embedding] Tokens after filter: 7\n",
      "[get_phrase_embedding] Tokens before filter: 11\n",
      "[get_phrase_embedding] Tokens after filter: 11\n",
      "[get_phrase_embedding] Tokens before filter: 38\n",
      "[get_phrase_embedding] Tokens after filter: 36\n",
      "[get_phrase_embedding] Tokens before filter: 11\n",
      "[get_phrase_embedding] Tokens after filter: 11\n",
      "[get_phrase_embedding] Tokens before filter: 9\n",
      "[get_phrase_embedding] Tokens after filter: 8\n",
      "[get_phrase_embedding] Tokens before filter: 14\n",
      "[get_phrase_embedding] Tokens after filter: 14\n",
      "[get_phrase_embedding] Tokens before filter: 16\n",
      "[get_phrase_embedding] Tokens after filter: 16\n",
      "[get_phrase_embedding] Tokens before filter: 20\n",
      "[get_phrase_embedding] Tokens after filter: 18\n",
      "[get_phrase_embedding] Tokens before filter: 9\n",
      "[get_phrase_embedding] Tokens after filter: 9\n",
      "[get_phrase_embedding] Tokens before filter: 9\n",
      "[get_phrase_embedding] Tokens after filter: 9\n",
      "[get_phrase_embedding] Tokens before filter: 17\n",
      "[get_phrase_embedding] Tokens after filter: 17\n",
      "[get_phrase_embedding] Tokens before filter: 21\n",
      "[get_phrase_embedding] Tokens after filter: 21\n",
      "[get_phrase_embedding] Tokens before filter: 10\n",
      "[get_phrase_embedding] Tokens after filter: 10\n",
      "[get_phrase_embedding] Tokens before filter: 27\n",
      "[get_phrase_embedding] Tokens after filter: 26\n",
      "[get_phrase_embedding] Tokens before filter: 18\n",
      "[get_phrase_embedding] Tokens after filter: 17\n",
      "[get_phrase_embedding] Tokens before filter: 9\n",
      "[get_phrase_embedding] Tokens after filter: 9\n",
      "[get_phrase_embedding] Tokens before filter: 10\n",
      "[get_phrase_embedding] Tokens after filter: 10\n",
      "[get_phrase_embedding] Tokens before filter: 13\n",
      "[get_phrase_embedding] Tokens after filter: 13\n",
      "[get_phrase_embedding] Tokens before filter: 11\n",
      "[get_phrase_embedding] Tokens after filter: 11\n",
      "[get_phrase_embedding] Tokens before filter: 8\n",
      "[get_phrase_embedding] Tokens after filter: 8\n",
      "[get_phrase_embedding] Tokens before filter: 25\n",
      "[get_phrase_embedding] Tokens after filter: 25\n",
      "[get_phrase_embedding] Tokens before filter: 28\n",
      "[get_phrase_embedding] Tokens after filter: 25\n",
      "[get_phrase_embedding] Tokens before filter: 14\n",
      "[get_phrase_embedding] Tokens after filter: 14\n",
      "[get_phrase_embedding] Tokens before filter: 11\n",
      "[get_phrase_embedding] Tokens after filter: 11\n",
      "[get_phrase_embedding] Tokens before filter: 11\n",
      "[get_phrase_embedding] Tokens after filter: 11\n",
      "[get_phrase_embedding] Tokens before filter: 38\n",
      "[get_phrase_embedding] Tokens after filter: 38\n",
      "[get_phrase_embedding] Tokens before filter: 9\n",
      "[get_phrase_embedding] Tokens after filter: 9\n",
      "[get_phrase_embedding] Tokens before filter: 20\n",
      "[get_phrase_embedding] Tokens after filter: 20\n",
      "[get_phrase_embedding] Tokens before filter: 10\n",
      "[get_phrase_embedding] Tokens after filter: 10\n",
      "[get_phrase_embedding] Tokens before filter: 10\n",
      "[get_phrase_embedding] Tokens after filter: 10\n",
      "[get_phrase_embedding] Tokens before filter: 10\n",
      "[get_phrase_embedding] Tokens after filter: 10\n",
      "[get_phrase_embedding] Tokens before filter: 10\n",
      "[get_phrase_embedding] Tokens after filter: 10\n",
      "[get_phrase_embedding] Tokens before filter: 5\n",
      "[get_phrase_embedding] Tokens after filter: 5\n",
      "[get_phrase_embedding] Tokens before filter: 24\n",
      "[get_phrase_embedding] Tokens after filter: 22\n",
      "[get_phrase_embedding] Tokens before filter: 47\n",
      "[get_phrase_embedding] Tokens after filter: 45\n",
      "[get_phrase_embedding] Tokens before filter: 50\n",
      "[get_phrase_embedding] Tokens after filter: 50\n",
      "[get_phrase_embedding] Tokens before filter: 8\n",
      "[get_phrase_embedding] Tokens after filter: 8\n",
      "[get_phrase_embedding] Tokens before filter: 44\n",
      "[get_phrase_embedding] Tokens after filter: 44\n",
      "[get_phrase_embedding] Tokens before filter: 15\n",
      "[get_phrase_embedding] Tokens after filter: 14\n",
      "[get_phrase_embedding] Tokens before filter: 13\n",
      "[get_phrase_embedding] Tokens after filter: 13\n",
      "[get_phrase_embedding] Tokens before filter: 27\n",
      "[get_phrase_embedding] Tokens after filter: 27\n",
      "[get_phrase_embedding] Tokens before filter: 7\n",
      "[get_phrase_embedding] Tokens after filter: 7\n",
      "[get_phrase_embedding] Tokens before filter: 13\n",
      "[get_phrase_embedding] Tokens after filter: 13\n",
      "[get_phrase_embedding] Tokens before filter: 11\n",
      "[get_phrase_embedding] Tokens after filter: 11\n",
      "[get_phrase_embedding] Tokens before filter: 16\n",
      "[get_phrase_embedding] Tokens after filter: 16\n",
      "[get_phrase_embedding] Tokens before filter: 8\n",
      "[get_phrase_embedding] Tokens after filter: 8\n",
      "[get_phrase_embedding] Tokens before filter: 9\n",
      "[get_phrase_embedding] Tokens after filter: 9\n",
      "[get_phrase_embedding] Tokens before filter: 7\n",
      "[get_phrase_embedding] Tokens after filter: 7\n",
      "[get_phrase_embedding] Tokens before filter: 6\n",
      "[get_phrase_embedding] Tokens after filter: 6\n",
      "[get_phrase_embedding] Tokens before filter: 31\n",
      "[get_phrase_embedding] Tokens after filter: 30\n",
      "[get_phrase_embedding] Tokens before filter: 37\n",
      "[get_phrase_embedding] Tokens after filter: 37\n",
      "[get_phrase_embedding] Tokens before filter: 9\n",
      "[get_phrase_embedding] Tokens after filter: 9\n",
      "[get_phrase_embedding] Tokens before filter: 14\n",
      "[get_phrase_embedding] Tokens after filter: 14\n",
      "[get_phrase_embedding] Tokens before filter: 18\n",
      "[get_phrase_embedding] Tokens after filter: 18\n",
      "[get_phrase_embedding] Tokens before filter: 10\n",
      "[get_phrase_embedding] Tokens after filter: 10\n",
      "[get_phrase_embedding] Tokens before filter: 11\n",
      "[get_phrase_embedding] Tokens after filter: 11\n",
      "[get_phrase_embedding] Tokens before filter: 12\n",
      "[get_phrase_embedding] Tokens after filter: 11\n",
      "[get_phrase_embedding] Tokens before filter: 18\n",
      "[get_phrase_embedding] Tokens after filter: 18\n",
      "[get_phrase_embedding] Tokens before filter: 13\n",
      "[get_phrase_embedding] Tokens after filter: 11\n",
      "[get_phrase_embedding] Tokens before filter: 10\n",
      "[get_phrase_embedding] Tokens after filter: 9\n",
      "[get_phrase_embedding] Tokens before filter: 16\n",
      "[get_phrase_embedding] Tokens after filter: 16\n",
      "[get_phrase_embedding] Tokens before filter: 10\n",
      "[get_phrase_embedding] Tokens after filter: 10\n",
      "[get_phrase_embedding] Tokens before filter: 7\n",
      "[get_phrase_embedding] Tokens after filter: 7\n",
      "[get_phrase_embedding] Tokens before filter: 10\n",
      "[get_phrase_embedding] Tokens after filter: 10\n",
      "[get_phrase_embedding] Tokens before filter: 11\n",
      "[get_phrase_embedding] Tokens after filter: 11\n",
      "[get_phrase_embedding] Tokens before filter: 7\n",
      "[get_phrase_embedding] Tokens after filter: 7\n",
      "[get_phrase_embedding] Tokens before filter: 28\n",
      "[get_phrase_embedding] Tokens after filter: 27\n",
      "[get_phrase_embedding] Tokens before filter: 21\n",
      "[get_phrase_embedding] Tokens after filter: 19\n",
      "[get_phrase_embedding] Tokens before filter: 21\n",
      "[get_phrase_embedding] Tokens after filter: 21\n",
      "[get_phrase_embedding] Tokens before filter: 8\n",
      "[get_phrase_embedding] Tokens after filter: 7\n",
      "[get_phrase_embedding] Tokens before filter: 8\n",
      "[get_phrase_embedding] Tokens after filter: 8\n",
      "[get_phrase_embedding] Tokens before filter: 12\n",
      "[get_phrase_embedding] Tokens after filter: 12\n",
      "[get_phrase_embedding] Tokens before filter: 10\n",
      "[get_phrase_embedding] Tokens after filter: 10\n",
      "[get_phrase_embedding] Tokens before filter: 30\n",
      "[get_phrase_embedding] Tokens after filter: 30\n",
      "[get_phrase_embedding] Tokens before filter: 18\n",
      "[get_phrase_embedding] Tokens after filter: 18\n",
      "[get_phrase_embedding] Tokens before filter: 13\n",
      "[get_phrase_embedding] Tokens after filter: 13\n",
      "[get_phrase_embedding] Tokens before filter: 7\n",
      "[get_phrase_embedding] Tokens after filter: 7\n",
      "[get_phrase_embedding] Tokens before filter: 12\n",
      "[get_phrase_embedding] Tokens after filter: 12\n",
      "[get_phrase_embedding] Tokens before filter: 19\n",
      "[get_phrase_embedding] Tokens after filter: 19\n",
      "[get_phrase_embedding] Tokens before filter: 28\n",
      "[get_phrase_embedding] Tokens after filter: 28\n",
      "[get_phrase_embedding] Tokens before filter: 8\n",
      "[get_phrase_embedding] Tokens after filter: 8\n",
      "[get_phrase_embedding] Tokens before filter: 11\n",
      "[get_phrase_embedding] Tokens after filter: 10\n",
      "[get_phrase_embedding] Tokens before filter: 9\n",
      "[get_phrase_embedding] Tokens after filter: 9\n",
      "[get_phrase_embedding] Tokens before filter: 11\n",
      "[get_phrase_embedding] Tokens after filter: 11\n",
      "[get_phrase_embedding] Tokens before filter: 9\n",
      "[get_phrase_embedding] Tokens after filter: 8\n",
      "[get_phrase_embedding] Tokens before filter: 11\n",
      "[get_phrase_embedding] Tokens after filter: 11\n",
      "[get_phrase_embedding] Tokens before filter: 8\n",
      "[get_phrase_embedding] Tokens after filter: 7\n",
      "[get_phrase_embedding] Tokens before filter: 18\n",
      "[get_phrase_embedding] Tokens after filter: 17\n",
      "[get_phrase_embedding] Tokens before filter: 7\n",
      "[get_phrase_embedding] Tokens after filter: 7\n",
      "[get_phrase_embedding] Tokens before filter: 10\n",
      "[get_phrase_embedding] Tokens after filter: 9\n",
      "[get_phrase_embedding] Tokens before filter: 10\n",
      "[get_phrase_embedding] Tokens after filter: 10\n",
      "[get_phrase_embedding] Tokens before filter: 12\n",
      "[get_phrase_embedding] Tokens after filter: 12\n",
      "[get_phrase_embedding] Tokens before filter: 6\n",
      "[get_phrase_embedding] Tokens after filter: 6\n",
      "[get_phrase_embedding] Tokens before filter: 10\n",
      "[get_phrase_embedding] Tokens after filter: 10\n",
      "[get_phrase_embedding] Tokens before filter: 9\n",
      "[get_phrase_embedding] Tokens after filter: 8\n",
      "[get_phrase_embedding] Tokens before filter: 23\n",
      "[get_phrase_embedding] Tokens after filter: 22\n",
      "[get_phrase_embedding] Tokens before filter: 9\n",
      "[get_phrase_embedding] Tokens after filter: 9\n",
      "[get_phrase_embedding] Tokens before filter: 15\n",
      "[get_phrase_embedding] Tokens after filter: 15\n",
      "[get_phrase_embedding] Tokens before filter: 7\n",
      "[get_phrase_embedding] Tokens after filter: 6\n",
      "[get_phrase_embedding] Tokens before filter: 7\n",
      "[get_phrase_embedding] Tokens after filter: 7\n",
      "[get_phrase_embedding] Tokens before filter: 8\n",
      "[get_phrase_embedding] Tokens after filter: 8\n",
      "[get_phrase_embedding] Tokens before filter: 13\n",
      "[get_phrase_embedding] Tokens after filter: 13\n",
      "[get_phrase_embedding] Tokens before filter: 26\n",
      "[get_phrase_embedding] Tokens after filter: 24\n",
      "[get_phrase_embedding] Tokens before filter: 18\n",
      "[get_phrase_embedding] Tokens after filter: 18\n",
      "[get_phrase_embedding] Tokens before filter: 7\n",
      "[get_phrase_embedding] Tokens after filter: 7\n",
      "[get_phrase_embedding] Tokens before filter: 8\n",
      "[get_phrase_embedding] Tokens after filter: 8\n",
      "[get_phrase_embedding] Tokens before filter: 27\n",
      "[get_phrase_embedding] Tokens after filter: 27\n",
      "[get_phrase_embedding] Tokens before filter: 18\n",
      "[get_phrase_embedding] Tokens after filter: 18\n",
      "[get_phrase_embedding] Tokens before filter: 8\n",
      "[get_phrase_embedding] Tokens after filter: 8\n",
      "[get_phrase_embedding] Tokens before filter: 15\n",
      "[get_phrase_embedding] Tokens after filter: 14\n",
      "[get_phrase_embedding] Tokens before filter: 31\n",
      "[get_phrase_embedding] Tokens after filter: 30\n",
      "[get_phrase_embedding] Tokens before filter: 13\n",
      "[get_phrase_embedding] Tokens after filter: 13\n",
      "[get_phrase_embedding] Tokens before filter: 24\n",
      "[get_phrase_embedding] Tokens after filter: 24\n",
      "[get_phrase_embedding] Tokens before filter: 7\n",
      "[get_phrase_embedding] Tokens after filter: 7\n",
      "[get_phrase_embedding] Tokens before filter: 11\n",
      "[get_phrase_embedding] Tokens after filter: 11\n",
      "[get_phrase_embedding] Tokens before filter: 8\n",
      "[get_phrase_embedding] Tokens after filter: 7\n",
      "[get_phrase_embedding] Tokens before filter: 13\n",
      "[get_phrase_embedding] Tokens after filter: 13\n",
      "[get_phrase_embedding] Tokens before filter: 11\n",
      "[get_phrase_embedding] Tokens after filter: 11\n",
      "[get_phrase_embedding] Tokens before filter: 16\n",
      "[get_phrase_embedding] Tokens after filter: 15\n",
      "[get_phrase_embedding] Tokens before filter: 8\n",
      "[get_phrase_embedding] Tokens after filter: 8\n",
      "[get_phrase_embedding] Tokens before filter: 15\n",
      "[get_phrase_embedding] Tokens after filter: 15\n",
      "[get_phrase_embedding] Tokens before filter: 13\n",
      "[get_phrase_embedding] Tokens after filter: 10\n",
      "[get_phrase_embedding] Tokens before filter: 9\n",
      "[get_phrase_embedding] Tokens after filter: 9\n",
      "[get_phrase_embedding] Tokens before filter: 16\n",
      "[get_phrase_embedding] Tokens after filter: 16\n",
      "[get_phrase_embedding] Tokens before filter: 11\n",
      "[get_phrase_embedding] Tokens after filter: 11\n",
      "[get_phrase_embedding] Tokens before filter: 10\n",
      "[get_phrase_embedding] Tokens after filter: 10\n",
      "[get_phrase_embedding] Tokens before filter: 33\n",
      "[get_phrase_embedding] Tokens after filter: 30\n",
      "[get_phrase_embedding] Tokens before filter: 17\n",
      "[get_phrase_embedding] Tokens after filter: 17\n",
      "[get_phrase_embedding] Tokens before filter: 10\n",
      "[get_phrase_embedding] Tokens after filter: 10\n",
      "[get_phrase_embedding] Tokens before filter: 6\n",
      "[get_phrase_embedding] Tokens after filter: 6\n",
      "[get_phrase_embedding] Tokens before filter: 18\n",
      "[get_phrase_embedding] Tokens after filter: 18\n",
      "[get_phrase_embedding] Tokens before filter: 10\n",
      "[get_phrase_embedding] Tokens after filter: 10\n",
      "[get_phrase_embedding] Tokens before filter: 5\n",
      "[get_phrase_embedding] Tokens after filter: 5\n",
      "[get_phrase_embedding] Tokens before filter: 23\n",
      "[get_phrase_embedding] Tokens after filter: 15\n",
      "[get_phrase_embedding] Tokens before filter: 10\n",
      "[get_phrase_embedding] Tokens after filter: 10\n",
      "[get_phrase_embedding] Tokens before filter: 8\n",
      "[get_phrase_embedding] Tokens after filter: 8\n",
      "[get_phrase_embedding] Tokens before filter: 8\n",
      "[get_phrase_embedding] Tokens after filter: 8\n",
      "[get_phrase_embedding] Tokens before filter: 10\n",
      "[get_phrase_embedding] Tokens after filter: 10\n",
      "[get_phrase_embedding] Tokens before filter: 10\n",
      "[get_phrase_embedding] Tokens after filter: 10\n",
      "[get_phrase_embedding] Tokens before filter: 10\n",
      "[get_phrase_embedding] Tokens after filter: 10\n",
      "[get_phrase_embedding] Tokens before filter: 16\n",
      "[get_phrase_embedding] Tokens after filter: 15\n",
      "[get_phrase_embedding] Tokens before filter: 12\n",
      "[get_phrase_embedding] Tokens after filter: 12\n",
      "[get_phrase_embedding] Tokens before filter: 12\n",
      "[get_phrase_embedding] Tokens after filter: 12\n",
      "[get_phrase_embedding] Tokens before filter: 16\n",
      "[get_phrase_embedding] Tokens after filter: 11\n",
      "[get_phrase_embedding] Tokens before filter: 12\n",
      "[get_phrase_embedding] Tokens after filter: 12\n",
      "[get_phrase_embedding] Tokens before filter: 18\n",
      "[get_phrase_embedding] Tokens after filter: 17\n",
      "[get_phrase_embedding] Tokens before filter: 18\n",
      "[get_phrase_embedding] Tokens after filter: 17\n",
      "[get_phrase_embedding] Tokens before filter: 19\n",
      "[get_phrase_embedding] Tokens after filter: 19\n",
      "[get_phrase_embedding] Tokens before filter: 13\n",
      "[get_phrase_embedding] Tokens after filter: 10\n",
      "[get_phrase_embedding] Tokens before filter: 12\n",
      "[get_phrase_embedding] Tokens after filter: 12\n",
      "[get_phrase_embedding] Tokens before filter: 11\n",
      "[get_phrase_embedding] Tokens after filter: 11\n",
      "[get_phrase_embedding] Tokens before filter: 10\n",
      "[get_phrase_embedding] Tokens after filter: 10\n",
      "[get_phrase_embedding] Tokens before filter: 15\n",
      "[get_phrase_embedding] Tokens after filter: 15\n",
      "[get_phrase_embedding] Tokens before filter: 12\n",
      "[get_phrase_embedding] Tokens after filter: 12\n",
      "[get_phrase_embedding] Tokens before filter: 14\n",
      "[get_phrase_embedding] Tokens after filter: 14\n",
      "[get_phrase_embedding] Tokens before filter: 7\n",
      "[get_phrase_embedding] Tokens after filter: 7\n",
      "[get_phrase_embedding] Tokens before filter: 9\n",
      "[get_phrase_embedding] Tokens after filter: 9\n",
      "[get_phrase_embedding] Tokens before filter: 17\n",
      "[get_phrase_embedding] Tokens after filter: 12\n",
      "[get_phrase_embedding] Tokens before filter: 13\n",
      "[get_phrase_embedding] Tokens after filter: 13\n",
      "[get_phrase_embedding] Tokens before filter: 13\n",
      "[get_phrase_embedding] Tokens after filter: 13\n",
      "[get_phrase_embedding] Tokens before filter: 7\n",
      "[get_phrase_embedding] Tokens after filter: 7\n",
      "[get_phrase_embedding] Tokens before filter: 8\n",
      "[get_phrase_embedding] Tokens after filter: 8\n",
      "[get_phrase_embedding] Tokens before filter: 9\n",
      "[get_phrase_embedding] Tokens after filter: 9\n",
      "[get_phrase_embedding] Tokens before filter: 6\n",
      "[get_phrase_embedding] Tokens after filter: 6\n",
      "[get_phrase_embedding] Tokens before filter: 19\n",
      "[get_phrase_embedding] Tokens after filter: 18\n",
      "[get_phrase_embedding] Tokens before filter: 16\n",
      "[get_phrase_embedding] Tokens after filter: 13\n",
      "[get_phrase_embedding] Tokens before filter: 9\n",
      "[get_phrase_embedding] Tokens after filter: 9\n",
      "[get_phrase_embedding] Tokens before filter: 11\n",
      "[get_phrase_embedding] Tokens after filter: 11\n",
      "[get_phrase_embedding] Tokens before filter: 11\n",
      "[get_phrase_embedding] Tokens after filter: 11\n",
      "[get_phrase_embedding] Tokens before filter: 31\n",
      "[get_phrase_embedding] Tokens after filter: 31\n",
      "[get_phrase_embedding] Tokens before filter: 11\n",
      "[get_phrase_embedding] Tokens after filter: 11\n",
      "[get_phrase_embedding] Tokens before filter: 12\n",
      "[get_phrase_embedding] Tokens after filter: 12\n",
      "[get_phrase_embedding] Tokens before filter: 20\n",
      "[get_phrase_embedding] Tokens after filter: 20\n",
      "[get_phrase_embedding] Tokens before filter: 9\n",
      "[get_phrase_embedding] Tokens after filter: 9\n",
      "[get_phrase_embedding] Tokens before filter: 19\n",
      "[get_phrase_embedding] Tokens after filter: 19\n",
      "[get_phrase_embedding] Tokens before filter: 11\n",
      "[get_phrase_embedding] Tokens after filter: 11\n",
      "[get_phrase_embedding] Tokens before filter: 10\n",
      "[get_phrase_embedding] Tokens after filter: 9\n",
      "[get_phrase_embedding] Tokens before filter: 8\n",
      "[get_phrase_embedding] Tokens after filter: 8\n",
      "[get_phrase_embedding] Tokens before filter: 10\n",
      "[get_phrase_embedding] Tokens after filter: 10\n",
      "[get_phrase_embedding] Tokens before filter: 6\n",
      "[get_phrase_embedding] Tokens after filter: 6\n",
      "[get_phrase_embedding] Tokens before filter: 15\n",
      "[get_phrase_embedding] Tokens after filter: 15\n",
      "[get_phrase_embedding] Tokens before filter: 11\n",
      "[get_phrase_embedding] Tokens after filter: 11\n",
      "[get_phrase_embedding] Tokens before filter: 12\n",
      "[get_phrase_embedding] Tokens after filter: 11\n",
      "[get_phrase_embedding] Tokens before filter: 10\n",
      "[get_phrase_embedding] Tokens after filter: 10\n",
      "[get_phrase_embedding] Tokens before filter: 4\n",
      "[get_phrase_embedding] Tokens after filter: 4\n",
      "[get_phrase_embedding] Tokens before filter: 20\n",
      "[get_phrase_embedding] Tokens after filter: 15\n",
      "[get_phrase_embedding] Tokens before filter: 11\n",
      "[get_phrase_embedding] Tokens after filter: 11\n",
      "[get_phrase_embedding] Tokens before filter: 6\n",
      "[get_phrase_embedding] Tokens after filter: 6\n",
      "[get_phrase_embedding] Tokens before filter: 8\n",
      "[get_phrase_embedding] Tokens after filter: 8\n",
      "[get_phrase_embedding] Tokens before filter: 7\n",
      "[get_phrase_embedding] Tokens after filter: 7\n",
      "[get_phrase_embedding] Tokens before filter: 11\n",
      "[get_phrase_embedding] Tokens after filter: 11\n",
      "[get_phrase_embedding] Tokens before filter: 23\n",
      "[get_phrase_embedding] Tokens after filter: 22\n",
      "[get_phrase_embedding] Tokens before filter: 5\n",
      "[get_phrase_embedding] Tokens after filter: 5\n",
      "[get_phrase_embedding] Tokens before filter: 12\n",
      "[get_phrase_embedding] Tokens after filter: 12\n",
      "[get_phrase_embedding] Tokens before filter: 11\n",
      "[get_phrase_embedding] Tokens after filter: 10\n",
      "[get_phrase_embedding] Tokens before filter: 8\n",
      "[get_phrase_embedding] Tokens after filter: 8\n",
      "[get_phrase_embedding] Tokens before filter: 23\n",
      "[get_phrase_embedding] Tokens after filter: 23\n",
      "[get_phrase_embedding] Tokens before filter: 7\n",
      "[get_phrase_embedding] Tokens after filter: 7\n",
      "[get_phrase_embedding] Tokens before filter: 15\n",
      "[get_phrase_embedding] Tokens after filter: 15\n",
      "[get_phrase_embedding] Tokens before filter: 25\n",
      "[get_phrase_embedding] Tokens after filter: 24\n",
      "[get_phrase_embedding] Tokens before filter: 11\n",
      "[get_phrase_embedding] Tokens after filter: 11\n",
      "[get_phrase_embedding] Tokens before filter: 16\n",
      "[get_phrase_embedding] Tokens after filter: 16\n",
      "[get_phrase_embedding] Tokens before filter: 11\n",
      "[get_phrase_embedding] Tokens after filter: 11\n",
      "[get_phrase_embedding] Tokens before filter: 12\n",
      "[get_phrase_embedding] Tokens after filter: 12\n",
      "[get_phrase_embedding] Tokens before filter: 14\n",
      "[get_phrase_embedding] Tokens after filter: 14\n",
      "[get_phrase_embedding] Tokens before filter: 13\n",
      "[get_phrase_embedding] Tokens after filter: 13\n",
      "[get_phrase_embedding] Tokens before filter: 13\n",
      "[get_phrase_embedding] Tokens after filter: 13\n",
      "[get_phrase_embedding] Tokens before filter: 15\n",
      "[get_phrase_embedding] Tokens after filter: 15\n",
      "[get_phrase_embedding] Tokens before filter: 13\n",
      "[get_phrase_embedding] Tokens after filter: 13\n",
      "[get_phrase_embedding] Tokens before filter: 14\n",
      "[get_phrase_embedding] Tokens after filter: 14\n",
      "[get_phrase_embedding] Tokens before filter: 6\n",
      "[get_phrase_embedding] Tokens after filter: 6\n",
      "[get_phrase_embedding] Tokens before filter: 13\n",
      "[get_phrase_embedding] Tokens after filter: 13\n",
      "[get_phrase_embedding] Tokens before filter: 16\n",
      "[get_phrase_embedding] Tokens after filter: 16\n",
      "[get_phrase_embedding] Tokens before filter: 13\n",
      "[get_phrase_embedding] Tokens after filter: 13\n",
      "[get_phrase_embedding] Tokens before filter: 14\n",
      "[get_phrase_embedding] Tokens after filter: 14\n",
      "[get_phrase_embedding] Tokens before filter: 7\n",
      "[get_phrase_embedding] Tokens after filter: 6\n",
      "[get_phrase_embedding] Tokens before filter: 17\n",
      "[get_phrase_embedding] Tokens after filter: 17\n",
      "[get_phrase_embedding] Tokens before filter: 14\n",
      "[get_phrase_embedding] Tokens after filter: 14\n",
      "[get_phrase_embedding] Tokens before filter: 6\n",
      "[get_phrase_embedding] Tokens after filter: 6\n",
      "[get_phrase_embedding] Tokens before filter: 29\n",
      "[get_phrase_embedding] Tokens after filter: 29\n",
      "[get_phrase_embedding] Tokens before filter: 19\n",
      "[get_phrase_embedding] Tokens after filter: 19\n",
      "[get_phrase_embedding] Tokens before filter: 21\n",
      "[get_phrase_embedding] Tokens after filter: 20\n",
      "[get_phrase_embedding] Tokens before filter: 23\n",
      "[get_phrase_embedding] Tokens after filter: 21\n",
      "[get_phrase_embedding] Tokens before filter: 9\n",
      "[get_phrase_embedding] Tokens after filter: 8\n",
      "[get_phrase_embedding] Tokens before filter: 10\n",
      "[get_phrase_embedding] Tokens after filter: 10\n",
      "[get_phrase_embedding] Tokens before filter: 12\n",
      "[get_phrase_embedding] Tokens after filter: 12\n",
      "[get_phrase_embedding] Tokens before filter: 12\n",
      "[get_phrase_embedding] Tokens after filter: 12\n",
      "[get_phrase_embedding] Tokens before filter: 12\n",
      "[get_phrase_embedding] Tokens after filter: 12\n",
      "[get_phrase_embedding] Tokens before filter: 11\n",
      "[get_phrase_embedding] Tokens after filter: 11\n",
      "[get_phrase_embedding] Tokens before filter: 15\n",
      "[get_phrase_embedding] Tokens after filter: 15\n",
      "[get_phrase_embedding] Tokens before filter: 10\n",
      "[get_phrase_embedding] Tokens after filter: 10\n",
      "[get_phrase_embedding] Tokens before filter: 12\n",
      "[get_phrase_embedding] Tokens after filter: 11\n",
      "[get_phrase_embedding] Tokens before filter: 11\n",
      "[get_phrase_embedding] Tokens after filter: 11\n",
      "[get_phrase_embedding] Tokens before filter: 12\n",
      "[get_phrase_embedding] Tokens after filter: 12\n",
      "[get_phrase_embedding] Tokens before filter: 18\n",
      "[get_phrase_embedding] Tokens after filter: 18\n",
      "[get_phrase_embedding] Tokens before filter: 10\n",
      "[get_phrase_embedding] Tokens after filter: 10\n",
      "[get_phrase_embedding] Tokens before filter: 7\n",
      "[get_phrase_embedding] Tokens after filter: 7\n",
      "[get_phrase_embedding] Tokens before filter: 10\n",
      "[get_phrase_embedding] Tokens after filter: 10\n",
      "[get_phrase_embedding] Tokens before filter: 7\n",
      "[get_phrase_embedding] Tokens after filter: 7\n",
      "[get_phrase_embedding] Tokens before filter: 9\n",
      "[get_phrase_embedding] Tokens after filter: 9\n",
      "[get_phrase_embedding] Tokens before filter: 10\n",
      "[get_phrase_embedding] Tokens after filter: 10\n",
      "[get_phrase_embedding] Tokens before filter: 6\n",
      "[get_phrase_embedding] Tokens after filter: 6\n",
      "[get_phrase_embedding] Tokens before filter: 11\n",
      "[get_phrase_embedding] Tokens after filter: 11\n",
      "[get_phrase_embedding] Tokens before filter: 7\n",
      "[get_phrase_embedding] Tokens after filter: 7\n",
      "[get_phrase_embedding] Tokens before filter: 40\n",
      "[get_phrase_embedding] Tokens after filter: 40\n",
      "[get_phrase_embedding] Tokens before filter: 13\n",
      "[get_phrase_embedding] Tokens after filter: 13\n",
      "[get_phrase_embedding] Tokens before filter: 14\n",
      "[get_phrase_embedding] Tokens after filter: 14\n",
      "[get_phrase_embedding] Tokens before filter: 7\n",
      "[get_phrase_embedding] Tokens after filter: 7\n",
      "[get_phrase_embedding] Tokens before filter: 9\n",
      "[get_phrase_embedding] Tokens after filter: 9\n",
      "[get_phrase_embedding] Tokens before filter: 13\n",
      "[get_phrase_embedding] Tokens after filter: 13\n",
      "[get_phrase_embedding] Tokens before filter: 27\n",
      "[get_phrase_embedding] Tokens after filter: 27\n",
      "[get_phrase_embedding] Tokens before filter: 10\n",
      "[get_phrase_embedding] Tokens after filter: 10\n",
      "[get_phrase_embedding] Tokens before filter: 11\n",
      "[get_phrase_embedding] Tokens after filter: 11\n",
      "[get_phrase_embedding] Tokens before filter: 7\n",
      "[get_phrase_embedding] Tokens after filter: 7\n",
      "[get_phrase_embedding] Tokens before filter: 11\n",
      "[get_phrase_embedding] Tokens after filter: 11\n",
      "[get_phrase_embedding] Tokens before filter: 8\n",
      "[get_phrase_embedding] Tokens after filter: 8\n",
      "[get_phrase_embedding] Tokens before filter: 10\n",
      "[get_phrase_embedding] Tokens after filter: 10\n",
      "[get_phrase_embedding] Tokens before filter: 10\n",
      "[get_phrase_embedding] Tokens after filter: 10\n",
      "[get_phrase_embedding] Tokens before filter: 15\n",
      "[get_phrase_embedding] Tokens after filter: 15\n",
      "[get_phrase_embedding] Tokens before filter: 12\n",
      "[get_phrase_embedding] Tokens after filter: 12\n",
      "[get_phrase_embedding] Tokens before filter: 11\n",
      "[get_phrase_embedding] Tokens after filter: 11\n",
      "[get_phrase_embedding] Tokens before filter: 16\n",
      "[get_phrase_embedding] Tokens after filter: 15\n",
      "[get_phrase_embedding] Tokens before filter: 7\n",
      "[get_phrase_embedding] Tokens after filter: 7\n",
      "[get_phrase_embedding] Tokens before filter: 7\n",
      "[get_phrase_embedding] Tokens after filter: 7\n",
      "[get_phrase_embedding] Tokens before filter: 8\n",
      "[get_phrase_embedding] Tokens after filter: 7\n",
      "[get_phrase_embedding] Tokens before filter: 7\n",
      "[get_phrase_embedding] Tokens after filter: 7\n",
      "[get_phrase_embedding] Tokens before filter: 13\n",
      "[get_phrase_embedding] Tokens after filter: 13\n",
      "[get_phrase_embedding] Tokens before filter: 13\n",
      "[get_phrase_embedding] Tokens after filter: 13\n",
      "[get_phrase_embedding] Tokens before filter: 11\n",
      "[get_phrase_embedding] Tokens after filter: 11\n",
      "[get_phrase_embedding] Tokens before filter: 11\n",
      "[get_phrase_embedding] Tokens after filter: 11\n",
      "[get_phrase_embedding] Tokens before filter: 16\n",
      "[get_phrase_embedding] Tokens after filter: 15\n",
      "[get_phrase_embedding] Tokens before filter: 19\n",
      "[get_phrase_embedding] Tokens after filter: 19\n",
      "[get_phrase_embedding] Tokens before filter: 25\n",
      "[get_phrase_embedding] Tokens after filter: 25\n",
      "[get_phrase_embedding] Tokens before filter: 14\n",
      "[get_phrase_embedding] Tokens after filter: 14\n",
      "[get_phrase_embedding] Tokens before filter: 22\n",
      "[get_phrase_embedding] Tokens after filter: 21\n",
      "[get_phrase_embedding] Tokens before filter: 20\n",
      "[get_phrase_embedding] Tokens after filter: 19\n",
      "[get_phrase_embedding] Tokens before filter: 16\n",
      "[get_phrase_embedding] Tokens after filter: 14\n",
      "[get_phrase_embedding] Tokens before filter: 9\n",
      "[get_phrase_embedding] Tokens after filter: 9\n",
      "[get_phrase_embedding] Tokens before filter: 11\n",
      "[get_phrase_embedding] Tokens after filter: 11\n",
      "[get_phrase_embedding] Tokens before filter: 9\n",
      "[get_phrase_embedding] Tokens after filter: 9\n",
      "[get_phrase_embedding] Tokens before filter: 15\n",
      "[get_phrase_embedding] Tokens after filter: 15\n",
      "[get_phrase_embedding] Tokens before filter: 15\n",
      "[get_phrase_embedding] Tokens after filter: 14\n",
      "[get_phrase_embedding] Tokens before filter: 8\n",
      "[get_phrase_embedding] Tokens after filter: 8\n",
      "[get_phrase_embedding] Tokens before filter: 19\n",
      "[get_phrase_embedding] Tokens after filter: 14\n",
      "[get_phrase_embedding] Tokens before filter: 10\n",
      "[get_phrase_embedding] Tokens after filter: 10\n",
      "[get_phrase_embedding] Tokens before filter: 17\n",
      "[get_phrase_embedding] Tokens after filter: 17\n",
      "[get_phrase_embedding] Tokens before filter: 12\n",
      "[get_phrase_embedding] Tokens after filter: 12\n",
      "[get_phrase_embedding] Tokens before filter: 29\n",
      "[get_phrase_embedding] Tokens after filter: 29\n",
      "[get_phrase_embedding] Tokens before filter: 27\n",
      "[get_phrase_embedding] Tokens after filter: 27\n",
      "[get_phrase_embedding] Tokens before filter: 7\n",
      "[get_phrase_embedding] Tokens after filter: 7\n",
      "[get_phrase_embedding] Tokens before filter: 13\n",
      "[get_phrase_embedding] Tokens after filter: 13\n",
      "[get_phrase_embedding] Tokens before filter: 10\n",
      "[get_phrase_embedding] Tokens after filter: 10\n",
      "[get_phrase_embedding] Tokens before filter: 13\n",
      "[get_phrase_embedding] Tokens after filter: 13\n",
      "[get_phrase_embedding] Tokens before filter: 11\n",
      "[get_phrase_embedding] Tokens after filter: 11\n",
      "[get_phrase_embedding] Tokens before filter: 9\n",
      "[get_phrase_embedding] Tokens after filter: 9\n",
      "[get_phrase_embedding] Tokens before filter: 9\n",
      "[get_phrase_embedding] Tokens after filter: 8\n",
      "[get_phrase_embedding] Tokens before filter: 7\n",
      "[get_phrase_embedding] Tokens after filter: 7\n",
      "[get_phrase_embedding] Tokens before filter: 12\n",
      "[get_phrase_embedding] Tokens after filter: 12\n",
      "[get_phrase_embedding] Tokens before filter: 19\n",
      "[get_phrase_embedding] Tokens after filter: 18\n",
      "[get_phrase_embedding] Tokens before filter: 12\n",
      "[get_phrase_embedding] Tokens after filter: 12\n",
      "[get_phrase_embedding] Tokens before filter: 12\n",
      "[get_phrase_embedding] Tokens after filter: 12\n",
      "[get_phrase_embedding] Tokens before filter: 31\n",
      "[get_phrase_embedding] Tokens after filter: 30\n",
      "[get_phrase_embedding] Tokens before filter: 27\n",
      "[get_phrase_embedding] Tokens after filter: 26\n",
      "[get_phrase_embedding] Tokens before filter: 19\n",
      "[get_phrase_embedding] Tokens after filter: 19\n",
      "[get_phrase_embedding] Tokens before filter: 10\n",
      "[get_phrase_embedding] Tokens after filter: 10\n",
      "[get_phrase_embedding] Tokens before filter: 8\n",
      "[get_phrase_embedding] Tokens after filter: 8\n",
      "[get_phrase_embedding] Tokens before filter: 8\n",
      "[get_phrase_embedding] Tokens after filter: 8\n",
      "[get_phrase_embedding] Tokens before filter: 5\n",
      "[get_phrase_embedding] Tokens after filter: 5\n",
      "[get_phrase_embedding] Tokens before filter: 27\n",
      "[get_phrase_embedding] Tokens after filter: 27\n",
      "[get_phrase_embedding] Tokens before filter: 7\n",
      "[get_phrase_embedding] Tokens after filter: 7\n",
      "[get_phrase_embedding] Tokens before filter: 22\n",
      "[get_phrase_embedding] Tokens after filter: 22\n",
      "[get_phrase_embedding] Tokens before filter: 7\n",
      "[get_phrase_embedding] Tokens after filter: 7\n",
      "[get_phrase_embedding] Tokens before filter: 13\n",
      "[get_phrase_embedding] Tokens after filter: 12\n",
      "[get_phrase_embedding] Tokens before filter: 33\n",
      "[get_phrase_embedding] Tokens after filter: 31\n",
      "[get_phrase_embedding] Tokens before filter: 6\n",
      "[get_phrase_embedding] Tokens after filter: 6\n",
      "[get_phrase_embedding] Tokens before filter: 20\n",
      "[get_phrase_embedding] Tokens after filter: 20\n",
      "[get_phrase_embedding] Tokens before filter: 12\n",
      "[get_phrase_embedding] Tokens after filter: 12\n",
      "[get_phrase_embedding] Tokens before filter: 11\n",
      "[get_phrase_embedding] Tokens after filter: 9\n",
      "[get_phrase_embedding] Tokens before filter: 19\n",
      "[get_phrase_embedding] Tokens after filter: 18\n",
      "[get_phrase_embedding] Tokens before filter: 9\n",
      "[get_phrase_embedding] Tokens after filter: 9\n",
      "[get_phrase_embedding] Tokens before filter: 11\n",
      "[get_phrase_embedding] Tokens after filter: 11\n",
      "[get_phrase_embedding] Tokens before filter: 10\n",
      "[get_phrase_embedding] Tokens after filter: 10\n",
      "[get_phrase_embedding] Tokens before filter: 13\n",
      "[get_phrase_embedding] Tokens after filter: 13\n",
      "[get_phrase_embedding] Tokens before filter: 11\n",
      "[get_phrase_embedding] Tokens after filter: 10\n",
      "[get_phrase_embedding] Tokens before filter: 5\n",
      "[get_phrase_embedding] Tokens after filter: 5\n",
      "[get_phrase_embedding] Tokens before filter: 30\n",
      "[get_phrase_embedding] Tokens after filter: 30\n",
      "[get_phrase_embedding] Tokens before filter: 12\n",
      "[get_phrase_embedding] Tokens after filter: 12\n",
      "[get_phrase_embedding] Tokens before filter: 7\n",
      "[get_phrase_embedding] Tokens after filter: 7\n",
      "[get_phrase_embedding] Tokens before filter: 11\n",
      "[get_phrase_embedding] Tokens after filter: 11\n",
      "[get_phrase_embedding] Tokens before filter: 7\n",
      "[get_phrase_embedding] Tokens after filter: 7\n",
      "[get_phrase_embedding] Tokens before filter: 75\n",
      "[get_phrase_embedding] Tokens after filter: 74\n",
      "[get_phrase_embedding] Tokens before filter: 8\n",
      "[get_phrase_embedding] Tokens after filter: 7\n",
      "[get_phrase_embedding] Tokens before filter: 11\n",
      "[get_phrase_embedding] Tokens after filter: 11\n",
      "[get_phrase_embedding] Tokens before filter: 29\n",
      "[get_phrase_embedding] Tokens after filter: 23\n",
      "[get_phrase_embedding] Tokens before filter: 15\n",
      "[get_phrase_embedding] Tokens after filter: 15\n",
      "[get_phrase_embedding] Tokens before filter: 6\n",
      "[get_phrase_embedding] Tokens after filter: 6\n"
     ]
    }
   ],
   "source": [
    "# let's only consider ~5k phrases for a first run.\n",
    "chosen_phrases = data[::(len(data) // 1000)]\n",
    "\n",
    "# compute vectors for chosen phrases\n",
    "phrase_vectors = np.array(list(map(get_phrase_embedding, chosen_phrases))) # YOUR CODE"
   ]
  },
  {
   "cell_type": "code",
   "execution_count": 30,
   "metadata": {
    "collapsed": true,
    "id": "62ELCa2bXHtg",
    "ExecuteTime": {
     "end_time": "2024-10-05T15:37:59.666404Z",
     "start_time": "2024-10-05T15:37:59.664499Z"
    }
   },
   "outputs": [],
   "source": [
    "assert isinstance(phrase_vectors, np.ndarray) and np.isfinite(phrase_vectors).all()\n",
    "assert phrase_vectors.shape == (len(chosen_phrases), model.vector_size)"
   ]
  },
  {
   "cell_type": "code",
   "execution_count": 31,
   "metadata": {
    "collapsed": true,
    "id": "lzkEPndqXHth",
    "ExecuteTime": {
     "end_time": "2024-10-05T15:37:59.702277Z",
     "start_time": "2024-10-05T15:37:59.667080Z"
    }
   },
   "outputs": [],
   "source": [
    "# map vectors into 2d space with pca, tsne or your other method of choice\n",
    "# don't forget to normalize\n",
    "\n",
    "phrase_vectors_2d = PCA(n_components=2).fit_transform(phrase_vectors)\n",
    "\n",
    "phrase_vectors_2d = (phrase_vectors_2d - phrase_vectors_2d.mean(axis=0)) / phrase_vectors_2d.std(axis=0) \n"
   ]
  },
  {
   "cell_type": "code",
   "execution_count": 32,
   "metadata": {
    "collapsed": true,
    "id": "xRl9JvMYXHth",
    "ExecuteTime": {
     "end_time": "2024-10-05T15:37:59.791070Z",
     "start_time": "2024-10-05T15:37:59.719105Z"
    }
   },
   "outputs": [
    {
     "data": {
      "text/html": "\n  <div id=\"c0fdb618-a2dd-440b-aba1-1cf99e96dfb6\" data-root-id=\"p1106\" style=\"display: contents;\"></div>\n"
     },
     "metadata": {},
     "output_type": "display_data"
    },
    {
     "data": {
      "application/javascript": "(function(root) {\n  function embed_document(root) {\n  const docs_json = {\"895840e4-e84e-43b4-bc35-c2390dfc633d\":{\"version\":\"3.6.0\",\"title\":\"Bokeh Application\",\"roots\":[{\"type\":\"object\",\"name\":\"Figure\",\"id\":\"p1106\",\"attributes\":{\"height\":400,\"x_range\":{\"type\":\"object\",\"name\":\"DataRange1d\",\"id\":\"p1107\"},\"y_range\":{\"type\":\"object\",\"name\":\"DataRange1d\",\"id\":\"p1108\"},\"x_scale\":{\"type\":\"object\",\"name\":\"LinearScale\",\"id\":\"p1115\"},\"y_scale\":{\"type\":\"object\",\"name\":\"LinearScale\",\"id\":\"p1116\"},\"title\":{\"type\":\"object\",\"name\":\"Title\",\"id\":\"p1113\",\"attributes\":{\"text_color\":\"#E0E0E0\",\"text_font\":\"Helvetica\",\"text_font_size\":\"1.15em\"}},\"outline_line_color\":\"#E0E0E0\",\"outline_line_alpha\":0.25,\"renderers\":[{\"type\":\"object\",\"name\":\"GlyphRenderer\",\"id\":\"p1146\",\"attributes\":{\"data_source\":{\"type\":\"object\",\"name\":\"ColumnDataSource\",\"id\":\"p1103\",\"attributes\":{\"selected\":{\"type\":\"object\",\"name\":\"Selection\",\"id\":\"p1104\",\"attributes\":{\"indices\":[],\"line_indices\":[]}},\"selection_policy\":{\"type\":\"object\",\"name\":\"UnionRenderers\",\"id\":\"p1105\"},\"data\":{\"type\":\"map\",\"entries\":[[\"x\",{\"type\":\"ndarray\",\"array\":{\"type\":\"bytes\",\"data\":\"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\"},\"shape\":[1001],\"dtype\":\"float32\",\"order\":\"little\"}],[\"y\",{\"type\":\"ndarray\",\"array\":{\"type\":\"bytes\",\"data\":\"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\"},\"shape\":[1001],\"dtype\":\"float32\",\"order\":\"little\"}],[\"color\",[\"blue\",\"blue\",\"blue\",\"blue\",\"blue\",\"blue\",\"blue\",\"blue\",\"blue\",\"blue\",\"blue\",\"blue\",\"blue\",\"blue\",\"blue\",\"blue\",\"blue\",\"blue\",\"blue\",\"blue\",\"blue\",\"blue\",\"blue\",\"blue\",\"blue\",\"blue\",\"blue\",\"blue\",\"blue\",\"blue\",\"blue\",\"blue\",\"blue\",\"blue\",\"blue\",\"blue\",\"blue\",\"blue\",\"blue\",\"blue\",\"blue\",\"blue\",\"blue\",\"blue\",\"blue\",\"blue\",\"blue\",\"blue\",\"blue\",\"blue\",\"blue\",\"blue\",\"blue\",\"blue\",\"blue\",\"blue\",\"blue\",\"blue\",\"blue\",\"blue\",\"blue\",\"blue\",\"blue\",\"blue\",\"blue\",\"blue\",\"blue\",\"blue\",\"blue\",\"blue\",\"blue\",\"blue\",\"blue\",\"blue\",\"blue\",\"blue\",\"blue\",\"blue\",\"blue\",\"blue\",\"blue\",\"blue\",\"blue\",\"blue\",\"blue\",\"blue\",\"blue\",\"blue\",\"blue\",\"blue\",\"blue\",\"blue\",\"blue\",\"blue\",\"blue\",\"blue\",\"blue\",\"blue\",\"blue\",\"blue\",\"blue\",\"blue\",\"blue\",\"blue\",\"blue\",\"blue\",\"blue\",\"blue\",\"blue\",\"blue\",\"blue\",\"blue\",\"blue\",\"blue\",\"blue\",\"blue\",\"blue\",\"blue\",\"blue\",\"blue\",\"blue\",\"blue\",\"blue\",\"blue\",\"blue\",\"blue\",\"blue\",\"blue\",\"blue\",\"blue\",\"blue\",\"blue\",\"blue\",\"blue\",\"blue\",\"blue\",\"blue\",\"blue\",\"blue\",\"blue\",\"blue\",\"blue\",\"blue\",\"blue\",\"blue\",\"blue\",\"blue\",\"blue\",\"blue\",\"blue\",\"blue\",\"blue\",\"blue\",\"blue\",\"blue\",\"blue\",\"blue\",\"blue\",\"blue\",\"blue\",\"blue\",\"blue\",\"blue\",\"blue\",\"blue\",\"blue\",\"blue\",\"blue\",\"blue\",\"blue\",\"blue\",\"blue\",\"blue\",\"blue\",\"blue\",\"blue\",\"blue\",\"blue\",\"blue\",\"blue\",\"blue\",\"blue\",\"blue\",\"blue\",\"blue\",\"blue\",\"blue\",\"blue\",\"blue\",\"blue\",\"blue\",\"blue\",\"blue\",\"blue\",\"blue\",\"blue\",\"blue\",\"blue\",\"blue\",\"blue\",\"blue\",\"blue\",\"blue\",\"blue\",\"blue\",\"blue\",\"blue\",\"blue\",\"blue\",\"blue\",\"blue\",\"blue\",\"blue\",\"blue\",\"blue\",\"blue\",\"blue\",\"blue\",\"blue\",\"blue\",\"blue\",\"blue\",\"blue\",\"blue\",\"blue\",\"blue\",\"blue\",\"blue\",\"blue\",\"blue\",\"blue\",\"blue\",\"blue\",\"blue\",\"blue\",\"blue\",\"blue\",\"blue\",\"blue\",\"blue\",\"blue\",\"blue\",\"blue\",\"blue\",\"blue\",\"blue\",\"blue\",\"blue\",\"blue\",\"blue\",\"blue\",\"blue\",\"blue\",\"blue\",\"blue\",\"blue\",\"blue\",\"blue\",\"blue\",\"blue\",\"blue\",\"blue\",\"blue\",\"blue\",\"blue\",\"blue\",\"blue\",\"blue\",\"blue\",\"blue\",\"blue\",\"blue\",\"blue\",\"blue\",\"blue\",\"blue\",\"blue\",\"blue\",\"blue\",\"blue\",\"blue\",\"blue\",\"blue\",\"blue\",\"blue\",\"blue\",\"blue\",\"blue\",\"blue\",\"blue\",\"blue\",\"blue\",\"blue\",\"blue\",\"blue\",\"blue\",\"blue\",\"blue\",\"blue\",\"blue\",\"blue\",\"blue\",\"blue\",\"blue\",\"blue\",\"blue\",\"blue\",\"blue\",\"blue\",\"blue\",\"blue\",\"blue\",\"blue\",\"blue\",\"blue\",\"blue\",\"blue\",\"blue\",\"blue\",\"blue\",\"blue\",\"blue\",\"blue\",\"blue\",\"blue\",\"blue\",\"blue\",\"blue\",\"blue\",\"blue\",\"blue\",\"blue\",\"blue\",\"blue\",\"blue\",\"blue\",\"blue\",\"blue\",\"blue\",\"blue\",\"blue\",\"blue\",\"blue\",\"blue\",\"blue\",\"blue\",\"blue\",\"blue\",\"blue\",\"blue\",\"blue\",\"blue\",\"blue\",\"blue\",\"blue\",\"blue\",\"blue\",\"blue\",\"blue\",\"blue\",\"blue\",\"blue\",\"blue\",\"blue\",\"blue\",\"blue\",\"blue\",\"blue\",\"blue\",\"blue\",\"blue\",\"blue\",\"blue\",\"blue\",\"blue\",\"blue\",\"blue\",\"blue\",\"blue\",\"blue\",\"blue\",\"blue\",\"blue\",\"blue\",\"blue\",\"blue\",\"blue\",\"blue\",\"blue\",\"blue\",\"blue\",\"blue\",\"blue\",\"blue\",\"blue\",\"blue\",\"blue\",\"blue\",\"blue\",\"blue\",\"blue\",\"blue\",\"blue\",\"blue\",\"blue\",\"blue\",\"blue\",\"blue\",\"blue\",\"blue\",\"blue\",\"blue\",\"blue\",\"blue\",\"blue\",\"blue\",\"blue\",\"blue\",\"blue\",\"blue\",\"blue\",\"blue\",\"blue\",\"blue\",\"blue\",\"blue\",\"blue\",\"blue\",\"blue\",\"blue\",\"blue\",\"blue\",\"blue\",\"blue\",\"blue\",\"blue\",\"blue\",\"blue\",\"blue\",\"blue\",\"blue\",\"blue\",\"blue\",\"blue\",\"blue\",\"blue\",\"blue\",\"blue\",\"blue\",\"blue\",\"blue\",\"blue\",\"blue\",\"blue\",\"blue\",\"blue\",\"blue\",\"blue\",\"blue\",\"blue\",\"blue\",\"blue\",\"blue\",\"blue\",\"blue\",\"blue\",\"blue\",\"blue\",\"blue\",\"blue\",\"blue\",\"blue\",\"blue\",\"blue\",\"blue\",\"blue\",\"blue\",\"blue\",\"blue\",\"blue\",\"blue\",\"blue\",\"blue\",\"blue\",\"blue\",\"blue\",\"blue\",\"blue\",\"blue\",\"blue\",\"blue\",\"blue\",\"blue\",\"blue\",\"blue\",\"blue\",\"blue\",\"blue\",\"blue\",\"blue\",\"blue\",\"blue\",\"blue\",\"blue\",\"blue\",\"blue\",\"blue\",\"blue\",\"blue\",\"blue\",\"blue\",\"blue\",\"blue\",\"blue\",\"blue\",\"blue\",\"blue\",\"blue\",\"blue\",\"blue\",\"blue\",\"blue\",\"blue\",\"blue\",\"blue\",\"blue\",\"blue\",\"blue\",\"blue\",\"blue\",\"blue\",\"blue\",\"blue\",\"blue\",\"blue\",\"blue\",\"blue\",\"blue\",\"blue\",\"blue\",\"blue\",\"blue\",\"blue\",\"blue\",\"blue\",\"blue\",\"blue\",\"blue\",\"blue\",\"blue\",\"blue\",\"blue\",\"blue\",\"blue\",\"blue\",\"blue\",\"blue\",\"blue\",\"blue\",\"blue\",\"blue\",\"blue\",\"blue\",\"blue\",\"blue\",\"blue\",\"blue\",\"blue\",\"blue\",\"blue\",\"blue\",\"blue\",\"blue\",\"blue\",\"blue\",\"blue\",\"blue\",\"blue\",\"blue\",\"blue\",\"blue\",\"blue\",\"blue\",\"blue\",\"blue\",\"blue\",\"blue\",\"blue\",\"blue\",\"blue\",\"blue\",\"blue\",\"blue\",\"blue\",\"blue\",\"blue\",\"blue\",\"blue\",\"blue\",\"blue\",\"blue\",\"blue\",\"blue\",\"blue\",\"blue\",\"blue\",\"blue\",\"blue\",\"blue\",\"blue\",\"blue\",\"blue\",\"blue\",\"blue\",\"blue\",\"blue\",\"blue\",\"blue\",\"blue\",\"blue\",\"blue\",\"blue\",\"blue\",\"blue\",\"blue\",\"blue\",\"blue\",\"blue\",\"blue\",\"blue\",\"blue\",\"blue\",\"blue\",\"blue\",\"blue\",\"blue\",\"blue\",\"blue\",\"blue\",\"blue\",\"blue\",\"blue\",\"blue\",\"blue\",\"blue\",\"blue\",\"blue\",\"blue\",\"blue\",\"blue\",\"blue\",\"blue\",\"blue\",\"blue\",\"blue\",\"blue\",\"blue\",\"blue\",\"blue\",\"blue\",\"blue\",\"blue\",\"blue\",\"blue\",\"blue\",\"blue\",\"blue\",\"blue\",\"blue\",\"blue\",\"blue\",\"blue\",\"blue\",\"blue\",\"blue\",\"blue\",\"blue\",\"blue\",\"blue\",\"blue\",\"blue\",\"blue\",\"blue\",\"blue\",\"blue\",\"blue\",\"blue\",\"blue\",\"blue\",\"blue\",\"blue\",\"blue\",\"blue\",\"blue\",\"blue\",\"blue\",\"blue\",\"blue\",\"blue\",\"blue\",\"blue\",\"blue\",\"blue\",\"blue\",\"blue\",\"blue\",\"blue\",\"blue\",\"blue\",\"blue\",\"blue\",\"blue\",\"blue\",\"blue\",\"blue\",\"blue\",\"blue\",\"blue\",\"blue\",\"blue\",\"blue\",\"blue\",\"blue\",\"blue\",\"blue\",\"blue\",\"blue\",\"blue\",\"blue\",\"blue\",\"blue\",\"blue\",\"blue\",\"blue\",\"blue\",\"blue\",\"blue\",\"blue\",\"blue\",\"blue\",\"blue\",\"blue\",\"blue\",\"blue\",\"blue\",\"blue\",\"blue\",\"blue\",\"blue\",\"blue\",\"blue\",\"blue\",\"blue\",\"blue\",\"blue\",\"blue\",\"blue\",\"blue\",\"blue\",\"blue\",\"blue\",\"blue\",\"blue\",\"blue\",\"blue\",\"blue\",\"blue\",\"blue\",\"blue\",\"blue\",\"blue\",\"blue\",\"blue\",\"blue\",\"blue\",\"blue\",\"blue\",\"blue\",\"blue\",\"blue\",\"blue\",\"blue\",\"blue\",\"blue\",\"blue\",\"blue\",\"blue\",\"blue\",\"blue\",\"blue\",\"blue\",\"blue\",\"blue\",\"blue\",\"blue\",\"blue\",\"blue\",\"blue\",\"blue\",\"blue\",\"blue\",\"blue\",\"blue\",\"blue\",\"blue\",\"blue\",\"blue\",\"blue\",\"blue\",\"blue\",\"blue\",\"blue\",\"blue\",\"blue\",\"blue\",\"blue\",\"blue\",\"blue\",\"blue\",\"blue\",\"blue\",\"blue\",\"blue\",\"blue\",\"blue\",\"blue\",\"blue\",\"blue\",\"blue\",\"blue\",\"blue\",\"blue\",\"blue\",\"blue\",\"blue\",\"blue\",\"blue\",\"blue\",\"blue\",\"blue\",\"blue\",\"blue\",\"blue\",\"blue\",\"blue\",\"blue\",\"blue\",\"blue\",\"blue\",\"blue\",\"blue\",\"blue\",\"blue\",\"blue\",\"blue\",\"blue\",\"blue\",\"blue\",\"blue\",\"blue\",\"blue\",\"blue\",\"blue\",\"blue\",\"blue\",\"blue\",\"blue\",\"blue\",\"blue\",\"blue\",\"blue\",\"blue\",\"blue\",\"blue\",\"blue\",\"blue\",\"blue\",\"blue\",\"blue\",\"blue\",\"blue\",\"blue\",\"blue\",\"blue\",\"blue\",\"blue\",\"blue\",\"blue\",\"blue\",\"blue\",\"blue\",\"blue\",\"blue\",\"blue\",\"blue\",\"blue\",\"blue\",\"blue\",\"blue\",\"blue\",\"blue\",\"blue\",\"blue\",\"blue\",\"blue\",\"blue\",\"blue\",\"blue\",\"blue\",\"blue\",\"blue\",\"blue\",\"blue\",\"blue\",\"blue\",\"blue\",\"blue\",\"blue\",\"blue\",\"blue\",\"blue\",\"blue\",\"blue\",\"blue\",\"blue\",\"blue\",\"blue\",\"blue\",\"blue\",\"blue\",\"blue\",\"blue\",\"blue\",\"blue\",\"blue\",\"blue\",\"blue\",\"blue\",\"blue\",\"blue\",\"blue\",\"blue\",\"blue\",\"blue\",\"blue\",\"blue\",\"blue\",\"blue\",\"blue\",\"blue\",\"blue\",\"blue\",\"blue\",\"blue\",\"blue\",\"blue\",\"blue\",\"blue\",\"blue\",\"blue\",\"blue\",\"blue\",\"blue\",\"blue\",\"blue\",\"blue\",\"blue\",\"blue\",\"blue\",\"blue\",\"blue\",\"blue\",\"blue\",\"blue\",\"blue\",\"blue\",\"blue\",\"blue\",\"blue\",\"blue\",\"blue\",\"blue\",\"blue\",\"blue\",\"blue\",\"blue\",\"blue\",\"blue\",\"blue\",\"blue\",\"blue\",\"blue\",\"blue\",\"blue\",\"blue\",\"blue\",\"blue\",\"blue\",\"blue\",\"blue\",\"blue\"]],[\"phrase\",[\"Can I get back with my ex even though she is pregn\",\"What is the best way to become an arms dealer in t\",\"Why doesn't Japan contribute to peace and prosperi\",\"Which is the best Panasonic air conditioner servic\",\"What did ancient Egyptians believe about the after\",\"How does one prepare for the RBI grade B officers \",\"Which institutions in Kolkata give coaching for en\",\"Will omar bravo be in fifa 17?\\n\",\"What are the pros and cons of arranged marriages?\\n\",\"What will happen if all the vegetable dies?\\n\",\"Why do people hate hypocrites?\\n\",\"What do you consider poor, middle class, wealthy a\",\"How do I concentrate on my studies?\\n\",\"What is new age psychobabble?\\n\",\"How can you tell if your man is cheating even if h\",\"Can you see yourself during lucid dreaming?\\n\",\"Which browser is most safe in terms of privacy and\",\"Can Google Assistant run on OnePlus 3T?\\n\",\"Apart from the VW Vento / Polo and Skoda Rapid, ar\",\"What is Panera Bread?\\n\",\"Do athletes live longer and healthier? If not, why\",\"Could a pitbull take on a wolf in a fight?\\n\",\"What has Obama done for Latinos/Hispanics?\\n\",\"How much is |x|^2?\\n\",\"How does operator.com work?\\n\",\"Why do people not make movies/talk about the Romas\",\"What were the major contributions of the political\",\"Company Secretaries (CS): How do I prepare for CS \",\"What are the job prospects of chemical engineers a\",\"I have never gone to a bank. How do I put money in\",\"What is the best strategy to prepare for the GATE \",\"Who is this porn star?\\n\",\"Why are specs & sunglasses so expensive?\\n\",\"I installed the movie torrent with Ultra XVid Code\",\"Can we ride scootry with learning lisence age of 1\",\"Two cards were drawn, without replacement, from a \",\"How much money is needed per month to live in indi\",\"Why do companies issue bonus shares?\\n\",\"Why are Iranians and Afghans considered white Amer\",\"Could mumps cause deafness?\\n\",\"What is meaning of sadaka?\\n\",\"What should I know before starting a YouTube caree\",\"Is the ITI College Principal is gazetted officer?\\n\",\"How do you feel now that Donald Trump is now the P\",\"What is the difference between imperial units and \",\"What is the easiest way to do effective self hypno\",\"Why has China increased its involvement in the Syr\",\"From which year CBSE class 10th exam be reintroduc\",\"Is 1080p a Blu-ray?\\n\",\"Does using mirrors to concentrate thermal energy d\",\"How do I avoid attractions by phones?\\n\",\"What are some of the effects of education can you \",\"What are the characteristics of a Pisces Sun/Libra\",\"What is the most cost-effective option to ship pac\",\"Are red and blue complementary colors?\\n\",\"Is it possible to make a material that is a superc\",\"What is the best Shonen Jump manga?\\n\",\"Are Oracle and Cisco good companies for a new grad\",\"If lighting a match is considered a chemical chang\",\"Why is Hillary so afraid of Putin?\\n\",\"Which is the best book to study electronics basics\",\"What are the basics I should know before learning \",\"Can I use Cph4 on a day to day basis?\\n\",\"Is it safe when I buy things from China?\\n\",\"Why did some ethnic minorities support Brexit?\\n\",\"How much money has tinder made?\\n\",\"What is the limit?\\n\",\"Will browsing Facebook while connected to Tor reve\",\"If I get 68.4 percent in ftre 2016 class 10 then w\",\"No product market fit: change product or market fi\",\"What makes you sad about India?\\n\",\"How do I know if someone has read my messages on w\",\"Why there is a sound when we crack our knuckles?\\n\",\"Why do I only make friends with guys?\\n\",\"What is 'open-mindedness'?\\n\",\"What is the cause of carpal tunnel syndrome?\\n\",\"What is the difference between a \\\"slow cooker\\\" and\",\"What is Hillary Clinton's stance on nuclear energy\",\"Do IIT colleges require a caste validity for an ST\",\"How do I listen a song from you?\\n\",\"Why do so many Iranians immigrate to Canada?\\n\",\"What will happen to India-U.S. relations after Tru\",\"A program that stored five words in the memory the\",\"What are ways of joining to ISRO as engineer other\",\"Can Magneto defeat Hulk?\\n\",\"What time of year is it best to visit Singapore?\\n\",\"How do I study for ib?\\n\",\"What should I do if someone doesn't reply to my em\",\"How much does Manveer Singh Phogat gets for Dangal\",\"What is it like to be cannibal?\\n\",\"How can the Android app development companies help\",\"Who would you say is the most fun person in Israel\",\"How can one improve her figure and butt size witho\",\"As a company that provides travel agencies and tou\",\"What is the most beautiful thing you saw today?\\n\",\"Is gay flirting good?\\n\",\"Can I use Stripe in Europe?\\n\",\"Will Britain leaving the European Union lead to th\",\"Why are so many East Asian immigrants so averse to\",\"Why do we need computer networking?\\n\",\"What is retina detachment?\\n\",\"Why don't more bars have mechanical bulls?\\n\",\"How do I get better understanding of C++?\\n\",\"Which is the most profitable Porsche US dealer?\\n\",\"What are the best over the ear headphones for abou\",\"Is it true that the first kill is the hardest?\\n\",\"Which is best 32 inch led tv to buy below 20,000 I\",\"I am scoring 130/506 in FiitJEE aits part test adv\",\"What kind of websites are missing from the Interne\",\"What is the best way to use free time at IITB?\\n\",\"Is it possible for me to buy my first company usin\",\"What should I do to have sex with as many women as\",\"What is the scope of Executive MBA in India?\\n\",\"Which BMW models do not have a Hofmeister Kink?\\n\",\"What is yellow journalism?\\n\",\"Why do doctors charge uninsured patients 10 times \",\"Which one is the best public sector job or private\",\"Will social media ever help to spur on the US youn\",\"How should I know a video is 360 degree?\\n\",\"Is a practice manual sufficient for the CA Final I\",\"Career Advice: Being an Indian college student, ho\",\"What are the advantages and disadvantages of Li-Fi\",\"On Snapchat, I deleted someone. Can they re-add me\",\"Are there any cereals that taste good with water?\\n\",\"Why does a woman's vagina push a mans penis out?\\n\",\"What is the British word for bullpen?\\n\",\"How hard is it for international students to get a\",\"How did Revan build his foundation of his army in \",\"What is the best way to read a fictional book? Do \",\"How do you replace a ignition lock cylinder?\\n\",\"How can I prevent business failure?\\n\",\"How often do tides occur? What causes it?\\n\",\"How do I learn Calculus on my own?\\n\",\"What is the reason for Priyanka Gandhi not changin\",\"What should I eat when I'm sick with a cold or flu\",\"What is a Business Intelligence Analyst?\\n\",\"Which sports should I start to play to paticipate \",\"How should I prepare for Java fresher interview?\\n\",\"How different are cuisines of Arab countries?\\n\",\"What is the meaning of the phrase, all is fair in \",\"Why does Quora send me a notification that my ques\",\"What are the hardest obstacles to breaking into a \",\"What makes a falling snowflake large (or not)?\\n\",\"What is the compensation for Partners/Principals a\",\"What is the difference between an array and a vect\",\"If you kiss the NC State wolf do you become an NC \",\"Is it boring (from a social perspective) to live i\",\"What would have happened if in 1971 war all 93000 \",\"What are the easiest things to do while being abro\",\"Does getting root canal cause problem in speaking \",\"What is the definition of a truncated sentence and\",\"Would I look good with a nose ring? if yes which n\",\"What are the perks of working in Amazon?\\n\",\"How can we say that climate change does not bring \",\"What it is like to meet \\\"Shahid Kapoor\\\"?\\n\",\"How does it feel when you are dead?\\n\",\"Which is the best juicer, grinder or mixer in Indi\",\"How do I learn to think more logically?\\n\",\"Which movie has the best beginning ever?\\n\",\"Which laws been enacted to prevent family members \",\"What is iPhone 6s plus cost present?\\n\",\"What is Ohm's law and amperage I?\\n\",\"What is the nicest thing a stranger has done for y\",\"Why do some heroic people who do good things choos\",\"How will Hindus react if Babri Masjid is reconstru\",\"R2I - How did you plan R2I from US if you own the \",\"How can I master C programming in 7 days?\\n\",\"What is the right way to clean ear wax?\\n\",\"What are some good games to play during class?\\n\",\"Is it possible to hack WhatsApp messenger?\\n\",\"Why do airplanes carry more weight than helicopter\",\"Shaving: Do electric shavers work better than manu\",\"Has anyone benefited, health-wise, from essential \",\"Can Students at Hogwarts have sex while there? Doe\",\"How can we enhance our efficiency with Yoga?\\n\",\"What are the best app review sites and blogs?\\n\",\"Can two companies be registered on the same addres\",\"Is it true that as per Indian law, one can't be ha\",\"Who would win in a war between Bangladesh and Myan\",\"How do you reply when someone thanks you for forgi\",\"Who would win a fight between wolverine and Batman\",\"What is one thing you wish for yourself in the fut\",\"Can you cry underwater?\\n\",\"What's the difference between SSL, TLS, and HTTPS?\",\"Why are antigravity muscles more affected in Upper\",\"In order to buy a house, does one have to rent fir\",\"What is the probability of choosing a pink ball fr\",\"Which is the best car to get under 8 lakhs?\\n\",\"Why isn't China's role in the Korean and Vietnam w\",\"What is the Laplace transform of t^(1/2) * e^ (-1/\",\"To those who told a big lie to their parents and t\",\"What is runtime polymorphism or dynamic method dis\",\"I had sex 5 days after my period, what are the cha\",\"How would you describe yourself in one tweet?\\n\",\"How do fairy tales influence creativity in humans?\",\"How do I add delay() and sound() in Dev-C++?\\n\",\"What is the pathophysiology of ADHD?\\n\",\"What are the top benefits of life insurance polici\",\"Can I get a TV from Bang & Olufsen for under $2500\",\"How is the life of an ece student at dayananda sag\",\"What is meditation?\\n\",\"Were the Ancient Greeks scientists, or just philos\",\"How does Google authenticator work?\\n\",\"Wouldn't it be better if kids were allowed to focu\",\"Can you apply for a certificate on Coursera/edX af\",\"Why do Quora engineers use large monitors?\\n\",\"How do I start an online clothing business?\\n\",\"How will the government meet the challenges of acc\",\"I saw a charge on my credit card under from a comp\",\"What is the difference between socialization and r\",\"How would the world be different if everyone spoke\",\"Who receives the fares in a cab service?\\n\",\"As a non-resident alien doing a summer internship \",\"Which is the best camera smartphone under 20k?\\n\",\"What does it mean to dream about someone before th\",\"What are the subjects in which I can apply for my \",\"What are the basics of Jainism?\\n\",\"What is the Difference between existential nihilis\",\"How can I see my girlfriend's WhatsApp chat messag\",\"What are some ways to enjoy sex with my newly marr\",\"How can I study the Bible?\\n\",\"How can someone be a friend, girlfriend, wife and \",\"What are the Snapchat usernames of punjabi celebri\",\"What is 1/2 times 1/2?\\n\",\"Where does the word restaurant come from and what \",\"What can I do with a computational linguistics deg\",\"Will trump win as president?\\n\",\"What impact will AI eventually have on how we plan\",\"Why is eating too unhealthy?\\n\",\"What if the Syrian civil war never happened?\\n\",\"How do the teachings, learning, followership and/o\",\"Did you ever been in a group of stupid people?\\n\",\"What are the multiple types of social issues?\\n\",\"Where can I find beginner NodeJS tutorials that us\",\"If I got a 7.4 CGPA in the SA1 10 class, then can \",\"Which the best time table for 10th class exams pre\",\"Elite Escorts in DHA Lahore?\\n\",\"My ex bf says he doesn't have feelings for me righ\",\"What are the questions in the interview for a fres\",\"What do you think are some of benefits to humans f\",\"Which one is the best medical college hostel in in\",\"Have you lived in a tiny house?\\n\",\"What are some things new employees should know goi\",\"Where can I hire high pressure cleaning service in\",\"How many Bollywood Actresses consume alcohol in re\",\"How does PayU earn money?\\n\",\"Is it possible to change your personality as a chi\",\"How do I apply to London School of Economics as an\",\"How do I build a profile to get accepted into a st\",\"How can I get real ghost stories?\\n\",\"Is it possible to hack NASA's New Horizons satelli\",\"What is the best way of getting good at answering \",\"How would you deal with jerks?\\n\",\"How can I do internship in Accenture India?\\n\",\"Why would an Indian girl not want to get married?\\n\",\"My WhatsApp chat backup got deleted from Google, I\",\"Is going to college really worth it or just a wast\",\"How many prophets did God send to the Jews?\\n\",\"What is the relation and difference between Artifi\",\"If you don\\u2019t have a good network, what would be th\",\"What are the best place to visit in Rio de Janeiro\",\"Which is the best college for PG in Cyber Security\",\"Which are the best English serials?\\n\",\"How do you say \\u201cWhat\\u2019s up?\\u201d in Chinese?\\n\",\"Is it bad to take expired fish oil pills because t\",\"Will there ever be a genuine Authoritarian candida\",\"Is World War III on its way right now?\\n\",\"How can you use time formats in Excel?\\n\",\"What is the best antivirus for Windows 8?\\n\",\"Why do people like Metal/Hard rock so much?\\n\",\"What are the worst smelling things in the world?\\n\",\"Could someone explain the following electives at N\",\"What's a funny thing?\\n\",\"What are the main reason of cracks?\\n\",\"How do I hitchhike in Europe?\\n\",\"What is the physical significance of quantum mecha\",\"How do we get dead people off business junk mail l\",\"Who among the four in the picture given in descrip\",\"How do I know if I authentically, genuinely, hones\",\"On average, how long does it take a letter mail fr\",\"When will One Piece have episode 517 dubbed?\\n\",\"What should I do if I fell in love with my best fr\",\"How do criminal lawyers sleep at night even when t\",\"Can I get refund for Tatkal e-ticket because train\",\"How can I buy the new Macbook 12\\\" M7 512GB model i\",\"What are the different e-governance methods used b\",\"How do I run smoother GTA V? I have intel core i3 \",\"What is the use of tanpura?\\n\",\"What are the Snapchat usernames of celebrities?\\n\",\"Which is better- cracking gate and going for IIT/i\",\"Can you lose weight without exercising?\\n\",\"What is the best way to make life more interesting\",\"Is Delhi a must for UPSC coaching?\\n\",\"Which are the best colleges for electronics and in\",\"I have been a .Net developer for over 2 years and \",\"Has a smartphone ever been taken to space? If yes \",\"What questions should I ask my boyfriend, we are b\",\"How do I delete a contact blocked in WhatsApp?\\n\",\"Is it a good time to buy real estate in Cyprus?\\n\",\"South India: Why is South India much more develope\",\"What is the formula for a hydrocarbon?\\n\",\"What if an alien comes and tells us that the physi\",\"What are the pros & cons of democracy?\\n\",\"I'm 16 years old and wanted to lose weight and bod\",\"Can I add more peers to the torrent for max speed \",\"What are the best neighborhoods to Airbnb in Chica\",\"What we will get in mahabalipuram beach sunrise or\",\"How fast can you accelerate to the speed of light?\",\"What is the difference between R-squared and Adjus\",\"How many times can women reach orgasm in a hour an\",\"Why didn't Johor, Batam & Singapore integrate more\",\"Which products are more profitable in online sell?\",\"How do I get rid of muscle?\\n\",\"What is the process of directing and casting child\",\"Is the 7th pay commission needed?\\n\",\"What are the best games that are compatible on a C\",\"What was the significance of the battle of Somme, \",\"How do you see Pakistan PM Nawaz Sharif's speech a\",\"Where can I publish my apps?\\n\",\"What was your darkest moment?\\n\",\"Why does the UK have an unwritten Constitution?\\n\",\"What are the necessary steps in documenting a mobi\",\"Why was life created? Why was life so painful?\\n\",\"How can I use explainer video to review products o\",\"What is difference between residue and error?\\n\",\"If 6.5 to 8.5 will be the safe level of pH value i\",\"I am 23 and don't know what I want. My life is ver\",\"What are your three favorite websites for reading?\",\"Why do people choose to be a GAY?\\n\",\"What is the process of death?\\n\",\"Why does light red deserve the special name \\\"pink\\\"\",\"Who are millennials?\\n\",\"What it's like doing CA articleship from Big 4s?\\n\",\"What is the most important right or freedom guaran\",\"Why do some porn stars have unprotected sex?\\n\",\"What are my reasons to live?\\n\",\"How small would a planet need to be to plainly see\",\"Some religion speaks of burning in hell after deat\",\"What does it feel like to be an IITian?\\n\",\"How does cognitive behavioural therapy work?\\n\",\"Why should you visit India?\\n\",\"I lost my Google account information. How can I re\",\"What if I port a number from Airtel to Vodafone in\",\"What are the reasons why time travel is impossible\",\"Will my iPhone alarm still go off if \\\"Do Not Distu\",\"Did South Korea cheat during the 2014 Asian Games?\",\"Take the minimum lethal volume of a gaz, put it in\",\"\\\"How to improve Project Management skills?\\\"\\n\",\"When you were small, did you ever think that your \",\"Where did the pointy \\\"S\\\" symbol come from?\\n\",\"How does it feels like to have a rich boyfriend?\\n\",\"What have you used your intelligence for?\\n\",\"What is a freewheeling diode?\\n\",\"How do we derive pi?\\n\",\"What is the importance of communication skills in \",\"How can I put icons on YouTube video titles? Also \",\"What does the phrase \\\"resonate with me\\\" mean?\\n\",\"How many types do we have of Manual testing?\\n\",\"What are IBAN numbers?\\n\",\"What is regret?\\n\",\"As a student specializing in English language, lit\",\"What is the corporate culture like at Corning? How\",\"How can I convert jazz standards to jazz guitar so\",\"How good was the surgical strike by Indian Army on\",\"What recipes are most conducive to romance?\\n\",\"What are the unknown facts about Tamil people whic\",\"Where do I find the most beautiful woman in the wo\",\"What does the grey phone icon mean on the messenge\",\"How do I share 360\\u00b0 photos on WhatsApp?\\n\",\"What is the difference between working stress meth\",\"What are the opportunities for an MBA in finance?\\n\",\"Can you patent clothing or fashion designs?\\n\",\"My in laws are apologists for Nazi war criminals a\",\"Which is the safest city in India for women?\\n\",\"What horse breed were commonly used during the \\\"Wi\",\"Is it weird to sometimes feel almost overwhelmed b\",\"Can anyone please list all the SAP SD topics a per\",\"In the filling of ibps application I put martial s\",\"In a restaurant, what are the different types of t\",\"Why does amir khan never go to any filmy awards fu\",\"What is a good inpatient drug and alcohol rehab ce\",\"Why does UV light cause contamination on optics, b\",\"How do I invest in mutual funds in India?\\n\",\"How comfortable are you with failure?\\n\",\"What skills are required to become a quant?\\n\",\"Why do startups announce fundraising?\\n\",\"What is your review of Amazon Video?\\n\",\"Why there is no team from Tamil nadu in pro kabbad\",\"How do I auto forward texts from my Verizon phone \",\"How do the Chinese people view Americans?\\n\",\"What is virgin or virginity?\\n\",\"What are the different ways of submitting a Reques\",\"Can a high school teacher legally force students t\",\"Why does water droplets form on the outer surface \",\"Which mammals have dark circles around eyes beside\",\"How do each components of a printer work?\\n\",\"What are some foods beginning with the letter W?\\n\",\"What are symptoms of a bad transmission control mo\",\"How do astronauts in ISS vote for Presidential ele\",\"What is the difference between Aim and Goal?\\n\",\"What is AT & C?\\n\",\"Who was Jackson Pollock? Was he mentally ill?\\n\",\"How do I make good vine edits?\\n\",\"How can I cut my penis?\\n\",\"How can I change my Quora profile photo?\\n\",\"My husband was here seeking asylum before we got m\",\"Is it good to use Laravel to develop a web app wit\",\"I have a mild sore throat an headache. What is tha\",\"When will a working nintendo 3DS emulator release \",\"What do we know about the health effects of vaping\",\"INSEAD: Worth the investment?\\n\",\"How is long rides in royal Enfield classic 350?\\n\",\"What famous boxers have participated on Dancing wi\",\"Will season 10 of Big Bang Theory be the final sea\",\"Can I crack KVPY (SX) with only three months left \",\"What are some little-known facts from World War II\",\"What is the most unique way of exam cheating you'v\",\"When was the last time a slam dunk broke a basketb\",\"What should I do for my excessive hair loss?\\n\",\"How do I find people's psychological weakness?\\n\",\"What is the difference between Awareness and Consc\",\"I hate everything that people around me like. Is i\",\"I think I am pretty good at thinking of a business\",\"How do you determine the thickness of a footing ba\",\"Why does vapours are formed when we pressurize alc\",\"Is it easy to adjust in German Universities withou\",\"What is UNIX and UNIX-like?\\n\",\"What is the best way to promote www.dorkyard.com?\\n\",\"What's up in Addis Abeba tonight?\\n\",\"Is there any point to going to college if you have\",\"How much would it cost to construct 800 sqft area \",\"What is an ideal wife? What is an ideal husband? W\",\"What information does port scanning provide?\\n\",\"What are the application of quasicrystals?\\n\",\"What is the determinant of the inverse of a matrix\",\"How is Brad Pitt in \\\"real Life\\\"?\\n\",\"I have a 3 yr bachelor's degree in Computer Scienc\",\"Demonetisation is good for county like India or no\",\"My parents think I am rude for being so introverte\",\"How many people have jumped off the Golden Gate br\",\"What are Osho's views on Islam?\\n\",\"Why does the government regulate health care?\\n\",\"Which phone has the best sound recording quality?\\n\",\"What is the best part of your life, and why is it \",\"Which is better hair wax or hair clay?\\n\",\"How do I charge my motorcycle battery?\\n\",\"What are the updates we get after miui 8.0.6.0?\\n\",\"Why does Robinhood need to bypass the App Store?\\n\",\"Which is a better route, Alipiri or Sri Vaari?\\n\",\"How much extra would it cost if Apple manufactured\",\"When will the next recession be?\\n\",\"What are some arguments in support of electing Don\",\"What does Russia want with Ukraine?\\n\",\"What is the difference between a recorder (block f\",\"What is the meaning of random number?\\n\",\"Which one is good for health: tea or coffee?\\n\",\"Is Texas good state for non-resident to register a\",\"What is kirchoff's law?\\n\",\"Is it wrong for a family member to keep making com\",\"My parents are forcing to marry a girl of their ch\",\"Which is better, Windows+Linux or OSX?\\n\",\"Why aren\\u2019t Christians that pray to/have a relation\",\"How much TDS will I have to pay for an RD account \",\"What is the meaning of thematic connection?\\n\",\"How should you prepare to take your maneuverabilit\",\"What are the best materials/videos/resources to ge\",\"Can a \\\"dirty\\\" finish be added back to jeans?\\n\",\"Why does my dog keep whining at night?\\n\",\"Is it bad to turn off my PC using the power button\",\"What is image processing?\\n\",\"I went to school with mostly black kids, they bull\",\"Does Donald Trump actually think he can become Pre\",\"Which are the 5 best movies you have ever seen?\\n\",\"How do I get traffic to excursions travel website?\",\"Where can I download the Android game Leo's Fortun\",\"How do I get more followers and upvotes on Quora?\\n\",\"What is a factory reset on a phone?\\n\",\"Which phone should I buy if my budget is 12000?\\n\",\"I have GPU implementation as a graduation project.\",\"What are the libertarian views on the Antarctic Tr\",\"What would the world be like if it were ruled by a\",\"How do you choose your first bank?\\n\",\"Who runs berkuliah.com?\\n\",\"What does Godel's incompleteness theorem mean for \",\"How do I delete a Gmail account?\\n\",\"If my ultimate goal is to become a vegan, should I\",\"Did the US win the war in Afghanistan?\\n\",\"How can I become a good engineering student?\\n\",\"What are some ways to increase intuition?\\n\",\"What causes depression in humans?\\n\",\"How can I control my anxiety and worries?\\n\",\"How can we jump in between the working regions of \",\"How do I stop loving someone who loves me?\\n\",\"Can personality and insecurity create a liar?\\n\",\"What is the best country and university to do a Ph\",\"How do I edit a video offline?\\n\",\"What is the rent of kiosk in an upscale mall?\\n\",\"What should I start reading if I want to attempt t\",\"Which is the best anti-virus for computers?\\n\",\"Does food unite people?\\n\",\"What do you like most about Internet?\\n\",\"What is a good model of federalism in the Philippi\",\"How do you know if a girl secretly loves you?\\n\",\"Who is the most annoying fictional character you h\",\"How do you feel when your question is unanswered o\",\"Did early humans know how babies were made?\\n\",\"If I cancel xfinity, how can I sign up as a new cu\",\"Are there any TV series similar to House MD?\\n\",\"What you need to know before buying furniture for \",\"Have you ever had a dream happen in reality?\\n\",\"Is dark matter just a scientific theory or has its\",\"How can you increase your tolerance for pain?\\n\",\"How many logical fallacies are there?\\n\",\"How do buttercream icing frosting separate?\\n\",\"Which is the cheapest cinema hall of India?\\n\",\"What do you think would be a good gre score?\\n\",\"What is the best way to update Xiaomi redmi 3 to M\",\"What does toe jam cheese taste like?\\n\",\"How do I know if a YouTube video is copyrighted?\\n\",\"How should I start a business reselling shoes?\\n\",\"How do I hire a mobile app development company?\\n\",\"What is paras pathar?\\n\",\"How is the word \\\"colony\\\" used in a sentence?\\n\",\"What is Rebecca Fugate known for?\\n\",\"What should I consider before starting my consulta\",\"Do you feel that many attractive women get away wi\",\"Why do I feel so much guilt for kissing a girl?\\n\",\"What are some good tutorials for learning Blender?\",\"Is it deceitful to befriend someone in the hopes t\",\"Who do you think BJP will put as a candidate for t\",\"Which protein supplement is best for gym to gain w\",\"What is your review of KVPY SX/SB 2016?\\n\",\"How do I get people's attention for my work?\\n\",\"What are some of your own personal stories and exp\",\"If salt concentration of the sea(3%) were differen\",\"What is the chemical name for mothballs? How was i\",\"Vitamin D receptors in the Testes?\\n\",\"How do I lose weight without working out?\\n\",\"Where can I watch anime?\\n\",\"What is BusyBox used for?\\n\",\"What would be a good desktop computer for software\",\"What are your top five favorite books and why?\\n\",\"What are some good Harry/Ginny fanfiction?\\n\",\"What are the pros and cons of having sex during pe\",\"Which device will you enjoy watching movies in: a \",\"Will there be \\\"faithless\\\" electors this election?\\n\",\"Is Donald Trump an undercover democrat?\\n\",\"Why am I the way I am?\\n\",\"Why do some women get their nipples pierced?\\n\",\"What do Delhi University girls (especially North C\",\"What is the name of this TV series?\\n\",\"My salary is below the Basic Exemption Limit, yet \",\"What is a foliated rock?\\n\",\"What are some of the best books to start learning \",\"How should I prepare for IIT-JEE 2018?\\n\",\"How do unions work?\\n\",\"Can we give neet coaching in class 11?\\n\",\"Which is the best dish TV connection in Hyderabad?\",\"How can you train a Doberman/Lab mix?\\n\",\"How do you reduce stress at work?\\n\",\"What is the best algorithm for finding the number \",\"How can I earn $250 in 2 months?\\n\",\"Why did GE buy NBC?\\n\",\"What is the highest level of c?\\n\",\"How do you mash potatoes without a masher? What el\",\"How difficult is it to learn Python?\\n\",\"How do you convert years into seconds?\\n\",\"How do you view bisexuality?\\n\",\"What is information technology? What are some exam\",\"Why are Altoids so strong?\\n\",\"How effective is email marketing?\\n\",\"Why does my tutor keep winding me up. He says he i\",\"How can I start my Tok essay which is about accura\",\"How do I repair my corrupt memory card?\\n\",\"I have 3 years to prepare for IIT JAM Physics. How\",\"What are the best Instagram hack tools that have n\",\"I am studing interior design. What are some good i\",\"What are some stupid jokes that make you laugh?\\n\",\"What are the factors affecting Real estate investm\",\"How can I get rid of white dry spot on my face? It\",\"What is it like to have an ugly wife/partner?\\n\",\"What do you love most about your life and why?\\n\",\"In the unlikely event that the Electoral College t\",\"How is life as an Engineer?\\n\",\"Where and why are the imaginary numbers used?\\n\",\"What are some good hypo-allergenic lipsticks?\\n\",\"Did the United Nations play a part in the divide o\",\"When and Why did America become a world power?\\n\",\"What are some recipes using Hormel Black Label Ham\",\"Which is the best company to invest shares on Nove\",\"The man I'm about 2 marry says when I have my peri\",\"What can be the best answer for why finance?\\n\",\"What are the best facts about the universe?\\n\",\"What's the sweetest thing you did for a bestfriend\",\"What is the difference between techno and trance m\",\"TV Sitcoms: Why do English comedy shows have peopl\",\"Does percentile system would affect neet 1 student\",\"Is there Uber in Valencia, Madrid and Barcelona?\\n\",\"Have real-life siblings ever shot intimate scenes \",\"How should I improve my writing skill for blogging\",\"Can cold weather affect a menstrual cycle?\\n\",\"How can we earn money online while studying?\\n\",\"Can a tablet keyboard be used on any kind of table\",\"What are the Upcoming development projects in Chha\",\"Where can I buy cheap Twitter followers?\\n\",\"Why do passengers from aircraft are not given a bu\",\"When should I tell my crush I like her?\\n\",\"Why does Pakistan have a better image and reputati\",\"What are Andrea Pirlo's strengths as a midfielder?\",\"From a point in space billions of light years away\",\"Will Medicaid pay for electrologist to do the shav\",\"Why do technical employees despise sales people so\",\"What are the best freelance websites for C#?\\n\",\"Will I be successful without educations?\\n\",\"How can I learn about cars?\\n\",\"What is the best question asked in an interview?\\n\",\"Why there is so much hatred against Brahmins in In\",\"How do I learn to enter journal entries online in \",\"Will CS be issuing a PR message for Boston?\\n\",\"Why do some people 'hate' drugs or people who ever\",\"How do I know my passion? What is my talent and wh\",\"How do pessimists and optimists differ?\\n\",\"How many pulleys did it take for Archimedes to lif\",\"What is the best course after 12th for a medical s\",\"What are the steps that I should follow to get in \",\"Where was the boston marathon?\\n\",\"What is it like to be in or around a bomb blast?\\n\",\"Will Trump destroy international US-companies thro\",\"Should celebrities have the right to voice their o\",\"Can I say that: \\\"A battery can be seem as a capaci\",\"What is it like to be an ENTP?\\n\",\"How do I start designing on glass?\\n\",\"What is the market risk premium formula?\\n\",\"How can I pay the parking meter if I have no coins\",\"Is it true that Obama has a secret son named \\\"Luth\",\"Which is the best coaching for IAS in up?\\n\",\"How big is the equity funding market in North Amer\",\"Which are the good government medical colleges in \",\"How do I control my hair fall?\\n\",\"Is it really worth creating Shopify themes?\\n\",\"What can cause knee pain? It only hurts when I sta\",\"Where can you find a list of common 9 letter words\",\"NSFW: Is this penis color normal or should I see a\",\"Why do most women remove the hair from their arm p\",\"Which processor is better (faster/more efficient),\",\"Which two statements are true regarding views in s\",\"What is the easiest and quickest Indian food recip\",\"What are the best local SEO companies in India?\\n\",\"How do I get rid of adult content on my Quora feed\",\"Can the zombie fungi attack humans as well?\\n\",\"If I wanted to learn about the Roman Empire,what w\",\"What are the key differences between LXDE and XFCE\",\"Can people see the sellers real name, e-mail addre\",\"Should I still watch The Matrix movie?\\n\",\"Is there any truth to the rumor that the youngest \",\"Is it ok that I don't want to hang out with my fam\",\"I am in class 9. If i want to crack IIT JEE, then \",\"Will Obama's gang stalking/surveillance program be\",\"What are some good songs to lyric text prank a fri\",\"Where can I get best quality video DJ for party in\",\"How long does it take for your hair to grow?\\n\",\"Should I update my Redmi 3s from MIUI 7 to MIUI 8?\",\"How do muscles work?\\n\",\"WHAT IS THE BEST ROUT FOR NEPAL PASUPATI NATH TEMP\",\"How to make a website similar to feedwiser.com in \",\"Why does India so scared of CPEC?\\n\",\"What did your first sex feel like as a girl?\\n\",\"In International ODI/T20 cricket matches, if a bat\",\"Why can humans feel acceleration, but not constant\",\"Can the Microsoft Surface Pro 4 run AutoCAD?\\n\",\"What are the differences between stock Crown Victo\",\"What are the good ways to download Lynda.com's tut\",\"How much is the average salary package for a 1.5 y\",\"How can you reduce the barriers of communication?\\n\",\"Why would someone use Instagram Stories over Snapc\",\"Whiskey: How many 'shots' are in a fifth of Jack D\",\"What might happen now that President-elect Donald \",\"How do I write a waiver letter for school?\\n\",\"I am interested in persuing ma industrial psycholo\",\"Does modafinil shows up on a drug test? Because my\",\"Is it possible to get high off Vyvanse?\\n\",\"Is an agnostic necessarily a skeptic, and how?\\n\",\"Where can I get best support in Sydney for buying \",\"What are the duties of a lieutenant in Indian army\",\"Why is smileys not used on Quora?\\n\",\"What does it feel like for a man when someone who \",\"How does post graduation permit impact .lets say I\",\"Online Payment Gateways and Processing: What is th\",\"What are the best books to learn c programing lang\",\"Solid State Physics: What is The Theory of Alloys?\",\"How do I fill in my first name in a PAN card dupli\",\"Why is egg yolk not good for you?\\n\",\"Anatomy of Female Pelvis: Do women really have an \",\"How much does it cost to develop mobile applicatio\",\"Who is the most honest Game of Thrones character?\\n\",\"What is a high quality Apple MacBook Air charger?\\n\",\"Where and how is the WWE championship belt made?\\n\",\"What is green communication?\\n\",\"I have been a good student since chiild hood but j\",\"I'm solving exercises of artificial neural network\",\"Compared to your own compensation, and in consider\",\"How can I keep browsing Quora forever?\\n\",\"Having built web stuff the old way (PHP/MySQL) bac\",\"Is our new currency note of Rs.2000 equipped with \",\"What's the best way to join a startup in DC?\\n\",\"What would happen if we added a second Earth of eq\",\"When will piracy on Android stop?\\n\",\"What do you mean by executive consultant and suppo\",\"Why do I always feel like I am missing something?\\n\",\"What does a user see when he/she gets a new messag\",\"How can I become a web developer?\\n\",\"Is there any good alternative softwares to Tally?\\n\",\"Would you have sex during period?\\n\",\"Are there prominent Bangladeshi Hindus?\\n\",\"I have registered for PhD (no NET) (phy) in 2013, \",\"I changed my name, but the person did a mistake. M\",\"At what age do your breasts stop growing?\\n\",\"How do I get a girl's phone number in a library?\\n\",\"I am into a habit of over thinking things. How do \",\"What is the average salary of a civil engineer?\\n\",\"What is the difference between rote learning vs me\",\"What are the ways to compete in the Olympics in 20\",\"What trivia (and/or little-known facts) do you fin\",\"Xiaomi Redmi note 3: Which is the best colour to b\",\"What does \\\" the Hadamard Perron theorem\\\" means?\\n\",\"Is there a way to see the viewing history and chat\",\"What is the best place for trekking in Goa?\\n\",\"How does an instant messenger work?\\n\",\"What are the disadvantages of the World Trade Orga\",\"Why does the US military not use AK series rifles?\",\"Does Moto m have gorilla glass?\\n\",\"What is the hierarchy of an associate consultant a\",\"What are some major landforms in Texas, and how do\",\"What other jobs can a medical degree holder do mea\",\"MY HP DEXTOP DOESNOT CONNECT WIFI WHY?\\n\",\"How can I get motivated to workout?\\n\",\"What should I gift it to my mom on her birthday?\\n\",\"Which is the best video you have ever seen?\\n\",\"I was selected in campus and was issued a joining \",\"What makes a poem a good way to express emotions? \",\"What would happen if I cut down a tree outside my \",\"Can you make money in Amway?\\n\",\"Body Weight: How many pounds can I gain every week\",\"What are the impacts (both positive & negative) of\",\"I forgot the password which I used to login n n lo\",\"What are the best websites for career?\\n\",\"What is your favourite episode of the office (USA)\",\"Why is time slower down near heavy objects?\\n\",\"How do l update any version after rooting the mobi\",\"Why is 3 am called the witching hour?\\n\",\"How do I run a shell script from Java code?\\n\",\"What are the advertising campaigns of 2011?\\n\",\"Should I opt for computer science if I don't take \",\"What are the polymers of protein?\\n\",\"How much better will the JWST be than Hubble?\\n\",\"What are the greatest examples of absence of mind?\",\"How can I understand the STOCK market from the bas\",\"How do I make Gazpacho?\\n\",\"What is the typical role of a brand manager?\\n\",\"Who are the top 5 hottest women ever?\\n\",\"What is the name of the game that Aamir Khan was r\",\"How long does it take to learn dance?\\n\",\"What's the funniest thing that's happened to you a\",\"Why are metals malleable and ductile?\\n\",\"List of national daily in India?\\n\",\"Are Volvos actually safer than comparable cars?\\n\",\"Can you tell who has been looking at your Instagra\",\"A ball dropped from the roof of a building takes 4\",\"What percentage of Hillary Clinton's supporters ha\",\"Do you think you are beautiful?\\n\",\"Which are the free email marketing tools?\\n\",\"What topic of discussion do people hate the most? \",\"What is the point in having hyper-politicised stud\",\"Why Steve Jobs is considered as innovator?\\n\",\"How long would it take an average programmer to wr\",\"Why are conservatives defending Holly Fisher? (see\",\"What is so important about Adam Smith's pin factor\",\"What is the Arizona bark scorpion, and how do anim\",\"How do I stop smoking cigarettes?\\n\",\"What are the functions of a computer's motherboard\",\"How can tea bags help for styes?\\n\",\"How can I get a patent for my really effective inn\",\"Can India ever become 'Sone Ki Chidiya' again?\\n\",\"Is there any way to play Android games LAN multipl\",\"Why should I ask my first question?\\n\",\"Who are the top writers on Hinduism on Quora? Who \",\"How do I wake up at 4:00 A.M.?\\n\",\"Why is Quora moderation collapsing all my answers?\",\"In an honest assessment, what do you think of Trum\",\"What type of bonding is present in a coordinate bo\",\"Is it possible to delete your Wikipedia account hi\",\"I'm a +2 CBSE non-medical student. Is there any pr\",\"Are there any limitations as to setting up a forei\",\"How will the drought in California affect its econ\",\"What is Informatica online training?\\n\",\"Is it compulsory for a Web designer and developer \",\"How could the US realistically pay off its debt?\\n\",\"Who is Barry Soetoro?\\n\",\"How do I solve [math]2x^3-x^2+11x+3=0[/math]?\\n\",\"What are some hobbies couples can do at home?\\n\",\"How have meerkats adapted to the desert?\\n\",\"What causes dizziness when you lay down?\\n\",\"What should one do after a civil engineering degre\",\"What are the advantages of hiring skip bins servic\",\"Why is it necessary that singers lip-sync?\\n\",\"How can I turn off the screen overlay detected on \",\"How do you clean or polish a pair of Woodland shoe\",\"What are some classes you wish you took in high sc\",\"What is the formula of [math](a+b)^3[/math]?\\n\",\"What is it like to commit yourself to a psychiatri\",\"Is there any way to slow or reverse the late effec\",\"What would the implications be if we discovered th\",\"Any other program to help on code contribution for\",\"What is the bond order of [math]H_2[/math]?\\n\",\"What is the best way to create a website without c\",\"What were some causes and effects of the French Re\",\"What are some catchy headlines for a dating site?\\n\",\"Should I get Company of Heroes, World in Conflict \",\"How do I remove a person from a group in Skype?\\n\",\"Why was Manmohan Singh briefed by PM Modi after su\",\"Does anybody want to learn Chinese?\\n\",\"Is Xiaomi going the Nokia way to oblivion?\\n\",\"Should I buy hp 17.3 AMD laptop or lenovo 17.3 i5 \",\"Which is better a government job or a software job\",\"How can the word \\\"credulity\\\" be used in a sentence\",\"Does uber track time on app?\\n\",\"How do I get over direct rejection?\\n\",\"How can any institute get an ISO certificate?\\n\",\"What are the best pranks?\\n\",\"Are non-solicit agreements enforceable if the pers\",\"Which phone is best in 2016 for a 18 years boy my \",\"What is the definition of an archetypal hero?\\n\",\"Why are some \\\"ugly\\\" people still very attractive?\\n\",\"What are the chances of Donald Trump's impeachment\",\"What would a society based on laws enforcing only \",\"What is the full form of \\\"veto\\\" power?\\n\",\"How much do people get paid to do a TED talk?\\n\",\"What does it mean to say \\\"enriching herself off of\",\"How can I be more persuasive at work?\\n\",\"What is the corporate culture like at National Bev\",\"What is the fastest way to get a PAN card?\\n\",\"Who will win in America presidential elections in \",\"How do I solve this differential problem?\\n\",\"How is Banjara's Saffron Facial Kit used?\\n\",\"How do you understand life?\\n\",\"Will an MS from NUS in electrical engineering prov\",\"How does one create a strong password? Any tips?\\n\",\"Who was the best dressed at the 2016 Emmy's?\\n\",\"What is the cost of manufacturing a SIM card?\\n\",\"Are you tolerant?\\n\",\"Is [math]\\\\{1,2,3\\\\}[/math] a compact subset of a me\",\"What kind of energy is involved in hearing and vis\",\"What happened with Lehman Brothers?\\n\",\"What is a good web page publisher?\\n\",\"Why does eating radishes cause diarrhea?\\n\",\"How do I encrypt the data on my Android phone?\\n\",\"If there were an Oscar for \\\"Best Line in a Movie\\\",\",\"Why are tyres black?\\n\",\"What is the best way to unlock a Motorola Droid Bi\",\"Is a $45 a month job worth the experience?\\n\",\"Should I settle in Canada or Japan?\\n\",\"How is the appraisal process in Accenture? How wil\",\"How does sand turn into glass?\\n\",\"What effect will increased automation of jobs and \",\"I am 25 years old Indian guy, want to settle in Ne\",\"What are some Raksha Bandhan gift suggestions for \",\"How do I write a multi-dimensional villain that is\",\"Why is there no nucleus in a red blood cell?\\n\",\"Why do Quora allow anonymous fake questions from A\",\"Is it possible to merge a foursquare venue into a \",\"How do I find out if I have Siri on my phone?\\n\",\"Why do I feel like I'm not living my life?\\n\",\"What will happen to global stock market if Donald \",\"What makes weeds grow so much faster and easier th\",\"Do people with extremely high IQ need higher sugar\",\"What should teaching assistants do?\\n\",\"Why is Perth one of the most liveable cities in th\",\"How do you get to the entrance for Resolution Cave\",\"How do I get involved in research as an undergradu\",\"If you have one option to remove anything, what wi\",\"What are the risk after angioplasty?\\n\",\"Why can't men read the signals women give off when\",\"How can a non-EU medical graduate get into residen\",\"How do I stay active?\\n\",\"I'm going to Paris. What is the equivalent \\\"neighb\",\"How do I get rid of dandruff, or at least prevent \",\"Is Medicaid going to pay for the electrologist for\",\"When Australia became a nation in 1901, Did aborig\",\"What is the difference between SSL and Sitelock?\\n\",\"What are some unsolved problems in deep machine le\",\"What's the difference between computer engineering\",\"Is it possible to get a decent job after completin\",\"What is the difference between MG & BG in railway \",\"How do I control an Arduino with a Raspberry Pi?\\n\",\"What is the best field to pursue MS after doing el\",\"What is the difference between Directx and graphic\",\"How do I wirelessly charge the electrical devices \",\"Can you upload Numbers sheets from iPad to Google \",\"What's the best movie franchise you have ever watc\",\"If light does not have mass, then how can it be ab\",\"Why is the book of Esther in the Bible?\\n\",\"What makes comic books worth reading?\\n\",\"What are the advantages of outsourcing property ma\",\"What is a Quora credit competition?\\n\",\"Are data analyst/data science jobs boring?\\n\",\"Why don't satellites crash into each other?\\n\",\"How do dermatologists remove blackheads?\\n\",\"How can I choose between my dad and my mom?\\n\",\"Can you really not change people?\\n\",\"Being a non believer of a spiritual entity, I have\",\"Is black coffee fattening? If so, what makes it fa\",\"The education system is outdated. What would you d\",\"Who are the founders of Quora?\\n\",\"What is it like to be a landlord?\\n\",\"How many stamps do I need to send a letter to germ\",\"My father just recently got married. His wife goes\",\"Which countries are best to migrate from the US?\\n\",\"Can any one tell me a basketball club in Bangalore\",\"How can Spotify download songs offline?\\n\",\"How do I make money online for free in Spain?\\n\",\"Why is Tornado Alley prone to tornadoes?\\n\",\"How does helium change the inhaler's voice?\\n\",\"What is a bedding ceremony in Game of Thrones?\\n\",\"What is it like living in former East Germany as a\",\"Did the USA or NATO commit any war crimes in Iraq?\",\"Why don't we capture terrorist and behead them?\\n\",\"What is your favorite quote (books, movies, people\",\"What mixes well with peach vodka?\\n\",\"Which Patanjali products contain cow urine?\\n\",\"Why are three phases denoted by RYB?\\n\",\"Where could I learn JavaScript online?\\n\",\"Is it appropriate to wear a sports bra simply to t\",\"What are the differences between Jenkins CI and Dr\",\"T right do you think we should be entitled to?\\n\",\"What was the public's reaction to Crystal Pepsi?\\n\",\"How can I crack MH-CET 2017 engineering by self-st\",\"What is the way to become a dental hygienist in th\",\"Why do solving math/statistics problems causes my \",\"Does your name sound as awkward to others as it so\",\"What is the proper format of writing formal-inform\",\"How does doc2vec represent feature vector of a doc\",\"Why are software development task estimations regu\",\"How can I set up molecular pathology lab?\\n\",\"How do I score a rank in CA - IPCC?\\n\",\"What are some examples of strong organic acids?\\n\",\"What can be a good hindi (indian) name for a tea b\",\"Is the Google host matching process different for \",\"Is Cuba considered part of Latin America?\\n\",\"Does the following script (\\u0256\\u2200\\u0f61\\u0632\\u2202 \\u0250\\u0167 \\u01ab\\u04bf\\u03de\\u026e\\u2609 \\u027d\\u03c6\\u0289\\u029b\\u0195), \",\"How can I increase my website's DA?\\n\",\"Is it normal to imagine having sex with other guy \",\"What is the percent purity (approx) of consumable \",\"Do soulmates just come walking into your life when\",\"If I use marijuana with my boyfriend, is there a p\",\"Can you analyze everything in soil?\\n\",\"What difference it would make if India Nuked and K\",\"What are the advantages of a dominant party system\",\"What were some things India did not do but takes c\",\"How many total women have accused Bill Clinton of \",\"Why do I wish some fictional characters existed?\\n\",\"Where can I find best hotel at Ranikhet?\\n\",\"How do I make good memes?\\n\",\"What are some of the common sayings or proverbs in\",\"What kind of writing style makes someone a \\\"dark w\",\"Are Trump and Hillary really the best America has \",\"How can I make my career in embedded system and ro\",\"Will adding a USB to VGA adapter always give an ex\",\"We will never be able to see our own faces with ou\",\"What are the ways you can stop a friend from pitch\",\"What is the average time for preparation of IAS?\\n\",\"How can I learn new things quickly?\\n\",\"What is the definition of political courage?\\n\",\"What makes death scary?\\n\",\"I'm really pretty but I don't want to be I hate th\",\"Is Assam Down Town University good?\\n\",\"How do the brain structures of bonobos change as t\",\"What's the biggest scam?\\n\",\"Does the US government have an alien flying saucer\",\"I need to gain weight, but I don't have abs. It's \",\"Why should I study Calculus?\\n\",\"Do you think your childhood contributed to your fi\",\"How does the Goods and Services Tax (GST) works?\\n\",\"Where can I download Cisco 500-285 exam dumps?\\n\",\"How do I can make a second nation in Cybernations \",\"Did Neil Armstrong really land on the moon?\\n\",\"Why is Devil any other than God head of state?\\n\",\"How do I stop being possessive over my girlfriend?\",\"How does Kongregate compute the statistics of adve\",\"Who is the best nuero physician at NIMHANS, Bangal\",\"What are nonprofit organizations?\\n\",\"I want to know the process of starting outbound ca\",\"Which are some of the best hotels to stay in Helsi\",\"What is good about Deloitte Chicago?\\n\",\"How do I recover data from a formatted hard drive?\",\"Could India and Pakistan unite again?\\n\",\"How often should I massage my face with Argan oil?\",\"How is psychodynamic therapy different from psycho\",\"What are some of Barack Obama's character traits?\\n\",\"Would it make sense to replace the B-52's 8 1960s \",\"Is it possible to bring forward my flight date of \",\"How can I learn marathons?\\n\"]]]}}},\"view\":{\"type\":\"object\",\"name\":\"CDSView\",\"id\":\"p1147\",\"attributes\":{\"filter\":{\"type\":\"object\",\"name\":\"AllIndices\",\"id\":\"p1148\"}}},\"glyph\":{\"type\":\"object\",\"name\":\"Scatter\",\"id\":\"p1143\",\"attributes\":{\"x\":{\"type\":\"field\",\"field\":\"x\"},\"y\":{\"type\":\"field\",\"field\":\"y\"},\"size\":{\"type\":\"value\",\"value\":20},\"line_color\":{\"type\":\"field\",\"field\":\"color\"},\"line_alpha\":{\"type\":\"value\",\"value\":0.25},\"fill_color\":{\"type\":\"field\",\"field\":\"color\"},\"fill_alpha\":{\"type\":\"value\",\"value\":0.25},\"hatch_color\":{\"type\":\"field\",\"field\":\"color\"},\"hatch_alpha\":{\"type\":\"value\",\"value\":0.25}}},\"nonselection_glyph\":{\"type\":\"object\",\"name\":\"Scatter\",\"id\":\"p1144\",\"attributes\":{\"x\":{\"type\":\"field\",\"field\":\"x\"},\"y\":{\"type\":\"field\",\"field\":\"y\"},\"size\":{\"type\":\"value\",\"value\":20},\"line_color\":{\"type\":\"field\",\"field\":\"color\"},\"line_alpha\":{\"type\":\"value\",\"value\":0.1},\"fill_color\":{\"type\":\"field\",\"field\":\"color\"},\"fill_alpha\":{\"type\":\"value\",\"value\":0.1},\"hatch_color\":{\"type\":\"field\",\"field\":\"color\"},\"hatch_alpha\":{\"type\":\"value\",\"value\":0.1}}},\"muted_glyph\":{\"type\":\"object\",\"name\":\"Scatter\",\"id\":\"p1145\",\"attributes\":{\"x\":{\"type\":\"field\",\"field\":\"x\"},\"y\":{\"type\":\"field\",\"field\":\"y\"},\"size\":{\"type\":\"value\",\"value\":20},\"line_color\":{\"type\":\"field\",\"field\":\"color\"},\"line_alpha\":{\"type\":\"value\",\"value\":0.2},\"fill_color\":{\"type\":\"field\",\"field\":\"color\"},\"fill_alpha\":{\"type\":\"value\",\"value\":0.2},\"hatch_color\":{\"type\":\"field\",\"field\":\"color\"},\"hatch_alpha\":{\"type\":\"value\",\"value\":0.2}}}}}],\"toolbar\":{\"type\":\"object\",\"name\":\"Toolbar\",\"id\":\"p1114\",\"attributes\":{\"tools\":[{\"type\":\"object\",\"name\":\"PanTool\",\"id\":\"p1127\"},{\"type\":\"object\",\"name\":\"WheelZoomTool\",\"id\":\"p1128\",\"attributes\":{\"renderers\":\"auto\"}},{\"type\":\"object\",\"name\":\"BoxZoomTool\",\"id\":\"p1129\",\"attributes\":{\"overlay\":{\"type\":\"object\",\"name\":\"BoxAnnotation\",\"id\":\"p1130\",\"attributes\":{\"syncable\":false,\"line_color\":\"black\",\"line_alpha\":1.0,\"line_width\":2,\"line_dash\":[4,4],\"fill_color\":\"lightgrey\",\"fill_alpha\":0.5,\"level\":\"overlay\",\"visible\":false,\"left\":{\"type\":\"number\",\"value\":\"nan\"},\"right\":{\"type\":\"number\",\"value\":\"nan\"},\"top\":{\"type\":\"number\",\"value\":\"nan\"},\"bottom\":{\"type\":\"number\",\"value\":\"nan\"},\"left_units\":\"canvas\",\"right_units\":\"canvas\",\"top_units\":\"canvas\",\"bottom_units\":\"canvas\",\"handles\":{\"type\":\"object\",\"name\":\"BoxInteractionHandles\",\"id\":\"p1136\",\"attributes\":{\"all\":{\"type\":\"object\",\"name\":\"AreaVisuals\",\"id\":\"p1135\",\"attributes\":{\"fill_color\":\"white\",\"hover_fill_color\":\"lightgray\"}}}}}}}},{\"type\":\"object\",\"name\":\"SaveTool\",\"id\":\"p1137\"},{\"type\":\"object\",\"name\":\"ResetTool\",\"id\":\"p1138\"},{\"type\":\"object\",\"name\":\"HelpTool\",\"id\":\"p1139\"},{\"type\":\"object\",\"name\":\"HoverTool\",\"id\":\"p1149\",\"attributes\":{\"renderers\":\"auto\",\"tooltips\":[[\"phrase\",\"@phrase\"]]}}],\"active_scroll\":{\"id\":\"p1128\"}}},\"left\":[{\"type\":\"object\",\"name\":\"LinearAxis\",\"id\":\"p1122\",\"attributes\":{\"ticker\":{\"type\":\"object\",\"name\":\"BasicTicker\",\"id\":\"p1123\",\"attributes\":{\"mantissas\":[1,2,5]}},\"formatter\":{\"type\":\"object\",\"name\":\"BasicTickFormatter\",\"id\":\"p1124\"},\"axis_label_standoff\":10,\"axis_label_text_color\":\"#E0E0E0\",\"axis_label_text_font\":\"Helvetica\",\"axis_label_text_font_size\":\"1.25em\",\"axis_label_text_font_style\":\"normal\",\"major_label_policy\":{\"type\":\"object\",\"name\":\"AllLabels\",\"id\":\"p1125\"},\"major_label_text_color\":\"#E0E0E0\",\"major_label_text_font\":\"Helvetica\",\"major_label_text_font_size\":\"1.025em\",\"axis_line_color\":\"#E0E0E0\",\"axis_line_alpha\":0,\"major_tick_line_color\":\"#E0E0E0\",\"major_tick_line_alpha\":0,\"minor_tick_line_color\":\"#E0E0E0\",\"minor_tick_line_alpha\":0}}],\"below\":[{\"type\":\"object\",\"name\":\"LinearAxis\",\"id\":\"p1117\",\"attributes\":{\"ticker\":{\"type\":\"object\",\"name\":\"BasicTicker\",\"id\":\"p1118\",\"attributes\":{\"mantissas\":[1,2,5]}},\"formatter\":{\"type\":\"object\",\"name\":\"BasicTickFormatter\",\"id\":\"p1119\"},\"axis_label_standoff\":10,\"axis_label_text_color\":\"#E0E0E0\",\"axis_label_text_font\":\"Helvetica\",\"axis_label_text_font_size\":\"1.25em\",\"axis_label_text_font_style\":\"normal\",\"major_label_policy\":{\"type\":\"object\",\"name\":\"AllLabels\",\"id\":\"p1120\"},\"major_label_text_color\":\"#E0E0E0\",\"major_label_text_font\":\"Helvetica\",\"major_label_text_font_size\":\"1.025em\",\"axis_line_color\":\"#E0E0E0\",\"axis_line_alpha\":0,\"major_tick_line_color\":\"#E0E0E0\",\"major_tick_line_alpha\":0,\"minor_tick_line_color\":\"#E0E0E0\",\"minor_tick_line_alpha\":0}}],\"center\":[{\"type\":\"object\",\"name\":\"Grid\",\"id\":\"p1121\",\"attributes\":{\"axis\":{\"id\":\"p1117\"},\"grid_line_color\":\"#E0E0E0\",\"grid_line_alpha\":0.25}},{\"type\":\"object\",\"name\":\"Grid\",\"id\":\"p1126\",\"attributes\":{\"dimension\":1,\"axis\":{\"id\":\"p1122\"},\"grid_line_color\":\"#E0E0E0\",\"grid_line_alpha\":0.25}}],\"background_fill_color\":\"#20262B\",\"border_fill_color\":\"#15191C\"}}]}};\n  const render_items = [{\"docid\":\"895840e4-e84e-43b4-bc35-c2390dfc633d\",\"roots\":{\"p1106\":\"c0fdb618-a2dd-440b-aba1-1cf99e96dfb6\"},\"root_ids\":[\"p1106\"]}];\n  void root.Bokeh.embed.embed_items_notebook(docs_json, render_items);\n  }\n  if (root.Bokeh !== undefined) {\n    embed_document(root);\n  } else {\n    let attempts = 0;\n    const timer = setInterval(function(root) {\n      if (root.Bokeh !== undefined) {\n        clearInterval(timer);\n        embed_document(root);\n      } else {\n        attempts++;\n        if (attempts > 100) {\n          clearInterval(timer);\n          console.log(\"Bokeh: ERROR: Unable to run BokehJS code because BokehJS library is missing\");\n        }\n      }\n    }, 10, root)\n  }\n})(window);",
      "application/vnd.bokehjs_exec.v0+json": ""
     },
     "metadata": {
      "application/vnd.bokehjs_exec.v0+json": {
       "id": "p1106"
      }
     },
     "output_type": "display_data"
    },
    {
     "data": {
      "text/plain": "figure(id='p1106', ...)",
      "text/html": "<div style=\"display: table;\"><div style=\"display: table-row;\"><div style=\"display: table-cell;\"><b title=\"bokeh.plotting._figure.figure\">figure</b>(</div><div style=\"display: table-cell;\">id&nbsp;=&nbsp;'p1106', <span id=\"p1153\" style=\"cursor: pointer;\">&hellip;)</span></div></div><div class=\"p1152\" style=\"display: none;\"><div style=\"display: table-cell;\"></div><div style=\"display: table-cell;\">above&nbsp;=&nbsp;[],</div></div><div class=\"p1152\" style=\"display: none;\"><div style=\"display: table-cell;\"></div><div style=\"display: table-cell;\">align&nbsp;=&nbsp;'auto',</div></div><div class=\"p1152\" style=\"display: none;\"><div style=\"display: table-cell;\"></div><div style=\"display: table-cell;\">aspect_ratio&nbsp;=&nbsp;None,</div></div><div class=\"p1152\" style=\"display: none;\"><div style=\"display: table-cell;\"></div><div style=\"display: table-cell;\">aspect_scale&nbsp;=&nbsp;1,</div></div><div class=\"p1152\" style=\"display: none;\"><div style=\"display: table-cell;\"></div><div style=\"display: table-cell;\">attribution&nbsp;=&nbsp;[],</div></div><div class=\"p1152\" style=\"display: none;\"><div style=\"display: table-cell;\"></div><div style=\"display: table-cell;\">background_fill_alpha&nbsp;=&nbsp;1.0,</div></div><div class=\"p1152\" style=\"display: none;\"><div style=\"display: table-cell;\"></div><div style=\"display: table-cell;\">background_fill_color&nbsp;=&nbsp;'#ffffff',</div></div><div class=\"p1152\" style=\"display: none;\"><div style=\"display: table-cell;\"></div><div style=\"display: table-cell;\">below&nbsp;=&nbsp;[LinearAxis(id='p1117', ...)],</div></div><div class=\"p1152\" style=\"display: none;\"><div style=\"display: table-cell;\"></div><div style=\"display: table-cell;\">border_fill_alpha&nbsp;=&nbsp;1.0,</div></div><div class=\"p1152\" style=\"display: none;\"><div style=\"display: table-cell;\"></div><div style=\"display: table-cell;\">border_fill_color&nbsp;=&nbsp;'#ffffff',</div></div><div class=\"p1152\" style=\"display: none;\"><div style=\"display: table-cell;\"></div><div style=\"display: table-cell;\">center&nbsp;=&nbsp;[Grid(id='p1121', ...), Grid(id='p1126', ...)],</div></div><div class=\"p1152\" style=\"display: none;\"><div style=\"display: table-cell;\"></div><div style=\"display: table-cell;\">context_menu&nbsp;=&nbsp;None,</div></div><div class=\"p1152\" style=\"display: none;\"><div style=\"display: table-cell;\"></div><div style=\"display: table-cell;\">css_classes&nbsp;=&nbsp;[],</div></div><div class=\"p1152\" style=\"display: none;\"><div style=\"display: table-cell;\"></div><div style=\"display: table-cell;\">css_variables&nbsp;=&nbsp;{},</div></div><div class=\"p1152\" style=\"display: none;\"><div style=\"display: table-cell;\"></div><div style=\"display: table-cell;\">disabled&nbsp;=&nbsp;False,</div></div><div class=\"p1152\" style=\"display: none;\"><div style=\"display: table-cell;\"></div><div style=\"display: table-cell;\">elements&nbsp;=&nbsp;[],</div></div><div class=\"p1152\" style=\"display: none;\"><div style=\"display: table-cell;\"></div><div style=\"display: table-cell;\">extra_x_ranges&nbsp;=&nbsp;{},</div></div><div class=\"p1152\" style=\"display: none;\"><div style=\"display: table-cell;\"></div><div style=\"display: table-cell;\">extra_x_scales&nbsp;=&nbsp;{},</div></div><div class=\"p1152\" style=\"display: none;\"><div style=\"display: table-cell;\"></div><div style=\"display: table-cell;\">extra_y_ranges&nbsp;=&nbsp;{},</div></div><div class=\"p1152\" style=\"display: none;\"><div style=\"display: table-cell;\"></div><div style=\"display: table-cell;\">extra_y_scales&nbsp;=&nbsp;{},</div></div><div class=\"p1152\" style=\"display: none;\"><div style=\"display: table-cell;\"></div><div style=\"display: table-cell;\">flow_mode&nbsp;=&nbsp;'block',</div></div><div class=\"p1152\" style=\"display: none;\"><div style=\"display: table-cell;\"></div><div style=\"display: table-cell;\">frame_align&nbsp;=&nbsp;True,</div></div><div class=\"p1152\" style=\"display: none;\"><div style=\"display: table-cell;\"></div><div style=\"display: table-cell;\">frame_height&nbsp;=&nbsp;None,</div></div><div class=\"p1152\" style=\"display: none;\"><div style=\"display: table-cell;\"></div><div style=\"display: table-cell;\">frame_width&nbsp;=&nbsp;None,</div></div><div class=\"p1152\" style=\"display: none;\"><div style=\"display: table-cell;\"></div><div style=\"display: table-cell;\">height&nbsp;=&nbsp;400,</div></div><div class=\"p1152\" style=\"display: none;\"><div style=\"display: table-cell;\"></div><div style=\"display: table-cell;\">height_policy&nbsp;=&nbsp;'auto',</div></div><div class=\"p1152\" style=\"display: none;\"><div style=\"display: table-cell;\"></div><div style=\"display: table-cell;\">hidpi&nbsp;=&nbsp;True,</div></div><div class=\"p1152\" style=\"display: none;\"><div style=\"display: table-cell;\"></div><div style=\"display: table-cell;\">hold_render&nbsp;=&nbsp;False,</div></div><div class=\"p1152\" style=\"display: none;\"><div style=\"display: table-cell;\"></div><div style=\"display: table-cell;\">js_event_callbacks&nbsp;=&nbsp;{},</div></div><div class=\"p1152\" style=\"display: none;\"><div style=\"display: table-cell;\"></div><div style=\"display: table-cell;\">js_property_callbacks&nbsp;=&nbsp;{},</div></div><div class=\"p1152\" style=\"display: none;\"><div style=\"display: table-cell;\"></div><div style=\"display: table-cell;\">left&nbsp;=&nbsp;[LinearAxis(id='p1122', ...)],</div></div><div class=\"p1152\" style=\"display: none;\"><div style=\"display: table-cell;\"></div><div style=\"display: table-cell;\">lod_factor&nbsp;=&nbsp;10,</div></div><div class=\"p1152\" style=\"display: none;\"><div style=\"display: table-cell;\"></div><div style=\"display: table-cell;\">lod_interval&nbsp;=&nbsp;300,</div></div><div class=\"p1152\" style=\"display: none;\"><div style=\"display: table-cell;\"></div><div style=\"display: table-cell;\">lod_threshold&nbsp;=&nbsp;2000,</div></div><div class=\"p1152\" style=\"display: none;\"><div style=\"display: table-cell;\"></div><div style=\"display: table-cell;\">lod_timeout&nbsp;=&nbsp;500,</div></div><div class=\"p1152\" style=\"display: none;\"><div style=\"display: table-cell;\"></div><div style=\"display: table-cell;\">margin&nbsp;=&nbsp;None,</div></div><div class=\"p1152\" style=\"display: none;\"><div style=\"display: table-cell;\"></div><div style=\"display: table-cell;\">match_aspect&nbsp;=&nbsp;False,</div></div><div class=\"p1152\" style=\"display: none;\"><div style=\"display: table-cell;\"></div><div style=\"display: table-cell;\">max_height&nbsp;=&nbsp;None,</div></div><div class=\"p1152\" style=\"display: none;\"><div style=\"display: table-cell;\"></div><div style=\"display: table-cell;\">max_width&nbsp;=&nbsp;None,</div></div><div class=\"p1152\" style=\"display: none;\"><div style=\"display: table-cell;\"></div><div style=\"display: table-cell;\">min_border&nbsp;=&nbsp;5,</div></div><div class=\"p1152\" style=\"display: none;\"><div style=\"display: table-cell;\"></div><div style=\"display: table-cell;\">min_border_bottom&nbsp;=&nbsp;None,</div></div><div class=\"p1152\" style=\"display: none;\"><div style=\"display: table-cell;\"></div><div style=\"display: table-cell;\">min_border_left&nbsp;=&nbsp;None,</div></div><div class=\"p1152\" style=\"display: none;\"><div style=\"display: table-cell;\"></div><div style=\"display: table-cell;\">min_border_right&nbsp;=&nbsp;None,</div></div><div class=\"p1152\" style=\"display: none;\"><div style=\"display: table-cell;\"></div><div style=\"display: table-cell;\">min_border_top&nbsp;=&nbsp;None,</div></div><div class=\"p1152\" style=\"display: none;\"><div style=\"display: table-cell;\"></div><div style=\"display: table-cell;\">min_height&nbsp;=&nbsp;None,</div></div><div class=\"p1152\" style=\"display: none;\"><div style=\"display: table-cell;\"></div><div style=\"display: table-cell;\">min_width&nbsp;=&nbsp;None,</div></div><div class=\"p1152\" style=\"display: none;\"><div style=\"display: table-cell;\"></div><div style=\"display: table-cell;\">name&nbsp;=&nbsp;None,</div></div><div class=\"p1152\" style=\"display: none;\"><div style=\"display: table-cell;\"></div><div style=\"display: table-cell;\">outline_line_alpha&nbsp;=&nbsp;1.0,</div></div><div class=\"p1152\" style=\"display: none;\"><div style=\"display: table-cell;\"></div><div style=\"display: table-cell;\">outline_line_cap&nbsp;=&nbsp;'butt',</div></div><div class=\"p1152\" style=\"display: none;\"><div style=\"display: table-cell;\"></div><div style=\"display: table-cell;\">outline_line_color&nbsp;=&nbsp;'#e5e5e5',</div></div><div class=\"p1152\" style=\"display: none;\"><div style=\"display: table-cell;\"></div><div style=\"display: table-cell;\">outline_line_dash&nbsp;=&nbsp;[],</div></div><div class=\"p1152\" style=\"display: none;\"><div style=\"display: table-cell;\"></div><div style=\"display: table-cell;\">outline_line_dash_offset&nbsp;=&nbsp;0,</div></div><div class=\"p1152\" style=\"display: none;\"><div style=\"display: table-cell;\"></div><div style=\"display: table-cell;\">outline_line_join&nbsp;=&nbsp;'bevel',</div></div><div class=\"p1152\" style=\"display: none;\"><div style=\"display: table-cell;\"></div><div style=\"display: table-cell;\">outline_line_width&nbsp;=&nbsp;1,</div></div><div class=\"p1152\" style=\"display: none;\"><div style=\"display: table-cell;\"></div><div style=\"display: table-cell;\">output_backend&nbsp;=&nbsp;'canvas',</div></div><div class=\"p1152\" style=\"display: none;\"><div style=\"display: table-cell;\"></div><div style=\"display: table-cell;\">renderers&nbsp;=&nbsp;[GlyphRenderer(id='p1146', ...)],</div></div><div class=\"p1152\" style=\"display: none;\"><div style=\"display: table-cell;\"></div><div style=\"display: table-cell;\">reset_policy&nbsp;=&nbsp;'standard',</div></div><div class=\"p1152\" style=\"display: none;\"><div style=\"display: table-cell;\"></div><div style=\"display: table-cell;\">resizable&nbsp;=&nbsp;False,</div></div><div class=\"p1152\" style=\"display: none;\"><div style=\"display: table-cell;\"></div><div style=\"display: table-cell;\">right&nbsp;=&nbsp;[],</div></div><div class=\"p1152\" style=\"display: none;\"><div style=\"display: table-cell;\"></div><div style=\"display: table-cell;\">sizing_mode&nbsp;=&nbsp;None,</div></div><div class=\"p1152\" style=\"display: none;\"><div style=\"display: table-cell;\"></div><div style=\"display: table-cell;\">styles&nbsp;=&nbsp;{},</div></div><div class=\"p1152\" style=\"display: none;\"><div style=\"display: table-cell;\"></div><div style=\"display: table-cell;\">stylesheets&nbsp;=&nbsp;[],</div></div><div class=\"p1152\" style=\"display: none;\"><div style=\"display: table-cell;\"></div><div style=\"display: table-cell;\">subscribed_events&nbsp;=&nbsp;PropertyValueSet(),</div></div><div class=\"p1152\" style=\"display: none;\"><div style=\"display: table-cell;\"></div><div style=\"display: table-cell;\">syncable&nbsp;=&nbsp;True,</div></div><div class=\"p1152\" style=\"display: none;\"><div style=\"display: table-cell;\"></div><div style=\"display: table-cell;\">tags&nbsp;=&nbsp;[],</div></div><div class=\"p1152\" style=\"display: none;\"><div style=\"display: table-cell;\"></div><div style=\"display: table-cell;\">title&nbsp;=&nbsp;Title(id='p1113', ...),</div></div><div class=\"p1152\" style=\"display: none;\"><div style=\"display: table-cell;\"></div><div style=\"display: table-cell;\">title_location&nbsp;=&nbsp;'above',</div></div><div class=\"p1152\" style=\"display: none;\"><div style=\"display: table-cell;\"></div><div style=\"display: table-cell;\">toolbar&nbsp;=&nbsp;Toolbar(id='p1114', ...),</div></div><div class=\"p1152\" style=\"display: none;\"><div style=\"display: table-cell;\"></div><div style=\"display: table-cell;\">toolbar_inner&nbsp;=&nbsp;False,</div></div><div class=\"p1152\" style=\"display: none;\"><div style=\"display: table-cell;\"></div><div style=\"display: table-cell;\">toolbar_location&nbsp;=&nbsp;'right',</div></div><div class=\"p1152\" style=\"display: none;\"><div style=\"display: table-cell;\"></div><div style=\"display: table-cell;\">toolbar_sticky&nbsp;=&nbsp;True,</div></div><div class=\"p1152\" style=\"display: none;\"><div style=\"display: table-cell;\"></div><div style=\"display: table-cell;\">visible&nbsp;=&nbsp;True,</div></div><div class=\"p1152\" style=\"display: none;\"><div style=\"display: table-cell;\"></div><div style=\"display: table-cell;\">width&nbsp;=&nbsp;600,</div></div><div class=\"p1152\" style=\"display: none;\"><div style=\"display: table-cell;\"></div><div style=\"display: table-cell;\">width_policy&nbsp;=&nbsp;'auto',</div></div><div class=\"p1152\" style=\"display: none;\"><div style=\"display: table-cell;\"></div><div style=\"display: table-cell;\">x_range&nbsp;=&nbsp;DataRange1d(id='p1107', ...),</div></div><div class=\"p1152\" style=\"display: none;\"><div style=\"display: table-cell;\"></div><div style=\"display: table-cell;\">x_scale&nbsp;=&nbsp;LinearScale(id='p1115', ...),</div></div><div class=\"p1152\" style=\"display: none;\"><div style=\"display: table-cell;\"></div><div style=\"display: table-cell;\">y_range&nbsp;=&nbsp;DataRange1d(id='p1108', ...),</div></div><div class=\"p1152\" style=\"display: none;\"><div style=\"display: table-cell;\"></div><div style=\"display: table-cell;\">y_scale&nbsp;=&nbsp;LinearScale(id='p1116', ...))</div></div></div>\n<script>\n(function() {\n  let expanded = false;\n  const ellipsis = document.getElementById(\"p1153\");\n  ellipsis.addEventListener(\"click\", function() {\n    const rows = document.getElementsByClassName(\"p1152\");\n    for (let i = 0; i < rows.length; i++) {\n      const el = rows[i];\n      el.style.display = expanded ? \"none\" : \"table-row\";\n    }\n    ellipsis.innerHTML = expanded ? \"&hellip;)\" : \"&lsaquo;&lsaquo;&lsaquo;\";\n    expanded = !expanded;\n  });\n})();\n</script>\n"
     },
     "execution_count": 32,
     "metadata": {},
     "output_type": "execute_result"
    }
   ],
   "source": [
    "draw_vectors(phrase_vectors_2d[:, 0], phrase_vectors_2d[:, 1],\n",
    "             phrase=[phrase[:50] for phrase in chosen_phrases],\n",
    "             radius=20,)"
   ]
  },
  {
   "cell_type": "markdown",
   "metadata": {
    "id": "7DJUDMm5XHth"
   },
   "source": [
    "Наконец, давайте создадим простой движок для поиска \"похожих вопросов\" с использованием векторных представлений фраз, которые мы создали."
   ]
  },
  {
   "cell_type": "code",
   "execution_count": 33,
   "metadata": {
    "collapsed": true,
    "id": "_Ia1CZv4XHth",
    "ExecuteTime": {
     "end_time": "2024-10-05T15:38:06.368053Z",
     "start_time": "2024-10-05T15:37:59.792216Z"
    }
   },
   "outputs": [],
   "source": [
    "# compute vector embedding for all lines in data\n",
    "data_vectors = np.array(list(map(lambda x: get_phrase_embedding(x, show_debug=False), data)))"
   ]
  },
  {
   "cell_type": "code",
   "execution_count": 34,
   "metadata": {
    "collapsed": true,
    "id": "5Di291BlXHti",
    "ExecuteTime": {
     "end_time": "2024-10-05T15:38:06.371150Z",
     "start_time": "2024-10-05T15:38:06.368622Z"
    }
   },
   "outputs": [],
   "source": [
    "def find_nearest(query: str, k: int = 10, get_sim: bool = False):\n",
    "    \"\"\"\n",
    "    given text line (query), return k most similar lines from data, sorted from most to least similar\n",
    "    similarity should be measured as cosine between query and line embedding vectors\n",
    "    hint: it's okay to use global variables: data and data_vectors. see also: np.argpartition, np.argsort\n",
    "    \"\"\"\n",
    "    # YOUR CODE\n",
    "    query_vector: np.ndarray = get_phrase_embedding(query)\n",
    "    \n",
    "    similarities: np.ndarray = model.cosine_similarities(query_vector, vectors_all=data_vectors)\n",
    "    \n",
    "    # `nan` handling, `nan` should be shifted into out of similarity scale to left side \n",
    "    similarities[np.isnan(similarities)] = -1.\n",
    "    \n",
    "    top_k_partitioned = np.argpartition(similarities, -k)[-k:]\n",
    "    print(\"[find_nearest] top_k_partitioned.shape: \", top_k_partitioned.shape)\n",
    "    \n",
    "    top_k_indices = top_k_partitioned[np.argsort(similarities[top_k_partitioned])[::-1]]\n",
    "    print(\"[find_nearest] top_k_indices.shape: \", top_k_indices.shape)\n",
    "    print(\"=\"*100)\n",
    "    print(\"[find_nearest]: Founded top k with sim score: \", [(data[i], similarities[i]) for i in top_k_indices])\n",
    "    print(\"=\"*100)\n",
    "    \n",
    "    if get_sim:\n",
    "        top_k_results = [(data[i], similarities[i]) for i in top_k_indices]\n",
    "    else:\n",
    "        top_k_results = [data[i] for i in top_k_indices if not np.isnan(similarities[i])]\n",
    "\n",
    "    return top_k_results"
   ]
  },
  {
   "cell_type": "code",
   "outputs": [
    {
     "name": "stdout",
     "output_type": "stream",
     "text": [
      "[get_phrase_embedding] Tokens before filter: 7\n",
      "[get_phrase_embedding] Tokens after filter: 7\n",
      "[find_nearest] top_k_partitioned.shape:  (10,)\n",
      "[find_nearest] top_k_indices.shape:  (10,)\n",
      "====================================================================================================\n",
      "[find_nearest]: Founded top k with sim score:  [('How do I get to the dark web?\\n', 0.980486965885441), ('What should I do to enter hollywood?\\n', 0.9796027316247575), ('How do I use the Greenify app?\\n', 0.9795014281666351), ('What can I do to save the world?\\n', 0.979443766744798), ('How do I win this?\\n', 0.9794301983223812), ('How do I think out of the box? How do I learn to think out of the box?\\n', 0.9794210150875513), ('How do I find the 5th dimension?\\n', 0.9792137082980186), ('How do I use the pad in MMA?\\n', 0.9788570481310912), ('How do I estimate the competition?\\n', 0.9786362513841781), ('What do I do to enter the line of event management?\\n', 0.9781531814367285)]\n",
      "====================================================================================================\n"
     ]
    },
    {
     "name": "stderr",
     "output_type": "stream",
     "text": [
      "/Users/dmitrii.koriakov/miniconda3/envs/ml-nlp-cv-lab-1/lib/python3.11/site-packages/gensim/models/keyedvectors.py:1162: RuntimeWarning: invalid value encountered in divide\n",
      "  similarities = dot_products / (norm * all_norms)\n"
     ]
    },
    {
     "data": {
      "text/plain": "['How do I get to the dark web?\\n',\n 'What should I do to enter hollywood?\\n',\n 'How do I use the Greenify app?\\n',\n 'What can I do to save the world?\\n',\n 'How do I win this?\\n',\n 'How do I think out of the box? How do I learn to think out of the box?\\n',\n 'How do I find the 5th dimension?\\n',\n 'How do I use the pad in MMA?\\n',\n 'How do I estimate the competition?\\n',\n 'What do I do to enter the line of event management?\\n']"
     },
     "execution_count": 35,
     "metadata": {},
     "output_type": "execute_result"
    }
   ],
   "source": [
    "results = find_nearest(query=\"How do i enter the matrix?\", k=10)\n",
    "results"
   ],
   "metadata": {
    "collapsed": false,
    "ExecuteTime": {
     "end_time": "2024-10-05T15:38:06.465468Z",
     "start_time": "2024-10-05T15:38:06.371644Z"
    }
   },
   "execution_count": 35
  },
  {
   "cell_type": "code",
   "execution_count": 36,
   "metadata": {
    "collapsed": true,
    "id": "msaHiiVnXHti",
    "ExecuteTime": {
     "end_time": "2024-10-05T15:38:06.579446Z",
     "start_time": "2024-10-05T15:38:06.476998Z"
    }
   },
   "outputs": [
    {
     "name": "stdout",
     "output_type": "stream",
     "text": [
      "[get_phrase_embedding] Tokens before filter: 7\n",
      "[get_phrase_embedding] Tokens after filter: 7\n",
      "[find_nearest] top_k_partitioned.shape:  (10,)\n",
      "[find_nearest] top_k_indices.shape:  (10,)\n",
      "====================================================================================================\n",
      "[find_nearest]: Founded top k with sim score:  [('How do I get to the dark web?\\n', 0.980486965885441), ('What should I do to enter hollywood?\\n', 0.9796027316247575), ('How do I use the Greenify app?\\n', 0.9795014281666351), ('What can I do to save the world?\\n', 0.979443766744798), ('How do I win this?\\n', 0.9794301983223812), ('How do I think out of the box? How do I learn to think out of the box?\\n', 0.9794210150875513), ('How do I find the 5th dimension?\\n', 0.9792137082980186), ('How do I use the pad in MMA?\\n', 0.9788570481310912), ('How do I estimate the competition?\\n', 0.9786362513841781), ('What do I do to enter the line of event management?\\n', 0.9781531814367285)]\n",
      "====================================================================================================\n",
      "How do I get to the dark web?\n",
      "What should I do to enter hollywood?\n",
      "How do I use the Greenify app?\n",
      "What can I do to save the world?\n",
      "How do I win this?\n",
      "How do I think out of the box? How do I learn to think out of the box?\n",
      "How do I find the 5th dimension?\n",
      "How do I use the pad in MMA?\n",
      "How do I estimate the competition?\n",
      "What do I do to enter the line of event management?\n"
     ]
    }
   ],
   "source": [
    "results = find_nearest(query=\"How do i enter the matrix?\", k=10)\n",
    "\n",
    "print(''.join(results))\n",
    "\n",
    "assert len(results) == 10 and isinstance(results[0], str)\n",
    "assert results[0] == 'How do I get to the dark web?\\n'\n",
    "assert results[3] == 'What can I do to save the world?\\n'"
   ]
  },
  {
   "cell_type": "code",
   "execution_count": 37,
   "metadata": {
    "collapsed": true,
    "id": "BYafEFcTXHti",
    "ExecuteTime": {
     "end_time": "2024-10-05T15:38:06.681854Z",
     "start_time": "2024-10-05T15:38:06.611408Z"
    }
   },
   "outputs": [
    {
     "name": "stdout",
     "output_type": "stream",
     "text": [
      "[get_phrase_embedding] Tokens before filter: 4\n",
      "[get_phrase_embedding] Tokens after filter: 4\n",
      "[find_nearest] top_k_partitioned.shape:  (10,)\n",
      "[find_nearest] top_k_indices.shape:  (10,)\n",
      "====================================================================================================\n",
      "[find_nearest]: Founded top k with sim score:  [('What does Donald Trump think about Israel?\\n', 0.9766546214445961), ('What books does Donald Trump like?\\n', 0.973454425608238), ('What does Donald Trump think of India?\\n', 0.973277918908444), ('What does India think of Donald Trump?\\n', 0.9732779174611427), ('What does Donald Trump think of China?\\n', 0.9724931538947921), ('What does Donald Trump think about Pakistan?\\n', 0.9717841692863791), ('What companies does Donald Trump own?\\n', 0.9715392722268258), ('What does Dushka Zapata think about Donald Trump?\\n', 0.9714993657209735), ('How does it feel to date Ivanka Trump?\\n', 0.9707504171143176), ('What does salesforce mean?\\n', 0.9690142648198632)]\n",
      "====================================================================================================\n"
     ]
    },
    {
     "data": {
      "text/plain": "['What does Donald Trump think about Israel?\\n',\n 'What books does Donald Trump like?\\n',\n 'What does Donald Trump think of India?\\n',\n 'What does India think of Donald Trump?\\n',\n 'What does Donald Trump think of China?\\n',\n 'What does Donald Trump think about Pakistan?\\n',\n 'What companies does Donald Trump own?\\n',\n 'What does Dushka Zapata think about Donald Trump?\\n',\n 'How does it feel to date Ivanka Trump?\\n',\n 'What does salesforce mean?\\n']"
     },
     "execution_count": 37,
     "metadata": {},
     "output_type": "execute_result"
    }
   ],
   "source": [
    "find_nearest(query=\"How does Trump?\", k=10)"
   ]
  },
  {
   "cell_type": "code",
   "execution_count": 38,
   "metadata": {
    "collapsed": true,
    "id": "yK9vCMXQXHti",
    "ExecuteTime": {
     "end_time": "2024-10-05T15:38:36.751046Z",
     "start_time": "2024-10-05T15:38:36.655712Z"
    }
   },
   "outputs": [
    {
     "name": "stdout",
     "output_type": "stream",
     "text": [
      "[get_phrase_embedding] Tokens before filter: 10\n",
      "[get_phrase_embedding] Tokens after filter: 10\n",
      "[find_nearest] top_k_partitioned.shape:  (10,)\n",
      "[find_nearest] top_k_indices.shape:  (10,)\n",
      "====================================================================================================\n",
      "[find_nearest]: Founded top k with sim score:  [(\"Why don't I get a date?\\n\", 0.9832303064379523), (\"Why do you always answer a question with a question? I don't, or do I?\\n\", 0.9820058043932623), (\"Why can't I ask a question anonymously?\\n\", 0.9807827882535008), (\"Why don't I get a girlfriend?\\n\", 0.9795394241404786), (\"Why don't I have a boyfriend?\\n\", 0.9787765804022359), (\"I don't have no question?\\n\", 0.9783484554457029), (\"Why can't I take a joke?\\n\", 0.9782508376893226), (\"Why don't I ever get a girl?\\n\", 0.9781665772649973), (\"Can I ask a girl out that I don't know?\\n\", 0.9779957713776847), (\"Why don't I have a girlfriend?\\n\", 0.9779327942853693)]\n",
      "====================================================================================================\n"
     ]
    },
    {
     "name": "stderr",
     "output_type": "stream",
     "text": [
      "/Users/dmitrii.koriakov/miniconda3/envs/ml-nlp-cv-lab-1/lib/python3.11/site-packages/gensim/models/keyedvectors.py:1162: RuntimeWarning: invalid value encountered in divide\n",
      "  similarities = dot_products / (norm * all_norms)\n"
     ]
    },
    {
     "data": {
      "text/plain": "[\"Why don't I get a date?\\n\",\n \"Why do you always answer a question with a question? I don't, or do I?\\n\",\n \"Why can't I ask a question anonymously?\\n\",\n \"Why don't I get a girlfriend?\\n\",\n \"Why don't I have a boyfriend?\\n\",\n \"I don't have no question?\\n\",\n \"Why can't I take a joke?\\n\",\n \"Why don't I ever get a girl?\\n\",\n \"Can I ask a girl out that I don't know?\\n\",\n \"Why don't I have a girlfriend?\\n\"]"
     },
     "execution_count": 38,
     "metadata": {},
     "output_type": "execute_result"
    }
   ],
   "source": [
    "find_nearest(query=\"Why don't i ask a question myself?\", k=10)"
   ]
  },
  {
   "cell_type": "markdown",
   "metadata": {
    "id": "Xka7truqcGYS"
   },
   "source": [
    "##Multilingual Embedding-based Machine Translation (3 points)"
   ]
  },
  {
   "cell_type": "markdown",
   "metadata": {
    "id": "LdPMOn_5cGYU"
   },
   "source": [
    "**В этой ЛР** **<font color='red'>ТЫ</font>** создашь систему машинного перевода без использования параллельных корпусов, выравнивания, внимания, сверхкрутых рекуррентных нейронных сетей с 100500-уровневой глубиной и всех прочих наворочек\n",
    "\n",
    "Но даже без параллельных корпусов эта система может быть достаточно хорошей (ну точно)\n",
    "\n",
    "Для нашей системы мы выбираем два родственных славянских языка: украинский и русский.\n",
    "\n"
   ]
  },
  {
   "cell_type": "markdown",
   "metadata": {
    "id": "Mtc-HbjLcGYV"
   },
   "source": [
    "### Почувствуй разницу!\n",
    "\n",
    "(_синій кіт_ vs. _синій кит_)"
   ]
  },
  {
   "cell_type": "markdown",
   "metadata": {
    "id": "OytE9pvHcGYV"
   },
   "source": [
    "![blue_cat_blue_whale.png](https://github.com/yandexdataschool/nlp_course/raw/master/resources/blue_cat_blue_whale.png)"
   ]
  },
  {
   "cell_type": "markdown",
   "metadata": {
    "id": "4yAhEks1cGYW"
   },
   "source": [
    "### Фрагмент списка Swadesh для некоторых славянских языков\n",
    "\n",
    "Список Swadesh - это лексико-статистический материал. Он назван в честь американского лингвиста Морриса Свадеша и содержит базовую лексику. Этот список используется для определения подгрупп языков, их родства.\n",
    "\n",
    "Таким образом, мы можем наблюдать некую инвариантность слов для разных славянских языков.\n",
    "\n",
    "\n",
    "| Russian         | Belorussian              | Ukrainian               | Polish             | Czech                         | Bulgarian            |\n",
    "|-----------------|--------------------------|-------------------------|--------------------|-------------------------------|-----------------------|\n",
    "| женщина         | жанчына, кабета, баба    | жінка                   | kobieta            | žena                          | жена                  |\n",
    "| мужчина         | мужчына                  | чоловік, мужчина        | mężczyzna          | muž                           | мъж                   |\n",
    "| человек         | чалавек                  | людина, чоловік         | człowiek           | člověk                        | човек                 |\n",
    "| ребёнок, дитя   | дзіця, дзіцёнак, немаўля | дитина, дитя            | dziecko            | dítě                          | дете                  |\n",
    "| жена            | жонка                    | дружина, жінка          | żona               | žena, manželka, choť          | съпруга, жена         |\n",
    "| муж             | муж, гаспадар            | чоловiк, муж            | mąż                | muž, manžel, choť             | съпруг, мъж           |\n",
    "| мать, мама      | маці, матка              | мати, матір, неня, мама | matka              | matka, máma, 'стар.' mateř    | майка                 |\n",
    "| отец, тятя      | бацька, тата             | батько, тато, татусь    | ojciec             | otec                          | баща, татко           |\n",
    "| много           | шмат, багата             | багато                  | wiele              | mnoho, hodně                  | много                 |\n",
    "| несколько       | некалькі, колькі         | декілька, кілька        | kilka              | několik, pár, trocha          | няколко               |\n",
    "| другой, иной    | іншы                     | інший                   | inny               | druhý, jiný                   | друг                  |\n",
    "| зверь, животное | жывёла, звер, істота     | тварина, звір           | zwierzę            | zvíře                         | животно               |\n",
    "| рыба            | рыба                     | риба                    | ryba               | ryba                          | риба                  |\n",
    "| птица           | птушка                   | птах, птиця             | ptak               | pták                          | птица                 |\n",
    "| собака, пёс     | сабака                   | собака, пес             | pies               | pes                           | куче, пес             |\n",
    "| вошь            | вош                      | воша                    | wesz               | veš                           | въшка                 |\n",
    "| змея, гад       | змяя                     | змія, гад               | wąż                | had                           | змия                  |\n",
    "| червь, червяк   | чарвяк                   | хробак, черв'як         | robak              | červ                          | червей                |\n",
    "| дерево          | дрэва                    | дерево                  | drzewo             | strom, dřevo                  | дърво                 |\n",
    "| лес             | лес                      | ліс                     | las                | les                           | гора, лес             |\n",
    "| палка           | кій, палка               | палиця                  | patyk, pręt, pałka | hůl, klacek, prut, kůl, pálka | палка, пръчка, бастун |"
   ]
  },
  {
   "cell_type": "markdown",
   "metadata": {
    "id": "-tXwr6VWcGYX"
   },
   "source": [
    "## Data"
   ]
  },
  {
   "cell_type": "code",
   "execution_count": null,
   "metadata": {
    "id": "_WvXw6GRcGYX"
   },
   "outputs": [],
   "source": [
    "import gensim\n",
    "import numpy as np\n",
    "from gensim.models import KeyedVectors"
   ]
  },
  {
   "cell_type": "markdown",
   "metadata": {
    "id": "miX6d0IacGYY"
   },
   "source": [
    "Скачивать эмбеды надо тут:\n",
    "* [cc.uk.300.vec.zip](https://yadi.sk/d/9CAeNsJiInoyUA)\n",
    "* [cc.ru.300.vec.zip](https://yadi.sk/d/3yG0-M4M8fypeQ)"
   ]
  },
  {
   "cell_type": "markdown",
   "metadata": {
    "id": "AaAjIJALcGYY"
   },
   "source": [
    "Качаем эмбеды"
   ]
  },
  {
   "cell_type": "code",
   "execution_count": null,
   "metadata": {
    "collapsed": true,
    "id": "vytZQBbzcGYY"
   },
   "outputs": [],
   "source": [
    "uk_emb = KeyedVectors.load_word2vec_format(\"cc.uk.300.vec\")"
   ]
  },
  {
   "cell_type": "code",
   "execution_count": null,
   "metadata": {
    "id": "AOTSWwPJcGYZ"
   },
   "outputs": [],
   "source": [
    "ru_emb = KeyedVectors.load_word2vec_format(\"cc.ru.300.vec\")"
   ]
  },
  {
   "cell_type": "code",
   "execution_count": null,
   "metadata": {
    "id": "SwdCeP26cGYZ"
   },
   "outputs": [],
   "source": [
    "ru_emb.most_similar([ru_emb[\"август\"]], topn=10)"
   ]
  },
  {
   "cell_type": "code",
   "execution_count": null,
   "metadata": {
    "id": "3DBtMhQPcGYa"
   },
   "outputs": [],
   "source": [
    "uk_emb.most_similar([uk_emb[\"серпень\"]])"
   ]
  },
  {
   "cell_type": "code",
   "execution_count": null,
   "metadata": {
    "id": "hnQ8_qFgcGYa"
   },
   "outputs": [],
   "source": [
    "ru_emb.most_similar([uk_emb[\"серпень\"]])"
   ]
  },
  {
   "cell_type": "markdown",
   "metadata": {
    "id": "A0ux1s2bcGYa"
   },
   "source": [
    "Построить словари для тренировочной и тестовой выгрузки (да, да, будет)"
   ]
  },
  {
   "cell_type": "markdown",
   "source": [
    "А вот и файлы!\n",
    "\n",
    "[ukr-rus-test](https://disk.yandex.ru/i/fXtdDXKwgJloCw)\n",
    "\n",
    "[ukr-rus-train](https://disk.yandex.ru/d/lUy0sQZ1XBCchQ)"
   ],
   "metadata": {
    "id": "UF7l87PBn4Tl"
   }
  },
  {
   "cell_type": "code",
   "execution_count": null,
   "metadata": {
    "id": "bED8-0rmcGYa"
   },
   "outputs": [],
   "source": [
    "def load_word_pairs(filename):\n",
    "    uk_ru_pairs = []\n",
    "    uk_vectors = []\n",
    "    ru_vectors = []\n",
    "    with open(filename, \"r\") as inpf:\n",
    "        for line in inpf:\n",
    "            uk, ru = line.rstrip().split(\"\\t\")\n",
    "            if uk not in uk_emb or ru not in ru_emb:\n",
    "                continue\n",
    "            uk_ru_pairs.append((uk, ru))\n",
    "            uk_vectors.append(uk_emb[uk])\n",
    "            ru_vectors.append(ru_emb[ru])\n",
    "    return uk_ru_pairs, np.array(uk_vectors), np.array(ru_vectors)"
   ]
  },
  {
   "cell_type": "code",
   "execution_count": null,
   "metadata": {
    "id": "eBdzXY3acGYb"
   },
   "outputs": [],
   "source": [
    "uk_ru_train, X_train, Y_train = load_word_pairs(\"ukr_rus.train.txt\")"
   ]
  },
  {
   "cell_type": "code",
   "execution_count": null,
   "metadata": {
    "id": "q0iEld18cGYb"
   },
   "outputs": [],
   "source": [
    "uk_ru_test, X_test, Y_test = load_word_pairs(\"ukr_rus.test.txt\")"
   ]
  },
  {
   "cell_type": "markdown",
   "metadata": {
    "id": "uaz7GgM_cGYb"
   },
   "source": [
    "## Embedding space mapping"
   ]
  },
  {
   "cell_type": "markdown",
   "metadata": {
    "id": "SsfpfHAZcGYc"
   },
   "source": [
    "Мы рассматриваем задачу обучения линейного преобразования, которое минимизирует различие между векторными представлениями слов в исходном и целевом языках.\n",
    "\n",
    "Пусть $x_i \\in \\mathbb{R}^d$ — векторное представление слова на исходном языке, а $y_i \\in \\mathbb{R}^d$ — вектор его перевода на целевой язык. Наша цель — найти матрицу $W$, которая минимизирует евклидово расстояние между преобразованными векторами $Wx_i$ и их соответствующими $y_i$.\n",
    "\n",
    "Очень похоже на линейную регрессию, не так ли?\n",
    "\n",
    "$$W^* = \\arg\\min_W \\sum_{i=1}^n ||Wx_i - y_i||_2^2,$$\n",
    "\n",
    "\n",
    "В мифологии Прокруст был известен тем, что «подгонял» людей под размеры своей кровати, растягивая их или отрезая им ноги, чтобы они идеально подходили. Подобным образом, в данной задаче мы «подгоняем» пространство встраивания исходного языка к пространству целевого языка, пытаясь свести их различия к минимуму."
   ]
  },
  {
   "cell_type": "markdown",
   "metadata": {
    "id": "wdwsnvbYcGYc"
   },
   "source": [
    "![embedding_mapping.png](https://github.com/yandexdataschool/nlp_course/raw/master/resources/embedding_mapping.png)"
   ]
  },
  {
   "cell_type": "markdown",
   "metadata": {
    "id": "48AY0eiUcGYd"
   },
   "source": [
    "![procrustes.png](https://github.com/yandexdataschool/nlp_course/raw/master/resources/procrustes.png)"
   ]
  },
  {
   "cell_type": "markdown",
   "source": [
    "Целевой язык - русский, исходный - украинский"
   ],
   "metadata": {
    "id": "vABqzkMwhDKN"
   }
  },
  {
   "cell_type": "code",
   "execution_count": null,
   "metadata": {
    "id": "2j4iFsUkcGYd"
   },
   "outputs": [],
   "source": [
    "from sklearn.linear_model import LinearRegression\n",
    "\n",
    "# YOUR CODE HERE"
   ]
  },
  {
   "cell_type": "markdown",
   "metadata": {
    "id": "NFBmWRj-cGYd"
   },
   "source": [
    "Давайте посмотрим на соседей вектора слова _«серпень»_ (_«август»_ по-русски) после линейного преобразования."
   ]
  },
  {
   "cell_type": "code",
   "execution_count": null,
   "metadata": {
    "id": "HvKIRpuecGYd"
   },
   "outputs": [],
   "source": [
    "august = mapping.predict(uk_emb[\"серпень\"].reshape(1, -1))\n",
    "ru_emb.most_similar(august)"
   ]
  },
  {
   "cell_type": "markdown",
   "metadata": {
    "id": "6QyHaDoEcGYe"
   },
   "source": [
    "Верный месяц всего на 9ом месте, хм...\n"
   ]
  },
  {
   "cell_type": "markdown",
   "metadata": {
    "id": "VPoaAaREcGYe"
   },
   "source": [
    "В качестве меры качества мы будем использовать точность top@1, top@5 и top@10 (для каждого преобразованного украинского эмбеддинга мы подсчитываем, сколько правильных пар найдено в N ближайших соседях в пространстве русских эмбеддингов)"
   ]
  },
  {
   "cell_type": "code",
   "execution_count": null,
   "metadata": {
    "id": "OkUUutZBcGYe"
   },
   "outputs": [],
   "source": [
    "def precision(pairs, mapped_vectors, topn=1):\n",
    "    \"\"\"\n",
    "    :args:\n",
    "        pairs = список пар правильных слов [(uk_word_0, ru_word_0), ...].\n",
    "        mapped_vectors = список эмбедов после отображения из исходного пространства эмбедов в целевое пространство эмбедов\n",
    "        topn = количество ближайших соседей в целевом пространстве эмбедов, из которых нужно выбрать\n",
    "    \"\"\"\n",
    "    assert len(pairs) == len(mapped_vectors)\n",
    "    num_matches = 0\n",
    "    for i, (_, ru) in enumerate(pairs):\n",
    "        # YOUR CODE HERE\n",
    "    precision_val = num_matches / len(pairs)\n",
    "    return precision_val\n"
   ]
  },
  {
   "cell_type": "code",
   "execution_count": null,
   "metadata": {
    "id": "DnDdAwKLcGYe"
   },
   "outputs": [],
   "source": [
    "assert precision([(\"серпень\", \"август\")], august, topn=5) == 0.0\n",
    "assert precision([(\"серпень\", \"август\")], august, topn=9) == 1.0\n",
    "assert precision([(\"серпень\", \"август\")], august, topn=10) == 1.0"
   ]
  },
  {
   "cell_type": "code",
   "execution_count": null,
   "metadata": {
    "id": "a5Ij5230cGYe"
   },
   "outputs": [],
   "source": [
    "assert precision(uk_ru_test, X_test) == 0.0\n",
    "assert precision(uk_ru_test, Y_test) == 1.0"
   ]
  },
  {
   "cell_type": "code",
   "execution_count": null,
   "metadata": {
    "id": "EkhDwab0cGYe"
   },
   "outputs": [],
   "source": [
    "precision_top1 = precision(uk_ru_test, mapping.predict(X_test), 1)\n",
    "precision_top5 = precision(uk_ru_test, mapping.predict(X_test), 5)\n",
    "\n",
    "assert precision_top1 >= 0.635\n",
    "assert precision_top5 >= 0.813"
   ]
  },
  {
   "cell_type": "markdown",
   "metadata": {
    "id": "9Pa8k6hlcGYe"
   },
   "source": [
    "## Making it better (orthogonal Procrustean problem)"
   ]
  },
  {
   "cell_type": "markdown",
   "metadata": {
    "id": "l1-dU62jcGYe"
   },
   "source": [
    "Можно показать (см. оригинальную статью), что между семантическими пространствами должно быть ортогональным.\n",
    "\n",
    "Мы можем ограничить преобразование $W$, чтобы оно было ортогональным. Тогда мы решим следующую задачу:\n",
    "\n",
    "$$W^*= \\arg\\min_W ||WX - Y||_F \\text{, где: } W^TW = I$$\n",
    "\n",
    "$$I \\text{- единичная матрица}$$.\n",
    "\n",
    "Но ограничивать лосс в линейной регрессии как-то в падлу, поэтому мы можем найти оптимальное ортогональное преобразование с помощью разложения по сингулярным значениям (в чате тг я скидывал ссылки на краткое объяснение SVD). Оказывается, оптимальное преобразование $W^*$ может быть выражено через компоненты SVD:\n",
    "$$X^TY=U\\Sigma V^T\\text{, singular value decompostion}$$.\n",
    "$$W^*=UV^T$$"
   ]
  },
  {
   "cell_type": "code",
   "execution_count": null,
   "metadata": {
    "id": "dDGSM-6CcGYf"
   },
   "outputs": [],
   "source": [
    "def learn_transform(X_train, Y_train):\n",
    "    \"\"\"\n",
    "    :returns: W* : float matrix[emb_dim x emb_dim] as defined in formulae above\n",
    "    \"\"\"\n",
    "    # YOU CODE HERE"
   ]
  },
  {
   "cell_type": "code",
   "execution_count": null,
   "metadata": {
    "id": "cyOrzNhEcGYf"
   },
   "outputs": [],
   "source": [
    "W = learn_transform(X_train, Y_train)"
   ]
  },
  {
   "cell_type": "code",
   "execution_count": null,
   "metadata": {
    "id": "g8L0rA2PcGYf"
   },
   "outputs": [],
   "source": [
    "ru_emb.most_similar([np.matmul(uk_emb[\"серпень\"], W)])"
   ]
  },
  {
   "cell_type": "code",
   "execution_count": null,
   "metadata": {
    "id": "_0_Jk5FncGYf"
   },
   "outputs": [],
   "source": [
    "assert precision(uk_ru_test, np.matmul(X_test, W)) >= 0.653\n",
    "assert precision(uk_ru_test, np.matmul(X_test, W), 5) >= 0.824"
   ]
  },
  {
   "cell_type": "markdown",
   "metadata": {
    "id": "gY145_swcGYf"
   },
   "source": [
    "## UK-RU Translator"
   ]
  },
  {
   "cell_type": "markdown",
   "metadata": {
    "id": "W6prgD_icGYf"
   },
   "source": [
    "Теперь мы готовы сделать простой переводчик на основе слов: для каждого слова исходного языка в общем пространстве вкраплений мы находим ближайшее в языке перевода.\n",
    "\n",
    "[fairy_tale.txt](https://disk.yandex.ru/d/4P9xWLfm-GnauQ) - качаем"
   ]
  },
  {
   "cell_type": "code",
   "execution_count": null,
   "metadata": {
    "id": "DByPnd_XcGYf"
   },
   "outputs": [],
   "source": [
    "with open(\"fairy_tale.txt\", \"r\") as inpf:\n",
    "    uk_sentences = [line.rstrip().lower() for line in inpf]"
   ]
  },
  {
   "cell_type": "code",
   "execution_count": null,
   "metadata": {
    "id": "q-eFL0ficGYg"
   },
   "outputs": [],
   "source": [
    "def translate(sentence):\n",
    "    \"\"\"\n",
    "    :args:\n",
    "        sentence - предложение на украинском языке (str)\n",
    "    :returns:\n",
    "        перевод - предложение на русском языке (str)\n",
    "\n",
    "    * найти украинские эмбеды для каждого слова в предложении\n",
    "    * преобразовать вектор украинских эмбедов\n",
    "    * найти ближайшее русское слово и заменить на него\n",
    "    \"\"\"\n",
    "    # YOUR CODE HERE"
   ]
  },
  {
   "cell_type": "code",
   "execution_count": null,
   "metadata": {
    "id": "knGenlVhcGYg"
   },
   "outputs": [],
   "source": [
    "assert translate(\".\") == \".\"\n",
    "assert translate(\"1 , 3\") == \"1 , 3\"\n",
    "assert translate(\"кіт зловив мишу\") == \"кот поймал мышку\""
   ]
  },
  {
   "cell_type": "code",
   "execution_count": null,
   "metadata": {
    "id": "VGk29vLkcGYg"
   },
   "outputs": [],
   "source": [
    "for sentence in uk_sentences:\n",
    "    print(\"src: {}\\ndst: {}\\n\".format(sentence, translate(sentence)))"
   ]
  },
  {
   "cell_type": "markdown",
   "metadata": {
    "id": "RtX6_1PDcGYg"
   },
   "source": [
    "Очень неплохо, но как можно еще улучшить результат?"
   ]
  },
  {
   "cell_type": "markdown",
   "metadata": {
    "id": "APowVdUgcGYg"
   },
   "source": [
    "## А теперь самое интересное?\n",
    "\n",
    "### Почитать:\n",
    "* [Exploiting Similarities among Languages for Machine Translation](https://arxiv.org/pdf/1309.4168)  - entry point for multilingual embedding studies by Tomas Mikolov (the author of W2V)\n",
    "* [Offline bilingual word vectors, orthogonal transformations and the inverted softmax](https://arxiv.org/pdf/1702.03859) - orthogonal transform for unsupervised MT\n",
    "* [Word Translation Without Parallel Data](https://arxiv.org/pdf/1710.04087)\n",
    "* [Loss in Translation: Learning Bilingual Word Mapping with a Retrieval Criterion](https://arxiv.org/pdf/1804.07745)\n",
    "* [Unsupervised Alignment of Embeddings with Wasserstein Procrustes](https://arxiv.org/pdf/1805.11222)\n"
   ]
  }
 ],
 "metadata": {
  "kernelspec": {
   "display_name": "Python 3",
   "language": "python",
   "name": "python3"
  },
  "language_info": {
   "codemirror_mode": {
    "name": "ipython",
    "version": 3
   },
   "file_extension": ".py",
   "mimetype": "text/x-python",
   "name": "python",
   "nbconvert_exporter": "python",
   "pygments_lexer": "ipython3",
   "version": "3.4.3"
  },
  "colab": {
   "provenance": [],
   "collapsed_sections": [
    "4_1ac18pZYlZ"
   ],
   "include_colab_link": true
  }
 },
 "nbformat": 4,
 "nbformat_minor": 0
}
